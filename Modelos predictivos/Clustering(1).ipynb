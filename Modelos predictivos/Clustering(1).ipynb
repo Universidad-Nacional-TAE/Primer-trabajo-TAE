{
  "nbformat": 4,
  "nbformat_minor": 5,
  "metadata": {
    "kernelspec": {
      "display_name": "Python 3 (ipykernel)",
      "language": "python",
      "name": "python3"
    },
    "language_info": {
      "codemirror_mode": {
        "name": "ipython",
        "version": 3
      },
      "file_extension": ".py",
      "mimetype": "text/x-python",
      "name": "python",
      "nbconvert_exporter": "python",
      "pygments_lexer": "ipython3",
      "version": "3.8.12"
    },
    "colab": {
      "name": "Clustering.ipynb",
      "provenance": []
    }
  },
  "cells": [
    {
      "cell_type": "code",
      "metadata": {
        "id": "1e16f55e"
      },
      "source": [
        "import pandas as pd\n",
        "import numpy as np\n",
        "import matplotlib.pyplot as plt"
      ],
      "id": "1e16f55e",
      "execution_count": 4,
      "outputs": []
    },
    {
      "cell_type": "code",
      "metadata": {
        "colab": {
          "base_uri": "https://localhost:8080/"
        },
        "id": "Pr-LyaihWYMM",
        "outputId": "f6e17805-5615-481b-ea67-51fe60f33d48"
      },
      "source": [
        "from google.colab import drive\n",
        "drive.mount('/content/drive')"
      ],
      "id": "Pr-LyaihWYMM",
      "execution_count": 5,
      "outputs": [
        {
          "output_type": "stream",
          "name": "stdout",
          "text": [
            "Drive already mounted at /content/drive; to attempt to forcibly remount, call drive.mount(\"/content/drive\", force_remount=True).\n"
          ]
        }
      ]
    },
    {
      "cell_type": "code",
      "metadata": {
        "id": "81f233ff"
      },
      "source": [
        "from sklearn import preprocessing\n",
        "import scipy.cluster.hierarchy as sch\n",
        "from scipy.spatial.distance import squareform\n",
        "from sklearn.cluster import KMeans"
      ],
      "id": "81f233ff",
      "execution_count": 6,
      "outputs": []
    },
    {
      "cell_type": "code",
      "metadata": {
        "id": "3f75d47f"
      },
      "source": [
        "from scipy.spatial import distance_matrix"
      ],
      "id": "3f75d47f",
      "execution_count": 7,
      "outputs": []
    },
    {
      "cell_type": "markdown",
      "metadata": {
        "id": "e359e26b"
      },
      "source": [
        "## Clustering"
      ],
      "id": "e359e26b"
    },
    {
      "cell_type": "code",
      "metadata": {
        "colab": {
          "base_uri": "https://localhost:8080/",
          "height": 313
        },
        "id": "71a5f73d",
        "outputId": "799e36fc-c707-4690-c576-98617393b7f6"
      },
      "source": [
        "df = pd.read_csv('Datafull.csv', encoding = 'utf-8')\n",
        "df.head()"
      ],
      "id": "71a5f73d",
      "execution_count": 8,
      "outputs": [
        {
          "output_type": "execute_result",
          "data": {
            "text/html": [
              "<div>\n",
              "<style scoped>\n",
              "    .dataframe tbody tr th:only-of-type {\n",
              "        vertical-align: middle;\n",
              "    }\n",
              "\n",
              "    .dataframe tbody tr th {\n",
              "        vertical-align: top;\n",
              "    }\n",
              "\n",
              "    .dataframe thead th {\n",
              "        text-align: right;\n",
              "    }\n",
              "</style>\n",
              "<table border=\"1\" class=\"dataframe\">\n",
              "  <thead>\n",
              "    <tr style=\"text-align: right;\">\n",
              "      <th></th>\n",
              "      <th>AÑO</th>\n",
              "      <th>CLASE_ACCIDENTE</th>\n",
              "      <th>DISEÑO</th>\n",
              "      <th>FECHA_ACCIDENTE</th>\n",
              "      <th>GRAVEDAD</th>\n",
              "      <th>MES</th>\n",
              "      <th>NUMCOMUNA</th>\n",
              "      <th>BARRIO</th>\n",
              "      <th>HORA</th>\n",
              "      <th>SEMANA</th>\n",
              "      <th>DIA_DEL_AÑO</th>\n",
              "      <th>DIA_DEL_MES</th>\n",
              "      <th>DIA_SEMANA</th>\n",
              "      <th>LONGITUD</th>\n",
              "      <th>ALTITUD</th>\n",
              "      <th>MOMENTO</th>\n",
              "    </tr>\n",
              "  </thead>\n",
              "  <tbody>\n",
              "    <tr>\n",
              "      <th>0</th>\n",
              "      <td>2014</td>\n",
              "      <td>Otro</td>\n",
              "      <td>Tramo de via</td>\n",
              "      <td>2014-08-05</td>\n",
              "      <td>Con heridos</td>\n",
              "      <td>8</td>\n",
              "      <td>11</td>\n",
              "      <td>Los Conquistadores</td>\n",
              "      <td>07:15:00</td>\n",
              "      <td>Semana 32</td>\n",
              "      <td>217</td>\n",
              "      <td>5</td>\n",
              "      <td>Tuesday</td>\n",
              "      <td>-75.589313</td>\n",
              "      <td>6.239787</td>\n",
              "      <td>Mañana</td>\n",
              "    </tr>\n",
              "    <tr>\n",
              "      <th>1</th>\n",
              "      <td>2014</td>\n",
              "      <td>Choque</td>\n",
              "      <td>Interseccion</td>\n",
              "      <td>2014-08-05</td>\n",
              "      <td>Con heridos</td>\n",
              "      <td>8</td>\n",
              "      <td>5</td>\n",
              "      <td>Girardot</td>\n",
              "      <td>14:30:00</td>\n",
              "      <td>Semana 32</td>\n",
              "      <td>217</td>\n",
              "      <td>5</td>\n",
              "      <td>Tuesday</td>\n",
              "      <td>-75.570818</td>\n",
              "      <td>6.300041</td>\n",
              "      <td>Tarde</td>\n",
              "    </tr>\n",
              "    <tr>\n",
              "      <th>2</th>\n",
              "      <td>2014</td>\n",
              "      <td>Choque</td>\n",
              "      <td>Tramo de via</td>\n",
              "      <td>2014-08-05</td>\n",
              "      <td>Con heridos</td>\n",
              "      <td>8</td>\n",
              "      <td>14</td>\n",
              "      <td>Patio Bonito</td>\n",
              "      <td>15:50:00</td>\n",
              "      <td>Semana 32</td>\n",
              "      <td>217</td>\n",
              "      <td>5</td>\n",
              "      <td>Tuesday</td>\n",
              "      <td>-75.576574</td>\n",
              "      <td>6.208748</td>\n",
              "      <td>Tarde</td>\n",
              "    </tr>\n",
              "    <tr>\n",
              "      <th>3</th>\n",
              "      <td>2014</td>\n",
              "      <td>Otro</td>\n",
              "      <td>Tramo de via</td>\n",
              "      <td>2014-08-05</td>\n",
              "      <td>Con heridos</td>\n",
              "      <td>8</td>\n",
              "      <td>8</td>\n",
              "      <td>Villa Hermosa</td>\n",
              "      <td>13:00:00</td>\n",
              "      <td>Semana 32</td>\n",
              "      <td>217</td>\n",
              "      <td>5</td>\n",
              "      <td>Tuesday</td>\n",
              "      <td>-75.551255</td>\n",
              "      <td>6.259058</td>\n",
              "      <td>Tarde</td>\n",
              "    </tr>\n",
              "    <tr>\n",
              "      <th>4</th>\n",
              "      <td>2014</td>\n",
              "      <td>Choque</td>\n",
              "      <td>Tramo de via</td>\n",
              "      <td>2014-08-05</td>\n",
              "      <td>Con heridos</td>\n",
              "      <td>8</td>\n",
              "      <td>10</td>\n",
              "      <td>Los Ángeles</td>\n",
              "      <td>19:30:00</td>\n",
              "      <td>Semana 32</td>\n",
              "      <td>217</td>\n",
              "      <td>5</td>\n",
              "      <td>Tuesday</td>\n",
              "      <td>-75.556150</td>\n",
              "      <td>6.249966</td>\n",
              "      <td>Noche</td>\n",
              "    </tr>\n",
              "  </tbody>\n",
              "</table>\n",
              "</div>"
            ],
            "text/plain": [
              "    AÑO CLASE_ACCIDENTE        DISEÑO  ...   LONGITUD   ALTITUD  MOMENTO\n",
              "0  2014            Otro  Tramo de via  ... -75.589313  6.239787   Mañana\n",
              "1  2014          Choque  Interseccion  ... -75.570818  6.300041    Tarde\n",
              "2  2014          Choque  Tramo de via  ... -75.576574  6.208748    Tarde\n",
              "3  2014            Otro  Tramo de via  ... -75.551255  6.259058    Tarde\n",
              "4  2014          Choque  Tramo de via  ... -75.556150  6.249966    Noche\n",
              "\n",
              "[5 rows x 16 columns]"
            ]
          },
          "metadata": {},
          "execution_count": 8
        }
      ]
    },
    {
      "cell_type": "markdown",
      "metadata": {
        "id": "2385de96"
      },
      "source": [
        "## Clustering por comuna"
      ],
      "id": "2385de96"
    },
    {
      "cell_type": "code",
      "metadata": {
        "id": "26275844"
      },
      "source": [
        "df = df[['NUMCOMUNA','DIA_DEL_MES','MES','GRAVEDAD']]"
      ],
      "id": "26275844",
      "execution_count": 9,
      "outputs": []
    },
    {
      "cell_type": "code",
      "metadata": {
        "colab": {
          "base_uri": "https://localhost:8080/"
        },
        "id": "b6868daa",
        "outputId": "65050810-2f72-4fb1-86c9-bf648de0dff9"
      },
      "source": [
        "df['NUMCOMUNA'].unique()"
      ],
      "id": "b6868daa",
      "execution_count": 10,
      "outputs": [
        {
          "output_type": "execute_result",
          "data": {
            "text/plain": [
              "array([11,  5, 14,  8, 10,  4,  3, 13, 16,  9, 15,  6,  7, 80,  1, 12, 90,\n",
              "       60,  2, 99, 70, 50])"
            ]
          },
          "metadata": {},
          "execution_count": 10
        }
      ]
    },
    {
      "cell_type": "code",
      "metadata": {
        "id": "58985fa4"
      },
      "source": [
        "df = df.groupby(['NUMCOMUNA','MES','DIA_DEL_MES'])['GRAVEDAD'].agg(([lambda x : x.count()  ,lambda x: ((x.__eq__('Con heridos')).sum()) , lambda x: ((x.__eq__('Solo daños')).sum()), lambda x: ((x.__eq__('Con muertos')).sum())]))"
      ],
      "id": "58985fa4",
      "execution_count": 11,
      "outputs": []
    },
    {
      "cell_type": "code",
      "metadata": {
        "colab": {
          "base_uri": "https://localhost:8080/",
          "height": 206
        },
        "id": "fa4d7741",
        "outputId": "dbcb0e18-6ddb-4163-eb71-c0e7ab09be3c"
      },
      "source": [
        "df = df.groupby(['NUMCOMUNA']).mean()\n",
        "df.reset_index(inplace = True)\n",
        "df.rename({df.columns[1] :'Accidentes', df.columns[2] : 'Heridos', df.columns[3]: 'Daños', df.columns[4]: 'Muertos'}, axis = 1, inplace = True)\n",
        "df.head()"
      ],
      "id": "fa4d7741",
      "execution_count": 12,
      "outputs": [
        {
          "output_type": "execute_result",
          "data": {
            "text/html": [
              "<div>\n",
              "<style scoped>\n",
              "    .dataframe tbody tr th:only-of-type {\n",
              "        vertical-align: middle;\n",
              "    }\n",
              "\n",
              "    .dataframe tbody tr th {\n",
              "        vertical-align: top;\n",
              "    }\n",
              "\n",
              "    .dataframe thead th {\n",
              "        text-align: right;\n",
              "    }\n",
              "</style>\n",
              "<table border=\"1\" class=\"dataframe\">\n",
              "  <thead>\n",
              "    <tr style=\"text-align: right;\">\n",
              "      <th></th>\n",
              "      <th>NUMCOMUNA</th>\n",
              "      <th>Accidentes</th>\n",
              "      <th>Heridos</th>\n",
              "      <th>Daños</th>\n",
              "      <th>Muertos</th>\n",
              "    </tr>\n",
              "  </thead>\n",
              "  <tbody>\n",
              "    <tr>\n",
              "      <th>0</th>\n",
              "      <td>1</td>\n",
              "      <td>10.081967</td>\n",
              "      <td>7.549180</td>\n",
              "      <td>2.521858</td>\n",
              "      <td>0.010929</td>\n",
              "    </tr>\n",
              "    <tr>\n",
              "      <th>1</th>\n",
              "      <td>2</td>\n",
              "      <td>9.327869</td>\n",
              "      <td>6.445355</td>\n",
              "      <td>2.868852</td>\n",
              "      <td>0.013661</td>\n",
              "    </tr>\n",
              "    <tr>\n",
              "      <th>2</th>\n",
              "      <td>3</td>\n",
              "      <td>21.038251</td>\n",
              "      <td>15.751366</td>\n",
              "      <td>5.262295</td>\n",
              "      <td>0.024590</td>\n",
              "    </tr>\n",
              "    <tr>\n",
              "      <th>3</th>\n",
              "      <td>4</td>\n",
              "      <td>38.923497</td>\n",
              "      <td>25.147541</td>\n",
              "      <td>13.710383</td>\n",
              "      <td>0.065574</td>\n",
              "    </tr>\n",
              "    <tr>\n",
              "      <th>4</th>\n",
              "      <td>5</td>\n",
              "      <td>67.724044</td>\n",
              "      <td>40.057377</td>\n",
              "      <td>27.551913</td>\n",
              "      <td>0.114754</td>\n",
              "    </tr>\n",
              "  </tbody>\n",
              "</table>\n",
              "</div>"
            ],
            "text/plain": [
              "   NUMCOMUNA  Accidentes    Heridos      Daños   Muertos\n",
              "0          1   10.081967   7.549180   2.521858  0.010929\n",
              "1          2    9.327869   6.445355   2.868852  0.013661\n",
              "2          3   21.038251  15.751366   5.262295  0.024590\n",
              "3          4   38.923497  25.147541  13.710383  0.065574\n",
              "4          5   67.724044  40.057377  27.551913  0.114754"
            ]
          },
          "metadata": {},
          "execution_count": 12
        }
      ]
    },
    {
      "cell_type": "code",
      "metadata": {
        "id": "01ed9071"
      },
      "source": [
        "df['NUMCOMUNA'] = df['NUMCOMUNA'].apply(lambda x : str(x))"
      ],
      "id": "01ed9071",
      "execution_count": 13,
      "outputs": []
    },
    {
      "cell_type": "code",
      "metadata": {
        "colab": {
          "base_uri": "https://localhost:8080/",
          "height": 206
        },
        "id": "0adb75b8",
        "outputId": "46f9f6a4-0150-4ccb-c398-67cf08348a31"
      },
      "source": [
        "df.head()"
      ],
      "id": "0adb75b8",
      "execution_count": 14,
      "outputs": [
        {
          "output_type": "execute_result",
          "data": {
            "text/html": [
              "<div>\n",
              "<style scoped>\n",
              "    .dataframe tbody tr th:only-of-type {\n",
              "        vertical-align: middle;\n",
              "    }\n",
              "\n",
              "    .dataframe tbody tr th {\n",
              "        vertical-align: top;\n",
              "    }\n",
              "\n",
              "    .dataframe thead th {\n",
              "        text-align: right;\n",
              "    }\n",
              "</style>\n",
              "<table border=\"1\" class=\"dataframe\">\n",
              "  <thead>\n",
              "    <tr style=\"text-align: right;\">\n",
              "      <th></th>\n",
              "      <th>NUMCOMUNA</th>\n",
              "      <th>Accidentes</th>\n",
              "      <th>Heridos</th>\n",
              "      <th>Daños</th>\n",
              "      <th>Muertos</th>\n",
              "    </tr>\n",
              "  </thead>\n",
              "  <tbody>\n",
              "    <tr>\n",
              "      <th>0</th>\n",
              "      <td>1</td>\n",
              "      <td>10.081967</td>\n",
              "      <td>7.549180</td>\n",
              "      <td>2.521858</td>\n",
              "      <td>0.010929</td>\n",
              "    </tr>\n",
              "    <tr>\n",
              "      <th>1</th>\n",
              "      <td>2</td>\n",
              "      <td>9.327869</td>\n",
              "      <td>6.445355</td>\n",
              "      <td>2.868852</td>\n",
              "      <td>0.013661</td>\n",
              "    </tr>\n",
              "    <tr>\n",
              "      <th>2</th>\n",
              "      <td>3</td>\n",
              "      <td>21.038251</td>\n",
              "      <td>15.751366</td>\n",
              "      <td>5.262295</td>\n",
              "      <td>0.024590</td>\n",
              "    </tr>\n",
              "    <tr>\n",
              "      <th>3</th>\n",
              "      <td>4</td>\n",
              "      <td>38.923497</td>\n",
              "      <td>25.147541</td>\n",
              "      <td>13.710383</td>\n",
              "      <td>0.065574</td>\n",
              "    </tr>\n",
              "    <tr>\n",
              "      <th>4</th>\n",
              "      <td>5</td>\n",
              "      <td>67.724044</td>\n",
              "      <td>40.057377</td>\n",
              "      <td>27.551913</td>\n",
              "      <td>0.114754</td>\n",
              "    </tr>\n",
              "  </tbody>\n",
              "</table>\n",
              "</div>"
            ],
            "text/plain": [
              "  NUMCOMUNA  Accidentes    Heridos      Daños   Muertos\n",
              "0         1   10.081967   7.549180   2.521858  0.010929\n",
              "1         2    9.327869   6.445355   2.868852  0.013661\n",
              "2         3   21.038251  15.751366   5.262295  0.024590\n",
              "3         4   38.923497  25.147541  13.710383  0.065574\n",
              "4         5   67.724044  40.057377  27.551913  0.114754"
            ]
          },
          "metadata": {},
          "execution_count": 14
        }
      ]
    },
    {
      "cell_type": "markdown",
      "metadata": {
        "id": "cce6b93f"
      },
      "source": [
        "## Normalización"
      ],
      "id": "cce6b93f"
    },
    {
      "cell_type": "markdown",
      "metadata": {
        "id": "3e052c6f"
      },
      "source": [
        "Se normalizan los datos para que evitar que las dimensiones de las variables afecten el agrupamiento"
      ],
      "id": "3e052c6f"
    },
    {
      "cell_type": "code",
      "metadata": {
        "id": "85ce32a0"
      },
      "source": [
        "scala = preprocessing.MinMaxScaler().fit(df[['Accidentes','Heridos','Daños','Muertos']])\n",
        "df[['Accidentes','Heridos','Daños','Muertos']] = preprocessing.MinMaxScaler().fit_transform(df[['Accidentes','Heridos','Daños','Muertos']])\n"
      ],
      "id": "85ce32a0",
      "execution_count": 15,
      "outputs": []
    },
    {
      "cell_type": "code",
      "metadata": {
        "colab": {
          "base_uri": "https://localhost:8080/",
          "height": 363
        },
        "id": "baa8cb53",
        "outputId": "83037ae4-6a8c-4319-ce31-e5af6e7b673e"
      },
      "source": [
        "df.head(10)"
      ],
      "id": "baa8cb53",
      "execution_count": 16,
      "outputs": [
        {
          "output_type": "execute_result",
          "data": {
            "text/html": [
              "<div>\n",
              "<style scoped>\n",
              "    .dataframe tbody tr th:only-of-type {\n",
              "        vertical-align: middle;\n",
              "    }\n",
              "\n",
              "    .dataframe tbody tr th {\n",
              "        vertical-align: top;\n",
              "    }\n",
              "\n",
              "    .dataframe thead th {\n",
              "        text-align: right;\n",
              "    }\n",
              "</style>\n",
              "<table border=\"1\" class=\"dataframe\">\n",
              "  <thead>\n",
              "    <tr style=\"text-align: right;\">\n",
              "      <th></th>\n",
              "      <th>NUMCOMUNA</th>\n",
              "      <th>Accidentes</th>\n",
              "      <th>Heridos</th>\n",
              "      <th>Daños</th>\n",
              "      <th>Muertos</th>\n",
              "    </tr>\n",
              "  </thead>\n",
              "  <tbody>\n",
              "    <tr>\n",
              "      <th>0</th>\n",
              "      <td>1</td>\n",
              "      <td>0.064590</td>\n",
              "      <td>0.109449</td>\n",
              "      <td>0.027308</td>\n",
              "      <td>0.054054</td>\n",
              "    </tr>\n",
              "    <tr>\n",
              "      <th>1</th>\n",
              "      <td>2</td>\n",
              "      <td>0.059227</td>\n",
              "      <td>0.092135</td>\n",
              "      <td>0.031835</td>\n",
              "      <td>0.067568</td>\n",
              "    </tr>\n",
              "    <tr>\n",
              "      <th>2</th>\n",
              "      <td>3</td>\n",
              "      <td>0.142510</td>\n",
              "      <td>0.238103</td>\n",
              "      <td>0.063059</td>\n",
              "      <td>0.121622</td>\n",
              "    </tr>\n",
              "    <tr>\n",
              "      <th>3</th>\n",
              "      <td>4</td>\n",
              "      <td>0.269708</td>\n",
              "      <td>0.385485</td>\n",
              "      <td>0.173271</td>\n",
              "      <td>0.324324</td>\n",
              "    </tr>\n",
              "    <tr>\n",
              "      <th>4</th>\n",
              "      <td>5</td>\n",
              "      <td>0.474535</td>\n",
              "      <td>0.619351</td>\n",
              "      <td>0.353844</td>\n",
              "      <td>0.567568</td>\n",
              "    </tr>\n",
              "    <tr>\n",
              "      <th>5</th>\n",
              "      <td>6</td>\n",
              "      <td>0.126227</td>\n",
              "      <td>0.217318</td>\n",
              "      <td>0.050548</td>\n",
              "      <td>0.094595</td>\n",
              "    </tr>\n",
              "    <tr>\n",
              "      <th>6</th>\n",
              "      <td>7</td>\n",
              "      <td>0.312496</td>\n",
              "      <td>0.448270</td>\n",
              "      <td>0.199826</td>\n",
              "      <td>0.216216</td>\n",
              "    </tr>\n",
              "    <tr>\n",
              "      <th>7</th>\n",
              "      <td>8</td>\n",
              "      <td>0.122418</td>\n",
              "      <td>0.194175</td>\n",
              "      <td>0.062774</td>\n",
              "      <td>0.108108</td>\n",
              "    </tr>\n",
              "    <tr>\n",
              "      <th>8</th>\n",
              "      <td>9</td>\n",
              "      <td>0.184016</td>\n",
              "      <td>0.249117</td>\n",
              "      <td>0.130035</td>\n",
              "      <td>0.121622</td>\n",
              "    </tr>\n",
              "    <tr>\n",
              "      <th>9</th>\n",
              "      <td>10</td>\n",
              "      <td>1.000000</td>\n",
              "      <td>1.000000</td>\n",
              "      <td>1.000000</td>\n",
              "      <td>1.000000</td>\n",
              "    </tr>\n",
              "  </tbody>\n",
              "</table>\n",
              "</div>"
            ],
            "text/plain": [
              "  NUMCOMUNA  Accidentes   Heridos     Daños   Muertos\n",
              "0         1    0.064590  0.109449  0.027308  0.054054\n",
              "1         2    0.059227  0.092135  0.031835  0.067568\n",
              "2         3    0.142510  0.238103  0.063059  0.121622\n",
              "3         4    0.269708  0.385485  0.173271  0.324324\n",
              "4         5    0.474535  0.619351  0.353844  0.567568\n",
              "5         6    0.126227  0.217318  0.050548  0.094595\n",
              "6         7    0.312496  0.448270  0.199826  0.216216\n",
              "7         8    0.122418  0.194175  0.062774  0.108108\n",
              "8         9    0.184016  0.249117  0.130035  0.121622\n",
              "9        10    1.000000  1.000000  1.000000  1.000000"
            ]
          },
          "metadata": {},
          "execution_count": 16
        }
      ]
    },
    {
      "cell_type": "markdown",
      "metadata": {
        "id": "980862d5"
      },
      "source": [
        "### Agrupamiento jerárquico"
      ],
      "id": "980862d5"
    },
    {
      "cell_type": "code",
      "metadata": {
        "colab": {
          "base_uri": "https://localhost:8080/",
          "height": 258
        },
        "id": "8c3103c1",
        "outputId": "440b2aa2-513b-4595-9538-b9dfe3bd7df6"
      },
      "source": [
        "df_agrupa = df.set_index('NUMCOMUNA')\n",
        "df_agrupa.head()"
      ],
      "id": "8c3103c1",
      "execution_count": 17,
      "outputs": [
        {
          "output_type": "execute_result",
          "data": {
            "text/html": [
              "<div>\n",
              "<style scoped>\n",
              "    .dataframe tbody tr th:only-of-type {\n",
              "        vertical-align: middle;\n",
              "    }\n",
              "\n",
              "    .dataframe tbody tr th {\n",
              "        vertical-align: top;\n",
              "    }\n",
              "\n",
              "    .dataframe thead th {\n",
              "        text-align: right;\n",
              "    }\n",
              "</style>\n",
              "<table border=\"1\" class=\"dataframe\">\n",
              "  <thead>\n",
              "    <tr style=\"text-align: right;\">\n",
              "      <th></th>\n",
              "      <th>Accidentes</th>\n",
              "      <th>Heridos</th>\n",
              "      <th>Daños</th>\n",
              "      <th>Muertos</th>\n",
              "    </tr>\n",
              "    <tr>\n",
              "      <th>NUMCOMUNA</th>\n",
              "      <th></th>\n",
              "      <th></th>\n",
              "      <th></th>\n",
              "      <th></th>\n",
              "    </tr>\n",
              "  </thead>\n",
              "  <tbody>\n",
              "    <tr>\n",
              "      <th>1</th>\n",
              "      <td>0.064590</td>\n",
              "      <td>0.109449</td>\n",
              "      <td>0.027308</td>\n",
              "      <td>0.054054</td>\n",
              "    </tr>\n",
              "    <tr>\n",
              "      <th>2</th>\n",
              "      <td>0.059227</td>\n",
              "      <td>0.092135</td>\n",
              "      <td>0.031835</td>\n",
              "      <td>0.067568</td>\n",
              "    </tr>\n",
              "    <tr>\n",
              "      <th>3</th>\n",
              "      <td>0.142510</td>\n",
              "      <td>0.238103</td>\n",
              "      <td>0.063059</td>\n",
              "      <td>0.121622</td>\n",
              "    </tr>\n",
              "    <tr>\n",
              "      <th>4</th>\n",
              "      <td>0.269708</td>\n",
              "      <td>0.385485</td>\n",
              "      <td>0.173271</td>\n",
              "      <td>0.324324</td>\n",
              "    </tr>\n",
              "    <tr>\n",
              "      <th>5</th>\n",
              "      <td>0.474535</td>\n",
              "      <td>0.619351</td>\n",
              "      <td>0.353844</td>\n",
              "      <td>0.567568</td>\n",
              "    </tr>\n",
              "  </tbody>\n",
              "</table>\n",
              "</div>"
            ],
            "text/plain": [
              "           Accidentes   Heridos     Daños   Muertos\n",
              "NUMCOMUNA                                          \n",
              "1            0.064590  0.109449  0.027308  0.054054\n",
              "2            0.059227  0.092135  0.031835  0.067568\n",
              "3            0.142510  0.238103  0.063059  0.121622\n",
              "4            0.269708  0.385485  0.173271  0.324324\n",
              "5            0.474535  0.619351  0.353844  0.567568"
            ]
          },
          "metadata": {},
          "execution_count": 17
        }
      ]
    },
    {
      "cell_type": "markdown",
      "metadata": {
        "id": "57169e26"
      },
      "source": [
        "Se calcula la matriz de distancia."
      ],
      "id": "57169e26"
    },
    {
      "cell_type": "code",
      "metadata": {
        "id": "d0f168d7"
      },
      "source": [
        "cluster_dist_matrix = distance_matrix(df_agrupa, df_agrupa)"
      ],
      "id": "d0f168d7",
      "execution_count": 18,
      "outputs": []
    },
    {
      "cell_type": "code",
      "metadata": {
        "id": "c60dac7a"
      },
      "source": [
        "cluster_dist_matrix = squareform(cluster_dist_matrix)\n",
        "hc = sch.linkage(cluster_dist_matrix,method = 'ward')"
      ],
      "id": "c60dac7a",
      "execution_count": 19,
      "outputs": []
    },
    {
      "cell_type": "code",
      "metadata": {
        "colab": {
          "base_uri": "https://localhost:8080/",
          "height": 54
        },
        "id": "2cf18248",
        "outputId": "266e5ca7-4692-4eb4-f3f5-ecf7434b045f"
      },
      "source": [
        "dendrogram = sch.dendrogram(hc)"
      ],
      "id": "2cf18248",
      "execution_count": 20,
      "outputs": [
        {
          "output_type": "display_data",
          "data": {
            "image/png": "[encoded data removed]",
            "text/plain": [
              "<Figure size 432x288 with 1 Axes>"
            ]
          },
          "metadata": {
            "needs_background": "light"
          }
        }
      ]
    },
    {
      "cell_type": "markdown",
      "metadata": {
        "id": "88467b22"
      },
      "source": [
        "En el dendrograma anterior existe la tentativa de indicar que la cantidad de cluster mas utiles es 3. se evaluara cual es el numero de cluster que reduce la suma cuadratica de los elementos a su respectivo centroide para verificar dicha hipótesis."
      ],
      "id": "88467b22"
    },
    {
      "cell_type": "markdown",
      "metadata": {
        "id": "d17b5fa2"
      },
      "source": [
        "## Método del codo"
      ],
      "id": "d17b5fa2"
    },
    {
      "cell_type": "code",
      "metadata": {
        "colab": {
          "base_uri": "https://localhost:8080/",
          "height": 73
        },
        "id": "j3EtOrPfLBDi",
        "outputId": "f706dd8c-e962-40d5-f4c0-e216ce50ee52"
      },
      "source": [
        "from sklearn.cluster import KMeans\n",
        "from yellowbrick.cluster import KElbowVisualizer\n",
        "\n",
        "model0 = KMeans()\n",
        "visualizer = KElbowVisualizer(model0, k=(2,23), timings= True)\n",
        "fit=df.sample(int(len(df_agrupa)*1))\n",
        "visualizer.fit(df_agrupa)        \n",
        "visualizer.show() "
      ],
      "id": "j3EtOrPfLBDi",
      "execution_count": 21,
      "outputs": [
        {
          "output_type": "display_data",
          "data": {
            "image/png": "[encoded data removed]",
            "text/plain": [
              "<Figure size 576x396 with 2 Axes>"
            ]
          },
          "metadata": {}
        },
        {
          "output_type": "execute_result",
          "data": {
            "text/plain": [
              "<matplotlib.axes._subplots.AxesSubplot at 0x7fcc762b1d50>"
            ]
          },
          "metadata": {},
          "execution_count": 21
        }
      ]
    },
    {
      "cell_type": "code",
      "metadata": {
        "colab": {
          "base_uri": "https://localhost:8080/",
          "height": 54
        },
        "id": "A7neIcDbLmHi",
        "outputId": "85000d5e-3668-495e-9108-921036d9a894"
      },
      "source": [
        "import seaborn as sb\n",
        "corrMatrix=df_agrupa.corr()\n",
        "sb.heatmap(corrMatrix, annot=True)\n",
        "plt.show()"
      ],
      "id": "A7neIcDbLmHi",
      "execution_count": 22,
      "outputs": [
        {
          "output_type": "display_data",
          "data": {
            "image/png": "[encoded data removed]",
            "text/plain": [
              "<Figure size 576x396 with 2 Axes>"
            ]
          },
          "metadata": {}
        }
      ]
    },
    {
      "cell_type": "code",
      "metadata": {
        "colab": {
          "base_uri": "https://localhost:8080/",
          "height": 54
        },
        "id": "Kg-XDIY0MB8P",
        "outputId": "c4932d1e-8db8-48d8-df01-dc1c8c151fac"
      },
      "source": [
        "import matplotlib.pyplot as plt\n",
        "import matplotlib\n",
        "df_2D = df_agrupa[['Accidentes', 'Heridos']]\n",
        "df_2D = np.array(df_2D)\n",
        "kmeans_model_2D = KMeans(n_clusters=3, max_iter=1000).fit(df_2D)\n",
        "labels_2D = kmeans_model_2D.labels_\n",
        "centroids_2D = kmeans_model_2D.cluster_centers_\n",
        "\n",
        "colors_k_means = ['orange','yellow','blue']\n",
        " \n",
        "fig = plt.figure(figsize=(10, 8))\n",
        "plt.scatter(df_2D[:, 0], df_2D[:, 1], c=labels_2D, s=200,\n",
        "            cmap=matplotlib.colors.ListedColormap(colors_k_means), alpha=0.6)\n",
        "plt.scatter(centroids_2D[:, 0], centroids_2D[:, 1], c='black', s=200, marker='.')\n",
        "plt.xlabel('Accidentes')\n",
        "plt.ylabel('Heridos')\n",
        "\n",
        "for i in range(len(centroids_2D)):\n",
        "    plt.annotate( i, (centroids_2D[i][0], centroids_2D[i][1]), fontsize=20)"
      ],
      "id": "Kg-XDIY0MB8P",
      "execution_count": 23,
      "outputs": [
        {
          "output_type": "display_data",
          "data": {
            "image/png": "[encoded data removed]",
            "text/plain": [
              "<Figure size 720x576 with 1 Axes>"
            ]
          },
          "metadata": {}
        }
      ]
    },
    {
      "cell_type": "code",
      "metadata": {
        "id": "879fe701"
      },
      "source": [
        "distcentroide = []\n",
        "k = range(1,18)\n",
        "for i in k:\n",
        "    \n",
        "    kmeans = KMeans(n_clusters = i, random_state = 653)\n",
        "    kmeans.fit(df_agrupa)\n",
        "    distcentroide.append(kmeans.inertia_)\n"
      ],
      "id": "879fe701",
      "execution_count": 24,
      "outputs": []
    },
    {
      "cell_type": "code",
      "metadata": {
        "colab": {
          "base_uri": "https://localhost:8080/",
          "height": 54
        },
        "id": "621521c8",
        "outputId": "aa53a0e7-3196-49ed-ed3f-cb9f94cdb11c"
      },
      "source": [
        "plt.plot(k,distcentroide)\n",
        "plt.xlabel('clusters')\n",
        "plt.ylabel('Dist')\n",
        "plt.show()"
      ],
      "id": "621521c8",
      "execution_count": 25,
      "outputs": [
        {
          "output_type": "display_data",
          "data": {
            "image/png": "[encoded data removed]",
            "text/plain": [
              "<Figure size 576x396 with 1 Axes>"
            ]
          },
          "metadata": {}
        }
      ]
    },
    {
      "cell_type": "markdown",
      "metadata": {
        "id": "661f808d"
      },
      "source": [
        "Se observa que hay una flexión en k = 3"
      ],
      "id": "661f808d"
    },
    {
      "cell_type": "code",
      "metadata": {
        "colab": {
          "base_uri": "https://localhost:8080/"
        },
        "id": "e48425a2",
        "outputId": "b3216905-7cca-4929-aaac-6b0024c4b0c7"
      },
      "source": [
        "kmeans1 = KMeans(n_clusters = 3)\n",
        "kmeans1.fit(df_agrupa)"
      ],
      "id": "e48425a2",
      "execution_count": 26,
      "outputs": [
        {
          "output_type": "execute_result",
          "data": {
            "text/plain": [
              "KMeans(n_clusters=3)"
            ]
          },
          "metadata": {},
          "execution_count": 26
        }
      ]
    },
    {
      "cell_type": "code",
      "metadata": {
        "id": "ea1bf588"
      },
      "source": [
        "df_agrupa['cluster'] = kmeans1.labels_"
      ],
      "id": "ea1bf588",
      "execution_count": 27,
      "outputs": []
    },
    {
      "cell_type": "code",
      "metadata": {
        "id": "96a7d5fb"
      },
      "source": [
        "df = df_agrupa.reset_index()"
      ],
      "id": "96a7d5fb",
      "execution_count": 28,
      "outputs": []
    },
    {
      "cell_type": "code",
      "metadata": {
        "colab": {
          "base_uri": "https://localhost:8080/",
          "height": 383
        },
        "id": "3cf8d262",
        "outputId": "7b57b014-dd0e-42bf-a36e-0906d7f65ed8"
      },
      "source": [
        "df.head(10)"
      ],
      "id": "3cf8d262",
      "execution_count": 29,
      "outputs": [
        {
          "output_type": "execute_result",
          "data": {
            "text/html": [
              "<div>\n",
              "<style scoped>\n",
              "    .dataframe tbody tr th:only-of-type {\n",
              "        vertical-align: middle;\n",
              "    }\n",
              "\n",
              "    .dataframe tbody tr th {\n",
              "        vertical-align: top;\n",
              "    }\n",
              "\n",
              "    .dataframe thead th {\n",
              "        text-align: right;\n",
              "    }\n",
              "</style>\n",
              "<table border=\"1\" class=\"dataframe\">\n",
              "  <thead>\n",
              "    <tr style=\"text-align: right;\">\n",
              "      <th></th>\n",
              "      <th>NUMCOMUNA</th>\n",
              "      <th>Accidentes</th>\n",
              "      <th>Heridos</th>\n",
              "      <th>Daños</th>\n",
              "      <th>Muertos</th>\n",
              "      <th>cluster</th>\n",
              "    </tr>\n",
              "  </thead>\n",
              "  <tbody>\n",
              "    <tr>\n",
              "      <th>0</th>\n",
              "      <td>1</td>\n",
              "      <td>0.064590</td>\n",
              "      <td>0.109449</td>\n",
              "      <td>0.027308</td>\n",
              "      <td>0.054054</td>\n",
              "      <td>0</td>\n",
              "    </tr>\n",
              "    <tr>\n",
              "      <th>1</th>\n",
              "      <td>2</td>\n",
              "      <td>0.059227</td>\n",
              "      <td>0.092135</td>\n",
              "      <td>0.031835</td>\n",
              "      <td>0.067568</td>\n",
              "      <td>0</td>\n",
              "    </tr>\n",
              "    <tr>\n",
              "      <th>2</th>\n",
              "      <td>3</td>\n",
              "      <td>0.142510</td>\n",
              "      <td>0.238103</td>\n",
              "      <td>0.063059</td>\n",
              "      <td>0.121622</td>\n",
              "      <td>0</td>\n",
              "    </tr>\n",
              "    <tr>\n",
              "      <th>3</th>\n",
              "      <td>4</td>\n",
              "      <td>0.269708</td>\n",
              "      <td>0.385485</td>\n",
              "      <td>0.173271</td>\n",
              "      <td>0.324324</td>\n",
              "      <td>1</td>\n",
              "    </tr>\n",
              "    <tr>\n",
              "      <th>4</th>\n",
              "      <td>5</td>\n",
              "      <td>0.474535</td>\n",
              "      <td>0.619351</td>\n",
              "      <td>0.353844</td>\n",
              "      <td>0.567568</td>\n",
              "      <td>1</td>\n",
              "    </tr>\n",
              "    <tr>\n",
              "      <th>5</th>\n",
              "      <td>6</td>\n",
              "      <td>0.126227</td>\n",
              "      <td>0.217318</td>\n",
              "      <td>0.050548</td>\n",
              "      <td>0.094595</td>\n",
              "      <td>0</td>\n",
              "    </tr>\n",
              "    <tr>\n",
              "      <th>6</th>\n",
              "      <td>7</td>\n",
              "      <td>0.312496</td>\n",
              "      <td>0.448270</td>\n",
              "      <td>0.199826</td>\n",
              "      <td>0.216216</td>\n",
              "      <td>1</td>\n",
              "    </tr>\n",
              "    <tr>\n",
              "      <th>7</th>\n",
              "      <td>8</td>\n",
              "      <td>0.122418</td>\n",
              "      <td>0.194175</td>\n",
              "      <td>0.062774</td>\n",
              "      <td>0.108108</td>\n",
              "      <td>0</td>\n",
              "    </tr>\n",
              "    <tr>\n",
              "      <th>8</th>\n",
              "      <td>9</td>\n",
              "      <td>0.184016</td>\n",
              "      <td>0.249117</td>\n",
              "      <td>0.130035</td>\n",
              "      <td>0.121622</td>\n",
              "      <td>0</td>\n",
              "    </tr>\n",
              "    <tr>\n",
              "      <th>9</th>\n",
              "      <td>10</td>\n",
              "      <td>1.000000</td>\n",
              "      <td>1.000000</td>\n",
              "      <td>1.000000</td>\n",
              "      <td>1.000000</td>\n",
              "      <td>2</td>\n",
              "    </tr>\n",
              "  </tbody>\n",
              "</table>\n",
              "</div>"
            ],
            "text/plain": [
              "  NUMCOMUNA  Accidentes   Heridos     Daños   Muertos  cluster\n",
              "0         1    0.064590  0.109449  0.027308  0.054054        0\n",
              "1         2    0.059227  0.092135  0.031835  0.067568        0\n",
              "2         3    0.142510  0.238103  0.063059  0.121622        0\n",
              "3         4    0.269708  0.385485  0.173271  0.324324        1\n",
              "4         5    0.474535  0.619351  0.353844  0.567568        1\n",
              "5         6    0.126227  0.217318  0.050548  0.094595        0\n",
              "6         7    0.312496  0.448270  0.199826  0.216216        1\n",
              "7         8    0.122418  0.194175  0.062774  0.108108        0\n",
              "8         9    0.184016  0.249117  0.130035  0.121622        0\n",
              "9        10    1.000000  1.000000  1.000000  1.000000        2"
            ]
          },
          "metadata": {},
          "execution_count": 29
        }
      ]
    },
    {
      "cell_type": "markdown",
      "metadata": {
        "id": "71d75395"
      },
      "source": [
        "Se vuelve a la escala original."
      ],
      "id": "71d75395"
    },
    {
      "cell_type": "code",
      "metadata": {
        "id": "9d1ade5b"
      },
      "source": [
        "df[['Accidentes','Heridos','Daños','Muertos']] = scala.inverse_transform(df[['Accidentes','Heridos','Daños','Muertos']])"
      ],
      "id": "9d1ade5b",
      "execution_count": 30,
      "outputs": []
    },
    {
      "cell_type": "code",
      "metadata": {
        "colab": {
          "base_uri": "https://localhost:8080/",
          "height": 226
        },
        "id": "1bd7e997",
        "outputId": "c3564455-ad55-41f4-ba64-0f1687d017bc"
      },
      "source": [
        "df.head()"
      ],
      "id": "1bd7e997",
      "execution_count": 31,
      "outputs": [
        {
          "output_type": "execute_result",
          "data": {
            "text/html": [
              "<div>\n",
              "<style scoped>\n",
              "    .dataframe tbody tr th:only-of-type {\n",
              "        vertical-align: middle;\n",
              "    }\n",
              "\n",
              "    .dataframe tbody tr th {\n",
              "        vertical-align: top;\n",
              "    }\n",
              "\n",
              "    .dataframe thead th {\n",
              "        text-align: right;\n",
              "    }\n",
              "</style>\n",
              "<table border=\"1\" class=\"dataframe\">\n",
              "  <thead>\n",
              "    <tr style=\"text-align: right;\">\n",
              "      <th></th>\n",
              "      <th>NUMCOMUNA</th>\n",
              "      <th>Accidentes</th>\n",
              "      <th>Heridos</th>\n",
              "      <th>Daños</th>\n",
              "      <th>Muertos</th>\n",
              "      <th>cluster</th>\n",
              "    </tr>\n",
              "  </thead>\n",
              "  <tbody>\n",
              "    <tr>\n",
              "      <th>0</th>\n",
              "      <td>1</td>\n",
              "      <td>10.081967</td>\n",
              "      <td>7.549180</td>\n",
              "      <td>2.521858</td>\n",
              "      <td>0.010929</td>\n",
              "      <td>0</td>\n",
              "    </tr>\n",
              "    <tr>\n",
              "      <th>1</th>\n",
              "      <td>2</td>\n",
              "      <td>9.327869</td>\n",
              "      <td>6.445355</td>\n",
              "      <td>2.868852</td>\n",
              "      <td>0.013661</td>\n",
              "      <td>0</td>\n",
              "    </tr>\n",
              "    <tr>\n",
              "      <th>2</th>\n",
              "      <td>3</td>\n",
              "      <td>21.038251</td>\n",
              "      <td>15.751366</td>\n",
              "      <td>5.262295</td>\n",
              "      <td>0.024590</td>\n",
              "      <td>0</td>\n",
              "    </tr>\n",
              "    <tr>\n",
              "      <th>3</th>\n",
              "      <td>4</td>\n",
              "      <td>38.923497</td>\n",
              "      <td>25.147541</td>\n",
              "      <td>13.710383</td>\n",
              "      <td>0.065574</td>\n",
              "      <td>1</td>\n",
              "    </tr>\n",
              "    <tr>\n",
              "      <th>4</th>\n",
              "      <td>5</td>\n",
              "      <td>67.724044</td>\n",
              "      <td>40.057377</td>\n",
              "      <td>27.551913</td>\n",
              "      <td>0.114754</td>\n",
              "      <td>1</td>\n",
              "    </tr>\n",
              "  </tbody>\n",
              "</table>\n",
              "</div>"
            ],
            "text/plain": [
              "  NUMCOMUNA  Accidentes    Heridos      Daños   Muertos  cluster\n",
              "0         1   10.081967   7.549180   2.521858  0.010929        0\n",
              "1         2    9.327869   6.445355   2.868852  0.013661        0\n",
              "2         3   21.038251  15.751366   5.262295  0.024590        0\n",
              "3         4   38.923497  25.147541  13.710383  0.065574        1\n",
              "4         5   67.724044  40.057377  27.551913  0.114754        1"
            ]
          },
          "metadata": {},
          "execution_count": 31
        }
      ]
    },
    {
      "cell_type": "markdown",
      "metadata": {
        "id": "0cec02b9"
      },
      "source": [
        "## Descripción de los cluster"
      ],
      "id": "0cec02b9"
    },
    {
      "cell_type": "code",
      "metadata": {
        "colab": {
          "base_uri": "https://localhost:8080/",
          "height": 195
        },
        "id": "831420bc",
        "outputId": "374195ce-f02e-4f61-d688-688d119d262e"
      },
      "source": [
        "df.groupby(['cluster']).mean()"
      ],
      "id": "831420bc",
      "execution_count": 32,
      "outputs": [
        {
          "output_type": "execute_result",
          "data": {
            "text/html": [
              "<div>\n",
              "<style scoped>\n",
              "    .dataframe tbody tr th:only-of-type {\n",
              "        vertical-align: middle;\n",
              "    }\n",
              "\n",
              "    .dataframe tbody tr th {\n",
              "        vertical-align: top;\n",
              "    }\n",
              "\n",
              "    .dataframe thead th {\n",
              "        text-align: right;\n",
              "    }\n",
              "</style>\n",
              "<table border=\"1\" class=\"dataframe\">\n",
              "  <thead>\n",
              "    <tr style=\"text-align: right;\">\n",
              "      <th></th>\n",
              "      <th>Accidentes</th>\n",
              "      <th>Heridos</th>\n",
              "      <th>Daños</th>\n",
              "      <th>Muertos</th>\n",
              "    </tr>\n",
              "    <tr>\n",
              "      <th>cluster</th>\n",
              "      <th></th>\n",
              "      <th></th>\n",
              "      <th></th>\n",
              "      <th></th>\n",
              "    </tr>\n",
              "  </thead>\n",
              "  <tbody>\n",
              "    <tr>\n",
              "      <th>0</th>\n",
              "      <td>11.559746</td>\n",
              "      <td>7.815425</td>\n",
              "      <td>3.729543</td>\n",
              "      <td>0.014778</td>\n",
              "    </tr>\n",
              "    <tr>\n",
              "      <th>1</th>\n",
              "      <td>54.249415</td>\n",
              "      <td>28.854801</td>\n",
              "      <td>25.327088</td>\n",
              "      <td>0.067525</td>\n",
              "    </tr>\n",
              "    <tr>\n",
              "      <th>2</th>\n",
              "      <td>141.609290</td>\n",
              "      <td>64.325137</td>\n",
              "      <td>77.081967</td>\n",
              "      <td>0.202186</td>\n",
              "    </tr>\n",
              "  </tbody>\n",
              "</table>\n",
              "</div>"
            ],
            "text/plain": [
              "         Accidentes    Heridos      Daños   Muertos\n",
              "cluster                                            \n",
              "0         11.559746   7.815425   3.729543  0.014778\n",
              "1         54.249415  28.854801  25.327088  0.067525\n",
              "2        141.609290  64.325137  77.081967  0.202186"
            ]
          },
          "metadata": {},
          "execution_count": 32
        }
      ]
    },
    {
      "cell_type": "markdown",
      "metadata": {
        "id": "52be7898"
      },
      "source": [
        "1 : Alto riesgo de accidentes y peligro. Peligro alto\n",
        "2 : Peligro moderado. Peligro Medio\n",
        "0 : Peligro bajo de accidentes. Peligro bajo\n",
        "    "
      ],
      "id": "52be7898"
    },
    {
      "cell_type": "code",
      "metadata": {
        "id": "2a1ff002"
      },
      "source": [
        "df.to_csv('cluster.csv', encoding = 'utf-8', index = False)"
      ],
      "id": "2a1ff002",
      "execution_count": 33,
      "outputs": []
    },
    {
      "cell_type": "markdown",
      "metadata": {
        "id": "4db0fbcb"
      },
      "source": [
        "## Clustering por Barrio"
      ],
      "id": "4db0fbcb"
    },
    {
      "cell_type": "code",
      "metadata": {
        "id": "ac35fad9"
      },
      "source": [
        "df2 = pd.read_csv('Datafull.csv', encoding = 'utf-8')"
      ],
      "id": "ac35fad9",
      "execution_count": 34,
      "outputs": []
    },
    {
      "cell_type": "code",
      "metadata": {
        "colab": {
          "base_uri": "https://localhost:8080/",
          "height": 313
        },
        "id": "b6647bd2",
        "outputId": "da1f41e1-db46-49e4-c64b-02c893ca4025"
      },
      "source": [
        "df2.head()"
      ],
      "id": "b6647bd2",
      "execution_count": 35,
      "outputs": [
        {
          "output_type": "execute_result",
          "data": {
            "text/html": [
              "<div>\n",
              "<style scoped>\n",
              "    .dataframe tbody tr th:only-of-type {\n",
              "        vertical-align: middle;\n",
              "    }\n",
              "\n",
              "    .dataframe tbody tr th {\n",
              "        vertical-align: top;\n",
              "    }\n",
              "\n",
              "    .dataframe thead th {\n",
              "        text-align: right;\n",
              "    }\n",
              "</style>\n",
              "<table border=\"1\" class=\"dataframe\">\n",
              "  <thead>\n",
              "    <tr style=\"text-align: right;\">\n",
              "      <th></th>\n",
              "      <th>AÑO</th>\n",
              "      <th>CLASE_ACCIDENTE</th>\n",
              "      <th>DISEÑO</th>\n",
              "      <th>FECHA_ACCIDENTE</th>\n",
              "      <th>GRAVEDAD</th>\n",
              "      <th>MES</th>\n",
              "      <th>NUMCOMUNA</th>\n",
              "      <th>BARRIO</th>\n",
              "      <th>HORA</th>\n",
              "      <th>SEMANA</th>\n",
              "      <th>DIA_DEL_AÑO</th>\n",
              "      <th>DIA_DEL_MES</th>\n",
              "      <th>DIA_SEMANA</th>\n",
              "      <th>LONGITUD</th>\n",
              "      <th>ALTITUD</th>\n",
              "      <th>MOMENTO</th>\n",
              "    </tr>\n",
              "  </thead>\n",
              "  <tbody>\n",
              "    <tr>\n",
              "      <th>0</th>\n",
              "      <td>2014</td>\n",
              "      <td>Otro</td>\n",
              "      <td>Tramo de via</td>\n",
              "      <td>2014-08-05</td>\n",
              "      <td>Con heridos</td>\n",
              "      <td>8</td>\n",
              "      <td>11</td>\n",
              "      <td>Los Conquistadores</td>\n",
              "      <td>07:15:00</td>\n",
              "      <td>Semana 32</td>\n",
              "      <td>217</td>\n",
              "      <td>5</td>\n",
              "      <td>Tuesday</td>\n",
              "      <td>-75.589313</td>\n",
              "      <td>6.239787</td>\n",
              "      <td>Mañana</td>\n",
              "    </tr>\n",
              "    <tr>\n",
              "      <th>1</th>\n",
              "      <td>2014</td>\n",
              "      <td>Choque</td>\n",
              "      <td>Interseccion</td>\n",
              "      <td>2014-08-05</td>\n",
              "      <td>Con heridos</td>\n",
              "      <td>8</td>\n",
              "      <td>5</td>\n",
              "      <td>Girardot</td>\n",
              "      <td>14:30:00</td>\n",
              "      <td>Semana 32</td>\n",
              "      <td>217</td>\n",
              "      <td>5</td>\n",
              "      <td>Tuesday</td>\n",
              "      <td>-75.570818</td>\n",
              "      <td>6.300041</td>\n",
              "      <td>Tarde</td>\n",
              "    </tr>\n",
              "    <tr>\n",
              "      <th>2</th>\n",
              "      <td>2014</td>\n",
              "      <td>Choque</td>\n",
              "      <td>Tramo de via</td>\n",
              "      <td>2014-08-05</td>\n",
              "      <td>Con heridos</td>\n",
              "      <td>8</td>\n",
              "      <td>14</td>\n",
              "      <td>Patio Bonito</td>\n",
              "      <td>15:50:00</td>\n",
              "      <td>Semana 32</td>\n",
              "      <td>217</td>\n",
              "      <td>5</td>\n",
              "      <td>Tuesday</td>\n",
              "      <td>-75.576574</td>\n",
              "      <td>6.208748</td>\n",
              "      <td>Tarde</td>\n",
              "    </tr>\n",
              "    <tr>\n",
              "      <th>3</th>\n",
              "      <td>2014</td>\n",
              "      <td>Otro</td>\n",
              "      <td>Tramo de via</td>\n",
              "      <td>2014-08-05</td>\n",
              "      <td>Con heridos</td>\n",
              "      <td>8</td>\n",
              "      <td>8</td>\n",
              "      <td>Villa Hermosa</td>\n",
              "      <td>13:00:00</td>\n",
              "      <td>Semana 32</td>\n",
              "      <td>217</td>\n",
              "      <td>5</td>\n",
              "      <td>Tuesday</td>\n",
              "      <td>-75.551255</td>\n",
              "      <td>6.259058</td>\n",
              "      <td>Tarde</td>\n",
              "    </tr>\n",
              "    <tr>\n",
              "      <th>4</th>\n",
              "      <td>2014</td>\n",
              "      <td>Choque</td>\n",
              "      <td>Tramo de via</td>\n",
              "      <td>2014-08-05</td>\n",
              "      <td>Con heridos</td>\n",
              "      <td>8</td>\n",
              "      <td>10</td>\n",
              "      <td>Los Ángeles</td>\n",
              "      <td>19:30:00</td>\n",
              "      <td>Semana 32</td>\n",
              "      <td>217</td>\n",
              "      <td>5</td>\n",
              "      <td>Tuesday</td>\n",
              "      <td>-75.556150</td>\n",
              "      <td>6.249966</td>\n",
              "      <td>Noche</td>\n",
              "    </tr>\n",
              "  </tbody>\n",
              "</table>\n",
              "</div>"
            ],
            "text/plain": [
              "    AÑO CLASE_ACCIDENTE        DISEÑO  ...   LONGITUD   ALTITUD  MOMENTO\n",
              "0  2014            Otro  Tramo de via  ... -75.589313  6.239787   Mañana\n",
              "1  2014          Choque  Interseccion  ... -75.570818  6.300041    Tarde\n",
              "2  2014          Choque  Tramo de via  ... -75.576574  6.208748    Tarde\n",
              "3  2014            Otro  Tramo de via  ... -75.551255  6.259058    Tarde\n",
              "4  2014          Choque  Tramo de via  ... -75.556150  6.249966    Noche\n",
              "\n",
              "[5 rows x 16 columns]"
            ]
          },
          "metadata": {},
          "execution_count": 35
        }
      ]
    },
    {
      "cell_type": "code",
      "metadata": {
        "id": "58208024"
      },
      "source": [
        "df2 = df2[['BARRIO','DIA_DEL_MES','MES','GRAVEDAD']]"
      ],
      "id": "58208024",
      "execution_count": 36,
      "outputs": []
    },
    {
      "cell_type": "markdown",
      "metadata": {
        "id": "6a33aacc"
      },
      "source": [
        "Al hacer una inspección de los datos se observa que hay barrios que difieren solo en una mayúscula o en un espacio por eso es necesario estandarizar los nombres, por lo tanto es necesario agregar una limpieza sobre los barrios."
      ],
      "id": "6a33aacc"
    },
    {
      "cell_type": "code",
      "metadata": {
        "id": "8e29d539"
      },
      "source": [
        "df2['BARRIO'] = df2['BARRIO'].apply(lambda x : x.lower().replace(\" \",\"\"))"
      ],
      "id": "8e29d539",
      "execution_count": 37,
      "outputs": []
    },
    {
      "cell_type": "code",
      "metadata": {
        "id": "f6a8a864"
      },
      "source": [
        "df2 = df2.groupby(['BARRIO','MES','DIA_DEL_MES'])['GRAVEDAD'].agg(([lambda x : x.count()  ,lambda x: ((x.__eq__('Con heridos')).sum()) , lambda x: ((x.__eq__('Solo daños')).sum()), lambda x: ((x.__eq__('Con muertos')).sum())]))"
      ],
      "id": "f6a8a864",
      "execution_count": 38,
      "outputs": []
    },
    {
      "cell_type": "code",
      "metadata": {
        "id": "fb338eed"
      },
      "source": [
        "df2 = df2.groupby(['BARRIO']).mean()\n",
        "df2.reset_index(inplace = True)\n",
        "df2.rename({df2.columns[1] :'Accidentes', df2.columns[2] : 'Heridos', df2.columns[3]: 'Daños', df2.columns[4]: 'Muertos'}, axis = 1, inplace = True)"
      ],
      "id": "fb338eed",
      "execution_count": 39,
      "outputs": []
    },
    {
      "cell_type": "code",
      "metadata": {
        "colab": {
          "base_uri": "https://localhost:8080/",
          "height": 206
        },
        "id": "125bfd1e",
        "outputId": "5e76b6c3-44b6-4d1c-b225-d2b1f5921a15"
      },
      "source": [
        "df2.head()"
      ],
      "id": "125bfd1e",
      "execution_count": 40,
      "outputs": [
        {
          "output_type": "execute_result",
          "data": {
            "text/html": [
              "<div>\n",
              "<style scoped>\n",
              "    .dataframe tbody tr th:only-of-type {\n",
              "        vertical-align: middle;\n",
              "    }\n",
              "\n",
              "    .dataframe tbody tr th {\n",
              "        vertical-align: top;\n",
              "    }\n",
              "\n",
              "    .dataframe thead th {\n",
              "        text-align: right;\n",
              "    }\n",
              "</style>\n",
              "<table border=\"1\" class=\"dataframe\">\n",
              "  <thead>\n",
              "    <tr style=\"text-align: right;\">\n",
              "      <th></th>\n",
              "      <th>BARRIO</th>\n",
              "      <th>Accidentes</th>\n",
              "      <th>Heridos</th>\n",
              "      <th>Daños</th>\n",
              "      <th>Muertos</th>\n",
              "    </tr>\n",
              "  </thead>\n",
              "  <tbody>\n",
              "    <tr>\n",
              "      <th>0</th>\n",
              "      <td>aguasfrias</td>\n",
              "      <td>1.092105</td>\n",
              "      <td>0.815789</td>\n",
              "      <td>0.276316</td>\n",
              "      <td>0.000000</td>\n",
              "    </tr>\n",
              "    <tr>\n",
              "      <th>1</th>\n",
              "      <td>aldeapablovi</td>\n",
              "      <td>1.064103</td>\n",
              "      <td>0.833333</td>\n",
              "      <td>0.230769</td>\n",
              "      <td>0.000000</td>\n",
              "    </tr>\n",
              "    <tr>\n",
              "      <th>2</th>\n",
              "      <td>alejandroechavarría</td>\n",
              "      <td>3.099099</td>\n",
              "      <td>2.168168</td>\n",
              "      <td>0.924925</td>\n",
              "      <td>0.006006</td>\n",
              "    </tr>\n",
              "    <tr>\n",
              "      <th>3</th>\n",
              "      <td>alejandría</td>\n",
              "      <td>2.168385</td>\n",
              "      <td>0.680412</td>\n",
              "      <td>1.487973</td>\n",
              "      <td>0.000000</td>\n",
              "    </tr>\n",
              "    <tr>\n",
              "      <th>4</th>\n",
              "      <td>alfonsolópez</td>\n",
              "      <td>3.310541</td>\n",
              "      <td>2.324786</td>\n",
              "      <td>0.985755</td>\n",
              "      <td>0.000000</td>\n",
              "    </tr>\n",
              "  </tbody>\n",
              "</table>\n",
              "</div>"
            ],
            "text/plain": [
              "                BARRIO  Accidentes   Heridos     Daños   Muertos\n",
              "0           aguasfrias    1.092105  0.815789  0.276316  0.000000\n",
              "1         aldeapablovi    1.064103  0.833333  0.230769  0.000000\n",
              "2  alejandroechavarría    3.099099  2.168168  0.924925  0.006006\n",
              "3           alejandría    2.168385  0.680412  1.487973  0.000000\n",
              "4         alfonsolópez    3.310541  2.324786  0.985755  0.000000"
            ]
          },
          "metadata": {},
          "execution_count": 40
        }
      ]
    },
    {
      "cell_type": "markdown",
      "metadata": {
        "id": "a8321380"
      },
      "source": [
        "## Normalización"
      ],
      "id": "a8321380"
    },
    {
      "cell_type": "code",
      "metadata": {
        "id": "4958f636"
      },
      "source": [
        "scala = preprocessing.MinMaxScaler().fit(df2[['Accidentes','Heridos','Daños','Muertos']])\n",
        "df2[['Accidentes','Heridos','Daños','Muertos']] = preprocessing.MinMaxScaler().fit_transform(df2[['Accidentes','Heridos','Daños','Muertos']])\n"
      ],
      "id": "4958f636",
      "execution_count": 41,
      "outputs": []
    },
    {
      "cell_type": "code",
      "metadata": {
        "colab": {
          "base_uri": "https://localhost:8080/",
          "height": 206
        },
        "id": "470d9c20",
        "outputId": "4ac1b3ca-ae9c-446f-96f3-95e00f0d4f19"
      },
      "source": [
        "df2.head()"
      ],
      "id": "470d9c20",
      "execution_count": 42,
      "outputs": [
        {
          "output_type": "execute_result",
          "data": {
            "text/html": [
              "<div>\n",
              "<style scoped>\n",
              "    .dataframe tbody tr th:only-of-type {\n",
              "        vertical-align: middle;\n",
              "    }\n",
              "\n",
              "    .dataframe tbody tr th {\n",
              "        vertical-align: top;\n",
              "    }\n",
              "\n",
              "    .dataframe thead th {\n",
              "        text-align: right;\n",
              "    }\n",
              "</style>\n",
              "<table border=\"1\" class=\"dataframe\">\n",
              "  <thead>\n",
              "    <tr style=\"text-align: right;\">\n",
              "      <th></th>\n",
              "      <th>BARRIO</th>\n",
              "      <th>Accidentes</th>\n",
              "      <th>Heridos</th>\n",
              "      <th>Daños</th>\n",
              "      <th>Muertos</th>\n",
              "    </tr>\n",
              "  </thead>\n",
              "  <tbody>\n",
              "    <tr>\n",
              "      <th>0</th>\n",
              "      <td>aguasfrias</td>\n",
              "      <td>0.006111</td>\n",
              "      <td>0.119671</td>\n",
              "      <td>0.029502</td>\n",
              "      <td>0.000000</td>\n",
              "    </tr>\n",
              "    <tr>\n",
              "      <th>1</th>\n",
              "      <td>aldeapablovi</td>\n",
              "      <td>0.004253</td>\n",
              "      <td>0.122244</td>\n",
              "      <td>0.024639</td>\n",
              "      <td>0.000000</td>\n",
              "    </tr>\n",
              "    <tr>\n",
              "      <th>2</th>\n",
              "      <td>alejandroechavarría</td>\n",
              "      <td>0.139280</td>\n",
              "      <td>0.318056</td>\n",
              "      <td>0.098752</td>\n",
              "      <td>0.006006</td>\n",
              "    </tr>\n",
              "    <tr>\n",
              "      <th>3</th>\n",
              "      <td>alejandría</td>\n",
              "      <td>0.077525</td>\n",
              "      <td>0.099812</td>\n",
              "      <td>0.158868</td>\n",
              "      <td>0.000000</td>\n",
              "    </tr>\n",
              "    <tr>\n",
              "      <th>4</th>\n",
              "      <td>alfonsolópez</td>\n",
              "      <td>0.153310</td>\n",
              "      <td>0.341031</td>\n",
              "      <td>0.105247</td>\n",
              "      <td>0.000000</td>\n",
              "    </tr>\n",
              "  </tbody>\n",
              "</table>\n",
              "</div>"
            ],
            "text/plain": [
              "                BARRIO  Accidentes   Heridos     Daños   Muertos\n",
              "0           aguasfrias    0.006111  0.119671  0.029502  0.000000\n",
              "1         aldeapablovi    0.004253  0.122244  0.024639  0.000000\n",
              "2  alejandroechavarría    0.139280  0.318056  0.098752  0.006006\n",
              "3           alejandría    0.077525  0.099812  0.158868  0.000000\n",
              "4         alfonsolópez    0.153310  0.341031  0.105247  0.000000"
            ]
          },
          "metadata": {},
          "execution_count": 42
        }
      ]
    },
    {
      "cell_type": "markdown",
      "metadata": {
        "id": "7960ef32"
      },
      "source": [
        "## Ordenamiento Jerárquico"
      ],
      "id": "7960ef32"
    },
    {
      "cell_type": "code",
      "metadata": {
        "colab": {
          "base_uri": "https://localhost:8080/",
          "height": 258
        },
        "id": "1d93818f",
        "outputId": "beac6863-6ae1-493d-b1a6-04e25fe8f5ff"
      },
      "source": [
        "df_agrupa = df2.set_index('BARRIO')\n",
        "df_agrupa.head()"
      ],
      "id": "1d93818f",
      "execution_count": 43,
      "outputs": [
        {
          "output_type": "execute_result",
          "data": {
            "text/html": [
              "<div>\n",
              "<style scoped>\n",
              "    .dataframe tbody tr th:only-of-type {\n",
              "        vertical-align: middle;\n",
              "    }\n",
              "\n",
              "    .dataframe tbody tr th {\n",
              "        vertical-align: top;\n",
              "    }\n",
              "\n",
              "    .dataframe thead th {\n",
              "        text-align: right;\n",
              "    }\n",
              "</style>\n",
              "<table border=\"1\" class=\"dataframe\">\n",
              "  <thead>\n",
              "    <tr style=\"text-align: right;\">\n",
              "      <th></th>\n",
              "      <th>Accidentes</th>\n",
              "      <th>Heridos</th>\n",
              "      <th>Daños</th>\n",
              "      <th>Muertos</th>\n",
              "    </tr>\n",
              "    <tr>\n",
              "      <th>BARRIO</th>\n",
              "      <th></th>\n",
              "      <th></th>\n",
              "      <th></th>\n",
              "      <th></th>\n",
              "    </tr>\n",
              "  </thead>\n",
              "  <tbody>\n",
              "    <tr>\n",
              "      <th>aguasfrias</th>\n",
              "      <td>0.006111</td>\n",
              "      <td>0.119671</td>\n",
              "      <td>0.029502</td>\n",
              "      <td>0.000000</td>\n",
              "    </tr>\n",
              "    <tr>\n",
              "      <th>aldeapablovi</th>\n",
              "      <td>0.004253</td>\n",
              "      <td>0.122244</td>\n",
              "      <td>0.024639</td>\n",
              "      <td>0.000000</td>\n",
              "    </tr>\n",
              "    <tr>\n",
              "      <th>alejandroechavarría</th>\n",
              "      <td>0.139280</td>\n",
              "      <td>0.318056</td>\n",
              "      <td>0.098752</td>\n",
              "      <td>0.006006</td>\n",
              "    </tr>\n",
              "    <tr>\n",
              "      <th>alejandría</th>\n",
              "      <td>0.077525</td>\n",
              "      <td>0.099812</td>\n",
              "      <td>0.158868</td>\n",
              "      <td>0.000000</td>\n",
              "    </tr>\n",
              "    <tr>\n",
              "      <th>alfonsolópez</th>\n",
              "      <td>0.153310</td>\n",
              "      <td>0.341031</td>\n",
              "      <td>0.105247</td>\n",
              "      <td>0.000000</td>\n",
              "    </tr>\n",
              "  </tbody>\n",
              "</table>\n",
              "</div>"
            ],
            "text/plain": [
              "                     Accidentes   Heridos     Daños   Muertos\n",
              "BARRIO                                                       \n",
              "aguasfrias             0.006111  0.119671  0.029502  0.000000\n",
              "aldeapablovi           0.004253  0.122244  0.024639  0.000000\n",
              "alejandroechavarría    0.139280  0.318056  0.098752  0.006006\n",
              "alejandría             0.077525  0.099812  0.158868  0.000000\n",
              "alfonsolópez           0.153310  0.341031  0.105247  0.000000"
            ]
          },
          "metadata": {},
          "execution_count": 43
        }
      ]
    },
    {
      "cell_type": "code",
      "metadata": {
        "id": "ab84057f"
      },
      "source": [
        "cluster_dist_matrix = distance_matrix(df_agrupa, df_agrupa)"
      ],
      "id": "ab84057f",
      "execution_count": 44,
      "outputs": []
    },
    {
      "cell_type": "code",
      "metadata": {
        "id": "dc34a74c"
      },
      "source": [
        "cluster_dist_matrix = squareform(cluster_dist_matrix)\n",
        "hc = sch.linkage(cluster_dist_matrix,method = 'ward')"
      ],
      "id": "dc34a74c",
      "execution_count": 45,
      "outputs": []
    },
    {
      "cell_type": "code",
      "metadata": {
        "colab": {
          "base_uri": "https://localhost:8080/",
          "height": 54
        },
        "id": "cf213c78",
        "outputId": "54d88051-551c-4265-8470-5bc145d0f76e"
      },
      "source": [
        "dendrogram = sch.dendrogram(hc)"
      ],
      "id": "cf213c78",
      "execution_count": 46,
      "outputs": [
        {
          "output_type": "display_data",
          "data": {
            "image/png": "[encoded data removed]",
            "text/plain": [
              "<Figure size 576x396 with 1 Axes>"
            ]
          },
          "metadata": {}
        }
      ]
    },
    {
      "cell_type": "markdown",
      "metadata": {
        "id": "037775bc"
      },
      "source": [
        "En este caso no hay una intuición de cual es el agrupamiento mas útil. Por lo tanto se usa el método del codo para precisar en este sentido"
      ],
      "id": "037775bc"
    },
    {
      "cell_type": "markdown",
      "metadata": {
        "id": "69c7898e"
      },
      "source": [
        "## Método del codo"
      ],
      "id": "69c7898e"
    },
    {
      "cell_type": "code",
      "metadata": {
        "id": "65da70a4"
      },
      "source": [
        "distcentroide = []\n",
        "k = range(1,18)\n",
        "for i in k:\n",
        "    \n",
        "    kmeans = KMeans(n_clusters = i, random_state = 653)\n",
        "    kmeans.fit(df_agrupa)\n",
        "    distcentroide.append(kmeans.inertia_)"
      ],
      "id": "65da70a4",
      "execution_count": 47,
      "outputs": []
    },
    {
      "cell_type": "code",
      "metadata": {
        "colab": {
          "base_uri": "https://localhost:8080/",
          "height": 361
        },
        "id": "1037174f",
        "outputId": "4beed35a-e87d-4768-c459-849050dc17f6"
      },
      "source": [
        "plt.plot(k,distcentroide)\n",
        "plt.xlabel('clusters')\n",
        "plt.ylabel('Dist')\n",
        "plt.show()"
      ],
      "id": "1037174f",
      "execution_count": 48,
      "outputs": [
        {
          "output_type": "display_data",
          "data": {
            "image/png": "[encoded data removed]",
            "text/plain": [
              "<Figure size 576x396 with 1 Axes>"
            ]
          },
          "metadata": {}
        }
      ]
    },
    {
      "cell_type": "markdown",
      "metadata": {
        "id": "1052da43"
      },
      "source": [
        "En este caso se examinará la descripción del cluster con tres centroides"
      ],
      "id": "1052da43"
    },
    {
      "cell_type": "code",
      "metadata": {
        "colab": {
          "base_uri": "https://localhost:8080/",
          "height": 351
        },
        "id": "o_X2JVEoUqCk",
        "outputId": "a322363a-7916-4afd-a3ac-f5f44d5399be"
      },
      "source": [
        "import seaborn as sb\n",
        "corrMatrix=df_agrupa.corr()\n",
        "sb.heatmap(corrMatrix, annot=True)\n",
        "plt.show()"
      ],
      "id": "o_X2JVEoUqCk",
      "execution_count": 49,
      "outputs": [
        {
          "output_type": "display_data",
          "data": {
            "image/png": "[encoded data removed]",
            "text/plain": [
              "<Figure size 576x396 with 2 Axes>"
            ]
          },
          "metadata": {}
        }
      ]
    },
    {
      "cell_type": "code",
      "metadata": {
        "colab": {
          "base_uri": "https://localhost:8080/",
          "height": 497
        },
        "id": "kZed-nc6UCn8",
        "outputId": "780ccb67-077c-4be8-dc8a-99e034a9b4ff"
      },
      "source": [
        "import matplotlib.pyplot as plt\n",
        "import matplotlib\n",
        "df_2D = df_agrupa[['Heridos', 'Daños']]\n",
        "df_2D = np.array(df_2D)\n",
        "kmeans_model_2D = KMeans(n_clusters=3, max_iter=1000).fit(df_2D)\n",
        "labels_2D = kmeans_model_2D.labels_\n",
        "centroids_2D = kmeans_model_2D.cluster_centers_\n",
        "\n",
        "colors_k_means = ['orange','yellow','blue']\n",
        " \n",
        "fig = plt.figure(figsize=(10, 8))\n",
        "plt.scatter(df_2D[:, 0], df_2D[:, 1], c=labels_2D, s=200,\n",
        "            cmap=matplotlib.colors.ListedColormap(colors_k_means), alpha=0.6)\n",
        "plt.scatter(centroids_2D[:, 0], centroids_2D[:, 1], c='black', s=200, marker='.')\n",
        "plt.xlabel('Heridos')\n",
        "plt.ylabel('Daños')\n",
        "\n",
        "for i in range(len(centroids_2D)):\n",
        "    plt.annotate( i, (centroids_2D[i][0], centroids_2D[i][1]), fontsize=20)"
      ],
      "id": "kZed-nc6UCn8",
      "execution_count": 50,
      "outputs": [
        {
          "output_type": "display_data",
          "data": {
            "image/png": "[encoded data removed]",
            "text/plain": [
              "<Figure size 720x576 with 1 Axes>"
            ]
          },
          "metadata": {}
        }
      ]
    },
    {
      "cell_type": "code",
      "metadata": {
        "colab": {
          "base_uri": "https://localhost:8080/"
        },
        "id": "e0076c11",
        "outputId": "81a06fe2-8fc1-426f-eae9-f1a2f34c5f93"
      },
      "source": [
        "kmeans1 = KMeans(n_clusters = 3)\n",
        "kmeans1.fit(df_agrupa)"
      ],
      "id": "e0076c11",
      "execution_count": 51,
      "outputs": [
        {
          "output_type": "execute_result",
          "data": {
            "text/plain": [
              "KMeans(n_clusters=3)"
            ]
          },
          "metadata": {},
          "execution_count": 51
        }
      ]
    },
    {
      "cell_type": "code",
      "metadata": {
        "id": "b6fd1b8d"
      },
      "source": [
        "df_agrupa['cluster'] = kmeans1.labels_"
      ],
      "id": "b6fd1b8d",
      "execution_count": 52,
      "outputs": []
    },
    {
      "cell_type": "code",
      "metadata": {
        "id": "be4fce31"
      },
      "source": [
        "df2 = df_agrupa.reset_index()"
      ],
      "id": "be4fce31",
      "execution_count": 53,
      "outputs": []
    },
    {
      "cell_type": "code",
      "metadata": {
        "id": "4afd061c"
      },
      "source": [
        "df2[['Accidentes','Heridos','Daños','Muertos']] = scala.inverse_transform(df2[['Accidentes','Heridos','Daños','Muertos']])"
      ],
      "id": "4afd061c",
      "execution_count": 54,
      "outputs": []
    },
    {
      "cell_type": "markdown",
      "metadata": {
        "id": "2b887fde"
      },
      "source": [
        "## Descripción del cluster por barrio"
      ],
      "id": "2b887fde"
    },
    {
      "cell_type": "code",
      "metadata": {
        "colab": {
          "base_uri": "https://localhost:8080/",
          "height": 175
        },
        "id": "05dff731",
        "outputId": "387df26e-873c-43a1-f1a2-008969e8151a"
      },
      "source": [
        "df2.groupby(['cluster']).mean()"
      ],
      "id": "05dff731",
      "execution_count": 55,
      "outputs": [
        {
          "output_type": "execute_result",
          "data": {
            "text/html": [
              "<div>\n",
              "<style scoped>\n",
              "    .dataframe tbody tr th:only-of-type {\n",
              "        vertical-align: middle;\n",
              "    }\n",
              "\n",
              "    .dataframe tbody tr th {\n",
              "        vertical-align: top;\n",
              "    }\n",
              "\n",
              "    .dataframe thead th {\n",
              "        text-align: right;\n",
              "    }\n",
              "</style>\n",
              "<table border=\"1\" class=\"dataframe\">\n",
              "  <thead>\n",
              "    <tr style=\"text-align: right;\">\n",
              "      <th></th>\n",
              "      <th>Accidentes</th>\n",
              "      <th>Heridos</th>\n",
              "      <th>Daños</th>\n",
              "      <th>Muertos</th>\n",
              "    </tr>\n",
              "    <tr>\n",
              "      <th>cluster</th>\n",
              "      <th></th>\n",
              "      <th></th>\n",
              "      <th></th>\n",
              "      <th></th>\n",
              "    </tr>\n",
              "  </thead>\n",
              "  <tbody>\n",
              "    <tr>\n",
              "      <th>0</th>\n",
              "      <td>3.764383</td>\n",
              "      <td>2.134035</td>\n",
              "      <td>1.625078</td>\n",
              "      <td>0.005270</td>\n",
              "    </tr>\n",
              "    <tr>\n",
              "      <th>1</th>\n",
              "      <td>1.509506</td>\n",
              "      <td>0.962687</td>\n",
              "      <td>0.541051</td>\n",
              "      <td>0.005768</td>\n",
              "    </tr>\n",
              "    <tr>\n",
              "      <th>2</th>\n",
              "      <td>9.866409</td>\n",
              "      <td>4.658191</td>\n",
              "      <td>5.193836</td>\n",
              "      <td>0.014381</td>\n",
              "    </tr>\n",
              "  </tbody>\n",
              "</table>\n",
              "</div>"
            ],
            "text/plain": [
              "         Accidentes   Heridos     Daños   Muertos\n",
              "cluster                                          \n",
              "0          3.764383  2.134035  1.625078  0.005270\n",
              "1          1.509506  0.962687  0.541051  0.005768\n",
              "2          9.866409  4.658191  5.193836  0.014381"
            ]
          },
          "metadata": {},
          "execution_count": 55
        }
      ]
    },
    {
      "cell_type": "markdown",
      "metadata": {
        "id": "6ae898f0"
      },
      "source": [
        "1 : Alto riesgo de accidentes y peligro. Peligro alto 2 : Peligro moderado. Peligro Medio 0 : Peligro bajo de accidentes. Peligro bajo"
      ],
      "id": "6ae898f0"
    },
    {
      "cell_type": "markdown",
      "metadata": {
        "id": "n_hVi3Lde_4L"
      },
      "source": [
        "## Mapeo de puntos de cluster en el mapa geografico de Medellin "
      ],
      "id": "n_hVi3Lde_4L"
    },
    {
      "cell_type": "code",
      "metadata": {
        "colab": {
          "base_uri": "https://localhost:8080/"
        },
        "id": "LVi3AjBKfLrZ",
        "outputId": "a35ed81a-d07f-48bb-b5f5-54c401ff9bf9"
      },
      "source": [
        "! pip install geopandas \n",
        "import geopandas as gpd\n",
        "df3=df2[['BARRIO','cluster']]\n",
        "df_mapaMedellin=gpd.read_file('/content/drive/MyDrive/TAE Trabajo 1/Limite_Comuna_Corregimiento.geojson')"
      ],
      "id": "LVi3AjBKfLrZ",
      "execution_count": 57,
      "outputs": [
        {
          "output_type": "stream",
          "name": "stdout",
          "text": [
            "Collecting geopandas\n",
            "  Downloading geopandas-0.10.2-py2.py3-none-any.whl (1.0 MB)\n",
            "\u001b[?25l\r\u001b[K     |▎                               | 10 kB 15.4 MB/s eta 0:00:01\r\u001b[K     |▋                               | 20 kB 9.3 MB/s eta 0:00:01\r\u001b[K     |█                               | 30 kB 7.8 MB/s eta 0:00:01\r\u001b[K     |█▎                              | 40 kB 7.1 MB/s eta 0:00:01\r\u001b[K     |█▋                              | 51 kB 4.7 MB/s eta 0:00:01\r\u001b[K     |██                              | 61 kB 5.0 MB/s eta 0:00:01\r\u001b[K     |██▎                             | 71 kB 5.1 MB/s eta 0:00:01\r\u001b[K     |██▌                             | 81 kB 5.8 MB/s eta 0:00:01\r\u001b[K     |██▉                             | 92 kB 4.7 MB/s eta 0:00:01\r\u001b[K     |███▏                            | 102 kB 4.8 MB/s eta 0:00:01\r\u001b[K     |███▌                            | 112 kB 4.8 MB/s eta 0:00:01\r\u001b[K     |███▉                            | 122 kB 4.8 MB/s eta 0:00:01\r\u001b[K     |████▏                           | 133 kB 4.8 MB/s eta 0:00:01\r\u001b[K     |████▌                           | 143 kB 4.8 MB/s eta 0:00:01\r\u001b[K     |████▊                           | 153 kB 4.8 MB/s eta 0:00:01\r\u001b[K     |█████                           | 163 kB 4.8 MB/s eta 0:00:01\r\u001b[K     |█████▍                          | 174 kB 4.8 MB/s eta 0:00:01\r\u001b[K     |█████▊                          | 184 kB 4.8 MB/s eta 0:00:01\r\u001b[K     |██████                          | 194 kB 4.8 MB/s eta 0:00:01\r\u001b[K     |██████▍                         | 204 kB 4.8 MB/s eta 0:00:01\r\u001b[K     |██████▊                         | 215 kB 4.8 MB/s eta 0:00:01\r\u001b[K     |███████                         | 225 kB 4.8 MB/s eta 0:00:01\r\u001b[K     |███████▎                        | 235 kB 4.8 MB/s eta 0:00:01\r\u001b[K     |███████▋                        | 245 kB 4.8 MB/s eta 0:00:01\r\u001b[K     |████████                        | 256 kB 4.8 MB/s eta 0:00:01\r\u001b[K     |████████▎                       | 266 kB 4.8 MB/s eta 0:00:01\r\u001b[K     |████████▋                       | 276 kB 4.8 MB/s eta 0:00:01\r\u001b[K     |█████████                       | 286 kB 4.8 MB/s eta 0:00:01\r\u001b[K     |█████████▏                      | 296 kB 4.8 MB/s eta 0:00:01\r\u001b[K     |█████████▌                      | 307 kB 4.8 MB/s eta 0:00:01\r\u001b[K     |█████████▉                      | 317 kB 4.8 MB/s eta 0:00:01\r\u001b[K     |██████████▏                     | 327 kB 4.8 MB/s eta 0:00:01\r\u001b[K     |██████████▌                     | 337 kB 4.8 MB/s eta 0:00:01\r\u001b[K     |██████████▉                     | 348 kB 4.8 MB/s eta 0:00:01\r\u001b[K     |███████████▏                    | 358 kB 4.8 MB/s eta 0:00:01\r\u001b[K     |███████████▍                    | 368 kB 4.8 MB/s eta 0:00:01\r\u001b[K     |███████████▊                    | 378 kB 4.8 MB/s eta 0:00:01\r\u001b[K     |████████████                    | 389 kB 4.8 MB/s eta 0:00:01\r\u001b[K     |████████████▍                   | 399 kB 4.8 MB/s eta 0:00:01\r\u001b[K     |████████████▊                   | 409 kB 4.8 MB/s eta 0:00:01\r\u001b[K     |█████████████                   | 419 kB 4.8 MB/s eta 0:00:01\r\u001b[K     |█████████████▍                  | 430 kB 4.8 MB/s eta 0:00:01\r\u001b[K     |█████████████▋                  | 440 kB 4.8 MB/s eta 0:00:01\r\u001b[K     |██████████████                  | 450 kB 4.8 MB/s eta 0:00:01\r\u001b[K     |██████████████▎                 | 460 kB 4.8 MB/s eta 0:00:01\r\u001b[K     |██████████████▋                 | 471 kB 4.8 MB/s eta 0:00:01\r\u001b[K     |███████████████                 | 481 kB 4.8 MB/s eta 0:00:01\r\u001b[K     |███████████████▎                | 491 kB 4.8 MB/s eta 0:00:01\r\u001b[K     |███████████████▋                | 501 kB 4.8 MB/s eta 0:00:01\r\u001b[K     |███████████████▉                | 512 kB 4.8 MB/s eta 0:00:01\r\u001b[K     |████████████████▏               | 522 kB 4.8 MB/s eta 0:00:01\r\u001b[K     |████████████████▌               | 532 kB 4.8 MB/s eta 0:00:01\r\u001b[K     |████████████████▉               | 542 kB 4.8 MB/s eta 0:00:01\r\u001b[K     |█████████████████▏              | 552 kB 4.8 MB/s eta 0:00:01\r\u001b[K     |█████████████████▌              | 563 kB 4.8 MB/s eta 0:00:01\r\u001b[K     |█████████████████▉              | 573 kB 4.8 MB/s eta 0:00:01\r\u001b[K     |██████████████████              | 583 kB 4.8 MB/s eta 0:00:01\r\u001b[K     |██████████████████▍             | 593 kB 4.8 MB/s eta 0:00:01\r\u001b[K     |██████████████████▊             | 604 kB 4.8 MB/s eta 0:00:01\r\u001b[K     |███████████████████             | 614 kB 4.8 MB/s eta 0:00:01\r\u001b[K     |███████████████████▍            | 624 kB 4.8 MB/s eta 0:00:01\r\u001b[K     |███████████████████▊            | 634 kB 4.8 MB/s eta 0:00:01\r\u001b[K     |████████████████████            | 645 kB 4.8 MB/s eta 0:00:01\r\u001b[K     |████████████████████▎           | 655 kB 4.8 MB/s eta 0:00:01\r\u001b[K     |████████████████████▋           | 665 kB 4.8 MB/s eta 0:00:01\r\u001b[K     |█████████████████████           | 675 kB 4.8 MB/s eta 0:00:01\r\u001b[K     |█████████████████████▎          | 686 kB 4.8 MB/s eta 0:00:01\r\u001b[K     |█████████████████████▋          | 696 kB 4.8 MB/s eta 0:00:01\r\u001b[K     |██████████████████████          | 706 kB 4.8 MB/s eta 0:00:01\r\u001b[K     |██████████████████████▎         | 716 kB 4.8 MB/s eta 0:00:01\r\u001b[K     |██████████████████████▋         | 727 kB 4.8 MB/s eta 0:00:01\r\u001b[K     |██████████████████████▉         | 737 kB 4.8 MB/s eta 0:00:01\r\u001b[K     |███████████████████████▏        | 747 kB 4.8 MB/s eta 0:00:01\r\u001b[K     |███████████████████████▌        | 757 kB 4.8 MB/s eta 0:00:01\r\u001b[K     |███████████████████████▉        | 768 kB 4.8 MB/s eta 0:00:01\r\u001b[K     |████████████████████████▏       | 778 kB 4.8 MB/s eta 0:00:01\r\u001b[K     |████████████████████████▌       | 788 kB 4.8 MB/s eta 0:00:01\r\u001b[K     |████████████████████████▉       | 798 kB 4.8 MB/s eta 0:00:01\r\u001b[K     |█████████████████████████       | 808 kB 4.8 MB/s eta 0:00:01\r\u001b[K     |█████████████████████████▍      | 819 kB 4.8 MB/s eta 0:00:01\r\u001b[K     |█████████████████████████▊      | 829 kB 4.8 MB/s eta 0:00:01\r\u001b[K     |██████████████████████████      | 839 kB 4.8 MB/s eta 0:00:01\r\u001b[K     |██████████████████████████▍     | 849 kB 4.8 MB/s eta 0:00:01\r\u001b[K     |██████████████████████████▊     | 860 kB 4.8 MB/s eta 0:00:01\r\u001b[K     |███████████████████████████     | 870 kB 4.8 MB/s eta 0:00:01\r\u001b[K     |███████████████████████████▎    | 880 kB 4.8 MB/s eta 0:00:01\r\u001b[K     |███████████████████████████▋    | 890 kB 4.8 MB/s eta 0:00:01\r\u001b[K     |████████████████████████████    | 901 kB 4.8 MB/s eta 0:00:01\r\u001b[K     |████████████████████████████▎   | 911 kB 4.8 MB/s eta 0:00:01\r\u001b[K     |████████████████████████████▋   | 921 kB 4.8 MB/s eta 0:00:01\r\u001b[K     |█████████████████████████████   | 931 kB 4.8 MB/s eta 0:00:01\r\u001b[K     |█████████████████████████████▎  | 942 kB 4.8 MB/s eta 0:00:01\r\u001b[K     |█████████████████████████████▌  | 952 kB 4.8 MB/s eta 0:00:01\r\u001b[K     |█████████████████████████████▉  | 962 kB 4.8 MB/s eta 0:00:01\r\u001b[K     |██████████████████████████████▏ | 972 kB 4.8 MB/s eta 0:00:01\r\u001b[K     |██████████████████████████████▌ | 983 kB 4.8 MB/s eta 0:00:01\r\u001b[K     |██████████████████████████████▉ | 993 kB 4.8 MB/s eta 0:00:01\r\u001b[K     |███████████████████████████████▏| 1.0 MB 4.8 MB/s eta 0:00:01\r\u001b[K     |███████████████████████████████▌| 1.0 MB 4.8 MB/s eta 0:00:01\r\u001b[K     |███████████████████████████████▊| 1.0 MB 4.8 MB/s eta 0:00:01\r\u001b[K     |████████████████████████████████| 1.0 MB 4.8 MB/s \n",
            "\u001b[?25hRequirement already satisfied: pandas>=0.25.0 in /usr/local/lib/python3.7/dist-packages (from geopandas) (1.1.5)\n",
            "Requirement already satisfied: shapely>=1.6 in /usr/local/lib/python3.7/dist-packages (from geopandas) (1.8.0)\n",
            "Collecting pyproj>=2.2.0\n",
            "  Downloading pyproj-3.2.1-cp37-cp37m-manylinux2010_x86_64.whl (6.3 MB)\n",
            "\u001b[K     |████████████████████████████████| 6.3 MB 56.7 MB/s \n",
            "\u001b[?25hCollecting fiona>=1.8\n",
            "  Downloading Fiona-1.8.20-cp37-cp37m-manylinux1_x86_64.whl (15.4 MB)\n",
            "\u001b[K     |████████████████████████████████| 15.4 MB 52.8 MB/s \n",
            "\u001b[?25hCollecting click-plugins>=1.0\n",
            "  Downloading click_plugins-1.1.1-py2.py3-none-any.whl (7.5 kB)\n",
            "Requirement already satisfied: attrs>=17 in /usr/local/lib/python3.7/dist-packages (from fiona>=1.8->geopandas) (21.2.0)\n",
            "Requirement already satisfied: setuptools in /usr/local/lib/python3.7/dist-packages (from fiona>=1.8->geopandas) (57.4.0)\n",
            "Requirement already satisfied: six>=1.7 in /usr/local/lib/python3.7/dist-packages (from fiona>=1.8->geopandas) (1.15.0)\n",
            "Collecting cligj>=0.5\n",
            "  Downloading cligj-0.7.2-py3-none-any.whl (7.1 kB)\n",
            "Requirement already satisfied: click>=4.0 in /usr/local/lib/python3.7/dist-packages (from fiona>=1.8->geopandas) (7.1.2)\n",
            "Collecting munch\n",
            "  Downloading munch-2.5.0-py2.py3-none-any.whl (10 kB)\n",
            "Requirement already satisfied: certifi in /usr/local/lib/python3.7/dist-packages (from fiona>=1.8->geopandas) (2021.10.8)\n",
            "Requirement already satisfied: pytz>=2017.2 in /usr/local/lib/python3.7/dist-packages (from pandas>=0.25.0->geopandas) (2018.9)\n",
            "Requirement already satisfied: numpy>=1.15.4 in /usr/local/lib/python3.7/dist-packages (from pandas>=0.25.0->geopandas) (1.19.5)\n",
            "Requirement already satisfied: python-dateutil>=2.7.3 in /usr/local/lib/python3.7/dist-packages (from pandas>=0.25.0->geopandas) (2.8.2)\n",
            "Installing collected packages: munch, cligj, click-plugins, pyproj, fiona, geopandas\n",
            "Successfully installed click-plugins-1.1.1 cligj-0.7.2 fiona-1.8.20 geopandas-0.10.2 munch-2.5.0 pyproj-3.2.1\n"
          ]
        }
      ]
    },
    {
      "cell_type": "code",
      "metadata": {
        "colab": {
          "base_uri": "https://localhost:8080/",
          "height": 238
        },
        "id": "IZ_0hLOfXYrt",
        "outputId": "c11c8344-545d-4ba2-ba78-066375257f45"
      },
      "source": [
        "df_puntos=pd.read_csv('Datafull.csv', encoding = 'utf-8')\n",
        "df_puntos['BARRIO'] = df_puntos['BARRIO'].apply(lambda x : x.lower().replace(\" \",\"\"))\n",
        "df_puntos=df_puntos[['BARRIO','LONGITUD','ALTITUD']]\n",
        "Barrios=df_puntos['BARRIO'].unique()\n",
        "len(Barrios)\n",
        "Puntos_estrategicos=pd.DataFrame()\n",
        "for i in Barrios:\n",
        "  df_eliminados=df_puntos.loc[df_puntos[\"BARRIO\"]==i]\n",
        "  df_eliminados=df_eliminados.reset_index()\n",
        "  Puntos_estrategicos=Puntos_estrategicos.append(df_eliminados.iloc[[0]])\n",
        "Puntos_estrategicos=Puntos_estrategicos.sort_values('BARRIO')\n",
        "Puntos_estrategicos=Puntos_estrategicos.set_index(\"BARRIO\")\n",
        "Puntos_estrategicos[\"cluster\"]=df_agrupa[\"cluster\"]\n",
        "Puntos_estrategicos.head()"
      ],
      "id": "IZ_0hLOfXYrt",
      "execution_count": 141,
      "outputs": [
        {
          "output_type": "execute_result",
          "data": {
            "text/html": [
              "<div>\n",
              "<style scoped>\n",
              "    .dataframe tbody tr th:only-of-type {\n",
              "        vertical-align: middle;\n",
              "    }\n",
              "\n",
              "    .dataframe tbody tr th {\n",
              "        vertical-align: top;\n",
              "    }\n",
              "\n",
              "    .dataframe thead th {\n",
              "        text-align: right;\n",
              "    }\n",
              "</style>\n",
              "<table border=\"1\" class=\"dataframe\">\n",
              "  <thead>\n",
              "    <tr style=\"text-align: right;\">\n",
              "      <th></th>\n",
              "      <th>index</th>\n",
              "      <th>LONGITUD</th>\n",
              "      <th>ALTITUD</th>\n",
              "      <th>cluster</th>\n",
              "    </tr>\n",
              "    <tr>\n",
              "      <th>BARRIO</th>\n",
              "      <th></th>\n",
              "      <th></th>\n",
              "      <th></th>\n",
              "      <th></th>\n",
              "    </tr>\n",
              "  </thead>\n",
              "  <tbody>\n",
              "    <tr>\n",
              "      <th>aguasfrias</th>\n",
              "      <td>695</td>\n",
              "      <td>-75.624391</td>\n",
              "      <td>6.234261</td>\n",
              "      <td>1</td>\n",
              "    </tr>\n",
              "    <tr>\n",
              "      <th>aldeapablovi</th>\n",
              "      <td>7560</td>\n",
              "      <td>-75.543050</td>\n",
              "      <td>6.289770</td>\n",
              "      <td>1</td>\n",
              "    </tr>\n",
              "    <tr>\n",
              "      <th>alejandroechavarría</th>\n",
              "      <td>200</td>\n",
              "      <td>-75.544215</td>\n",
              "      <td>6.236333</td>\n",
              "      <td>0</td>\n",
              "    </tr>\n",
              "    <tr>\n",
              "      <th>alejandría</th>\n",
              "      <td>852</td>\n",
              "      <td>-75.571617</td>\n",
              "      <td>6.203436</td>\n",
              "      <td>1</td>\n",
              "    </tr>\n",
              "    <tr>\n",
              "      <th>alfonsolópez</th>\n",
              "      <td>711</td>\n",
              "      <td>-75.572187</td>\n",
              "      <td>6.282311</td>\n",
              "      <td>0</td>\n",
              "    </tr>\n",
              "  </tbody>\n",
              "</table>\n",
              "</div>"
            ],
            "text/plain": [
              "                     index   LONGITUD   ALTITUD  cluster\n",
              "BARRIO                                                  \n",
              "aguasfrias             695 -75.624391  6.234261        1\n",
              "aldeapablovi          7560 -75.543050  6.289770        1\n",
              "alejandroechavarría    200 -75.544215  6.236333        0\n",
              "alejandría             852 -75.571617  6.203436        1\n",
              "alfonsolópez           711 -75.572187  6.282311        0"
            ]
          },
          "metadata": {},
          "execution_count": 141
        }
      ]
    },
    {
      "cell_type": "code",
      "metadata": {
        "colab": {
          "base_uri": "https://localhost:8080/",
          "height": 739
        },
        "id": "K6XM3z02wl51",
        "outputId": "41a0ed78-4953-4c10-8b46-68a4a7e7460e"
      },
      "source": [
        "df_puntos1=pd.read_csv('Datafull.csv', encoding = 'utf-8')\n",
        "df_puntos1=df_puntos1[['NUMCOMUNA','LONGITUD','ALTITUD']]\n",
        "Barrios=df_puntos1['NUMCOMUNA'].unique()\n",
        "len(Barrios)\n",
        "Puntos_estrategicos1=pd.DataFrame()\n",
        "for i in Barrios:\n",
        "  df_eliminados=df_puntos1.loc[df_puntos1[\"NUMCOMUNA\"]==i]\n",
        "  df_eliminados=df_eliminados.reset_index()\n",
        "  Puntos_estrategicos1=Puntos_estrategicos1.append(df_eliminados.iloc[[0]])\n",
        "Puntos_estrategicos1"
      ],
      "id": "K6XM3z02wl51",
      "execution_count": 142,
      "outputs": [
        {
          "output_type": "execute_result",
          "data": {
            "text/html": [
              "<div>\n",
              "<style scoped>\n",
              "    .dataframe tbody tr th:only-of-type {\n",
              "        vertical-align: middle;\n",
              "    }\n",
              "\n",
              "    .dataframe tbody tr th {\n",
              "        vertical-align: top;\n",
              "    }\n",
              "\n",
              "    .dataframe thead th {\n",
              "        text-align: right;\n",
              "    }\n",
              "</style>\n",
              "<table border=\"1\" class=\"dataframe\">\n",
              "  <thead>\n",
              "    <tr style=\"text-align: right;\">\n",
              "      <th></th>\n",
              "      <th>index</th>\n",
              "      <th>NUMCOMUNA</th>\n",
              "      <th>LONGITUD</th>\n",
              "      <th>ALTITUD</th>\n",
              "    </tr>\n",
              "  </thead>\n",
              "  <tbody>\n",
              "    <tr>\n",
              "      <th>0</th>\n",
              "      <td>0</td>\n",
              "      <td>11</td>\n",
              "      <td>-75.589313</td>\n",
              "      <td>6.239787</td>\n",
              "    </tr>\n",
              "    <tr>\n",
              "      <th>0</th>\n",
              "      <td>1</td>\n",
              "      <td>5</td>\n",
              "      <td>-75.570818</td>\n",
              "      <td>6.300041</td>\n",
              "    </tr>\n",
              "    <tr>\n",
              "      <th>0</th>\n",
              "      <td>2</td>\n",
              "      <td>14</td>\n",
              "      <td>-75.576574</td>\n",
              "      <td>6.208748</td>\n",
              "    </tr>\n",
              "    <tr>\n",
              "      <th>0</th>\n",
              "      <td>3</td>\n",
              "      <td>8</td>\n",
              "      <td>-75.551255</td>\n",
              "      <td>6.259058</td>\n",
              "    </tr>\n",
              "    <tr>\n",
              "      <th>0</th>\n",
              "      <td>4</td>\n",
              "      <td>10</td>\n",
              "      <td>-75.556150</td>\n",
              "      <td>6.249966</td>\n",
              "    </tr>\n",
              "    <tr>\n",
              "      <th>0</th>\n",
              "      <td>5</td>\n",
              "      <td>4</td>\n",
              "      <td>-75.555396</td>\n",
              "      <td>6.265270</td>\n",
              "    </tr>\n",
              "    <tr>\n",
              "      <th>0</th>\n",
              "      <td>7</td>\n",
              "      <td>3</td>\n",
              "      <td>-75.546693</td>\n",
              "      <td>6.279853</td>\n",
              "    </tr>\n",
              "    <tr>\n",
              "      <th>0</th>\n",
              "      <td>8</td>\n",
              "      <td>13</td>\n",
              "      <td>-75.617174</td>\n",
              "      <td>6.259676</td>\n",
              "    </tr>\n",
              "    <tr>\n",
              "      <th>0</th>\n",
              "      <td>10</td>\n",
              "      <td>16</td>\n",
              "      <td>-75.576531</td>\n",
              "      <td>6.231611</td>\n",
              "    </tr>\n",
              "    <tr>\n",
              "      <th>0</th>\n",
              "      <td>12</td>\n",
              "      <td>9</td>\n",
              "      <td>-75.566104</td>\n",
              "      <td>6.220597</td>\n",
              "    </tr>\n",
              "    <tr>\n",
              "      <th>0</th>\n",
              "      <td>14</td>\n",
              "      <td>15</td>\n",
              "      <td>-75.580015</td>\n",
              "      <td>6.214186</td>\n",
              "    </tr>\n",
              "    <tr>\n",
              "      <th>0</th>\n",
              "      <td>16</td>\n",
              "      <td>6</td>\n",
              "      <td>-75.581991</td>\n",
              "      <td>6.305537</td>\n",
              "    </tr>\n",
              "    <tr>\n",
              "      <th>0</th>\n",
              "      <td>23</td>\n",
              "      <td>7</td>\n",
              "      <td>-75.586853</td>\n",
              "      <td>6.283976</td>\n",
              "    </tr>\n",
              "    <tr>\n",
              "      <th>0</th>\n",
              "      <td>50</td>\n",
              "      <td>80</td>\n",
              "      <td>-75.643208</td>\n",
              "      <td>6.174455</td>\n",
              "    </tr>\n",
              "    <tr>\n",
              "      <th>0</th>\n",
              "      <td>80</td>\n",
              "      <td>1</td>\n",
              "      <td>-75.546027</td>\n",
              "      <td>6.292723</td>\n",
              "    </tr>\n",
              "    <tr>\n",
              "      <th>0</th>\n",
              "      <td>85</td>\n",
              "      <td>12</td>\n",
              "      <td>-75.597541</td>\n",
              "      <td>6.263650</td>\n",
              "    </tr>\n",
              "    <tr>\n",
              "      <th>0</th>\n",
              "      <td>104</td>\n",
              "      <td>90</td>\n",
              "      <td>-75.527611</td>\n",
              "      <td>6.201708</td>\n",
              "    </tr>\n",
              "    <tr>\n",
              "      <th>0</th>\n",
              "      <td>174</td>\n",
              "      <td>60</td>\n",
              "      <td>-75.607954</td>\n",
              "      <td>6.273486</td>\n",
              "    </tr>\n",
              "    <tr>\n",
              "      <th>0</th>\n",
              "      <td>191</td>\n",
              "      <td>2</td>\n",
              "      <td>-75.560712</td>\n",
              "      <td>6.292678</td>\n",
              "    </tr>\n",
              "    <tr>\n",
              "      <th>0</th>\n",
              "      <td>401</td>\n",
              "      <td>99</td>\n",
              "      <td>-75.576753</td>\n",
              "      <td>6.242401</td>\n",
              "    </tr>\n",
              "    <tr>\n",
              "      <th>0</th>\n",
              "      <td>695</td>\n",
              "      <td>70</td>\n",
              "      <td>-75.624391</td>\n",
              "      <td>6.234261</td>\n",
              "    </tr>\n",
              "    <tr>\n",
              "      <th>0</th>\n",
              "      <td>11097</td>\n",
              "      <td>50</td>\n",
              "      <td>-75.690116</td>\n",
              "      <td>6.342499</td>\n",
              "    </tr>\n",
              "  </tbody>\n",
              "</table>\n",
              "</div>"
            ],
            "text/plain": [
              "   index  NUMCOMUNA   LONGITUD   ALTITUD\n",
              "0      0         11 -75.589313  6.239787\n",
              "0      1          5 -75.570818  6.300041\n",
              "0      2         14 -75.576574  6.208748\n",
              "0      3          8 -75.551255  6.259058\n",
              "0      4         10 -75.556150  6.249966\n",
              "0      5          4 -75.555396  6.265270\n",
              "0      7          3 -75.546693  6.279853\n",
              "0      8         13 -75.617174  6.259676\n",
              "0     10         16 -75.576531  6.231611\n",
              "0     12          9 -75.566104  6.220597\n",
              "0     14         15 -75.580015  6.214186\n",
              "0     16          6 -75.581991  6.305537\n",
              "0     23          7 -75.586853  6.283976\n",
              "0     50         80 -75.643208  6.174455\n",
              "0     80          1 -75.546027  6.292723\n",
              "0     85         12 -75.597541  6.263650\n",
              "0    104         90 -75.527611  6.201708\n",
              "0    174         60 -75.607954  6.273486\n",
              "0    191          2 -75.560712  6.292678\n",
              "0    401         99 -75.576753  6.242401\n",
              "0    695         70 -75.624391  6.234261\n",
              "0  11097         50 -75.690116  6.342499"
            ]
          },
          "metadata": {},
          "execution_count": 142
        }
      ]
    },
    {
      "cell_type": "code",
      "metadata": {
        "colab": {
          "base_uri": "https://localhost:8080/",
          "height": 455
        },
        "id": "0-WaFkHkoX2y",
        "outputId": "01f8dfe1-36f3-4f72-b0b0-e96a335df698"
      },
      "source": [
        "import geopandas as gpd\n",
        "from geopandas import GeoDataFrame\n",
        "from shapely.geometry import Point\n",
        "geometry = [Point(xy) for xy in zip(Puntos_estrategicos[\"LONGITUD\"], Puntos_estrategicos[\"ALTITUD\"])]\n",
        "df_mapa = Puntos_estrategicos.drop(['LONGITUD', 'ALTITUD'], axis=1)\n",
        "df_mapa['CLUSTER']=Puntos_estrategicos['cluster']\n",
        "#df_mapa['BARRIO']=Puntos_estrategicos['BARRIO']\n",
        "gdf = GeoDataFrame(df_mapa, crs=\"EPSG:4326\", geometry=geometry)\n",
        "gdf"
      ],
      "id": "0-WaFkHkoX2y",
      "execution_count": 114,
      "outputs": [
        {
          "output_type": "execute_result",
          "data": {
            "text/html": [
              "<div>\n",
              "<style scoped>\n",
              "    .dataframe tbody tr th:only-of-type {\n",
              "        vertical-align: middle;\n",
              "    }\n",
              "\n",
              "    .dataframe tbody tr th {\n",
              "        vertical-align: top;\n",
              "    }\n",
              "\n",
              "    .dataframe thead th {\n",
              "        text-align: right;\n",
              "    }\n",
              "</style>\n",
              "<table border=\"1\" class=\"dataframe\">\n",
              "  <thead>\n",
              "    <tr style=\"text-align: right;\">\n",
              "      <th></th>\n",
              "      <th>index</th>\n",
              "      <th>cluster</th>\n",
              "      <th>CLUSTER</th>\n",
              "      <th>geometry</th>\n",
              "    </tr>\n",
              "    <tr>\n",
              "      <th>BARRIO</th>\n",
              "      <th></th>\n",
              "      <th></th>\n",
              "      <th></th>\n",
              "      <th></th>\n",
              "    </tr>\n",
              "  </thead>\n",
              "  <tbody>\n",
              "    <tr>\n",
              "      <th>aguasfrias</th>\n",
              "      <td>695</td>\n",
              "      <td>1</td>\n",
              "      <td>1</td>\n",
              "      <td>POINT (-75.62439 6.23426)</td>\n",
              "    </tr>\n",
              "    <tr>\n",
              "      <th>aldeapablovi</th>\n",
              "      <td>7560</td>\n",
              "      <td>1</td>\n",
              "      <td>1</td>\n",
              "      <td>POINT (-75.54305 6.28977)</td>\n",
              "    </tr>\n",
              "    <tr>\n",
              "      <th>alejandroechavarría</th>\n",
              "      <td>200</td>\n",
              "      <td>0</td>\n",
              "      <td>0</td>\n",
              "      <td>POINT (-75.54422 6.23633)</td>\n",
              "    </tr>\n",
              "    <tr>\n",
              "      <th>alejandría</th>\n",
              "      <td>852</td>\n",
              "      <td>1</td>\n",
              "      <td>1</td>\n",
              "      <td>POINT (-75.57162 6.20344)</td>\n",
              "    </tr>\n",
              "    <tr>\n",
              "      <th>alfonsolópez</th>\n",
              "      <td>711</td>\n",
              "      <td>0</td>\n",
              "      <td>0</td>\n",
              "      <td>POINT (-75.57219 6.28231)</td>\n",
              "    </tr>\n",
              "    <tr>\n",
              "      <th>...</th>\n",
              "      <td>...</td>\n",
              "      <td>...</td>\n",
              "      <td>...</td>\n",
              "      <td>...</td>\n",
              "    </tr>\n",
              "    <tr>\n",
              "      <th>yolombo</th>\n",
              "      <td>54394</td>\n",
              "      <td>1</td>\n",
              "      <td>1</td>\n",
              "      <td>POINT (-75.60747 6.29661)</td>\n",
              "    </tr>\n",
              "    <tr>\n",
              "      <th>áreadeexpansiónaltavista</th>\n",
              "      <td>34095</td>\n",
              "      <td>1</td>\n",
              "      <td>1</td>\n",
              "      <td>POINT (-75.61406 6.22046)</td>\n",
              "    </tr>\n",
              "    <tr>\n",
              "      <th>áreadeexpansiónaltosdecalasanz</th>\n",
              "      <td>174</td>\n",
              "      <td>1</td>\n",
              "      <td>1</td>\n",
              "      <td>POINT (-75.60795 6.27349)</td>\n",
              "    </tr>\n",
              "    <tr>\n",
              "      <th>áreadeexpansiónpajarito</th>\n",
              "      <td>838</td>\n",
              "      <td>0</td>\n",
              "      <td>0</td>\n",
              "      <td>POINT (-75.60887 6.28555)</td>\n",
              "    </tr>\n",
              "    <tr>\n",
              "      <th>áreadeexpansiónsanantoniodeprado</th>\n",
              "      <td>6228</td>\n",
              "      <td>1</td>\n",
              "      <td>1</td>\n",
              "      <td>POINT (-75.66102 6.18055)</td>\n",
              "    </tr>\n",
              "  </tbody>\n",
              "</table>\n",
              "<p>329 rows × 4 columns</p>\n",
              "</div>"
            ],
            "text/plain": [
              "                                  index  ...                   geometry\n",
              "BARRIO                                   ...                           \n",
              "aguasfrias                          695  ...  POINT (-75.62439 6.23426)\n",
              "aldeapablovi                       7560  ...  POINT (-75.54305 6.28977)\n",
              "alejandroechavarría                 200  ...  POINT (-75.54422 6.23633)\n",
              "alejandría                          852  ...  POINT (-75.57162 6.20344)\n",
              "alfonsolópez                        711  ...  POINT (-75.57219 6.28231)\n",
              "...                                 ...  ...                        ...\n",
              "yolombo                           54394  ...  POINT (-75.60747 6.29661)\n",
              "áreadeexpansiónaltavista          34095  ...  POINT (-75.61406 6.22046)\n",
              "áreadeexpansiónaltosdecalasanz      174  ...  POINT (-75.60795 6.27349)\n",
              "áreadeexpansiónpajarito             838  ...  POINT (-75.60887 6.28555)\n",
              "áreadeexpansiónsanantoniodeprado   6228  ...  POINT (-75.66102 6.18055)\n",
              "\n",
              "[329 rows x 4 columns]"
            ]
          },
          "metadata": {},
          "execution_count": 114
        }
      ]
    },
    {
      "cell_type": "code",
      "metadata": {
        "colab": {
          "base_uri": "https://localhost:8080/",
          "height": 769
        },
        "id": "4B1mElP5W430",
        "outputId": "b2a46c78-d8b1-4901-edbf-0ff23196d48b"
      },
      "source": [
        "fig, ax = plt.subplots(figsize=(15, 15))\n",
        "df_mapaMedellin.boundary.plot(ax=ax)\n",
        "gdf.plot(column='CLUSTER',ax=ax,cmap='jet')\n",
        "plt.scatter(Puntos_estrategicos1.iloc[:,2], Puntos_estrategicos1.iloc[:,3], c='Yellow', s=200, marker='.')\n",
        "for i in range(len(Puntos_estrategicos1)):\n",
        "  plt.annotate(str(Puntos_estrategicos1.iloc[i,1]),(Puntos_estrategicos1.iloc[i,2],Puntos_estrategicos1.iloc[i,3]),fontsize=20)\n"
      ],
      "id": "4B1mElP5W430",
      "execution_count": 188,
      "outputs": [
        {
          "output_type": "display_data",
          "data": {
            "image/png": "[encoded data removed]",
            "text/plain": [
              "<Figure size 1080x1080 with 1 Axes>"
            ]
          },
          "metadata": {}
        }
      ]
    }
  ]
}