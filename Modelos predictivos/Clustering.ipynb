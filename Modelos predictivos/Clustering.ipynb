{
 "cells": [
  {
   "cell_type": "code",
   "execution_count": 11,
   "id": "1e16f55e",
   "metadata": {},
   "outputs": [],
   "source": [
    "import pandas as pd\n",
    "import numpy as np\n",
    "import matplotlib.pyplot as plt"
   ]
  },
  {
   "cell_type": "code",
   "execution_count": 12,
   "id": "81f233ff",
   "metadata": {},
   "outputs": [],
   "source": [
    "from sklearn import preprocessing\n",
    "import scipy.cluster.hierarchy as sch\n",
    "from scipy.spatial.distance import squareform\n",
    "from sklearn.cluster import KMeans"
   ]
  },
  {
   "cell_type": "code",
   "execution_count": 13,
   "id": "3f75d47f",
   "metadata": {},
   "outputs": [],
   "source": [
    "from scipy.spatial import distance_matrix"
   ]
  },
  {
   "cell_type": "markdown",
   "id": "e359e26b",
   "metadata": {},
   "source": [
    "## Clustering"
   ]
  },
  {
   "cell_type": "code",
   "execution_count": 14,
   "id": "71a5f73d",
   "metadata": {},
   "outputs": [
    {
     "data": {
      "text/html": [
       "<div>\n",
       "<style scoped>\n",
       "    .dataframe tbody tr th:only-of-type {\n",
       "        vertical-align: middle;\n",
       "    }\n",
       "\n",
       "    .dataframe tbody tr th {\n",
       "        vertical-align: top;\n",
       "    }\n",
       "\n",
       "    .dataframe thead th {\n",
       "        text-align: right;\n",
       "    }\n",
       "</style>\n",
       "<table border=\"1\" class=\"dataframe\">\n",
       "  <thead>\n",
       "    <tr style=\"text-align: right;\">\n",
       "      <th></th>\n",
       "      <th>AÑO</th>\n",
       "      <th>CLASE_ACCIDENTE</th>\n",
       "      <th>DISEÑO</th>\n",
       "      <th>FECHA_ACCIDENTE</th>\n",
       "      <th>GRAVEDAD</th>\n",
       "      <th>MES</th>\n",
       "      <th>NUMCOMUNA</th>\n",
       "      <th>BARRIO</th>\n",
       "      <th>HORA</th>\n",
       "      <th>SEMANA</th>\n",
       "      <th>DIA_DEL_AÑO</th>\n",
       "      <th>DIA_DEL_MES</th>\n",
       "      <th>DIA_SEMANA</th>\n",
       "      <th>LONGITUD</th>\n",
       "      <th>ALTITUD</th>\n",
       "      <th>MOMENTO</th>\n",
       "    </tr>\n",
       "  </thead>\n",
       "  <tbody>\n",
       "    <tr>\n",
       "      <th>0</th>\n",
       "      <td>2014</td>\n",
       "      <td>Otro</td>\n",
       "      <td>Tramo de via</td>\n",
       "      <td>2014-08-05</td>\n",
       "      <td>Con heridos</td>\n",
       "      <td>8</td>\n",
       "      <td>11</td>\n",
       "      <td>Los Conquistadores</td>\n",
       "      <td>07:15:00</td>\n",
       "      <td>Semana 32</td>\n",
       "      <td>217</td>\n",
       "      <td>5</td>\n",
       "      <td>Tuesday</td>\n",
       "      <td>-75.589313</td>\n",
       "      <td>6.239787</td>\n",
       "      <td>Mañana</td>\n",
       "    </tr>\n",
       "    <tr>\n",
       "      <th>1</th>\n",
       "      <td>2014</td>\n",
       "      <td>Choque</td>\n",
       "      <td>Interseccion</td>\n",
       "      <td>2014-08-05</td>\n",
       "      <td>Con heridos</td>\n",
       "      <td>8</td>\n",
       "      <td>5</td>\n",
       "      <td>Girardot</td>\n",
       "      <td>14:30:00</td>\n",
       "      <td>Semana 32</td>\n",
       "      <td>217</td>\n",
       "      <td>5</td>\n",
       "      <td>Tuesday</td>\n",
       "      <td>-75.570818</td>\n",
       "      <td>6.300041</td>\n",
       "      <td>Tarde</td>\n",
       "    </tr>\n",
       "    <tr>\n",
       "      <th>2</th>\n",
       "      <td>2014</td>\n",
       "      <td>Choque</td>\n",
       "      <td>Tramo de via</td>\n",
       "      <td>2014-08-05</td>\n",
       "      <td>Con heridos</td>\n",
       "      <td>8</td>\n",
       "      <td>14</td>\n",
       "      <td>Patio Bonito</td>\n",
       "      <td>15:50:00</td>\n",
       "      <td>Semana 32</td>\n",
       "      <td>217</td>\n",
       "      <td>5</td>\n",
       "      <td>Tuesday</td>\n",
       "      <td>-75.576574</td>\n",
       "      <td>6.208748</td>\n",
       "      <td>Tarde</td>\n",
       "    </tr>\n",
       "    <tr>\n",
       "      <th>3</th>\n",
       "      <td>2014</td>\n",
       "      <td>Otro</td>\n",
       "      <td>Tramo de via</td>\n",
       "      <td>2014-08-05</td>\n",
       "      <td>Con heridos</td>\n",
       "      <td>8</td>\n",
       "      <td>8</td>\n",
       "      <td>Villa Hermosa</td>\n",
       "      <td>13:00:00</td>\n",
       "      <td>Semana 32</td>\n",
       "      <td>217</td>\n",
       "      <td>5</td>\n",
       "      <td>Tuesday</td>\n",
       "      <td>-75.551255</td>\n",
       "      <td>6.259058</td>\n",
       "      <td>Tarde</td>\n",
       "    </tr>\n",
       "    <tr>\n",
       "      <th>4</th>\n",
       "      <td>2014</td>\n",
       "      <td>Choque</td>\n",
       "      <td>Tramo de via</td>\n",
       "      <td>2014-08-05</td>\n",
       "      <td>Con heridos</td>\n",
       "      <td>8</td>\n",
       "      <td>10</td>\n",
       "      <td>Los Ángeles</td>\n",
       "      <td>19:30:00</td>\n",
       "      <td>Semana 32</td>\n",
       "      <td>217</td>\n",
       "      <td>5</td>\n",
       "      <td>Tuesday</td>\n",
       "      <td>-75.556150</td>\n",
       "      <td>6.249966</td>\n",
       "      <td>Noche</td>\n",
       "    </tr>\n",
       "  </tbody>\n",
       "</table>\n",
       "</div>"
      ],
      "text/plain": [
       "    AÑO CLASE_ACCIDENTE        DISEÑO FECHA_ACCIDENTE     GRAVEDAD  MES  \\\n",
       "0  2014            Otro  Tramo de via      2014-08-05  Con heridos    8   \n",
       "1  2014          Choque  Interseccion      2014-08-05  Con heridos    8   \n",
       "2  2014          Choque  Tramo de via      2014-08-05  Con heridos    8   \n",
       "3  2014            Otro  Tramo de via      2014-08-05  Con heridos    8   \n",
       "4  2014          Choque  Tramo de via      2014-08-05  Con heridos    8   \n",
       "\n",
       "   NUMCOMUNA              BARRIO      HORA     SEMANA  DIA_DEL_AÑO  \\\n",
       "0         11  Los Conquistadores  07:15:00  Semana 32          217   \n",
       "1          5            Girardot  14:30:00  Semana 32          217   \n",
       "2         14        Patio Bonito  15:50:00  Semana 32          217   \n",
       "3          8       Villa Hermosa  13:00:00  Semana 32          217   \n",
       "4         10         Los Ángeles  19:30:00  Semana 32          217   \n",
       "\n",
       "   DIA_DEL_MES DIA_SEMANA   LONGITUD   ALTITUD MOMENTO  \n",
       "0            5    Tuesday -75.589313  6.239787  Mañana  \n",
       "1            5    Tuesday -75.570818  6.300041   Tarde  \n",
       "2            5    Tuesday -75.576574  6.208748   Tarde  \n",
       "3            5    Tuesday -75.551255  6.259058   Tarde  \n",
       "4            5    Tuesday -75.556150  6.249966   Noche  "
      ]
     },
     "execution_count": 14,
     "metadata": {},
     "output_type": "execute_result"
    }
   ],
   "source": [
    "df = pd.read_csv('Datafull.csv', encoding = 'utf-8')\n",
    "df.head()"
   ]
  },
  {
   "cell_type": "markdown",
   "id": "2385de96",
   "metadata": {},
   "source": [
    "## Clustering por comuna"
   ]
  },
  {
   "cell_type": "code",
   "execution_count": 15,
   "id": "26275844",
   "metadata": {},
   "outputs": [],
   "source": [
    "df = df[['NUMCOMUNA','DIA_DEL_MES','MES','GRAVEDAD']]"
   ]
  },
  {
   "cell_type": "code",
   "execution_count": 16,
   "id": "b6868daa",
   "metadata": {},
   "outputs": [
    {
     "data": {
      "text/plain": [
       "array([11,  5, 14,  8, 10,  4,  3, 13, 16,  9, 15,  6,  7, 80,  1, 12, 90,\n",
       "       60,  2, 99, 70, 50], dtype=int64)"
      ]
     },
     "execution_count": 16,
     "metadata": {},
     "output_type": "execute_result"
    }
   ],
   "source": [
    "df['NUMCOMUNA'].unique()"
   ]
  },
  {
   "cell_type": "code",
   "execution_count": 17,
   "id": "58985fa4",
   "metadata": {},
   "outputs": [],
   "source": [
    "df = df.groupby(['NUMCOMUNA','MES','DIA_DEL_MES'])['GRAVEDAD'].agg(([lambda x : x.count()  ,lambda x: ((x.__eq__('Con heridos')).sum()) , lambda x: ((x.__eq__('Solo daños')).sum()), lambda x: ((x.__eq__('Con muertos')).sum())]))"
   ]
  },
  {
   "cell_type": "code",
   "execution_count": 18,
   "id": "fa4d7741",
   "metadata": {},
   "outputs": [
    {
     "data": {
      "text/html": [
       "<div>\n",
       "<style scoped>\n",
       "    .dataframe tbody tr th:only-of-type {\n",
       "        vertical-align: middle;\n",
       "    }\n",
       "\n",
       "    .dataframe tbody tr th {\n",
       "        vertical-align: top;\n",
       "    }\n",
       "\n",
       "    .dataframe thead th {\n",
       "        text-align: right;\n",
       "    }\n",
       "</style>\n",
       "<table border=\"1\" class=\"dataframe\">\n",
       "  <thead>\n",
       "    <tr style=\"text-align: right;\">\n",
       "      <th></th>\n",
       "      <th>NUMCOMUNA</th>\n",
       "      <th>Accidentes</th>\n",
       "      <th>Heridos</th>\n",
       "      <th>Daños</th>\n",
       "      <th>Muertos</th>\n",
       "    </tr>\n",
       "  </thead>\n",
       "  <tbody>\n",
       "    <tr>\n",
       "      <th>0</th>\n",
       "      <td>1</td>\n",
       "      <td>10.081967</td>\n",
       "      <td>7.549180</td>\n",
       "      <td>2.521858</td>\n",
       "      <td>0.010929</td>\n",
       "    </tr>\n",
       "    <tr>\n",
       "      <th>1</th>\n",
       "      <td>2</td>\n",
       "      <td>9.327869</td>\n",
       "      <td>6.445355</td>\n",
       "      <td>2.868852</td>\n",
       "      <td>0.013661</td>\n",
       "    </tr>\n",
       "    <tr>\n",
       "      <th>2</th>\n",
       "      <td>3</td>\n",
       "      <td>21.038251</td>\n",
       "      <td>15.751366</td>\n",
       "      <td>5.262295</td>\n",
       "      <td>0.024590</td>\n",
       "    </tr>\n",
       "    <tr>\n",
       "      <th>3</th>\n",
       "      <td>4</td>\n",
       "      <td>38.923497</td>\n",
       "      <td>25.147541</td>\n",
       "      <td>13.710383</td>\n",
       "      <td>0.065574</td>\n",
       "    </tr>\n",
       "    <tr>\n",
       "      <th>4</th>\n",
       "      <td>5</td>\n",
       "      <td>67.724044</td>\n",
       "      <td>40.057377</td>\n",
       "      <td>27.551913</td>\n",
       "      <td>0.114754</td>\n",
       "    </tr>\n",
       "  </tbody>\n",
       "</table>\n",
       "</div>"
      ],
      "text/plain": [
       "   NUMCOMUNA  Accidentes    Heridos      Daños   Muertos\n",
       "0          1   10.081967   7.549180   2.521858  0.010929\n",
       "1          2    9.327869   6.445355   2.868852  0.013661\n",
       "2          3   21.038251  15.751366   5.262295  0.024590\n",
       "3          4   38.923497  25.147541  13.710383  0.065574\n",
       "4          5   67.724044  40.057377  27.551913  0.114754"
      ]
     },
     "execution_count": 18,
     "metadata": {},
     "output_type": "execute_result"
    }
   ],
   "source": [
    "df = df.groupby(['NUMCOMUNA']).mean()\n",
    "df.reset_index(inplace = True)\n",
    "df.rename({df.columns[1] :'Accidentes', df.columns[2] : 'Heridos', df.columns[3]: 'Daños', df.columns[4]: 'Muertos'}, axis = 1, inplace = True)\n",
    "df.head()"
   ]
  },
  {
   "cell_type": "code",
   "execution_count": 19,
   "id": "01ed9071",
   "metadata": {},
   "outputs": [],
   "source": [
    "df['NUMCOMUNA'] = df['NUMCOMUNA'].apply(lambda x : str(x))"
   ]
  },
  {
   "cell_type": "code",
   "execution_count": 20,
   "id": "0adb75b8",
   "metadata": {},
   "outputs": [
    {
     "data": {
      "text/html": [
       "<div>\n",
       "<style scoped>\n",
       "    .dataframe tbody tr th:only-of-type {\n",
       "        vertical-align: middle;\n",
       "    }\n",
       "\n",
       "    .dataframe tbody tr th {\n",
       "        vertical-align: top;\n",
       "    }\n",
       "\n",
       "    .dataframe thead th {\n",
       "        text-align: right;\n",
       "    }\n",
       "</style>\n",
       "<table border=\"1\" class=\"dataframe\">\n",
       "  <thead>\n",
       "    <tr style=\"text-align: right;\">\n",
       "      <th></th>\n",
       "      <th>NUMCOMUNA</th>\n",
       "      <th>Accidentes</th>\n",
       "      <th>Heridos</th>\n",
       "      <th>Daños</th>\n",
       "      <th>Muertos</th>\n",
       "    </tr>\n",
       "  </thead>\n",
       "  <tbody>\n",
       "    <tr>\n",
       "      <th>0</th>\n",
       "      <td>1</td>\n",
       "      <td>10.081967</td>\n",
       "      <td>7.549180</td>\n",
       "      <td>2.521858</td>\n",
       "      <td>0.010929</td>\n",
       "    </tr>\n",
       "    <tr>\n",
       "      <th>1</th>\n",
       "      <td>2</td>\n",
       "      <td>9.327869</td>\n",
       "      <td>6.445355</td>\n",
       "      <td>2.868852</td>\n",
       "      <td>0.013661</td>\n",
       "    </tr>\n",
       "    <tr>\n",
       "      <th>2</th>\n",
       "      <td>3</td>\n",
       "      <td>21.038251</td>\n",
       "      <td>15.751366</td>\n",
       "      <td>5.262295</td>\n",
       "      <td>0.024590</td>\n",
       "    </tr>\n",
       "    <tr>\n",
       "      <th>3</th>\n",
       "      <td>4</td>\n",
       "      <td>38.923497</td>\n",
       "      <td>25.147541</td>\n",
       "      <td>13.710383</td>\n",
       "      <td>0.065574</td>\n",
       "    </tr>\n",
       "    <tr>\n",
       "      <th>4</th>\n",
       "      <td>5</td>\n",
       "      <td>67.724044</td>\n",
       "      <td>40.057377</td>\n",
       "      <td>27.551913</td>\n",
       "      <td>0.114754</td>\n",
       "    </tr>\n",
       "  </tbody>\n",
       "</table>\n",
       "</div>"
      ],
      "text/plain": [
       "  NUMCOMUNA  Accidentes    Heridos      Daños   Muertos\n",
       "0         1   10.081967   7.549180   2.521858  0.010929\n",
       "1         2    9.327869   6.445355   2.868852  0.013661\n",
       "2         3   21.038251  15.751366   5.262295  0.024590\n",
       "3         4   38.923497  25.147541  13.710383  0.065574\n",
       "4         5   67.724044  40.057377  27.551913  0.114754"
      ]
     },
     "execution_count": 20,
     "metadata": {},
     "output_type": "execute_result"
    }
   ],
   "source": [
    "df.head()"
   ]
  },
  {
   "cell_type": "markdown",
   "id": "cce6b93f",
   "metadata": {},
   "source": [
    "## Normalización"
   ]
  },
  {
   "cell_type": "markdown",
   "id": "3e052c6f",
   "metadata": {},
   "source": [
    "Se normalizan los datos para que evitar que las dimensiones de las variables afecten el agrupamiento"
   ]
  },
  {
   "cell_type": "code",
   "execution_count": 21,
   "id": "85ce32a0",
   "metadata": {},
   "outputs": [],
   "source": [
    "scala = preprocessing.MinMaxScaler().fit(df[['Accidentes','Heridos','Daños','Muertos']])\n",
    "df[['Accidentes','Heridos','Daños','Muertos']] = preprocessing.MinMaxScaler().fit_transform(df[['Accidentes','Heridos','Daños','Muertos']])\n"
   ]
  },
  {
   "cell_type": "code",
   "execution_count": 22,
   "id": "baa8cb53",
   "metadata": {},
   "outputs": [
    {
     "data": {
      "text/html": [
       "<div>\n",
       "<style scoped>\n",
       "    .dataframe tbody tr th:only-of-type {\n",
       "        vertical-align: middle;\n",
       "    }\n",
       "\n",
       "    .dataframe tbody tr th {\n",
       "        vertical-align: top;\n",
       "    }\n",
       "\n",
       "    .dataframe thead th {\n",
       "        text-align: right;\n",
       "    }\n",
       "</style>\n",
       "<table border=\"1\" class=\"dataframe\">\n",
       "  <thead>\n",
       "    <tr style=\"text-align: right;\">\n",
       "      <th></th>\n",
       "      <th>NUMCOMUNA</th>\n",
       "      <th>Accidentes</th>\n",
       "      <th>Heridos</th>\n",
       "      <th>Daños</th>\n",
       "      <th>Muertos</th>\n",
       "    </tr>\n",
       "  </thead>\n",
       "  <tbody>\n",
       "    <tr>\n",
       "      <th>0</th>\n",
       "      <td>1</td>\n",
       "      <td>0.064590</td>\n",
       "      <td>0.109449</td>\n",
       "      <td>0.027308</td>\n",
       "      <td>0.054054</td>\n",
       "    </tr>\n",
       "    <tr>\n",
       "      <th>1</th>\n",
       "      <td>2</td>\n",
       "      <td>0.059227</td>\n",
       "      <td>0.092135</td>\n",
       "      <td>0.031835</td>\n",
       "      <td>0.067568</td>\n",
       "    </tr>\n",
       "    <tr>\n",
       "      <th>2</th>\n",
       "      <td>3</td>\n",
       "      <td>0.142510</td>\n",
       "      <td>0.238103</td>\n",
       "      <td>0.063059</td>\n",
       "      <td>0.121622</td>\n",
       "    </tr>\n",
       "    <tr>\n",
       "      <th>3</th>\n",
       "      <td>4</td>\n",
       "      <td>0.269708</td>\n",
       "      <td>0.385485</td>\n",
       "      <td>0.173271</td>\n",
       "      <td>0.324324</td>\n",
       "    </tr>\n",
       "    <tr>\n",
       "      <th>4</th>\n",
       "      <td>5</td>\n",
       "      <td>0.474535</td>\n",
       "      <td>0.619351</td>\n",
       "      <td>0.353844</td>\n",
       "      <td>0.567568</td>\n",
       "    </tr>\n",
       "    <tr>\n",
       "      <th>5</th>\n",
       "      <td>6</td>\n",
       "      <td>0.126227</td>\n",
       "      <td>0.217318</td>\n",
       "      <td>0.050548</td>\n",
       "      <td>0.094595</td>\n",
       "    </tr>\n",
       "    <tr>\n",
       "      <th>6</th>\n",
       "      <td>7</td>\n",
       "      <td>0.312496</td>\n",
       "      <td>0.448270</td>\n",
       "      <td>0.199826</td>\n",
       "      <td>0.216216</td>\n",
       "    </tr>\n",
       "    <tr>\n",
       "      <th>7</th>\n",
       "      <td>8</td>\n",
       "      <td>0.122418</td>\n",
       "      <td>0.194175</td>\n",
       "      <td>0.062774</td>\n",
       "      <td>0.108108</td>\n",
       "    </tr>\n",
       "    <tr>\n",
       "      <th>8</th>\n",
       "      <td>9</td>\n",
       "      <td>0.184016</td>\n",
       "      <td>0.249117</td>\n",
       "      <td>0.130035</td>\n",
       "      <td>0.121622</td>\n",
       "    </tr>\n",
       "    <tr>\n",
       "      <th>9</th>\n",
       "      <td>10</td>\n",
       "      <td>1.000000</td>\n",
       "      <td>1.000000</td>\n",
       "      <td>1.000000</td>\n",
       "      <td>1.000000</td>\n",
       "    </tr>\n",
       "  </tbody>\n",
       "</table>\n",
       "</div>"
      ],
      "text/plain": [
       "  NUMCOMUNA  Accidentes   Heridos     Daños   Muertos\n",
       "0         1    0.064590  0.109449  0.027308  0.054054\n",
       "1         2    0.059227  0.092135  0.031835  0.067568\n",
       "2         3    0.142510  0.238103  0.063059  0.121622\n",
       "3         4    0.269708  0.385485  0.173271  0.324324\n",
       "4         5    0.474535  0.619351  0.353844  0.567568\n",
       "5         6    0.126227  0.217318  0.050548  0.094595\n",
       "6         7    0.312496  0.448270  0.199826  0.216216\n",
       "7         8    0.122418  0.194175  0.062774  0.108108\n",
       "8         9    0.184016  0.249117  0.130035  0.121622\n",
       "9        10    1.000000  1.000000  1.000000  1.000000"
      ]
     },
     "execution_count": 22,
     "metadata": {},
     "output_type": "execute_result"
    }
   ],
   "source": [
    "df.head(10)"
   ]
  },
  {
   "cell_type": "markdown",
   "id": "980862d5",
   "metadata": {},
   "source": [
    "### Agrupamiento jerárquico"
   ]
  },
  {
   "cell_type": "code",
   "execution_count": 23,
   "id": "8c3103c1",
   "metadata": {},
   "outputs": [
    {
     "data": {
      "text/html": [
       "<div>\n",
       "<style scoped>\n",
       "    .dataframe tbody tr th:only-of-type {\n",
       "        vertical-align: middle;\n",
       "    }\n",
       "\n",
       "    .dataframe tbody tr th {\n",
       "        vertical-align: top;\n",
       "    }\n",
       "\n",
       "    .dataframe thead th {\n",
       "        text-align: right;\n",
       "    }\n",
       "</style>\n",
       "<table border=\"1\" class=\"dataframe\">\n",
       "  <thead>\n",
       "    <tr style=\"text-align: right;\">\n",
       "      <th></th>\n",
       "      <th>Accidentes</th>\n",
       "      <th>Heridos</th>\n",
       "      <th>Daños</th>\n",
       "      <th>Muertos</th>\n",
       "    </tr>\n",
       "    <tr>\n",
       "      <th>NUMCOMUNA</th>\n",
       "      <th></th>\n",
       "      <th></th>\n",
       "      <th></th>\n",
       "      <th></th>\n",
       "    </tr>\n",
       "  </thead>\n",
       "  <tbody>\n",
       "    <tr>\n",
       "      <th>1</th>\n",
       "      <td>0.064590</td>\n",
       "      <td>0.109449</td>\n",
       "      <td>0.027308</td>\n",
       "      <td>0.054054</td>\n",
       "    </tr>\n",
       "    <tr>\n",
       "      <th>2</th>\n",
       "      <td>0.059227</td>\n",
       "      <td>0.092135</td>\n",
       "      <td>0.031835</td>\n",
       "      <td>0.067568</td>\n",
       "    </tr>\n",
       "    <tr>\n",
       "      <th>3</th>\n",
       "      <td>0.142510</td>\n",
       "      <td>0.238103</td>\n",
       "      <td>0.063059</td>\n",
       "      <td>0.121622</td>\n",
       "    </tr>\n",
       "    <tr>\n",
       "      <th>4</th>\n",
       "      <td>0.269708</td>\n",
       "      <td>0.385485</td>\n",
       "      <td>0.173271</td>\n",
       "      <td>0.324324</td>\n",
       "    </tr>\n",
       "    <tr>\n",
       "      <th>5</th>\n",
       "      <td>0.474535</td>\n",
       "      <td>0.619351</td>\n",
       "      <td>0.353844</td>\n",
       "      <td>0.567568</td>\n",
       "    </tr>\n",
       "  </tbody>\n",
       "</table>\n",
       "</div>"
      ],
      "text/plain": [
       "           Accidentes   Heridos     Daños   Muertos\n",
       "NUMCOMUNA                                          \n",
       "1            0.064590  0.109449  0.027308  0.054054\n",
       "2            0.059227  0.092135  0.031835  0.067568\n",
       "3            0.142510  0.238103  0.063059  0.121622\n",
       "4            0.269708  0.385485  0.173271  0.324324\n",
       "5            0.474535  0.619351  0.353844  0.567568"
      ]
     },
     "execution_count": 23,
     "metadata": {},
     "output_type": "execute_result"
    }
   ],
   "source": [
    "df_agrupa = df.set_index('NUMCOMUNA')\n",
    "df_agrupa.head()"
   ]
  },
  {
   "cell_type": "markdown",
   "id": "57169e26",
   "metadata": {},
   "source": [
    "Se calcula la matriz de distancia."
   ]
  },
  {
   "cell_type": "code",
   "execution_count": 24,
   "id": "d0f168d7",
   "metadata": {},
   "outputs": [],
   "source": [
    "cluster_dist_matrix = distance_matrix(df_agrupa, df_agrupa)"
   ]
  },
  {
   "cell_type": "code",
   "execution_count": 25,
   "id": "c60dac7a",
   "metadata": {},
   "outputs": [],
   "source": [
    "cluster_dist_matrix = squareform(cluster_dist_matrix)\n",
    "hc = sch.linkage(cluster_dist_matrix,method = 'ward')"
   ]
  },
  {
   "cell_type": "code",
   "execution_count": 26,
   "id": "2cf18248",
   "metadata": {},
   "outputs": [
    {
     "data": {
      "image/png": "[encoded data removed]",
      "text/plain": [
       "<Figure size 432x288 with 1 Axes>"
      ]
     },
     "metadata": {
      "needs_background": "light"
     },
     "output_type": "display_data"
    }
   ],
   "source": [
    "dendrogram = sch.dendrogram(hc)"
   ]
  },
  {
   "cell_type": "markdown",
   "id": "88467b22",
   "metadata": {},
   "source": [
    "En el dendrograma anterior existe la tentativa de indicar que la cantidad de cluster mas utiles es 3. se evaluara cual es el numero de cluster que reduce la suma cuadratica de los elementos a su respectivo centroide para verificar dicha hipótesis."
   ]
  },
  {
   "cell_type": "markdown",
   "id": "d17b5fa2",
   "metadata": {},
   "source": [
    "## Método del codo"
   ]
  },
  {
   "cell_type": "code",
   "execution_count": 27,
   "id": "879fe701",
   "metadata": {},
   "outputs": [],
   "source": [
    "distcentroide = []\n",
    "k = range(1,18)\n",
    "for i in k:\n",
    "    \n",
    "    kmeans = KMeans(n_clusters = i, random_state = 653)\n",
    "    kmeans.fit(df_agrupa)\n",
    "    distcentroide.append(kmeans.inertia_)\n"
   ]
  },
  {
   "cell_type": "code",
   "execution_count": 28,
   "id": "621521c8",
   "metadata": {},
   "outputs": [
    {
     "data": {
      "image/png": "[encoded data removed]",
      "text/plain": [
       "<Figure size 432x288 with 1 Axes>"
      ]
     },
     "metadata": {
      "needs_background": "light"
     },
     "output_type": "display_data"
    }
   ],
   "source": [
    "plt.plot(k,distcentroide)\n",
    "plt.xlabel('clusters')\n",
    "plt.ylabel('Dist')\n",
    "plt.show()"
   ]
  },
  {
   "cell_type": "markdown",
   "id": "661f808d",
   "metadata": {},
   "source": [
    "Se observa que hay una flexión en k = 3"
   ]
  },
  {
   "cell_type": "code",
   "execution_count": 29,
   "id": "e48425a2",
   "metadata": {},
   "outputs": [
    {
     "data": {
      "text/plain": [
       "KMeans(n_clusters=3)"
      ]
     },
     "execution_count": 29,
     "metadata": {},
     "output_type": "execute_result"
    }
   ],
   "source": [
    "kmeans1 = KMeans(n_clusters = 3)\n",
    "kmeans1.fit(df_agrupa)"
   ]
  },
  {
   "cell_type": "code",
   "execution_count": 30,
   "id": "ea1bf588",
   "metadata": {},
   "outputs": [],
   "source": [
    "df_agrupa['cluster'] = kmeans1.labels_"
   ]
  },
  {
   "cell_type": "code",
   "execution_count": 31,
   "id": "96a7d5fb",
   "metadata": {},
   "outputs": [],
   "source": [
    "df = df_agrupa.reset_index()"
   ]
  },
  {
   "cell_type": "code",
   "execution_count": 32,
   "id": "3cf8d262",
   "metadata": {},
   "outputs": [
    {
     "data": {
      "text/html": [
       "<div>\n",
       "<style scoped>\n",
       "    .dataframe tbody tr th:only-of-type {\n",
       "        vertical-align: middle;\n",
       "    }\n",
       "\n",
       "    .dataframe tbody tr th {\n",
       "        vertical-align: top;\n",
       "    }\n",
       "\n",
       "    .dataframe thead th {\n",
       "        text-align: right;\n",
       "    }\n",
       "</style>\n",
       "<table border=\"1\" class=\"dataframe\">\n",
       "  <thead>\n",
       "    <tr style=\"text-align: right;\">\n",
       "      <th></th>\n",
       "      <th>NUMCOMUNA</th>\n",
       "      <th>Accidentes</th>\n",
       "      <th>Heridos</th>\n",
       "      <th>Daños</th>\n",
       "      <th>Muertos</th>\n",
       "      <th>cluster</th>\n",
       "    </tr>\n",
       "  </thead>\n",
       "  <tbody>\n",
       "    <tr>\n",
       "      <th>0</th>\n",
       "      <td>1</td>\n",
       "      <td>0.064590</td>\n",
       "      <td>0.109449</td>\n",
       "      <td>0.027308</td>\n",
       "      <td>0.054054</td>\n",
       "      <td>0</td>\n",
       "    </tr>\n",
       "    <tr>\n",
       "      <th>1</th>\n",
       "      <td>2</td>\n",
       "      <td>0.059227</td>\n",
       "      <td>0.092135</td>\n",
       "      <td>0.031835</td>\n",
       "      <td>0.067568</td>\n",
       "      <td>0</td>\n",
       "    </tr>\n",
       "    <tr>\n",
       "      <th>2</th>\n",
       "      <td>3</td>\n",
       "      <td>0.142510</td>\n",
       "      <td>0.238103</td>\n",
       "      <td>0.063059</td>\n",
       "      <td>0.121622</td>\n",
       "      <td>0</td>\n",
       "    </tr>\n",
       "    <tr>\n",
       "      <th>3</th>\n",
       "      <td>4</td>\n",
       "      <td>0.269708</td>\n",
       "      <td>0.385485</td>\n",
       "      <td>0.173271</td>\n",
       "      <td>0.324324</td>\n",
       "      <td>2</td>\n",
       "    </tr>\n",
       "    <tr>\n",
       "      <th>4</th>\n",
       "      <td>5</td>\n",
       "      <td>0.474535</td>\n",
       "      <td>0.619351</td>\n",
       "      <td>0.353844</td>\n",
       "      <td>0.567568</td>\n",
       "      <td>2</td>\n",
       "    </tr>\n",
       "    <tr>\n",
       "      <th>5</th>\n",
       "      <td>6</td>\n",
       "      <td>0.126227</td>\n",
       "      <td>0.217318</td>\n",
       "      <td>0.050548</td>\n",
       "      <td>0.094595</td>\n",
       "      <td>0</td>\n",
       "    </tr>\n",
       "    <tr>\n",
       "      <th>6</th>\n",
       "      <td>7</td>\n",
       "      <td>0.312496</td>\n",
       "      <td>0.448270</td>\n",
       "      <td>0.199826</td>\n",
       "      <td>0.216216</td>\n",
       "      <td>2</td>\n",
       "    </tr>\n",
       "    <tr>\n",
       "      <th>7</th>\n",
       "      <td>8</td>\n",
       "      <td>0.122418</td>\n",
       "      <td>0.194175</td>\n",
       "      <td>0.062774</td>\n",
       "      <td>0.108108</td>\n",
       "      <td>0</td>\n",
       "    </tr>\n",
       "    <tr>\n",
       "      <th>8</th>\n",
       "      <td>9</td>\n",
       "      <td>0.184016</td>\n",
       "      <td>0.249117</td>\n",
       "      <td>0.130035</td>\n",
       "      <td>0.121622</td>\n",
       "      <td>0</td>\n",
       "    </tr>\n",
       "    <tr>\n",
       "      <th>9</th>\n",
       "      <td>10</td>\n",
       "      <td>1.000000</td>\n",
       "      <td>1.000000</td>\n",
       "      <td>1.000000</td>\n",
       "      <td>1.000000</td>\n",
       "      <td>1</td>\n",
       "    </tr>\n",
       "  </tbody>\n",
       "</table>\n",
       "</div>"
      ],
      "text/plain": [
       "  NUMCOMUNA  Accidentes   Heridos     Daños   Muertos  cluster\n",
       "0         1    0.064590  0.109449  0.027308  0.054054        0\n",
       "1         2    0.059227  0.092135  0.031835  0.067568        0\n",
       "2         3    0.142510  0.238103  0.063059  0.121622        0\n",
       "3         4    0.269708  0.385485  0.173271  0.324324        2\n",
       "4         5    0.474535  0.619351  0.353844  0.567568        2\n",
       "5         6    0.126227  0.217318  0.050548  0.094595        0\n",
       "6         7    0.312496  0.448270  0.199826  0.216216        2\n",
       "7         8    0.122418  0.194175  0.062774  0.108108        0\n",
       "8         9    0.184016  0.249117  0.130035  0.121622        0\n",
       "9        10    1.000000  1.000000  1.000000  1.000000        1"
      ]
     },
     "execution_count": 32,
     "metadata": {},
     "output_type": "execute_result"
    }
   ],
   "source": [
    "df.head(10)"
   ]
  },
  {
   "cell_type": "markdown",
   "id": "71d75395",
   "metadata": {},
   "source": [
    "Se vuelve a la escala original."
   ]
  },
  {
   "cell_type": "code",
   "execution_count": 33,
   "id": "9d1ade5b",
   "metadata": {},
   "outputs": [],
   "source": [
    "df[['Accidentes','Heridos','Daños','Muertos']] = scala.inverse_transform(df[['Accidentes','Heridos','Daños','Muertos']])"
   ]
  },
  {
   "cell_type": "code",
   "execution_count": 35,
   "id": "1bd7e997",
   "metadata": {},
   "outputs": [
    {
     "data": {
      "text/html": [
       "<div>\n",
       "<style scoped>\n",
       "    .dataframe tbody tr th:only-of-type {\n",
       "        vertical-align: middle;\n",
       "    }\n",
       "\n",
       "    .dataframe tbody tr th {\n",
       "        vertical-align: top;\n",
       "    }\n",
       "\n",
       "    .dataframe thead th {\n",
       "        text-align: right;\n",
       "    }\n",
       "</style>\n",
       "<table border=\"1\" class=\"dataframe\">\n",
       "  <thead>\n",
       "    <tr style=\"text-align: right;\">\n",
       "      <th></th>\n",
       "      <th>NUMCOMUNA</th>\n",
       "      <th>Accidentes</th>\n",
       "      <th>Heridos</th>\n",
       "      <th>Daños</th>\n",
       "      <th>Muertos</th>\n",
       "      <th>cluster</th>\n",
       "    </tr>\n",
       "  </thead>\n",
       "  <tbody>\n",
       "    <tr>\n",
       "      <th>0</th>\n",
       "      <td>1</td>\n",
       "      <td>10.081967</td>\n",
       "      <td>7.549180</td>\n",
       "      <td>2.521858</td>\n",
       "      <td>0.010929</td>\n",
       "      <td>0</td>\n",
       "    </tr>\n",
       "    <tr>\n",
       "      <th>1</th>\n",
       "      <td>2</td>\n",
       "      <td>9.327869</td>\n",
       "      <td>6.445355</td>\n",
       "      <td>2.868852</td>\n",
       "      <td>0.013661</td>\n",
       "      <td>0</td>\n",
       "    </tr>\n",
       "    <tr>\n",
       "      <th>2</th>\n",
       "      <td>3</td>\n",
       "      <td>21.038251</td>\n",
       "      <td>15.751366</td>\n",
       "      <td>5.262295</td>\n",
       "      <td>0.024590</td>\n",
       "      <td>0</td>\n",
       "    </tr>\n",
       "    <tr>\n",
       "      <th>3</th>\n",
       "      <td>4</td>\n",
       "      <td>38.923497</td>\n",
       "      <td>25.147541</td>\n",
       "      <td>13.710383</td>\n",
       "      <td>0.065574</td>\n",
       "      <td>2</td>\n",
       "    </tr>\n",
       "    <tr>\n",
       "      <th>4</th>\n",
       "      <td>5</td>\n",
       "      <td>67.724044</td>\n",
       "      <td>40.057377</td>\n",
       "      <td>27.551913</td>\n",
       "      <td>0.114754</td>\n",
       "      <td>2</td>\n",
       "    </tr>\n",
       "  </tbody>\n",
       "</table>\n",
       "</div>"
      ],
      "text/plain": [
       "  NUMCOMUNA  Accidentes    Heridos      Daños   Muertos  cluster\n",
       "0         1   10.081967   7.549180   2.521858  0.010929        0\n",
       "1         2    9.327869   6.445355   2.868852  0.013661        0\n",
       "2         3   21.038251  15.751366   5.262295  0.024590        0\n",
       "3         4   38.923497  25.147541  13.710383  0.065574        2\n",
       "4         5   67.724044  40.057377  27.551913  0.114754        2"
      ]
     },
     "execution_count": 35,
     "metadata": {},
     "output_type": "execute_result"
    }
   ],
   "source": [
    "df.head()"
   ]
  },
  {
   "cell_type": "markdown",
   "id": "0cec02b9",
   "metadata": {},
   "source": [
    "## Descripción de los cluster"
   ]
  },
  {
   "cell_type": "code",
   "execution_count": 34,
   "id": "831420bc",
   "metadata": {},
   "outputs": [
    {
     "data": {
      "text/html": [
       "<div>\n",
       "<style scoped>\n",
       "    .dataframe tbody tr th:only-of-type {\n",
       "        vertical-align: middle;\n",
       "    }\n",
       "\n",
       "    .dataframe tbody tr th {\n",
       "        vertical-align: top;\n",
       "    }\n",
       "\n",
       "    .dataframe thead th {\n",
       "        text-align: right;\n",
       "    }\n",
       "</style>\n",
       "<table border=\"1\" class=\"dataframe\">\n",
       "  <thead>\n",
       "    <tr style=\"text-align: right;\">\n",
       "      <th></th>\n",
       "      <th>Accidentes</th>\n",
       "      <th>Heridos</th>\n",
       "      <th>Daños</th>\n",
       "      <th>Muertos</th>\n",
       "    </tr>\n",
       "    <tr>\n",
       "      <th>cluster</th>\n",
       "      <th></th>\n",
       "      <th></th>\n",
       "      <th></th>\n",
       "      <th></th>\n",
       "    </tr>\n",
       "  </thead>\n",
       "  <tbody>\n",
       "    <tr>\n",
       "      <th>0</th>\n",
       "      <td>11.559746</td>\n",
       "      <td>7.815425</td>\n",
       "      <td>3.729543</td>\n",
       "      <td>0.014778</td>\n",
       "    </tr>\n",
       "    <tr>\n",
       "      <th>1</th>\n",
       "      <td>141.609290</td>\n",
       "      <td>64.325137</td>\n",
       "      <td>77.081967</td>\n",
       "      <td>0.202186</td>\n",
       "    </tr>\n",
       "    <tr>\n",
       "      <th>2</th>\n",
       "      <td>54.249415</td>\n",
       "      <td>28.854801</td>\n",
       "      <td>25.327088</td>\n",
       "      <td>0.067525</td>\n",
       "    </tr>\n",
       "  </tbody>\n",
       "</table>\n",
       "</div>"
      ],
      "text/plain": [
       "         Accidentes    Heridos      Daños   Muertos\n",
       "cluster                                            \n",
       "0         11.559746   7.815425   3.729543  0.014778\n",
       "1        141.609290  64.325137  77.081967  0.202186\n",
       "2         54.249415  28.854801  25.327088  0.067525"
      ]
     },
     "execution_count": 34,
     "metadata": {},
     "output_type": "execute_result"
    }
   ],
   "source": [
    "df.groupby(['cluster']).mean()"
   ]
  },
  {
   "cell_type": "markdown",
   "id": "52be7898",
   "metadata": {},
   "source": [
    "1 : Alto riesgo de accidentes y peligro. Peligro alto\n",
    "2 : Peligro moderado. Peligro Medio\n",
    "0 : Peligro bajo de accidentes. Peligro bajo\n",
    "    "
   ]
  },
  {
   "cell_type": "code",
   "execution_count": 30,
   "id": "2a1ff002",
   "metadata": {},
   "outputs": [],
   "source": [
    "df.to_csv('cluster.csv', encoding = 'utf-8', index = False)"
   ]
  },
  {
   "cell_type": "markdown",
   "id": "4db0fbcb",
   "metadata": {},
   "source": [
    "## Clustering por Barrio"
   ]
  },
  {
   "cell_type": "code",
   "execution_count": 36,
   "id": "ac35fad9",
   "metadata": {},
   "outputs": [],
   "source": [
    "df2 = pd.read_csv('Datafull.csv', encoding = 'utf-8')"
   ]
  },
  {
   "cell_type": "code",
   "execution_count": 37,
   "id": "b6647bd2",
   "metadata": {},
   "outputs": [
    {
     "data": {
      "text/html": [
       "<div>\n",
       "<style scoped>\n",
       "    .dataframe tbody tr th:only-of-type {\n",
       "        vertical-align: middle;\n",
       "    }\n",
       "\n",
       "    .dataframe tbody tr th {\n",
       "        vertical-align: top;\n",
       "    }\n",
       "\n",
       "    .dataframe thead th {\n",
       "        text-align: right;\n",
       "    }\n",
       "</style>\n",
       "<table border=\"1\" class=\"dataframe\">\n",
       "  <thead>\n",
       "    <tr style=\"text-align: right;\">\n",
       "      <th></th>\n",
       "      <th>AÑO</th>\n",
       "      <th>CLASE_ACCIDENTE</th>\n",
       "      <th>DISEÑO</th>\n",
       "      <th>FECHA_ACCIDENTE</th>\n",
       "      <th>GRAVEDAD</th>\n",
       "      <th>MES</th>\n",
       "      <th>NUMCOMUNA</th>\n",
       "      <th>BARRIO</th>\n",
       "      <th>HORA</th>\n",
       "      <th>SEMANA</th>\n",
       "      <th>DIA_DEL_AÑO</th>\n",
       "      <th>DIA_DEL_MES</th>\n",
       "      <th>DIA_SEMANA</th>\n",
       "      <th>LONGITUD</th>\n",
       "      <th>ALTITUD</th>\n",
       "      <th>MOMENTO</th>\n",
       "    </tr>\n",
       "  </thead>\n",
       "  <tbody>\n",
       "    <tr>\n",
       "      <th>0</th>\n",
       "      <td>2014</td>\n",
       "      <td>Otro</td>\n",
       "      <td>Tramo de via</td>\n",
       "      <td>2014-08-05</td>\n",
       "      <td>Con heridos</td>\n",
       "      <td>8</td>\n",
       "      <td>11</td>\n",
       "      <td>Los Conquistadores</td>\n",
       "      <td>07:15:00</td>\n",
       "      <td>Semana 32</td>\n",
       "      <td>217</td>\n",
       "      <td>5</td>\n",
       "      <td>Tuesday</td>\n",
       "      <td>-75.589313</td>\n",
       "      <td>6.239787</td>\n",
       "      <td>Mañana</td>\n",
       "    </tr>\n",
       "    <tr>\n",
       "      <th>1</th>\n",
       "      <td>2014</td>\n",
       "      <td>Choque</td>\n",
       "      <td>Interseccion</td>\n",
       "      <td>2014-08-05</td>\n",
       "      <td>Con heridos</td>\n",
       "      <td>8</td>\n",
       "      <td>5</td>\n",
       "      <td>Girardot</td>\n",
       "      <td>14:30:00</td>\n",
       "      <td>Semana 32</td>\n",
       "      <td>217</td>\n",
       "      <td>5</td>\n",
       "      <td>Tuesday</td>\n",
       "      <td>-75.570818</td>\n",
       "      <td>6.300041</td>\n",
       "      <td>Tarde</td>\n",
       "    </tr>\n",
       "    <tr>\n",
       "      <th>2</th>\n",
       "      <td>2014</td>\n",
       "      <td>Choque</td>\n",
       "      <td>Tramo de via</td>\n",
       "      <td>2014-08-05</td>\n",
       "      <td>Con heridos</td>\n",
       "      <td>8</td>\n",
       "      <td>14</td>\n",
       "      <td>Patio Bonito</td>\n",
       "      <td>15:50:00</td>\n",
       "      <td>Semana 32</td>\n",
       "      <td>217</td>\n",
       "      <td>5</td>\n",
       "      <td>Tuesday</td>\n",
       "      <td>-75.576574</td>\n",
       "      <td>6.208748</td>\n",
       "      <td>Tarde</td>\n",
       "    </tr>\n",
       "    <tr>\n",
       "      <th>3</th>\n",
       "      <td>2014</td>\n",
       "      <td>Otro</td>\n",
       "      <td>Tramo de via</td>\n",
       "      <td>2014-08-05</td>\n",
       "      <td>Con heridos</td>\n",
       "      <td>8</td>\n",
       "      <td>8</td>\n",
       "      <td>Villa Hermosa</td>\n",
       "      <td>13:00:00</td>\n",
       "      <td>Semana 32</td>\n",
       "      <td>217</td>\n",
       "      <td>5</td>\n",
       "      <td>Tuesday</td>\n",
       "      <td>-75.551255</td>\n",
       "      <td>6.259058</td>\n",
       "      <td>Tarde</td>\n",
       "    </tr>\n",
       "    <tr>\n",
       "      <th>4</th>\n",
       "      <td>2014</td>\n",
       "      <td>Choque</td>\n",
       "      <td>Tramo de via</td>\n",
       "      <td>2014-08-05</td>\n",
       "      <td>Con heridos</td>\n",
       "      <td>8</td>\n",
       "      <td>10</td>\n",
       "      <td>Los Ángeles</td>\n",
       "      <td>19:30:00</td>\n",
       "      <td>Semana 32</td>\n",
       "      <td>217</td>\n",
       "      <td>5</td>\n",
       "      <td>Tuesday</td>\n",
       "      <td>-75.556150</td>\n",
       "      <td>6.249966</td>\n",
       "      <td>Noche</td>\n",
       "    </tr>\n",
       "  </tbody>\n",
       "</table>\n",
       "</div>"
      ],
      "text/plain": [
       "    AÑO CLASE_ACCIDENTE        DISEÑO FECHA_ACCIDENTE     GRAVEDAD  MES  \\\n",
       "0  2014            Otro  Tramo de via      2014-08-05  Con heridos    8   \n",
       "1  2014          Choque  Interseccion      2014-08-05  Con heridos    8   \n",
       "2  2014          Choque  Tramo de via      2014-08-05  Con heridos    8   \n",
       "3  2014            Otro  Tramo de via      2014-08-05  Con heridos    8   \n",
       "4  2014          Choque  Tramo de via      2014-08-05  Con heridos    8   \n",
       "\n",
       "   NUMCOMUNA              BARRIO      HORA     SEMANA  DIA_DEL_AÑO  \\\n",
       "0         11  Los Conquistadores  07:15:00  Semana 32          217   \n",
       "1          5            Girardot  14:30:00  Semana 32          217   \n",
       "2         14        Patio Bonito  15:50:00  Semana 32          217   \n",
       "3          8       Villa Hermosa  13:00:00  Semana 32          217   \n",
       "4         10         Los Ángeles  19:30:00  Semana 32          217   \n",
       "\n",
       "   DIA_DEL_MES DIA_SEMANA   LONGITUD   ALTITUD MOMENTO  \n",
       "0            5    Tuesday -75.589313  6.239787  Mañana  \n",
       "1            5    Tuesday -75.570818  6.300041   Tarde  \n",
       "2            5    Tuesday -75.576574  6.208748   Tarde  \n",
       "3            5    Tuesday -75.551255  6.259058   Tarde  \n",
       "4            5    Tuesday -75.556150  6.249966   Noche  "
      ]
     },
     "execution_count": 37,
     "metadata": {},
     "output_type": "execute_result"
    }
   ],
   "source": [
    "df2.head()"
   ]
  },
  {
   "cell_type": "code",
   "execution_count": 38,
   "id": "58208024",
   "metadata": {},
   "outputs": [],
   "source": [
    "df2 = df2[['BARRIO','DIA_DEL_MES','MES','GRAVEDAD']]"
   ]
  },
  {
   "cell_type": "markdown",
   "id": "6a33aacc",
   "metadata": {},
   "source": [
    "Al hacer una inspección de los datos se observa que hay barrios que difieren solo en una mayúscula o en un espacio por eso es necesario estandarizar los nombres, por lo tanto es necesario agregar una limpieza sobre los barrios."
   ]
  },
  {
   "cell_type": "code",
   "execution_count": 39,
   "id": "8e29d539",
   "metadata": {},
   "outputs": [],
   "source": [
    "df2['BARRIO'] = df2['BARRIO'].apply(lambda x : x.lower().replace(\" \",\"\"))"
   ]
  },
  {
   "cell_type": "code",
   "execution_count": 40,
   "id": "f6a8a864",
   "metadata": {},
   "outputs": [],
   "source": [
    "df2 = df2.groupby(['BARRIO','MES','DIA_DEL_MES'])['GRAVEDAD'].agg(([lambda x : x.count()  ,lambda x: ((x.__eq__('Con heridos')).sum()) , lambda x: ((x.__eq__('Solo daños')).sum()), lambda x: ((x.__eq__('Con muertos')).sum())]))"
   ]
  },
  {
   "cell_type": "code",
   "execution_count": 41,
   "id": "fb338eed",
   "metadata": {},
   "outputs": [],
   "source": [
    "df2 = df2.groupby(['BARRIO']).mean()\n",
    "df2.reset_index(inplace = True)\n",
    "df2.rename({df2.columns[1] :'Accidentes', df2.columns[2] : 'Heridos', df2.columns[3]: 'Daños', df2.columns[4]: 'Muertos'}, axis = 1, inplace = True)"
   ]
  },
  {
   "cell_type": "code",
   "execution_count": 42,
   "id": "125bfd1e",
   "metadata": {},
   "outputs": [
    {
     "data": {
      "text/html": [
       "<div>\n",
       "<style scoped>\n",
       "    .dataframe tbody tr th:only-of-type {\n",
       "        vertical-align: middle;\n",
       "    }\n",
       "\n",
       "    .dataframe tbody tr th {\n",
       "        vertical-align: top;\n",
       "    }\n",
       "\n",
       "    .dataframe thead th {\n",
       "        text-align: right;\n",
       "    }\n",
       "</style>\n",
       "<table border=\"1\" class=\"dataframe\">\n",
       "  <thead>\n",
       "    <tr style=\"text-align: right;\">\n",
       "      <th></th>\n",
       "      <th>BARRIO</th>\n",
       "      <th>Accidentes</th>\n",
       "      <th>Heridos</th>\n",
       "      <th>Daños</th>\n",
       "      <th>Muertos</th>\n",
       "    </tr>\n",
       "  </thead>\n",
       "  <tbody>\n",
       "    <tr>\n",
       "      <th>0</th>\n",
       "      <td>aguasfrias</td>\n",
       "      <td>1.092105</td>\n",
       "      <td>0.815789</td>\n",
       "      <td>0.276316</td>\n",
       "      <td>0.000000</td>\n",
       "    </tr>\n",
       "    <tr>\n",
       "      <th>1</th>\n",
       "      <td>aldeapablovi</td>\n",
       "      <td>1.064103</td>\n",
       "      <td>0.833333</td>\n",
       "      <td>0.230769</td>\n",
       "      <td>0.000000</td>\n",
       "    </tr>\n",
       "    <tr>\n",
       "      <th>2</th>\n",
       "      <td>alejandroechavarría</td>\n",
       "      <td>3.099099</td>\n",
       "      <td>2.168168</td>\n",
       "      <td>0.924925</td>\n",
       "      <td>0.006006</td>\n",
       "    </tr>\n",
       "    <tr>\n",
       "      <th>3</th>\n",
       "      <td>alejandría</td>\n",
       "      <td>2.168385</td>\n",
       "      <td>0.680412</td>\n",
       "      <td>1.487973</td>\n",
       "      <td>0.000000</td>\n",
       "    </tr>\n",
       "    <tr>\n",
       "      <th>4</th>\n",
       "      <td>alfonsolópez</td>\n",
       "      <td>3.310541</td>\n",
       "      <td>2.324786</td>\n",
       "      <td>0.985755</td>\n",
       "      <td>0.000000</td>\n",
       "    </tr>\n",
       "  </tbody>\n",
       "</table>\n",
       "</div>"
      ],
      "text/plain": [
       "                BARRIO  Accidentes   Heridos     Daños   Muertos\n",
       "0           aguasfrias    1.092105  0.815789  0.276316  0.000000\n",
       "1         aldeapablovi    1.064103  0.833333  0.230769  0.000000\n",
       "2  alejandroechavarría    3.099099  2.168168  0.924925  0.006006\n",
       "3           alejandría    2.168385  0.680412  1.487973  0.000000\n",
       "4         alfonsolópez    3.310541  2.324786  0.985755  0.000000"
      ]
     },
     "execution_count": 42,
     "metadata": {},
     "output_type": "execute_result"
    }
   ],
   "source": [
    "df2.head()"
   ]
  },
  {
   "cell_type": "markdown",
   "id": "a8321380",
   "metadata": {},
   "source": [
    "## Normalización"
   ]
  },
  {
   "cell_type": "code",
   "execution_count": 43,
   "id": "4958f636",
   "metadata": {},
   "outputs": [],
   "source": [
    "scala = preprocessing.MinMaxScaler().fit(df2[['Accidentes','Heridos','Daños','Muertos']])\n",
    "df2[['Accidentes','Heridos','Daños','Muertos']] = preprocessing.MinMaxScaler().fit_transform(df2[['Accidentes','Heridos','Daños','Muertos']])\n"
   ]
  },
  {
   "cell_type": "code",
   "execution_count": 44,
   "id": "470d9c20",
   "metadata": {},
   "outputs": [
    {
     "data": {
      "text/html": [
       "<div>\n",
       "<style scoped>\n",
       "    .dataframe tbody tr th:only-of-type {\n",
       "        vertical-align: middle;\n",
       "    }\n",
       "\n",
       "    .dataframe tbody tr th {\n",
       "        vertical-align: top;\n",
       "    }\n",
       "\n",
       "    .dataframe thead th {\n",
       "        text-align: right;\n",
       "    }\n",
       "</style>\n",
       "<table border=\"1\" class=\"dataframe\">\n",
       "  <thead>\n",
       "    <tr style=\"text-align: right;\">\n",
       "      <th></th>\n",
       "      <th>BARRIO</th>\n",
       "      <th>Accidentes</th>\n",
       "      <th>Heridos</th>\n",
       "      <th>Daños</th>\n",
       "      <th>Muertos</th>\n",
       "    </tr>\n",
       "  </thead>\n",
       "  <tbody>\n",
       "    <tr>\n",
       "      <th>0</th>\n",
       "      <td>aguasfrias</td>\n",
       "      <td>0.006111</td>\n",
       "      <td>0.119671</td>\n",
       "      <td>0.029502</td>\n",
       "      <td>0.000000</td>\n",
       "    </tr>\n",
       "    <tr>\n",
       "      <th>1</th>\n",
       "      <td>aldeapablovi</td>\n",
       "      <td>0.004253</td>\n",
       "      <td>0.122244</td>\n",
       "      <td>0.024639</td>\n",
       "      <td>0.000000</td>\n",
       "    </tr>\n",
       "    <tr>\n",
       "      <th>2</th>\n",
       "      <td>alejandroechavarría</td>\n",
       "      <td>0.139280</td>\n",
       "      <td>0.318056</td>\n",
       "      <td>0.098752</td>\n",
       "      <td>0.006006</td>\n",
       "    </tr>\n",
       "    <tr>\n",
       "      <th>3</th>\n",
       "      <td>alejandría</td>\n",
       "      <td>0.077525</td>\n",
       "      <td>0.099812</td>\n",
       "      <td>0.158868</td>\n",
       "      <td>0.000000</td>\n",
       "    </tr>\n",
       "    <tr>\n",
       "      <th>4</th>\n",
       "      <td>alfonsolópez</td>\n",
       "      <td>0.153310</td>\n",
       "      <td>0.341031</td>\n",
       "      <td>0.105247</td>\n",
       "      <td>0.000000</td>\n",
       "    </tr>\n",
       "  </tbody>\n",
       "</table>\n",
       "</div>"
      ],
      "text/plain": [
       "                BARRIO  Accidentes   Heridos     Daños   Muertos\n",
       "0           aguasfrias    0.006111  0.119671  0.029502  0.000000\n",
       "1         aldeapablovi    0.004253  0.122244  0.024639  0.000000\n",
       "2  alejandroechavarría    0.139280  0.318056  0.098752  0.006006\n",
       "3           alejandría    0.077525  0.099812  0.158868  0.000000\n",
       "4         alfonsolópez    0.153310  0.341031  0.105247  0.000000"
      ]
     },
     "execution_count": 44,
     "metadata": {},
     "output_type": "execute_result"
    }
   ],
   "source": [
    "df2.head()"
   ]
  },
  {
   "cell_type": "markdown",
   "id": "7960ef32",
   "metadata": {},
   "source": [
    "## Ordenamiento Jerárquico"
   ]
  },
  {
   "cell_type": "code",
   "execution_count": 45,
   "id": "1d93818f",
   "metadata": {},
   "outputs": [
    {
     "data": {
      "text/html": [
       "<div>\n",
       "<style scoped>\n",
       "    .dataframe tbody tr th:only-of-type {\n",
       "        vertical-align: middle;\n",
       "    }\n",
       "\n",
       "    .dataframe tbody tr th {\n",
       "        vertical-align: top;\n",
       "    }\n",
       "\n",
       "    .dataframe thead th {\n",
       "        text-align: right;\n",
       "    }\n",
       "</style>\n",
       "<table border=\"1\" class=\"dataframe\">\n",
       "  <thead>\n",
       "    <tr style=\"text-align: right;\">\n",
       "      <th></th>\n",
       "      <th>Accidentes</th>\n",
       "      <th>Heridos</th>\n",
       "      <th>Daños</th>\n",
       "      <th>Muertos</th>\n",
       "    </tr>\n",
       "    <tr>\n",
       "      <th>BARRIO</th>\n",
       "      <th></th>\n",
       "      <th></th>\n",
       "      <th></th>\n",
       "      <th></th>\n",
       "    </tr>\n",
       "  </thead>\n",
       "  <tbody>\n",
       "    <tr>\n",
       "      <th>aguasfrias</th>\n",
       "      <td>0.006111</td>\n",
       "      <td>0.119671</td>\n",
       "      <td>0.029502</td>\n",
       "      <td>0.000000</td>\n",
       "    </tr>\n",
       "    <tr>\n",
       "      <th>aldeapablovi</th>\n",
       "      <td>0.004253</td>\n",
       "      <td>0.122244</td>\n",
       "      <td>0.024639</td>\n",
       "      <td>0.000000</td>\n",
       "    </tr>\n",
       "    <tr>\n",
       "      <th>alejandroechavarría</th>\n",
       "      <td>0.139280</td>\n",
       "      <td>0.318056</td>\n",
       "      <td>0.098752</td>\n",
       "      <td>0.006006</td>\n",
       "    </tr>\n",
       "    <tr>\n",
       "      <th>alejandría</th>\n",
       "      <td>0.077525</td>\n",
       "      <td>0.099812</td>\n",
       "      <td>0.158868</td>\n",
       "      <td>0.000000</td>\n",
       "    </tr>\n",
       "    <tr>\n",
       "      <th>alfonsolópez</th>\n",
       "      <td>0.153310</td>\n",
       "      <td>0.341031</td>\n",
       "      <td>0.105247</td>\n",
       "      <td>0.000000</td>\n",
       "    </tr>\n",
       "  </tbody>\n",
       "</table>\n",
       "</div>"
      ],
      "text/plain": [
       "                     Accidentes   Heridos     Daños   Muertos\n",
       "BARRIO                                                       \n",
       "aguasfrias             0.006111  0.119671  0.029502  0.000000\n",
       "aldeapablovi           0.004253  0.122244  0.024639  0.000000\n",
       "alejandroechavarría    0.139280  0.318056  0.098752  0.006006\n",
       "alejandría             0.077525  0.099812  0.158868  0.000000\n",
       "alfonsolópez           0.153310  0.341031  0.105247  0.000000"
      ]
     },
     "execution_count": 45,
     "metadata": {},
     "output_type": "execute_result"
    }
   ],
   "source": [
    "df_agrupa = df2.set_index('BARRIO')\n",
    "df_agrupa.head()"
   ]
  },
  {
   "cell_type": "code",
   "execution_count": 46,
   "id": "ab84057f",
   "metadata": {},
   "outputs": [],
   "source": [
    "cluster_dist_matrix = distance_matrix(df_agrupa, df_agrupa)"
   ]
  },
  {
   "cell_type": "code",
   "execution_count": 47,
   "id": "dc34a74c",
   "metadata": {},
   "outputs": [],
   "source": [
    "cluster_dist_matrix = squareform(cluster_dist_matrix)\n",
    "hc = sch.linkage(cluster_dist_matrix,method = 'ward')"
   ]
  },
  {
   "cell_type": "code",
   "execution_count": 48,
   "id": "cf213c78",
   "metadata": {},
   "outputs": [
    {
     "data": {
      "image/png": "[encoded data removed]",
      "text/plain": [
       "<Figure size 432x288 with 1 Axes>"
      ]
     },
     "metadata": {
      "needs_background": "light"
     },
     "output_type": "display_data"
    }
   ],
   "source": [
    "dendrogram = sch.dendrogram(hc)"
   ]
  },
  {
   "cell_type": "markdown",
   "id": "037775bc",
   "metadata": {},
   "source": [
    "En este caso no hay una intuición de cual es el agrupamiento mas útil. Por lo tanto se usa el método del codo para precisar en este sentido"
   ]
  },
  {
   "cell_type": "markdown",
   "id": "69c7898e",
   "metadata": {},
   "source": [
    "## Método del codo"
   ]
  },
  {
   "cell_type": "code",
   "execution_count": 49,
   "id": "65da70a4",
   "metadata": {},
   "outputs": [],
   "source": [
    "distcentroide = []\n",
    "k = range(1,18)\n",
    "for i in k:\n",
    "    \n",
    "    kmeans = KMeans(n_clusters = i, random_state = 653)\n",
    "    kmeans.fit(df_agrupa)\n",
    "    distcentroide.append(kmeans.inertia_)"
   ]
  },
  {
   "cell_type": "code",
   "execution_count": 50,
   "id": "1037174f",
   "metadata": {},
   "outputs": [
    {
     "data": {
      "image/png": "[encoded data removed]",
      "text/plain": [
       "<Figure size 432x288 with 1 Axes>"
      ]
     },
     "metadata": {
      "needs_background": "light"
     },
     "output_type": "display_data"
    }
   ],
   "source": [
    "plt.plot(k,distcentroide)\n",
    "plt.xlabel('clusters')\n",
    "plt.ylabel('Dist')\n",
    "plt.show()"
   ]
  },
  {
   "cell_type": "markdown",
   "id": "1052da43",
   "metadata": {},
   "source": [
    "En este caso se examinará la descripción del cluster con tres centroides"
   ]
  },
  {
   "cell_type": "code",
   "execution_count": 51,
   "id": "e0076c11",
   "metadata": {},
   "outputs": [
    {
     "data": {
      "text/plain": [
       "KMeans(n_clusters=3)"
      ]
     },
     "execution_count": 51,
     "metadata": {},
     "output_type": "execute_result"
    }
   ],
   "source": [
    "kmeans1 = KMeans(n_clusters = 3)\n",
    "kmeans1.fit(df_agrupa)"
   ]
  },
  {
   "cell_type": "code",
   "execution_count": 52,
   "id": "b6fd1b8d",
   "metadata": {},
   "outputs": [],
   "source": [
    "df_agrupa['cluster'] = kmeans1.labels_"
   ]
  },
  {
   "cell_type": "code",
   "execution_count": 53,
   "id": "be4fce31",
   "metadata": {},
   "outputs": [],
   "source": [
    "df2 = df_agrupa.reset_index()"
   ]
  },
  {
   "cell_type": "code",
   "execution_count": 54,
   "id": "4afd061c",
   "metadata": {},
   "outputs": [],
   "source": [
    "df2[['Accidentes','Heridos','Daños','Muertos']] = scala.inverse_transform(df2[['Accidentes','Heridos','Daños','Muertos']])"
   ]
  },
  {
   "cell_type": "markdown",
   "id": "2b887fde",
   "metadata": {},
   "source": [
    "## Descripción del cluster por barrio"
   ]
  },
  {
   "cell_type": "code",
   "execution_count": 55,
   "id": "05dff731",
   "metadata": {},
   "outputs": [
    {
     "data": {
      "text/html": [
       "<div>\n",
       "<style scoped>\n",
       "    .dataframe tbody tr th:only-of-type {\n",
       "        vertical-align: middle;\n",
       "    }\n",
       "\n",
       "    .dataframe tbody tr th {\n",
       "        vertical-align: top;\n",
       "    }\n",
       "\n",
       "    .dataframe thead th {\n",
       "        text-align: right;\n",
       "    }\n",
       "</style>\n",
       "<table border=\"1\" class=\"dataframe\">\n",
       "  <thead>\n",
       "    <tr style=\"text-align: right;\">\n",
       "      <th></th>\n",
       "      <th>Accidentes</th>\n",
       "      <th>Heridos</th>\n",
       "      <th>Daños</th>\n",
       "      <th>Muertos</th>\n",
       "    </tr>\n",
       "    <tr>\n",
       "      <th>cluster</th>\n",
       "      <th></th>\n",
       "      <th></th>\n",
       "      <th></th>\n",
       "      <th></th>\n",
       "    </tr>\n",
       "  </thead>\n",
       "  <tbody>\n",
       "    <tr>\n",
       "      <th>0</th>\n",
       "      <td>1.509506</td>\n",
       "      <td>0.962687</td>\n",
       "      <td>0.541051</td>\n",
       "      <td>0.005768</td>\n",
       "    </tr>\n",
       "    <tr>\n",
       "      <th>1</th>\n",
       "      <td>9.866409</td>\n",
       "      <td>4.658191</td>\n",
       "      <td>5.193836</td>\n",
       "      <td>0.014381</td>\n",
       "    </tr>\n",
       "    <tr>\n",
       "      <th>2</th>\n",
       "      <td>3.764383</td>\n",
       "      <td>2.134035</td>\n",
       "      <td>1.625078</td>\n",
       "      <td>0.005270</td>\n",
       "    </tr>\n",
       "  </tbody>\n",
       "</table>\n",
       "</div>"
      ],
      "text/plain": [
       "         Accidentes   Heridos     Daños   Muertos\n",
       "cluster                                          \n",
       "0          1.509506  0.962687  0.541051  0.005768\n",
       "1          9.866409  4.658191  5.193836  0.014381\n",
       "2          3.764383  2.134035  1.625078  0.005270"
      ]
     },
     "execution_count": 55,
     "metadata": {},
     "output_type": "execute_result"
    }
   ],
   "source": [
    "df2.groupby(['cluster']).mean()"
   ]
  },
  {
   "cell_type": "markdown",
   "id": "6ae898f0",
   "metadata": {},
   "source": [
    "1 : Alto riesgo de accidentes y peligro. Peligro alto 2 : Peligro moderado. Peligro Medio 0 : Peligro bajo de accidentes. Peligro bajo"
   ]
  }
 ],
 "metadata": {
  "kernelspec": {
   "display_name": "Python 3 (ipykernel)",
   "language": "python",
   "name": "python3"
  },
  "language_info": {
   "codemirror_mode": {
    "name": "ipython",
    "version": 3
   },
   "file_extension": ".py",
   "mimetype": "text/x-python",
   "name": "python",
   "nbconvert_exporter": "python",
   "pygments_lexer": "ipython3",
   "version": "3.8.12"
  }
 },
 "nbformat": 4,
 "nbformat_minor": 5
}
