{
  "nbformat": 4,
  "nbformat_minor": 0,
  "metadata": {
    "kernelspec": {
      "display_name": "Python 3 (ipykernel)",
      "language": "python",
      "name": "python3"
    },
    "language_info": {
      "codemirror_mode": {
        "name": "ipython",
        "version": 3
      },
      "file_extension": ".py",
      "mimetype": "text/x-python",
      "name": "python",
      "nbconvert_exporter": "python",
      "pygments_lexer": "ipython3",
      "version": "3.8.12"
    },
    "colab": {
      "name": "Limpieza datos primer trabajo tae.ipynb.txt",
      "provenance": []
    }
  },
  "cells": [
    {
      "cell_type": "markdown",
      "metadata": {
        "id": "rv6oLcS11O1t"
      },
      "source": [
        "# Procesamiento de los datos"
      ]
    },
    {
      "cell_type": "code",
      "metadata": {
        "colab": {
          "base_uri": "https://localhost:8080/"
        },
        "id": "lcXqp2gD1u6h",
        "outputId": "a8507a51-fd58-4523-fdab-91345fc6ced1"
      },
      "source": [
        "from google.colab import drive\n",
        "drive.mount('/content/drive')"
      ],
      "execution_count": 1,
      "outputs": [
        {
          "output_type": "stream",
          "name": "stdout",
          "text": [
            "Mounted at /content/drive\n"
          ]
        }
      ]
    },
    {
      "cell_type": "code",
      "metadata": {
        "id": "QBS1ivFV1O13"
      },
      "source": [
        "import pandas as pd\n",
        "from datetime import datetime"
      ],
      "execution_count": 2,
      "outputs": []
    },
    {
      "cell_type": "code",
      "metadata": {
        "id": "-cuwlGfJ1O18"
      },
      "source": [
        "df = pd.read_csv(\"/content/drive/MyDrive/TAE Trabajo 1/incidentes_viales (2).csv\", sep = \";\",  low_memory = False , encoding = 'utf_8')\n"
      ],
      "execution_count": 3,
      "outputs": []
    },
    {
      "cell_type": "code",
      "metadata": {
        "colab": {
          "base_uri": "https://localhost:8080/",
          "height": 330
        },
        "id": "ZwH0cq3B1O2D",
        "outputId": "1af88048-d58b-4961-989a-f1a2c01ae471"
      },
      "source": [
        "df.head()"
      ],
      "execution_count": 4,
      "outputs": [
        {
          "output_type": "execute_result",
          "data": {
            "text/html": [
              "<div>\n",
              "<style scoped>\n",
              "    .dataframe tbody tr th:only-of-type {\n",
              "        vertical-align: middle;\n",
              "    }\n",
              "\n",
              "    .dataframe tbody tr th {\n",
              "        vertical-align: top;\n",
              "    }\n",
              "\n",
              "    .dataframe thead th {\n",
              "        text-align: right;\n",
              "    }\n",
              "</style>\n",
              "<table border=\"1\" class=\"dataframe\">\n",
              "  <thead>\n",
              "    <tr style=\"text-align: right;\">\n",
              "      <th></th>\n",
              "      <th>AÑO</th>\n",
              "      <th>CBML</th>\n",
              "      <th>CLASE_ACCIDENTE</th>\n",
              "      <th>DIRECCION</th>\n",
              "      <th>DIRECCION ENCASILLADA</th>\n",
              "      <th>DISEÑO</th>\n",
              "      <th>EXPEDIENTE</th>\n",
              "      <th>FECHA_ACCIDENTE</th>\n",
              "      <th>FECHA_ACCIDENTES</th>\n",
              "      <th>MES</th>\n",
              "      <th>NRO_RADICADO</th>\n",
              "      <th>NUMCOMUNA</th>\n",
              "      <th>BARRIO</th>\n",
              "      <th>COMUNA</th>\n",
              "      <th>LOCATION</th>\n",
              "      <th>X</th>\n",
              "      <th>Y</th>\n",
              "    </tr>\n",
              "  </thead>\n",
              "  <tbody>\n",
              "    <tr>\n",
              "      <th>0</th>\n",
              "      <td>2014</td>\n",
              "      <td>1105</td>\n",
              "      <td>Otro</td>\n",
              "      <td>CR 66 B CL 34</td>\n",
              "      <td>CR  066 B   034  000 00000</td>\n",
              "      <td>Tramo de via</td>\n",
              "      <td>A000095088</td>\n",
              "      <td>05/08/2014 07:15:00</td>\n",
              "      <td>2014-08-05T12:15:00.000Z</td>\n",
              "      <td>Con heridos</td>\n",
              "      <td>8</td>\n",
              "      <td>1451888</td>\n",
              "      <td>11</td>\n",
              "      <td>Los Conquistadores</td>\n",
              "      <td>Laureles Estadio</td>\n",
              "      <td>[-75.589313202, 6.2397866157]</td>\n",
              "      <td>832677.92</td>\n",
              "    </tr>\n",
              "    <tr>\n",
              "      <th>1</th>\n",
              "      <td>2014</td>\n",
              "      <td>0509</td>\n",
              "      <td>Choque</td>\n",
              "      <td>CR 71 CL 103 D</td>\n",
              "      <td>CR  071   103 D  000 00000</td>\n",
              "      <td>Interseccion</td>\n",
              "      <td>A000095143</td>\n",
              "      <td>05/08/2014 14:30:00</td>\n",
              "      <td>2014-08-05T19:30:00.000Z</td>\n",
              "      <td>Con heridos</td>\n",
              "      <td>8</td>\n",
              "      <td>1451891</td>\n",
              "      <td>05</td>\n",
              "      <td>Girardot</td>\n",
              "      <td>Castilla</td>\n",
              "      <td>[-75.5708179064, 6.3000411778]</td>\n",
              "      <td>834744.36</td>\n",
              "    </tr>\n",
              "    <tr>\n",
              "      <th>2</th>\n",
              "      <td>2014</td>\n",
              "      <td>1421</td>\n",
              "      <td>Choque</td>\n",
              "      <td>CR 49 CL 7</td>\n",
              "      <td>CR  049   007  000 00000</td>\n",
              "      <td>Tramo de via</td>\n",
              "      <td>A000095226</td>\n",
              "      <td>05/08/2014 15:50:00</td>\n",
              "      <td>2014-08-05T20:50:00.000Z</td>\n",
              "      <td>Con heridos</td>\n",
              "      <td>8</td>\n",
              "      <td>1451935</td>\n",
              "      <td>14</td>\n",
              "      <td>Patio Bonito</td>\n",
              "      <td>El Poblado</td>\n",
              "      <td>[-75.5765743781, 6.20874755798]</td>\n",
              "      <td>834078.39</td>\n",
              "    </tr>\n",
              "    <tr>\n",
              "      <th>3</th>\n",
              "      <td>2014</td>\n",
              "      <td>0801</td>\n",
              "      <td>Otro</td>\n",
              "      <td>CR 39 A CL 66 C</td>\n",
              "      <td>CR  039 A   066 C  000 00000</td>\n",
              "      <td>Tramo de via</td>\n",
              "      <td>A000095227</td>\n",
              "      <td>05/08/2014 13:00:00</td>\n",
              "      <td>2014-08-05T18:00:00.000Z</td>\n",
              "      <td>Con heridos</td>\n",
              "      <td>8</td>\n",
              "      <td>1451956</td>\n",
              "      <td>08</td>\n",
              "      <td>Villa Hermosa</td>\n",
              "      <td>Villa Hermosa</td>\n",
              "      <td>[-75.5512546684, 6.25905761463]</td>\n",
              "      <td>836897.02</td>\n",
              "    </tr>\n",
              "    <tr>\n",
              "      <th>4</th>\n",
              "      <td>2014</td>\n",
              "      <td>1017</td>\n",
              "      <td>Choque</td>\n",
              "      <td>CL 58 CR 37</td>\n",
              "      <td>CL  058   037  000 00000</td>\n",
              "      <td>Tramo de via</td>\n",
              "      <td>A000094940</td>\n",
              "      <td>05/08/2014 19:30:00</td>\n",
              "      <td>2014-08-06T00:30:00.000Z</td>\n",
              "      <td>Con heridos</td>\n",
              "      <td>8</td>\n",
              "      <td>1452022</td>\n",
              "      <td>10</td>\n",
              "      <td>Los Ángeles</td>\n",
              "      <td>La Candelaria</td>\n",
              "      <td>[-75.5561495119, 6.24996631944]</td>\n",
              "      <td>836352.35</td>\n",
              "    </tr>\n",
              "  </tbody>\n",
              "</table>\n",
              "</div>"
            ],
            "text/plain": [
              "    AÑO  CBML  ...                                X          Y\n",
              "0  2014  1105  ...    [-75.589313202, 6.2397866157]  832677.92\n",
              "1  2014  0509  ...   [-75.5708179064, 6.3000411778]  834744.36\n",
              "2  2014  1421  ...  [-75.5765743781, 6.20874755798]  834078.39\n",
              "3  2014  0801  ...  [-75.5512546684, 6.25905761463]  836897.02\n",
              "4  2014  1017  ...  [-75.5561495119, 6.24996631944]  836352.35\n",
              "\n",
              "[5 rows x 17 columns]"
            ]
          },
          "metadata": {},
          "execution_count": 4
        }
      ]
    },
    {
      "cell_type": "markdown",
      "metadata": {
        "id": "BJ4og2WK1O2I"
      },
      "source": [
        "### Análisis de los datos crudos"
      ]
    },
    {
      "cell_type": "markdown",
      "metadata": {
        "id": "nMdttrvi1O2J"
      },
      "source": [
        "Como se puede ver existe un desfase entre la previsualisación y los datos descargados de Medata, por lo tanto es necesario reorganizar las variables según corresponda."
      ]
    },
    {
      "cell_type": "code",
      "metadata": {
        "id": "xLRrWSYJ1O2L"
      },
      "source": [
        "df.rename({'MES': 'GRAVEDAD','NRO_RADICADO':'MES','NUMCOMUNA':'NRO_RADICADO','BARRIO':'NUMCOMUNA','COMUNA':'BARRIO','LOCATION':'COMUNA','X': 'LOCATION','Y':'X'}, axis = 1, inplace = True)# Se reorganizan los nombres de la columna pues hay un"
      ],
      "execution_count": 5,
      "outputs": []
    },
    {
      "cell_type": "markdown",
      "metadata": {
        "id": "v8AeJgsa1O2M"
      },
      "source": [
        "Para inspeccionar los datos faltantes."
      ]
    },
    {
      "cell_type": "code",
      "metadata": {
        "colab": {
          "base_uri": "https://localhost:8080/"
        },
        "id": "iW_V-1-k1O2R",
        "outputId": "bf4ab4da-d578-488f-8ba1-6479cbb5deec"
      },
      "source": [
        "df.isna().sum()"
      ],
      "execution_count": 6,
      "outputs": [
        {
          "output_type": "execute_result",
          "data": {
            "text/plain": [
              "AÑO                          0\n",
              "CBML                     18156\n",
              "CLASE_ACCIDENTE              6\n",
              "DIRECCION                    0\n",
              "DIRECCION ENCASILLADA      391\n",
              "DISEÑO                    1148\n",
              "EXPEDIENTE                 110\n",
              "FECHA_ACCIDENTE              0\n",
              "FECHA_ACCIDENTES             0\n",
              "GRAVEDAD                     0\n",
              "MES                          0\n",
              "NRO_RADICADO                 5\n",
              "NUMCOMUNA                    0\n",
              "BARRIO                   19006\n",
              "COMUNA                   12798\n",
              "LOCATION                     0\n",
              "X                            0\n",
              "dtype: int64"
            ]
          },
          "metadata": {},
          "execution_count": 6
        }
      ]
    },
    {
      "cell_type": "markdown",
      "metadata": {
        "id": "soa70ibl1O2U"
      },
      "source": [
        "## Eliminación de Variables"
      ]
    },
    {
      "cell_type": "markdown",
      "metadata": {
        "id": "7R8LpwKx1O2U"
      },
      "source": [
        "Se eliminan las siguientes variables. Expediente = Es un registro aleatorio sin análiss, NRo _ Radicao = Numero aleatorio, Direccion Encasillada = Se repite, FECHA_ACCIDENTES = Se repite, COMUNA = se tumba comuna pues tiene mucho nan y existe otra columna con la misma información , CBML = Mucha inconsistencia en caso de requerir el codigo catastral se puede buscar una página externa que reciba el código  catastraly entregue la localización , X = Debido a que existe un problema en la descarga de la base de datos no existe datos de la variable 'y' entonces es necesario eliminar la componente 'x' pues en ausencia de 'y', 'x' pierde sentido.\n",
        "Se eliminara la dirección pues tampoco hay una nomeclatura clara. Verificar luego."
      ]
    },
    {
      "cell_type": "code",
      "metadata": {
        "colab": {
          "base_uri": "https://localhost:8080/"
        },
        "id": "cSarHpp71O2W",
        "outputId": "d7a7bc00-5333-4996-b351-7588222018a7"
      },
      "source": [
        "df.columns"
      ],
      "execution_count": 7,
      "outputs": [
        {
          "output_type": "execute_result",
          "data": {
            "text/plain": [
              "Index(['AÑO', 'CBML', 'CLASE_ACCIDENTE', 'DIRECCION', 'DIRECCION ENCASILLADA',\n",
              "       'DISEÑO', 'EXPEDIENTE', 'FECHA_ACCIDENTE', 'FECHA_ACCIDENTES',\n",
              "       'GRAVEDAD', 'MES', 'NRO_RADICADO', 'NUMCOMUNA', 'BARRIO', 'COMUNA',\n",
              "       'LOCATION', 'X'],\n",
              "      dtype='object')"
            ]
          },
          "metadata": {},
          "execution_count": 7
        }
      ]
    },
    {
      "cell_type": "code",
      "metadata": {
        "colab": {
          "base_uri": "https://localhost:8080/",
          "height": 330
        },
        "id": "0Drw3mrt1O2W",
        "outputId": "0b4f9884-e00a-4702-a8ce-83363ca6d5ec"
      },
      "source": [
        "df.head()"
      ],
      "execution_count": 8,
      "outputs": [
        {
          "output_type": "execute_result",
          "data": {
            "text/html": [
              "<div>\n",
              "<style scoped>\n",
              "    .dataframe tbody tr th:only-of-type {\n",
              "        vertical-align: middle;\n",
              "    }\n",
              "\n",
              "    .dataframe tbody tr th {\n",
              "        vertical-align: top;\n",
              "    }\n",
              "\n",
              "    .dataframe thead th {\n",
              "        text-align: right;\n",
              "    }\n",
              "</style>\n",
              "<table border=\"1\" class=\"dataframe\">\n",
              "  <thead>\n",
              "    <tr style=\"text-align: right;\">\n",
              "      <th></th>\n",
              "      <th>AÑO</th>\n",
              "      <th>CBML</th>\n",
              "      <th>CLASE_ACCIDENTE</th>\n",
              "      <th>DIRECCION</th>\n",
              "      <th>DIRECCION ENCASILLADA</th>\n",
              "      <th>DISEÑO</th>\n",
              "      <th>EXPEDIENTE</th>\n",
              "      <th>FECHA_ACCIDENTE</th>\n",
              "      <th>FECHA_ACCIDENTES</th>\n",
              "      <th>GRAVEDAD</th>\n",
              "      <th>MES</th>\n",
              "      <th>NRO_RADICADO</th>\n",
              "      <th>NUMCOMUNA</th>\n",
              "      <th>BARRIO</th>\n",
              "      <th>COMUNA</th>\n",
              "      <th>LOCATION</th>\n",
              "      <th>X</th>\n",
              "    </tr>\n",
              "  </thead>\n",
              "  <tbody>\n",
              "    <tr>\n",
              "      <th>0</th>\n",
              "      <td>2014</td>\n",
              "      <td>1105</td>\n",
              "      <td>Otro</td>\n",
              "      <td>CR 66 B CL 34</td>\n",
              "      <td>CR  066 B   034  000 00000</td>\n",
              "      <td>Tramo de via</td>\n",
              "      <td>A000095088</td>\n",
              "      <td>05/08/2014 07:15:00</td>\n",
              "      <td>2014-08-05T12:15:00.000Z</td>\n",
              "      <td>Con heridos</td>\n",
              "      <td>8</td>\n",
              "      <td>1451888</td>\n",
              "      <td>11</td>\n",
              "      <td>Los Conquistadores</td>\n",
              "      <td>Laureles Estadio</td>\n",
              "      <td>[-75.589313202, 6.2397866157]</td>\n",
              "      <td>832677.92</td>\n",
              "    </tr>\n",
              "    <tr>\n",
              "      <th>1</th>\n",
              "      <td>2014</td>\n",
              "      <td>0509</td>\n",
              "      <td>Choque</td>\n",
              "      <td>CR 71 CL 103 D</td>\n",
              "      <td>CR  071   103 D  000 00000</td>\n",
              "      <td>Interseccion</td>\n",
              "      <td>A000095143</td>\n",
              "      <td>05/08/2014 14:30:00</td>\n",
              "      <td>2014-08-05T19:30:00.000Z</td>\n",
              "      <td>Con heridos</td>\n",
              "      <td>8</td>\n",
              "      <td>1451891</td>\n",
              "      <td>05</td>\n",
              "      <td>Girardot</td>\n",
              "      <td>Castilla</td>\n",
              "      <td>[-75.5708179064, 6.3000411778]</td>\n",
              "      <td>834744.36</td>\n",
              "    </tr>\n",
              "    <tr>\n",
              "      <th>2</th>\n",
              "      <td>2014</td>\n",
              "      <td>1421</td>\n",
              "      <td>Choque</td>\n",
              "      <td>CR 49 CL 7</td>\n",
              "      <td>CR  049   007  000 00000</td>\n",
              "      <td>Tramo de via</td>\n",
              "      <td>A000095226</td>\n",
              "      <td>05/08/2014 15:50:00</td>\n",
              "      <td>2014-08-05T20:50:00.000Z</td>\n",
              "      <td>Con heridos</td>\n",
              "      <td>8</td>\n",
              "      <td>1451935</td>\n",
              "      <td>14</td>\n",
              "      <td>Patio Bonito</td>\n",
              "      <td>El Poblado</td>\n",
              "      <td>[-75.5765743781, 6.20874755798]</td>\n",
              "      <td>834078.39</td>\n",
              "    </tr>\n",
              "    <tr>\n",
              "      <th>3</th>\n",
              "      <td>2014</td>\n",
              "      <td>0801</td>\n",
              "      <td>Otro</td>\n",
              "      <td>CR 39 A CL 66 C</td>\n",
              "      <td>CR  039 A   066 C  000 00000</td>\n",
              "      <td>Tramo de via</td>\n",
              "      <td>A000095227</td>\n",
              "      <td>05/08/2014 13:00:00</td>\n",
              "      <td>2014-08-05T18:00:00.000Z</td>\n",
              "      <td>Con heridos</td>\n",
              "      <td>8</td>\n",
              "      <td>1451956</td>\n",
              "      <td>08</td>\n",
              "      <td>Villa Hermosa</td>\n",
              "      <td>Villa Hermosa</td>\n",
              "      <td>[-75.5512546684, 6.25905761463]</td>\n",
              "      <td>836897.02</td>\n",
              "    </tr>\n",
              "    <tr>\n",
              "      <th>4</th>\n",
              "      <td>2014</td>\n",
              "      <td>1017</td>\n",
              "      <td>Choque</td>\n",
              "      <td>CL 58 CR 37</td>\n",
              "      <td>CL  058   037  000 00000</td>\n",
              "      <td>Tramo de via</td>\n",
              "      <td>A000094940</td>\n",
              "      <td>05/08/2014 19:30:00</td>\n",
              "      <td>2014-08-06T00:30:00.000Z</td>\n",
              "      <td>Con heridos</td>\n",
              "      <td>8</td>\n",
              "      <td>1452022</td>\n",
              "      <td>10</td>\n",
              "      <td>Los Ángeles</td>\n",
              "      <td>La Candelaria</td>\n",
              "      <td>[-75.5561495119, 6.24996631944]</td>\n",
              "      <td>836352.35</td>\n",
              "    </tr>\n",
              "  </tbody>\n",
              "</table>\n",
              "</div>"
            ],
            "text/plain": [
              "    AÑO  CBML  ...                         LOCATION          X\n",
              "0  2014  1105  ...    [-75.589313202, 6.2397866157]  832677.92\n",
              "1  2014  0509  ...   [-75.5708179064, 6.3000411778]  834744.36\n",
              "2  2014  1421  ...  [-75.5765743781, 6.20874755798]  834078.39\n",
              "3  2014  0801  ...  [-75.5512546684, 6.25905761463]  836897.02\n",
              "4  2014  1017  ...  [-75.5561495119, 6.24996631944]  836352.35\n",
              "\n",
              "[5 rows x 17 columns]"
            ]
          },
          "metadata": {},
          "execution_count": 8
        }
      ]
    },
    {
      "cell_type": "code",
      "metadata": {
        "id": "vwtQWB0d1O2X"
      },
      "source": [
        "df.drop(['EXPEDIENTE','DIRECCION','NRO_RADICADO','DIRECCION ENCASILLADA', 'FECHA_ACCIDENTES','COMUNA','CBML','X'],axis = 1 , inplace = True)"
      ],
      "execution_count": 9,
      "outputs": []
    },
    {
      "cell_type": "code",
      "metadata": {
        "colab": {
          "base_uri": "https://localhost:8080/"
        },
        "id": "R7Zci-kV1O2Z",
        "outputId": "3cfb2012-61a3-45fe-c28a-1a6ccf52ddbb"
      },
      "source": [
        "df.isna().sum()"
      ],
      "execution_count": 10,
      "outputs": [
        {
          "output_type": "execute_result",
          "data": {
            "text/plain": [
              "AÑO                    0\n",
              "CLASE_ACCIDENTE        6\n",
              "DISEÑO              1148\n",
              "FECHA_ACCIDENTE        0\n",
              "GRAVEDAD               0\n",
              "MES                    0\n",
              "NUMCOMUNA              0\n",
              "BARRIO             19006\n",
              "LOCATION               0\n",
              "dtype: int64"
            ]
          },
          "metadata": {},
          "execution_count": 10
        }
      ]
    },
    {
      "cell_type": "code",
      "metadata": {
        "colab": {
          "base_uri": "https://localhost:8080/"
        },
        "id": "AoviViCZ1O2a",
        "outputId": "df230c68-fd3f-4c4a-9588-c2f36ed7d0a8"
      },
      "source": [
        "df.columns"
      ],
      "execution_count": 11,
      "outputs": [
        {
          "output_type": "execute_result",
          "data": {
            "text/plain": [
              "Index(['AÑO', 'CLASE_ACCIDENTE', 'DISEÑO', 'FECHA_ACCIDENTE', 'GRAVEDAD',\n",
              "       'MES', 'NUMCOMUNA', 'BARRIO', 'LOCATION'],\n",
              "      dtype='object')"
            ]
          },
          "metadata": {},
          "execution_count": 11
        }
      ]
    },
    {
      "cell_type": "markdown",
      "metadata": {
        "id": "DOspPwp51O2b"
      },
      "source": [
        "## Problemas enconding"
      ]
    },
    {
      "cell_type": "markdown",
      "metadata": {
        "id": "LxKiwwfm1O2c"
      },
      "source": [
        "Como se muestra a continuación, se presenta un error en la lectura de los datos inclusive luego de utilizar enconding = utf -8, por lo tanto es necesario organizar la cantidad de datos paso a paso."
      ]
    },
    {
      "cell_type": "code",
      "metadata": {
        "colab": {
          "base_uri": "https://localhost:8080/"
        },
        "id": "PRW7iXVc1O2f",
        "outputId": "567c19bd-2e3d-42fe-9c2d-83b4b6dd7ef4"
      },
      "source": [
        "df['GRAVEDAD'].unique()"
      ],
      "execution_count": 12,
      "outputs": [
        {
          "output_type": "execute_result",
          "data": {
            "text/plain": [
              "array(['Con heridos', 'Solo daños', 'Con muertos', 'Solo da\\\\xF1os'],\n",
              "      dtype=object)"
            ]
          },
          "metadata": {},
          "execution_count": 12
        }
      ]
    },
    {
      "cell_type": "code",
      "metadata": {
        "id": "93GkKQ1k1O2g"
      },
      "source": [
        "df['AÑO']= df['AÑO'].apply(lambda x : '2019' if x == '2019\\\\r' else x)\n",
        "df['DISEÑO'] = df['DISEÑO'].apply(lambda x : 'Pontón' if x == 'Pont\\\\xF3n' else x)\n",
        "df['HORA'] = df['FECHA_ACCIDENTE'].apply(lambda x: x.split(' ')[1])\n",
        "df['FECHA_ACCIDENTE'] = df['FECHA_ACCIDENTE'].apply(lambda x: x.split(' ')[0])\n",
        "df['GRAVEDAD'] = df['GRAVEDAD'].apply(lambda x: 'Solo daños' if x == 'Solo da\\\\xF1os' else x)\n",
        "df['CLASE_ACCIDENTE'] = df['CLASE_ACCIDENTE'].apply(lambda x : 'Caída de Ocupante' if type(x) != float and x[0:2] =='Ca' else x)\n",
        "\n"
      ],
      "execution_count": 13,
      "outputs": []
    },
    {
      "cell_type": "markdown",
      "metadata": {
        "id": "YidwVVEf1O2h"
      },
      "source": [
        "Para el número de comuna hay muchos datos que no son consistentes ('0','Sin Inf','In','SN','AU'). Se coloca 99 que corresponde a toda la ciudad es decir en cualquier parte o que no hay información."
      ]
    },
    {
      "cell_type": "code",
      "metadata": {
        "colab": {
          "base_uri": "https://localhost:8080/"
        },
        "id": "uycflLHr1O2h",
        "outputId": "dfde8f73-03cf-40c6-fc91-a7d94a26821e"
      },
      "source": [
        "df['NUMCOMUNA'].unique()"
      ],
      "execution_count": 14,
      "outputs": [
        {
          "output_type": "execute_result",
          "data": {
            "text/plain": [
              "array(['11', '05', '14', '08', '10', '04', '03', '13', '16', '09', '15',\n",
              "       '06', '07', 'Sin Inf', '80', '01', '12', '90', '60', '02', 'In',\n",
              "       '70', '0', '50', 'SN', 'AU', '5', '7', '9', '4', '3', '1', '2',\n",
              "       '8', '6'], dtype=object)"
            ]
          },
          "metadata": {},
          "execution_count": 14
        }
      ]
    },
    {
      "cell_type": "code",
      "metadata": {
        "colab": {
          "base_uri": "https://localhost:8080/"
        },
        "id": "jnsLn3Ay1O2i",
        "outputId": "30feff04-1695-425a-d8e4-1e79221059d2"
      },
      "source": [
        "len(df[df['NUMCOMUNA'].isin(['0','Sin Inf','In','SN','AU'])])"
      ],
      "execution_count": 15,
      "outputs": [
        {
          "output_type": "execute_result",
          "data": {
            "text/plain": [
              "20127"
            ]
          },
          "metadata": {},
          "execution_count": 15
        }
      ]
    },
    {
      "cell_type": "code",
      "metadata": {
        "id": "qNFRYxhp1O2i"
      },
      "source": [
        "df['NUMCOMUNA'] = df['NUMCOMUNA'].apply(lambda x: '99' if x in(['0','Sin Inf','In','SN','AU']) else x)"
      ],
      "execution_count": 16,
      "outputs": []
    },
    {
      "cell_type": "code",
      "metadata": {
        "colab": {
          "base_uri": "https://localhost:8080/"
        },
        "id": "KS4RcSOy1O2k",
        "outputId": "2afcf1ed-5095-4387-f285-690328590c63"
      },
      "source": [
        "df['NUMCOMUNA'].unique()"
      ],
      "execution_count": 17,
      "outputs": [
        {
          "output_type": "execute_result",
          "data": {
            "text/plain": [
              "array(['11', '05', '14', '08', '10', '04', '03', '13', '16', '09', '15',\n",
              "       '06', '07', '99', '80', '01', '12', '90', '60', '02', '70', '50',\n",
              "       '5', '7', '9', '4', '3', '1', '2', '8', '6'], dtype=object)"
            ]
          },
          "metadata": {},
          "execution_count": 17
        }
      ]
    },
    {
      "cell_type": "markdown",
      "metadata": {
        "id": "Ev4XsUMf1O2k"
      },
      "source": [
        "La base de Medata exhibe un comportamiento anomalo pues para ciertas palabras realiza la codificación correctamente mientras que para otras no. Por ende es necesario organizar los datos de forma manual para las palabras que se pueden detectar."
      ]
    },
    {
      "cell_type": "code",
      "metadata": {
        "id": "KbMpXzcm1O2k"
      },
      "source": [
        "def encondebarrio(x):\n",
        "    \n",
        "    z = {'Bel\\\\xE9n' : 'Belén', 'Belalc\\\\xE1zar' : 'Belalcázar','H\\\\xE9ctor Abad G\\\\xF3mez': 'Héctor Abad Gómez',\n",
        "        'San Joaqu\\\\xEDn' : 'San Joaquín', 'Santa F\\\\xE9' : 'Santa Fé', 'Coraz\\\\xF3n de Jes\\\\xFAs' : 'Corazón de Jesús',\n",
        "        'Alfonso L\\\\xF3pez': 'Alfonso López', 'Santa Mar\\\\xEDa de Los \\\\xC1ngeles' : 'Santa María de Los Ángeles',\n",
        "        'El Rinc\\\\xF3n' : 'El Rincón', 'Alejandr\\\\xEDa': 'Alejandría', 'Campo Vald\\\\xE9s No. 1' : 'Campo Valdés No. 1',\n",
        "        'Barrio Col\\\\xF3n' : 'Barrio Colón','Jard\\\\xEDn Bot\\\\xE1nico' : 'Jardín Botánico', 'Estaci\\\\xF3n Villa' : 'Estación Villa',\n",
        "       'Barrio de Jes\\\\xFAs' : 'Barrio de Jesús', 'Barrio Crist\\\\xF3bal': 'Barrio Cristóbal', 'Boyac\\\\xE1' : 'Boyacá',\n",
        "       'Mosc\\\\xFA No. 1':'Moscú No. 1', 'Sim\\\\xF3n Bol\\\\xEDvar' : 'Simón Bolívar', 'Nueva Villa de la Iguan\\\\xE1' : 'Nueva Villa de la Iguaná',\n",
        "        'Bombon\\\\xE1 No. 2': 'Bomboná No. 2', 'La Pi\\\\xF1uela' : 'La Piñuela' , 'Play\\\\xF3n de Los Comuneros': 'Playón de Los Comuneros',\n",
        "       'Jes\\\\xFAs Nazareno' : 'Jesús Nazareno', '\\\\xC1rea de Expansi\\\\xF3n Pajarito': 'Área de Expansión Pajarito', 'F\\\\xE1tima':'Fátima',\n",
        "        'San Germ\\\\xE1n' : 'San Germán', 'Diego Echavarr\\\\xEDa':'Diego Echavarría', 'Mosc\\\\xFA No. 2':'Moscú No. 2', 'La Am\\\\xE9rica': 'La América',\n",
        "        'Alejandro Echavarr\\\\xEDa':'Alejandro Echavarría','L\\\\xF3pez de Mesa':'López de Mesa', 'Los \\\\xC1ngeles' : 'Los Ángeles',\n",
        "       '\\\\xC1rea de Expansi\\\\xF3n Altos de Calasanz':'Área de Expansión Altos de Calasanz' ,'Santa Mar\\\\xEDa de los \\\\xC1ngeles' : 'Santa María de los Ángeles', \n",
        "        'Santa M\\\\xF3nica': 'Santa Mónica', 'La Mansi\\\\xF3n': 'La Mansión', 'San Mart\\\\xEDn de Porres':'San Martín de Porres', 'C\\\\xF3rdoba': 'Córdoba',\n",
        "       'Santa Luc\\\\xEDa': 'Santa Lucía', 'Batall\\\\xF3n Girardot': 'Batallón Girardot', 'El Vel\\\\xF3dromo':'El Velódromo', 'Andaluc\\\\xEDa': 'Andalucía', \n",
        "        'Bombon\\\\xE1 No.1' :'Bomboná No.1' , 'Mar\\\\xEDa Cano Carambolas': 'María Cano Carambolas', 'Nueva Villa de Aburr\\\\xE1' : 'Nueva Villa de Aburrá',\n",
        "       '\\\\xC1rea de Expansi\\\\xF3n San Antonio de Prado': 'Área de Expansión San Antonio de Prado','Los Alc\\\\xE1zares' : 'Los Alcázares', 'El Coraz\\\\xF3n': 'El Corazón',\n",
        "        'Catalu\\\\xF1a' : 'Cataluña', 'Berl\\\\xEDn': 'Berlín', 'Antonio Nari\\\\xF1o' : 'Antonio Nariño', 'Hospital San Vicente de Pa\\\\xFAl': 'Hospital San Vicente de Paúl',\n",
        "       'San Jos\\\\xE9 de la Monta\\\\xF1a' : 'San José de la Montaña', 'Campo Vald\\\\xE9s No.2' : 'Campo Valdés No.2', 'San Jos\\\\xE9 la Cima No.2': 'San José la Cima No.2',\n",
        "        'Mosc\\\\xFA No.2' : 'Moscú No. 2', 'San Jos\\\\xE9 la Cima No. 1': 'San José la Cima No. 1', 'Bombon\\\\xE1 No. 1' : 'Bomboná No. 1', 'Santa In\\\\xE9s': 'Santa Inés',\n",
        "        'Campo Vald\\\\xE9s No. 2' : 'Campo Valdés No. 2'}\n",
        "    \n",
        "    \n",
        "    if x in z:\n",
        "        x = z[x]\n",
        "    elif type(x) == float :\n",
        "        x = None\n",
        "    elif x[0] in ['0','1','2','3','4','5','6','7','8','9']:\n",
        "        x = None\n",
        "    else:\n",
        "        x = x\n",
        "    return x"
      ],
      "execution_count": 18,
      "outputs": []
    },
    {
      "cell_type": "code",
      "metadata": {
        "colab": {
          "base_uri": "https://localhost:8080/"
        },
        "id": "Ns5nRA_E1O2m",
        "outputId": "5686b043-5cc0-4902-c1e2-c35419d01aa7"
      },
      "source": [
        "df.isna().sum()"
      ],
      "execution_count": 19,
      "outputs": [
        {
          "output_type": "execute_result",
          "data": {
            "text/plain": [
              "AÑO                    0\n",
              "CLASE_ACCIDENTE        6\n",
              "DISEÑO              1148\n",
              "FECHA_ACCIDENTE        0\n",
              "GRAVEDAD               0\n",
              "MES                    0\n",
              "NUMCOMUNA              0\n",
              "BARRIO             19006\n",
              "LOCATION               0\n",
              "HORA                   0\n",
              "dtype: int64"
            ]
          },
          "metadata": {},
          "execution_count": 19
        }
      ]
    },
    {
      "cell_type": "code",
      "metadata": {
        "id": "NMEik-qC1O2n"
      },
      "source": [
        "df['BARRIO'] = df['BARRIO'].apply(encondebarrio)"
      ],
      "execution_count": 20,
      "outputs": []
    },
    {
      "cell_type": "code",
      "metadata": {
        "colab": {
          "base_uri": "https://localhost:8080/"
        },
        "id": "yiinV_691O2n",
        "outputId": "6decc8e7-1df0-493b-dbda-04cd90ae3b50"
      },
      "source": [
        "df.isna().sum()"
      ],
      "execution_count": 21,
      "outputs": [
        {
          "output_type": "execute_result",
          "data": {
            "text/plain": [
              "AÑO                    0\n",
              "CLASE_ACCIDENTE        6\n",
              "DISEÑO              1148\n",
              "FECHA_ACCIDENTE        0\n",
              "GRAVEDAD               0\n",
              "MES                    0\n",
              "NUMCOMUNA              0\n",
              "BARRIO             20613\n",
              "LOCATION               0\n",
              "HORA                   0\n",
              "dtype: int64"
            ]
          },
          "metadata": {},
          "execution_count": 21
        }
      ]
    },
    {
      "cell_type": "markdown",
      "metadata": {
        "id": "6zUXJ9i-1O2o"
      },
      "source": [
        "Se crean nuevas variables para comprender mejor la base de datos"
      ]
    },
    {
      "cell_type": "code",
      "metadata": {
        "colab": {
          "base_uri": "https://localhost:8080/"
        },
        "id": "eLgPiSyp1O2o",
        "outputId": "3dce9910-7b0b-4541-e773-192af129275d"
      },
      "source": [
        "df.columns"
      ],
      "execution_count": 22,
      "outputs": [
        {
          "output_type": "execute_result",
          "data": {
            "text/plain": [
              "Index(['AÑO', 'CLASE_ACCIDENTE', 'DISEÑO', 'FECHA_ACCIDENTE', 'GRAVEDAD',\n",
              "       'MES', 'NUMCOMUNA', 'BARRIO', 'LOCATION', 'HORA'],\n",
              "      dtype='object')"
            ]
          },
          "metadata": {},
          "execution_count": 22
        }
      ]
    },
    {
      "cell_type": "code",
      "metadata": {
        "id": "EvbgCUOz1O2p"
      },
      "source": [
        "df['HORA'] = df['HORA'].apply(lambda x: None if x == 'Sin' or x == '' else x)"
      ],
      "execution_count": 23,
      "outputs": []
    },
    {
      "cell_type": "markdown",
      "metadata": {
        "id": "s-lC516X1O2q"
      },
      "source": [
        "Se convierten las columnas de fecha y hora en tipo de datos de tiempo"
      ]
    },
    {
      "cell_type": "code",
      "metadata": {
        "id": "sMMguE9z1O2q"
      },
      "source": [
        "df['HORA'] = pd.to_datetime(df['HORA'],format= '%H:%M:%S' ).dt.time\n",
        "df['FECHA_ACCIDENTE'] = pd.to_datetime(df['FECHA_ACCIDENTE'], format=\"%d/%m/%Y\")"
      ],
      "execution_count": 24,
      "outputs": []
    },
    {
      "cell_type": "code",
      "metadata": {
        "id": "qIuA96Y-1O2r"
      },
      "source": [
        "df['SEMANA'] = df['FECHA_ACCIDENTE'].apply(lambda x : 'Semana' +' '+ x.strftime(\"%V\"))\n",
        "df['MES'] = df['FECHA_ACCIDENTE'].dt.month\n",
        "df['DIA_DEL_AÑO'] = df['FECHA_ACCIDENTE'].apply(lambda x: str(x.timetuple().tm_yday)) \n",
        "df['DIA_DEL_MES'] = df['FECHA_ACCIDENTE'].apply(lambda x: x.strftime('%d'))\n",
        "df['DIA_SEMANA'] = df['FECHA_ACCIDENTE'].apply(lambda x: x.strftime('%A'))"
      ],
      "execution_count": 25,
      "outputs": []
    },
    {
      "cell_type": "code",
      "metadata": {
        "id": "Q4MN4rW01O2r"
      },
      "source": [
        "df['LOCATIION2'] = df['LOCATION'].apply(lambda x: x.split(',')) \n",
        "df['LONGITUD'] = df['LOCATIION2'].apply(lambda x: float (x[0][1:-1]))\n",
        "df['ALTITUD'] = df['LOCATIION2'].apply(lambda x: float (x[1][1:-1]))\n",
        "df.drop(['LOCATION','LOCATIION2'], axis = 1, inplace = True)"
      ],
      "execution_count": 26,
      "outputs": []
    },
    {
      "cell_type": "code",
      "metadata": {
        "id": "suIDS_M51O2r"
      },
      "source": [
        "def momentodia(x):\n",
        "    \n",
        "    H1 = datetime.strptime('06:00:00', \"%X\").time()\n",
        "    H2 = datetime.strptime('12:00:00', \"%X\").time()\n",
        "    H3 = datetime.strptime('18:00:00', \"%X\").time()\n",
        "    H4 = datetime.strptime('23:59:59', \"%X\").time()\n",
        "    \n",
        "    if type(x) != type(H1):\n",
        "        return None\n",
        "    elif x >= H1 and x < H2:\n",
        "        return 'Mañana'\n",
        "    elif x >= H2 and x < H3:\n",
        "        return 'Tarde'\n",
        "    elif x >= H3 and x < H4:\n",
        "        return 'Noche'\n",
        "    else:\n",
        "        return 'Madrugada'\n",
        "    "
      ],
      "execution_count": 27,
      "outputs": []
    },
    {
      "cell_type": "code",
      "metadata": {
        "id": "yetlCe631O2s"
      },
      "source": [
        "df['MOMENTO'] = df['HORA'].apply(momentodia)"
      ],
      "execution_count": 28,
      "outputs": []
    },
    {
      "cell_type": "code",
      "metadata": {
        "colab": {
          "base_uri": "https://localhost:8080/",
          "height": 313
        },
        "id": "muwXn0sS1O2t",
        "outputId": "b3c8f14c-9a3f-4d2d-e4f0-922fb7300caf"
      },
      "source": [
        "df.head()"
      ],
      "execution_count": 29,
      "outputs": [
        {
          "output_type": "execute_result",
          "data": {
            "text/html": [
              "<div>\n",
              "<style scoped>\n",
              "    .dataframe tbody tr th:only-of-type {\n",
              "        vertical-align: middle;\n",
              "    }\n",
              "\n",
              "    .dataframe tbody tr th {\n",
              "        vertical-align: top;\n",
              "    }\n",
              "\n",
              "    .dataframe thead th {\n",
              "        text-align: right;\n",
              "    }\n",
              "</style>\n",
              "<table border=\"1\" class=\"dataframe\">\n",
              "  <thead>\n",
              "    <tr style=\"text-align: right;\">\n",
              "      <th></th>\n",
              "      <th>AÑO</th>\n",
              "      <th>CLASE_ACCIDENTE</th>\n",
              "      <th>DISEÑO</th>\n",
              "      <th>FECHA_ACCIDENTE</th>\n",
              "      <th>GRAVEDAD</th>\n",
              "      <th>MES</th>\n",
              "      <th>NUMCOMUNA</th>\n",
              "      <th>BARRIO</th>\n",
              "      <th>HORA</th>\n",
              "      <th>SEMANA</th>\n",
              "      <th>DIA_DEL_AÑO</th>\n",
              "      <th>DIA_DEL_MES</th>\n",
              "      <th>DIA_SEMANA</th>\n",
              "      <th>LONGITUD</th>\n",
              "      <th>ALTITUD</th>\n",
              "      <th>MOMENTO</th>\n",
              "    </tr>\n",
              "  </thead>\n",
              "  <tbody>\n",
              "    <tr>\n",
              "      <th>0</th>\n",
              "      <td>2014</td>\n",
              "      <td>Otro</td>\n",
              "      <td>Tramo de via</td>\n",
              "      <td>2014-08-05</td>\n",
              "      <td>Con heridos</td>\n",
              "      <td>8</td>\n",
              "      <td>11</td>\n",
              "      <td>Los Conquistadores</td>\n",
              "      <td>07:15:00</td>\n",
              "      <td>Semana 32</td>\n",
              "      <td>217</td>\n",
              "      <td>05</td>\n",
              "      <td>Tuesday</td>\n",
              "      <td>-75.589313</td>\n",
              "      <td>6.239787</td>\n",
              "      <td>Mañana</td>\n",
              "    </tr>\n",
              "    <tr>\n",
              "      <th>1</th>\n",
              "      <td>2014</td>\n",
              "      <td>Choque</td>\n",
              "      <td>Interseccion</td>\n",
              "      <td>2014-08-05</td>\n",
              "      <td>Con heridos</td>\n",
              "      <td>8</td>\n",
              "      <td>05</td>\n",
              "      <td>Girardot</td>\n",
              "      <td>14:30:00</td>\n",
              "      <td>Semana 32</td>\n",
              "      <td>217</td>\n",
              "      <td>05</td>\n",
              "      <td>Tuesday</td>\n",
              "      <td>-75.570818</td>\n",
              "      <td>6.300041</td>\n",
              "      <td>Tarde</td>\n",
              "    </tr>\n",
              "    <tr>\n",
              "      <th>2</th>\n",
              "      <td>2014</td>\n",
              "      <td>Choque</td>\n",
              "      <td>Tramo de via</td>\n",
              "      <td>2014-08-05</td>\n",
              "      <td>Con heridos</td>\n",
              "      <td>8</td>\n",
              "      <td>14</td>\n",
              "      <td>Patio Bonito</td>\n",
              "      <td>15:50:00</td>\n",
              "      <td>Semana 32</td>\n",
              "      <td>217</td>\n",
              "      <td>05</td>\n",
              "      <td>Tuesday</td>\n",
              "      <td>-75.576574</td>\n",
              "      <td>6.208748</td>\n",
              "      <td>Tarde</td>\n",
              "    </tr>\n",
              "    <tr>\n",
              "      <th>3</th>\n",
              "      <td>2014</td>\n",
              "      <td>Otro</td>\n",
              "      <td>Tramo de via</td>\n",
              "      <td>2014-08-05</td>\n",
              "      <td>Con heridos</td>\n",
              "      <td>8</td>\n",
              "      <td>08</td>\n",
              "      <td>Villa Hermosa</td>\n",
              "      <td>13:00:00</td>\n",
              "      <td>Semana 32</td>\n",
              "      <td>217</td>\n",
              "      <td>05</td>\n",
              "      <td>Tuesday</td>\n",
              "      <td>-75.551255</td>\n",
              "      <td>6.259058</td>\n",
              "      <td>Tarde</td>\n",
              "    </tr>\n",
              "    <tr>\n",
              "      <th>4</th>\n",
              "      <td>2014</td>\n",
              "      <td>Choque</td>\n",
              "      <td>Tramo de via</td>\n",
              "      <td>2014-08-05</td>\n",
              "      <td>Con heridos</td>\n",
              "      <td>8</td>\n",
              "      <td>10</td>\n",
              "      <td>Los Ángeles</td>\n",
              "      <td>19:30:00</td>\n",
              "      <td>Semana 32</td>\n",
              "      <td>217</td>\n",
              "      <td>05</td>\n",
              "      <td>Tuesday</td>\n",
              "      <td>-75.556150</td>\n",
              "      <td>6.249966</td>\n",
              "      <td>Noche</td>\n",
              "    </tr>\n",
              "  </tbody>\n",
              "</table>\n",
              "</div>"
            ],
            "text/plain": [
              "    AÑO CLASE_ACCIDENTE        DISEÑO  ...   LONGITUD   ALTITUD  MOMENTO\n",
              "0  2014            Otro  Tramo de via  ... -75.589313  6.239787   Mañana\n",
              "1  2014          Choque  Interseccion  ... -75.570818  6.300041    Tarde\n",
              "2  2014          Choque  Tramo de via  ... -75.576574  6.208748    Tarde\n",
              "3  2014            Otro  Tramo de via  ... -75.551255  6.259058    Tarde\n",
              "4  2014          Choque  Tramo de via  ... -75.556150  6.249966    Noche\n",
              "\n",
              "[5 rows x 16 columns]"
            ]
          },
          "metadata": {},
          "execution_count": 29
        }
      ]
    },
    {
      "cell_type": "markdown",
      "metadata": {
        "id": "QYbuY-ib1O2v"
      },
      "source": [
        "#### Análisis de la cantidad de datos perdidos que no se pudieron recuperar"
      ]
    },
    {
      "cell_type": "code",
      "metadata": {
        "colab": {
          "base_uri": "https://localhost:8080/",
          "height": 708
        },
        "id": "1LpOxy9A1O2x",
        "outputId": "2f110cb5-cfcc-42f2-b109-48b90ff9a9c2"
      },
      "source": [
        "df_datos = df.groupby(['AÑO','MES'])[['BARRIO']].agg([ lambda x : x.isnull().sum(), lambda x : x.notnull().sum()])\n",
        "df_datos.columns = df_datos.columns.get_level_values(1)\n",
        "df_datos.rename({df_datos.columns[0]:'Data perdida',df_datos.columns[1] : 'Datos completos'}, axis = 1, inplace = True)\n",
        "df_perdidos=df_datos\n",
        "df_datos.head(20)"
      ],
      "execution_count": 30,
      "outputs": [
        {
          "output_type": "execute_result",
          "data": {
            "text/html": [
              "<div>\n",
              "<style scoped>\n",
              "    .dataframe tbody tr th:only-of-type {\n",
              "        vertical-align: middle;\n",
              "    }\n",
              "\n",
              "    .dataframe tbody tr th {\n",
              "        vertical-align: top;\n",
              "    }\n",
              "\n",
              "    .dataframe thead th {\n",
              "        text-align: right;\n",
              "    }\n",
              "</style>\n",
              "<table border=\"1\" class=\"dataframe\">\n",
              "  <thead>\n",
              "    <tr style=\"text-align: right;\">\n",
              "      <th></th>\n",
              "      <th></th>\n",
              "      <th>Data perdida</th>\n",
              "      <th>Datos completos</th>\n",
              "    </tr>\n",
              "    <tr>\n",
              "      <th>AÑO</th>\n",
              "      <th>MES</th>\n",
              "      <th></th>\n",
              "      <th></th>\n",
              "    </tr>\n",
              "  </thead>\n",
              "  <tbody>\n",
              "    <tr>\n",
              "      <th rowspan=\"6\" valign=\"top\">2014</th>\n",
              "      <th>7</th>\n",
              "      <td>231</td>\n",
              "      <td>3189</td>\n",
              "    </tr>\n",
              "    <tr>\n",
              "      <th>8</th>\n",
              "      <td>307</td>\n",
              "      <td>3633</td>\n",
              "    </tr>\n",
              "    <tr>\n",
              "      <th>9</th>\n",
              "      <td>290</td>\n",
              "      <td>3587</td>\n",
              "    </tr>\n",
              "    <tr>\n",
              "      <th>10</th>\n",
              "      <td>266</td>\n",
              "      <td>3470</td>\n",
              "    </tr>\n",
              "    <tr>\n",
              "      <th>11</th>\n",
              "      <td>275</td>\n",
              "      <td>3337</td>\n",
              "    </tr>\n",
              "    <tr>\n",
              "      <th>12</th>\n",
              "      <td>292</td>\n",
              "      <td>3538</td>\n",
              "    </tr>\n",
              "    <tr>\n",
              "      <th rowspan=\"12\" valign=\"top\">2015</th>\n",
              "      <th>1</th>\n",
              "      <td>283</td>\n",
              "      <td>2980</td>\n",
              "    </tr>\n",
              "    <tr>\n",
              "      <th>2</th>\n",
              "      <td>226</td>\n",
              "      <td>3355</td>\n",
              "    </tr>\n",
              "    <tr>\n",
              "      <th>3</th>\n",
              "      <td>329</td>\n",
              "      <td>3667</td>\n",
              "    </tr>\n",
              "    <tr>\n",
              "      <th>4</th>\n",
              "      <td>274</td>\n",
              "      <td>3472</td>\n",
              "    </tr>\n",
              "    <tr>\n",
              "      <th>5</th>\n",
              "      <td>348</td>\n",
              "      <td>3706</td>\n",
              "    </tr>\n",
              "    <tr>\n",
              "      <th>6</th>\n",
              "      <td>287</td>\n",
              "      <td>3312</td>\n",
              "    </tr>\n",
              "    <tr>\n",
              "      <th>7</th>\n",
              "      <td>290</td>\n",
              "      <td>3771</td>\n",
              "    </tr>\n",
              "    <tr>\n",
              "      <th>8</th>\n",
              "      <td>329</td>\n",
              "      <td>3775</td>\n",
              "    </tr>\n",
              "    <tr>\n",
              "      <th>9</th>\n",
              "      <td>294</td>\n",
              "      <td>3841</td>\n",
              "    </tr>\n",
              "    <tr>\n",
              "      <th>10</th>\n",
              "      <td>268</td>\n",
              "      <td>3708</td>\n",
              "    </tr>\n",
              "    <tr>\n",
              "      <th>11</th>\n",
              "      <td>290</td>\n",
              "      <td>3434</td>\n",
              "    </tr>\n",
              "    <tr>\n",
              "      <th>12</th>\n",
              "      <td>279</td>\n",
              "      <td>3654</td>\n",
              "    </tr>\n",
              "    <tr>\n",
              "      <th rowspan=\"2\" valign=\"top\">2016</th>\n",
              "      <th>1</th>\n",
              "      <td>241</td>\n",
              "      <td>3081</td>\n",
              "    </tr>\n",
              "    <tr>\n",
              "      <th>2</th>\n",
              "      <td>289</td>\n",
              "      <td>3569</td>\n",
              "    </tr>\n",
              "  </tbody>\n",
              "</table>\n",
              "</div>"
            ],
            "text/plain": [
              "          Data perdida  Datos completos\n",
              "AÑO  MES                               \n",
              "2014 7             231             3189\n",
              "     8             307             3633\n",
              "     9             290             3587\n",
              "     10            266             3470\n",
              "     11            275             3337\n",
              "     12            292             3538\n",
              "2015 1             283             2980\n",
              "     2             226             3355\n",
              "     3             329             3667\n",
              "     4             274             3472\n",
              "     5             348             3706\n",
              "     6             287             3312\n",
              "     7             290             3771\n",
              "     8             329             3775\n",
              "     9             294             3841\n",
              "     10            268             3708\n",
              "     11            290             3434\n",
              "     12            279             3654\n",
              "2016 1             241             3081\n",
              "     2             289             3569"
            ]
          },
          "metadata": {},
          "execution_count": 30
        }
      ]
    },
    {
      "cell_type": "code",
      "metadata": {
        "colab": {
          "base_uri": "https://localhost:8080/",
          "height": 938
        },
        "id": "RBatD7yX3nbv",
        "outputId": "2b3752fc-5432-44e0-c6fc-7bc2d545c517"
      },
      "source": [
        "import matplotlib.pyplot as plt\n",
        "\n",
        "fig, ax = plt.subplots(figsize=(15, 15))\n",
        "df_perdidos.plot.bar(ax=ax)"
      ],
      "execution_count": 31,
      "outputs": [
        {
          "output_type": "execute_result",
          "data": {
            "text/plain": [
              "<matplotlib.axes._subplots.AxesSubplot at 0x7f952ef79e50>"
            ]
          },
          "metadata": {},
          "execution_count": 31
        },
        {
          "output_type": "display_data",
          "data": {
            "image/png": "[encoded data removed]",
            "text/plain": [
              "<Figure size 1080x1080 with 1 Axes>"
            ]
          },
          "metadata": {
            "needs_background": "light"
          }
        }
      ]
    },
    {
      "cell_type": "code",
      "metadata": {
        "colab": {
          "base_uri": "https://localhost:8080/",
          "height": 1000
        },
        "id": "d08sT4v17DIW",
        "outputId": "50284728-122c-42f7-d382-c034b67079f3"
      },
      "source": [
        "df_datos1 = df.groupby(['MES'])[['BARRIO']].agg([ lambda x : x.isnull().sum(), lambda x : x.notnull().sum()])\n",
        "df_datos1.columns = df_datos1.columns.get_level_values(1)\n",
        "df_datos1.rename({df_datos1.columns[1]:'Datos completos',df_datos1.columns[0] : 'Data perdida'}, axis = 1, inplace = True)\n",
        "print(df_datos.head(20))\n",
        "fig, ax = plt.subplots(figsize=(15, 15))\n",
        "df_datos1.plot.bar(ax=ax,stacked=True)"
      ],
      "execution_count": 32,
      "outputs": [
        {
          "output_type": "stream",
          "name": "stdout",
          "text": [
            "          Data perdida  Datos completos\n",
            "AÑO  MES                               \n",
            "2014 7             231             3189\n",
            "     8             307             3633\n",
            "     9             290             3587\n",
            "     10            266             3470\n",
            "     11            275             3337\n",
            "     12            292             3538\n",
            "2015 1             283             2980\n",
            "     2             226             3355\n",
            "     3             329             3667\n",
            "     4             274             3472\n",
            "     5             348             3706\n",
            "     6             287             3312\n",
            "     7             290             3771\n",
            "     8             329             3775\n",
            "     9             294             3841\n",
            "     10            268             3708\n",
            "     11            290             3434\n",
            "     12            279             3654\n",
            "2016 1             241             3081\n",
            "     2             289             3569\n"
          ]
        },
        {
          "output_type": "execute_result",
          "data": {
            "text/plain": [
              "<matplotlib.axes._subplots.AxesSubplot at 0x7f9532433c10>"
            ]
          },
          "metadata": {},
          "execution_count": 32
        },
        {
          "output_type": "display_data",
          "data": {
            "image/png": "[encoded data removed]",
            "text/plain": [
              "<Figure size 1080x1080 with 1 Axes>"
            ]
          },
          "metadata": {
            "needs_background": "light"
          }
        }
      ]
    },
    {
      "cell_type": "code",
      "metadata": {
        "id": "Nr25mbb81O2y"
      },
      "source": [
        "df_datos = df_datos.reset_index()\n",
        "df_datos.to_csv('Datalost.csv', index = False, encoding = 'utf-8')"
      ],
      "execution_count": 33,
      "outputs": []
    },
    {
      "cell_type": "markdown",
      "metadata": {
        "id": "0--eW1ey1O2z"
      },
      "source": [
        "Luego de haber justificado la eliminación los datos faltantes en el barrio con el proceso descriptivo. Tumbamos los datos."
      ]
    },
    {
      "cell_type": "code",
      "metadata": {
        "id": "o73eDNHx1O2z"
      },
      "source": [
        "df.dropna(inplace = True)"
      ],
      "execution_count": 34,
      "outputs": []
    },
    {
      "cell_type": "code",
      "metadata": {
        "colab": {
          "base_uri": "https://localhost:8080/",
          "height": 313
        },
        "id": "sHT2j4qW1O20",
        "outputId": "b89a22ca-9570-4219-bc36-05df5e9755ec"
      },
      "source": [
        "df.head()"
      ],
      "execution_count": 35,
      "outputs": [
        {
          "output_type": "execute_result",
          "data": {
            "text/html": [
              "<div>\n",
              "<style scoped>\n",
              "    .dataframe tbody tr th:only-of-type {\n",
              "        vertical-align: middle;\n",
              "    }\n",
              "\n",
              "    .dataframe tbody tr th {\n",
              "        vertical-align: top;\n",
              "    }\n",
              "\n",
              "    .dataframe thead th {\n",
              "        text-align: right;\n",
              "    }\n",
              "</style>\n",
              "<table border=\"1\" class=\"dataframe\">\n",
              "  <thead>\n",
              "    <tr style=\"text-align: right;\">\n",
              "      <th></th>\n",
              "      <th>AÑO</th>\n",
              "      <th>CLASE_ACCIDENTE</th>\n",
              "      <th>DISEÑO</th>\n",
              "      <th>FECHA_ACCIDENTE</th>\n",
              "      <th>GRAVEDAD</th>\n",
              "      <th>MES</th>\n",
              "      <th>NUMCOMUNA</th>\n",
              "      <th>BARRIO</th>\n",
              "      <th>HORA</th>\n",
              "      <th>SEMANA</th>\n",
              "      <th>DIA_DEL_AÑO</th>\n",
              "      <th>DIA_DEL_MES</th>\n",
              "      <th>DIA_SEMANA</th>\n",
              "      <th>LONGITUD</th>\n",
              "      <th>ALTITUD</th>\n",
              "      <th>MOMENTO</th>\n",
              "    </tr>\n",
              "  </thead>\n",
              "  <tbody>\n",
              "    <tr>\n",
              "      <th>0</th>\n",
              "      <td>2014</td>\n",
              "      <td>Otro</td>\n",
              "      <td>Tramo de via</td>\n",
              "      <td>2014-08-05</td>\n",
              "      <td>Con heridos</td>\n",
              "      <td>8</td>\n",
              "      <td>11</td>\n",
              "      <td>Los Conquistadores</td>\n",
              "      <td>07:15:00</td>\n",
              "      <td>Semana 32</td>\n",
              "      <td>217</td>\n",
              "      <td>05</td>\n",
              "      <td>Tuesday</td>\n",
              "      <td>-75.589313</td>\n",
              "      <td>6.239787</td>\n",
              "      <td>Mañana</td>\n",
              "    </tr>\n",
              "    <tr>\n",
              "      <th>1</th>\n",
              "      <td>2014</td>\n",
              "      <td>Choque</td>\n",
              "      <td>Interseccion</td>\n",
              "      <td>2014-08-05</td>\n",
              "      <td>Con heridos</td>\n",
              "      <td>8</td>\n",
              "      <td>05</td>\n",
              "      <td>Girardot</td>\n",
              "      <td>14:30:00</td>\n",
              "      <td>Semana 32</td>\n",
              "      <td>217</td>\n",
              "      <td>05</td>\n",
              "      <td>Tuesday</td>\n",
              "      <td>-75.570818</td>\n",
              "      <td>6.300041</td>\n",
              "      <td>Tarde</td>\n",
              "    </tr>\n",
              "    <tr>\n",
              "      <th>2</th>\n",
              "      <td>2014</td>\n",
              "      <td>Choque</td>\n",
              "      <td>Tramo de via</td>\n",
              "      <td>2014-08-05</td>\n",
              "      <td>Con heridos</td>\n",
              "      <td>8</td>\n",
              "      <td>14</td>\n",
              "      <td>Patio Bonito</td>\n",
              "      <td>15:50:00</td>\n",
              "      <td>Semana 32</td>\n",
              "      <td>217</td>\n",
              "      <td>05</td>\n",
              "      <td>Tuesday</td>\n",
              "      <td>-75.576574</td>\n",
              "      <td>6.208748</td>\n",
              "      <td>Tarde</td>\n",
              "    </tr>\n",
              "    <tr>\n",
              "      <th>3</th>\n",
              "      <td>2014</td>\n",
              "      <td>Otro</td>\n",
              "      <td>Tramo de via</td>\n",
              "      <td>2014-08-05</td>\n",
              "      <td>Con heridos</td>\n",
              "      <td>8</td>\n",
              "      <td>08</td>\n",
              "      <td>Villa Hermosa</td>\n",
              "      <td>13:00:00</td>\n",
              "      <td>Semana 32</td>\n",
              "      <td>217</td>\n",
              "      <td>05</td>\n",
              "      <td>Tuesday</td>\n",
              "      <td>-75.551255</td>\n",
              "      <td>6.259058</td>\n",
              "      <td>Tarde</td>\n",
              "    </tr>\n",
              "    <tr>\n",
              "      <th>4</th>\n",
              "      <td>2014</td>\n",
              "      <td>Choque</td>\n",
              "      <td>Tramo de via</td>\n",
              "      <td>2014-08-05</td>\n",
              "      <td>Con heridos</td>\n",
              "      <td>8</td>\n",
              "      <td>10</td>\n",
              "      <td>Los Ángeles</td>\n",
              "      <td>19:30:00</td>\n",
              "      <td>Semana 32</td>\n",
              "      <td>217</td>\n",
              "      <td>05</td>\n",
              "      <td>Tuesday</td>\n",
              "      <td>-75.556150</td>\n",
              "      <td>6.249966</td>\n",
              "      <td>Noche</td>\n",
              "    </tr>\n",
              "  </tbody>\n",
              "</table>\n",
              "</div>"
            ],
            "text/plain": [
              "    AÑO CLASE_ACCIDENTE        DISEÑO  ...   LONGITUD   ALTITUD  MOMENTO\n",
              "0  2014            Otro  Tramo de via  ... -75.589313  6.239787   Mañana\n",
              "1  2014          Choque  Interseccion  ... -75.570818  6.300041    Tarde\n",
              "2  2014          Choque  Tramo de via  ... -75.576574  6.208748    Tarde\n",
              "3  2014            Otro  Tramo de via  ... -75.551255  6.259058    Tarde\n",
              "4  2014          Choque  Tramo de via  ... -75.556150  6.249966    Noche\n",
              "\n",
              "[5 rows x 16 columns]"
            ]
          },
          "metadata": {},
          "execution_count": 35
        }
      ]
    },
    {
      "cell_type": "code",
      "metadata": {
        "colab": {
          "base_uri": "https://localhost:8080/"
        },
        "id": "5iB1sN0A1O20",
        "outputId": "046e3dcf-c8fc-4498-91fd-a0fde1a11d20"
      },
      "source": [
        "len (df['BARRIO'].unique())"
      ],
      "execution_count": 36,
      "outputs": [
        {
          "output_type": "execute_result",
          "data": {
            "text/plain": [
              "344"
            ]
          },
          "metadata": {},
          "execution_count": 36
        }
      ]
    },
    {
      "cell_type": "code",
      "metadata": {
        "id": "nE0NKH1p1O21"
      },
      "source": [
        "Data_train = df[df['AÑO'].isin(['2014','2015','2016','2017'])]\n",
        "Data_test = df[df['AÑO'].isin(['2018','2019'])]\n",
        "Data_compor = df[df['AÑO'].isin(['2020'])]\n",
        "Data_cluster = df[df['AÑO'].isin(['2014','2015','2016','2017','2018','2019'])]"
      ],
      "execution_count": 37,
      "outputs": []
    },
    {
      "cell_type": "code",
      "metadata": {
        "id": "WkjUivL01O21"
      },
      "source": [
        "df.to_csv('Datafull.csv', index = False, encoding = 'utf-8')"
      ],
      "execution_count": 38,
      "outputs": []
    },
    {
      "cell_type": "code",
      "metadata": {
        "id": "Y_1IDT7a1O23"
      },
      "source": [
        "Data_train.to_csv('Data_train.csv', index = False, encoding = 'utf-8')\n",
        "Data_test.to_csv('Data_test.csv', index = False, encoding =  'utf-8')\n",
        "Data_compor.to_csv('Data_compor.csv', index = False, encoding = 'utf-8')\n",
        "Data_cluster.to_csv('Data_cluster.csv', index = False, encoding = 'utf-8')"
      ],
      "execution_count": 39,
      "outputs": []
    },
    {
      "cell_type": "markdown",
      "metadata": {
        "id": "1Kq8D1Pp1O23"
      },
      "source": [
        "# Análisis descriptivo"
      ]
    },
    {
      "cell_type": "code",
      "metadata": {
        "colab": {
          "base_uri": "https://localhost:8080/",
          "height": 708
        },
        "id": "MdxltqJb1O24",
        "outputId": "1ae58406-89a1-48ff-ae45-1879c99b13bf"
      },
      "source": [
        "df_Tipochoque = df.groupby(['AÑO','CLASE_ACCIDENTE'])[['CLASE_ACCIDENTE']].count()\n",
        "df_Tipochoque.head(20)"
      ],
      "execution_count": 40,
      "outputs": [
        {
          "output_type": "execute_result",
          "data": {
            "text/html": [
              "<div>\n",
              "<style scoped>\n",
              "    .dataframe tbody tr th:only-of-type {\n",
              "        vertical-align: middle;\n",
              "    }\n",
              "\n",
              "    .dataframe tbody tr th {\n",
              "        vertical-align: top;\n",
              "    }\n",
              "\n",
              "    .dataframe thead th {\n",
              "        text-align: right;\n",
              "    }\n",
              "</style>\n",
              "<table border=\"1\" class=\"dataframe\">\n",
              "  <thead>\n",
              "    <tr style=\"text-align: right;\">\n",
              "      <th></th>\n",
              "      <th></th>\n",
              "      <th>CLASE_ACCIDENTE</th>\n",
              "    </tr>\n",
              "    <tr>\n",
              "      <th>AÑO</th>\n",
              "      <th>CLASE_ACCIDENTE</th>\n",
              "      <th></th>\n",
              "    </tr>\n",
              "  </thead>\n",
              "  <tbody>\n",
              "    <tr>\n",
              "      <th rowspan=\"6\" valign=\"top\">2014</th>\n",
              "      <th>Atropello</th>\n",
              "      <td>2311</td>\n",
              "    </tr>\n",
              "    <tr>\n",
              "      <th>Caída de Ocupante</th>\n",
              "      <td>2038</td>\n",
              "    </tr>\n",
              "    <tr>\n",
              "      <th>Choque</th>\n",
              "      <td>13500</td>\n",
              "    </tr>\n",
              "    <tr>\n",
              "      <th>Incendio</th>\n",
              "      <td>4</td>\n",
              "    </tr>\n",
              "    <tr>\n",
              "      <th>Otro</th>\n",
              "      <td>2296</td>\n",
              "    </tr>\n",
              "    <tr>\n",
              "      <th>Volcamiento</th>\n",
              "      <td>476</td>\n",
              "    </tr>\n",
              "    <tr>\n",
              "      <th rowspan=\"6\" valign=\"top\">2015</th>\n",
              "      <th>Atropello</th>\n",
              "      <td>4373</td>\n",
              "    </tr>\n",
              "    <tr>\n",
              "      <th>Caída de Ocupante</th>\n",
              "      <td>3713</td>\n",
              "    </tr>\n",
              "    <tr>\n",
              "      <th>Choque</th>\n",
              "      <td>28592</td>\n",
              "    </tr>\n",
              "    <tr>\n",
              "      <th>Incendio</th>\n",
              "      <td>1</td>\n",
              "    </tr>\n",
              "    <tr>\n",
              "      <th>Otro</th>\n",
              "      <td>4285</td>\n",
              "    </tr>\n",
              "    <tr>\n",
              "      <th>Volcamiento</th>\n",
              "      <td>1457</td>\n",
              "    </tr>\n",
              "    <tr>\n",
              "      <th rowspan=\"6\" valign=\"top\">2016</th>\n",
              "      <th>Atropello</th>\n",
              "      <td>4057</td>\n",
              "    </tr>\n",
              "    <tr>\n",
              "      <th>Caída de Ocupante</th>\n",
              "      <td>3710</td>\n",
              "    </tr>\n",
              "    <tr>\n",
              "      <th>Choque</th>\n",
              "      <td>29057</td>\n",
              "    </tr>\n",
              "    <tr>\n",
              "      <th>Incendio</th>\n",
              "      <td>4</td>\n",
              "    </tr>\n",
              "    <tr>\n",
              "      <th>Otro</th>\n",
              "      <td>4947</td>\n",
              "    </tr>\n",
              "    <tr>\n",
              "      <th>Volcamiento</th>\n",
              "      <td>1509</td>\n",
              "    </tr>\n",
              "    <tr>\n",
              "      <th rowspan=\"2\" valign=\"top\">2017</th>\n",
              "      <th>Atropello</th>\n",
              "      <td>3546</td>\n",
              "    </tr>\n",
              "    <tr>\n",
              "      <th>Caída de Ocupante</th>\n",
              "      <td>3448</td>\n",
              "    </tr>\n",
              "  </tbody>\n",
              "</table>\n",
              "</div>"
            ],
            "text/plain": [
              "                        CLASE_ACCIDENTE\n",
              "AÑO  CLASE_ACCIDENTE                   \n",
              "2014 Atropello                     2311\n",
              "     Caída de Ocupante             2038\n",
              "     Choque                       13500\n",
              "     Incendio                         4\n",
              "     Otro                          2296\n",
              "     Volcamiento                    476\n",
              "2015 Atropello                     4373\n",
              "     Caída de Ocupante             3713\n",
              "     Choque                       28592\n",
              "     Incendio                         1\n",
              "     Otro                          4285\n",
              "     Volcamiento                   1457\n",
              "2016 Atropello                     4057\n",
              "     Caída de Ocupante             3710\n",
              "     Choque                       29057\n",
              "     Incendio                         4\n",
              "     Otro                          4947\n",
              "     Volcamiento                   1509\n",
              "2017 Atropello                     3546\n",
              "     Caída de Ocupante             3448"
            ]
          },
          "metadata": {},
          "execution_count": 40
        }
      ]
    },
    {
      "cell_type": "code",
      "metadata": {
        "colab": {
          "base_uri": "https://localhost:8080/",
          "height": 583
        },
        "id": "OclDDgVq1O25",
        "outputId": "dda5a716-7573-4243-a7a1-d91b97077b5d"
      },
      "source": [
        "df_Gravedad = df.groupby(['AÑO','GRAVEDAD'])[['GRAVEDAD']].count()\n",
        "df_Gravedad"
      ],
      "execution_count": 41,
      "outputs": [
        {
          "output_type": "execute_result",
          "data": {
            "text/html": [
              "<div>\n",
              "<style scoped>\n",
              "    .dataframe tbody tr th:only-of-type {\n",
              "        vertical-align: middle;\n",
              "    }\n",
              "\n",
              "    .dataframe tbody tr th {\n",
              "        vertical-align: top;\n",
              "    }\n",
              "\n",
              "    .dataframe thead th {\n",
              "        text-align: right;\n",
              "    }\n",
              "</style>\n",
              "<table border=\"1\" class=\"dataframe\">\n",
              "  <thead>\n",
              "    <tr style=\"text-align: right;\">\n",
              "      <th></th>\n",
              "      <th></th>\n",
              "      <th>GRAVEDAD</th>\n",
              "    </tr>\n",
              "    <tr>\n",
              "      <th>AÑO</th>\n",
              "      <th>GRAVEDAD</th>\n",
              "      <th></th>\n",
              "    </tr>\n",
              "  </thead>\n",
              "  <tbody>\n",
              "    <tr>\n",
              "      <th rowspan=\"2\" valign=\"top\">2014</th>\n",
              "      <th>Con heridos</th>\n",
              "      <td>11507</td>\n",
              "    </tr>\n",
              "    <tr>\n",
              "      <th>Solo daños</th>\n",
              "      <td>9118</td>\n",
              "    </tr>\n",
              "    <tr>\n",
              "      <th rowspan=\"2\" valign=\"top\">2015</th>\n",
              "      <th>Con heridos</th>\n",
              "      <td>23546</td>\n",
              "    </tr>\n",
              "    <tr>\n",
              "      <th>Solo daños</th>\n",
              "      <td>18875</td>\n",
              "    </tr>\n",
              "    <tr>\n",
              "      <th rowspan=\"2\" valign=\"top\">2016</th>\n",
              "      <th>Con heridos</th>\n",
              "      <td>24267</td>\n",
              "    </tr>\n",
              "    <tr>\n",
              "      <th>Solo daños</th>\n",
              "      <td>19017</td>\n",
              "    </tr>\n",
              "    <tr>\n",
              "      <th rowspan=\"2\" valign=\"top\">2017</th>\n",
              "      <th>Con heridos</th>\n",
              "      <td>22922</td>\n",
              "    </tr>\n",
              "    <tr>\n",
              "      <th>Solo daños</th>\n",
              "      <td>19539</td>\n",
              "    </tr>\n",
              "    <tr>\n",
              "      <th rowspan=\"2\" valign=\"top\">2018</th>\n",
              "      <th>Con heridos</th>\n",
              "      <td>20932</td>\n",
              "    </tr>\n",
              "    <tr>\n",
              "      <th>Solo daños</th>\n",
              "      <td>19029</td>\n",
              "    </tr>\n",
              "    <tr>\n",
              "      <th rowspan=\"3\" valign=\"top\">2019</th>\n",
              "      <th>Con heridos</th>\n",
              "      <td>22944</td>\n",
              "    </tr>\n",
              "    <tr>\n",
              "      <th>Con muertos</th>\n",
              "      <td>220</td>\n",
              "    </tr>\n",
              "    <tr>\n",
              "      <th>Solo daños</th>\n",
              "      <td>19221</td>\n",
              "    </tr>\n",
              "    <tr>\n",
              "      <th rowspan=\"3\" valign=\"top\">2020</th>\n",
              "      <th>Con heridos</th>\n",
              "      <td>10798</td>\n",
              "    </tr>\n",
              "    <tr>\n",
              "      <th>Con muertos</th>\n",
              "      <td>102</td>\n",
              "    </tr>\n",
              "    <tr>\n",
              "      <th>Solo daños</th>\n",
              "      <td>7046</td>\n",
              "    </tr>\n",
              "  </tbody>\n",
              "</table>\n",
              "</div>"
            ],
            "text/plain": [
              "                  GRAVEDAD\n",
              "AÑO  GRAVEDAD             \n",
              "2014 Con heridos     11507\n",
              "     Solo daños       9118\n",
              "2015 Con heridos     23546\n",
              "     Solo daños      18875\n",
              "2016 Con heridos     24267\n",
              "     Solo daños      19017\n",
              "2017 Con heridos     22922\n",
              "     Solo daños      19539\n",
              "2018 Con heridos     20932\n",
              "     Solo daños      19029\n",
              "2019 Con heridos     22944\n",
              "     Con muertos       220\n",
              "     Solo daños      19221\n",
              "2020 Con heridos     10798\n",
              "     Con muertos       102\n",
              "     Solo daños       7046"
            ]
          },
          "metadata": {},
          "execution_count": 41
        }
      ]
    },
    {
      "cell_type": "code",
      "metadata": {
        "colab": {
          "base_uri": "https://localhost:8080/",
          "height": 989
        },
        "id": "D50xbdNT5osJ",
        "outputId": "60cade4f-5be8-4fc2-c37d-bfb2c2a5fda1"
      },
      "source": [
        "fig, ax = plt.subplots(figsize=(15, 15))\n",
        "df_Gravedad.plot.bar(ax=ax)"
      ],
      "execution_count": 42,
      "outputs": [
        {
          "output_type": "execute_result",
          "data": {
            "text/plain": [
              "<matplotlib.axes._subplots.AxesSubplot at 0x7f952aa9d890>"
            ]
          },
          "metadata": {},
          "execution_count": 42
        },
        {
          "output_type": "display_data",
          "data": {
            "image/png": "[encoded data removed]",
            "text/plain": [
              "<Figure size 1080x1080 with 1 Axes>"
            ]
          },
          "metadata": {
            "needs_background": "light"
          }
        }
      ]
    },
    {
      "cell_type": "code",
      "metadata": {
        "id": "AJ3mO3RK-ibk"
      },
      "source": [
        ""
      ],
      "execution_count": 42,
      "outputs": []
    },
    {
      "cell_type": "code",
      "metadata": {
        "colab": {
          "base_uri": "https://localhost:8080/",
          "height": 455
        },
        "id": "TiIMtrlz1O27",
        "outputId": "95c2f491-f15d-4673-8a85-f0964c83bdcf"
      },
      "source": [
        "df_ByMES = df.groupby(['AÑO','MES'])[['MES']].count()\n",
        "df_ByMES.rename({df_ByMES.columns[0]:'Total'}, axis = 1, inplace = True)\n",
        "df_ByMES"
      ],
      "execution_count": 43,
      "outputs": [
        {
          "output_type": "execute_result",
          "data": {
            "text/html": [
              "<div>\n",
              "<style scoped>\n",
              "    .dataframe tbody tr th:only-of-type {\n",
              "        vertical-align: middle;\n",
              "    }\n",
              "\n",
              "    .dataframe tbody tr th {\n",
              "        vertical-align: top;\n",
              "    }\n",
              "\n",
              "    .dataframe thead th {\n",
              "        text-align: right;\n",
              "    }\n",
              "</style>\n",
              "<table border=\"1\" class=\"dataframe\">\n",
              "  <thead>\n",
              "    <tr style=\"text-align: right;\">\n",
              "      <th></th>\n",
              "      <th></th>\n",
              "      <th>Total</th>\n",
              "    </tr>\n",
              "    <tr>\n",
              "      <th>AÑO</th>\n",
              "      <th>MES</th>\n",
              "      <th></th>\n",
              "    </tr>\n",
              "  </thead>\n",
              "  <tbody>\n",
              "    <tr>\n",
              "      <th rowspan=\"5\" valign=\"top\">2014</th>\n",
              "      <th>7</th>\n",
              "      <td>3163</td>\n",
              "    </tr>\n",
              "    <tr>\n",
              "      <th>8</th>\n",
              "      <td>3604</td>\n",
              "    </tr>\n",
              "    <tr>\n",
              "      <th>9</th>\n",
              "      <td>3568</td>\n",
              "    </tr>\n",
              "    <tr>\n",
              "      <th>10</th>\n",
              "      <td>3455</td>\n",
              "    </tr>\n",
              "    <tr>\n",
              "      <th>11</th>\n",
              "      <td>3316</td>\n",
              "    </tr>\n",
              "    <tr>\n",
              "      <th>...</th>\n",
              "      <th>...</th>\n",
              "      <td>...</td>\n",
              "    </tr>\n",
              "    <tr>\n",
              "      <th rowspan=\"5\" valign=\"top\">2020</th>\n",
              "      <th>4</th>\n",
              "      <td>812</td>\n",
              "    </tr>\n",
              "    <tr>\n",
              "      <th>5</th>\n",
              "      <td>1575</td>\n",
              "    </tr>\n",
              "    <tr>\n",
              "      <th>6</th>\n",
              "      <td>2009</td>\n",
              "    </tr>\n",
              "    <tr>\n",
              "      <th>7</th>\n",
              "      <td>1970</td>\n",
              "    </tr>\n",
              "    <tr>\n",
              "      <th>8</th>\n",
              "      <td>2071</td>\n",
              "    </tr>\n",
              "  </tbody>\n",
              "</table>\n",
              "<p>74 rows × 1 columns</p>\n",
              "</div>"
            ],
            "text/plain": [
              "          Total\n",
              "AÑO  MES       \n",
              "2014 7     3163\n",
              "     8     3604\n",
              "     9     3568\n",
              "     10    3455\n",
              "     11    3316\n",
              "...         ...\n",
              "2020 4      812\n",
              "     5     1575\n",
              "     6     2009\n",
              "     7     1970\n",
              "     8     2071\n",
              "\n",
              "[74 rows x 1 columns]"
            ]
          },
          "metadata": {},
          "execution_count": 43
        }
      ]
    },
    {
      "cell_type": "code",
      "metadata": {
        "colab": {
          "base_uri": "https://localhost:8080/",
          "height": 455
        },
        "id": "Q-PvJVN-1O27",
        "outputId": "e8d49afa-706b-4763-ba08-f3bc1f45e821"
      },
      "source": [
        "df_Bycomuna = df.groupby(['AÑO','NUMCOMUNA'])[['NUMCOMUNA']].count()\n",
        "df_Bycomuna.rename({df_Bycomuna.columns[0]:'Total'}, axis = 1, inplace = True)\n",
        "df_Bycomuna"
      ],
      "execution_count": 44,
      "outputs": [
        {
          "output_type": "execute_result",
          "data": {
            "text/html": [
              "<div>\n",
              "<style scoped>\n",
              "    .dataframe tbody tr th:only-of-type {\n",
              "        vertical-align: middle;\n",
              "    }\n",
              "\n",
              "    .dataframe tbody tr th {\n",
              "        vertical-align: top;\n",
              "    }\n",
              "\n",
              "    .dataframe thead th {\n",
              "        text-align: right;\n",
              "    }\n",
              "</style>\n",
              "<table border=\"1\" class=\"dataframe\">\n",
              "  <thead>\n",
              "    <tr style=\"text-align: right;\">\n",
              "      <th></th>\n",
              "      <th></th>\n",
              "      <th>Total</th>\n",
              "    </tr>\n",
              "    <tr>\n",
              "      <th>AÑO</th>\n",
              "      <th>NUMCOMUNA</th>\n",
              "      <th></th>\n",
              "    </tr>\n",
              "  </thead>\n",
              "  <tbody>\n",
              "    <tr>\n",
              "      <th rowspan=\"5\" valign=\"top\">2014</th>\n",
              "      <th>01</th>\n",
              "      <td>313</td>\n",
              "    </tr>\n",
              "    <tr>\n",
              "      <th>02</th>\n",
              "      <td>323</td>\n",
              "    </tr>\n",
              "    <tr>\n",
              "      <th>03</th>\n",
              "      <td>672</td>\n",
              "    </tr>\n",
              "    <tr>\n",
              "      <th>04</th>\n",
              "      <td>1129</td>\n",
              "    </tr>\n",
              "    <tr>\n",
              "      <th>05</th>\n",
              "      <td>2050</td>\n",
              "    </tr>\n",
              "    <tr>\n",
              "      <th>...</th>\n",
              "      <th>...</th>\n",
              "      <td>...</td>\n",
              "    </tr>\n",
              "    <tr>\n",
              "      <th rowspan=\"5\" valign=\"top\">2020</th>\n",
              "      <th>70</th>\n",
              "      <td>69</td>\n",
              "    </tr>\n",
              "    <tr>\n",
              "      <th>8</th>\n",
              "      <td>651</td>\n",
              "    </tr>\n",
              "    <tr>\n",
              "      <th>80</th>\n",
              "      <td>202</td>\n",
              "    </tr>\n",
              "    <tr>\n",
              "      <th>9</th>\n",
              "      <td>846</td>\n",
              "    </tr>\n",
              "    <tr>\n",
              "      <th>90</th>\n",
              "      <td>89</td>\n",
              "    </tr>\n",
              "  </tbody>\n",
              "</table>\n",
              "<p>149 rows × 1 columns</p>\n",
              "</div>"
            ],
            "text/plain": [
              "                Total\n",
              "AÑO  NUMCOMUNA       \n",
              "2014 01           313\n",
              "     02           323\n",
              "     03           672\n",
              "     04          1129\n",
              "     05          2050\n",
              "...               ...\n",
              "2020 70            69\n",
              "     8            651\n",
              "     80           202\n",
              "     9            846\n",
              "     90            89\n",
              "\n",
              "[149 rows x 1 columns]"
            ]
          },
          "metadata": {},
          "execution_count": 44
        }
      ]
    },
    {
      "cell_type": "code",
      "metadata": {
        "colab": {
          "base_uri": "https://localhost:8080/",
          "height": 455
        },
        "id": "X0mB8HM51O28",
        "outputId": "3c31a108-d373-4853-8af7-4143c0e96929"
      },
      "source": [
        "df_BymesCOM = df.groupby(['AÑO','MES','NUMCOMUNA'])[['NUMCOMUNA']].count()\n",
        "df_BymesCOM.rename({df_BymesCOM.columns[0]:'Total'}, axis = 1, inplace = True)\n",
        "df_BymesCOM"
      ],
      "execution_count": 45,
      "outputs": [
        {
          "output_type": "execute_result",
          "data": {
            "text/html": [
              "<div>\n",
              "<style scoped>\n",
              "    .dataframe tbody tr th:only-of-type {\n",
              "        vertical-align: middle;\n",
              "    }\n",
              "\n",
              "    .dataframe tbody tr th {\n",
              "        vertical-align: top;\n",
              "    }\n",
              "\n",
              "    .dataframe thead th {\n",
              "        text-align: right;\n",
              "    }\n",
              "</style>\n",
              "<table border=\"1\" class=\"dataframe\">\n",
              "  <thead>\n",
              "    <tr style=\"text-align: right;\">\n",
              "      <th></th>\n",
              "      <th></th>\n",
              "      <th></th>\n",
              "      <th>Total</th>\n",
              "    </tr>\n",
              "    <tr>\n",
              "      <th>AÑO</th>\n",
              "      <th>MES</th>\n",
              "      <th>NUMCOMUNA</th>\n",
              "      <th></th>\n",
              "    </tr>\n",
              "  </thead>\n",
              "  <tbody>\n",
              "    <tr>\n",
              "      <th rowspan=\"5\" valign=\"top\">2014</th>\n",
              "      <th rowspan=\"5\" valign=\"top\">7</th>\n",
              "      <th>01</th>\n",
              "      <td>44</td>\n",
              "    </tr>\n",
              "    <tr>\n",
              "      <th>02</th>\n",
              "      <td>45</td>\n",
              "    </tr>\n",
              "    <tr>\n",
              "      <th>03</th>\n",
              "      <td>92</td>\n",
              "    </tr>\n",
              "    <tr>\n",
              "      <th>04</th>\n",
              "      <td>177</td>\n",
              "    </tr>\n",
              "    <tr>\n",
              "      <th>05</th>\n",
              "      <td>277</td>\n",
              "    </tr>\n",
              "    <tr>\n",
              "      <th>...</th>\n",
              "      <th>...</th>\n",
              "      <th>...</th>\n",
              "      <td>...</td>\n",
              "    </tr>\n",
              "    <tr>\n",
              "      <th rowspan=\"5\" valign=\"top\">2020</th>\n",
              "      <th rowspan=\"5\" valign=\"top\">8</th>\n",
              "      <th>70</th>\n",
              "      <td>6</td>\n",
              "    </tr>\n",
              "    <tr>\n",
              "      <th>8</th>\n",
              "      <td>82</td>\n",
              "    </tr>\n",
              "    <tr>\n",
              "      <th>80</th>\n",
              "      <td>35</td>\n",
              "    </tr>\n",
              "    <tr>\n",
              "      <th>9</th>\n",
              "      <td>86</td>\n",
              "    </tr>\n",
              "    <tr>\n",
              "      <th>90</th>\n",
              "      <td>11</td>\n",
              "    </tr>\n",
              "  </tbody>\n",
              "</table>\n",
              "<p>1521 rows × 1 columns</p>\n",
              "</div>"
            ],
            "text/plain": [
              "                    Total\n",
              "AÑO  MES NUMCOMUNA       \n",
              "2014 7   01            44\n",
              "         02            45\n",
              "         03            92\n",
              "         04           177\n",
              "         05           277\n",
              "...                   ...\n",
              "2020 8   70             6\n",
              "         8             82\n",
              "         80            35\n",
              "         9             86\n",
              "         90            11\n",
              "\n",
              "[1521 rows x 1 columns]"
            ]
          },
          "metadata": {},
          "execution_count": 45
        }
      ]
    },
    {
      "cell_type": "code",
      "metadata": {
        "colab": {
          "base_uri": "https://localhost:8080/",
          "height": 455
        },
        "id": "1ld92rBF1O28",
        "outputId": "89bcf8c1-aea6-46f7-bc3b-cc45c59516e3"
      },
      "source": [
        "df_ByDis = df.groupby(['AÑO','DISEÑO'])[['DISEÑO']].count()\n",
        "df_ByDis.rename({df_ByDis.columns[0]:'Total'}, axis = 1, inplace = True)\n",
        "df_ByDis"
      ],
      "execution_count": 46,
      "outputs": [
        {
          "output_type": "execute_result",
          "data": {
            "text/html": [
              "<div>\n",
              "<style scoped>\n",
              "    .dataframe tbody tr th:only-of-type {\n",
              "        vertical-align: middle;\n",
              "    }\n",
              "\n",
              "    .dataframe tbody tr th {\n",
              "        vertical-align: top;\n",
              "    }\n",
              "\n",
              "    .dataframe thead th {\n",
              "        text-align: right;\n",
              "    }\n",
              "</style>\n",
              "<table border=\"1\" class=\"dataframe\">\n",
              "  <thead>\n",
              "    <tr style=\"text-align: right;\">\n",
              "      <th></th>\n",
              "      <th></th>\n",
              "      <th>Total</th>\n",
              "    </tr>\n",
              "    <tr>\n",
              "      <th>AÑO</th>\n",
              "      <th>DISEÑO</th>\n",
              "      <th></th>\n",
              "    </tr>\n",
              "  </thead>\n",
              "  <tbody>\n",
              "    <tr>\n",
              "      <th rowspan=\"5\" valign=\"top\">2014</th>\n",
              "      <th>Ciclo Ruta</th>\n",
              "      <td>173</td>\n",
              "    </tr>\n",
              "    <tr>\n",
              "      <th>Glorieta</th>\n",
              "      <td>351</td>\n",
              "    </tr>\n",
              "    <tr>\n",
              "      <th>Interseccion</th>\n",
              "      <td>2852</td>\n",
              "    </tr>\n",
              "    <tr>\n",
              "      <th>Lote o Predio</th>\n",
              "      <td>619</td>\n",
              "    </tr>\n",
              "    <tr>\n",
              "      <th>Paso Elevado</th>\n",
              "      <td>61</td>\n",
              "    </tr>\n",
              "    <tr>\n",
              "      <th>...</th>\n",
              "      <th>...</th>\n",
              "      <td>...</td>\n",
              "    </tr>\n",
              "    <tr>\n",
              "      <th rowspan=\"5\" valign=\"top\">2020</th>\n",
              "      <th>Pontón</th>\n",
              "      <td>2</td>\n",
              "    </tr>\n",
              "    <tr>\n",
              "      <th>Puente</th>\n",
              "      <td>61</td>\n",
              "    </tr>\n",
              "    <tr>\n",
              "      <th>Tramo de via</th>\n",
              "      <td>10786</td>\n",
              "    </tr>\n",
              "    <tr>\n",
              "      <th>Tunel</th>\n",
              "      <td>8</td>\n",
              "    </tr>\n",
              "    <tr>\n",
              "      <th>Via peatonal</th>\n",
              "      <td>1</td>\n",
              "    </tr>\n",
              "  </tbody>\n",
              "</table>\n",
              "<p>83 rows × 1 columns</p>\n",
              "</div>"
            ],
            "text/plain": [
              "                    Total\n",
              "AÑO  DISEÑO              \n",
              "2014 Ciclo Ruta       173\n",
              "     Glorieta         351\n",
              "     Interseccion    2852\n",
              "     Lote o Predio    619\n",
              "     Paso Elevado      61\n",
              "...                   ...\n",
              "2020 Pontón             2\n",
              "     Puente            61\n",
              "     Tramo de via   10786\n",
              "     Tunel              8\n",
              "     Via peatonal       1\n",
              "\n",
              "[83 rows x 1 columns]"
            ]
          },
          "metadata": {},
          "execution_count": 46
        }
      ]
    },
    {
      "cell_type": "code",
      "metadata": {
        "colab": {
          "base_uri": "https://localhost:8080/",
          "height": 959
        },
        "id": "5pkuuDw01O29",
        "outputId": "89ae0cb6-3893-465e-e968-67235949dcce"
      },
      "source": [
        "df_Momentodia = df.groupby(['AÑO','MOMENTO'])[['MOMENTO']].count()\n",
        "df_Momentodia.rename({df_Momentodia.columns[0]:'Total'}, axis = 1, inplace = True)\n",
        "df_Momentodia"
      ],
      "execution_count": 47,
      "outputs": [
        {
          "output_type": "execute_result",
          "data": {
            "text/html": [
              "<div>\n",
              "<style scoped>\n",
              "    .dataframe tbody tr th:only-of-type {\n",
              "        vertical-align: middle;\n",
              "    }\n",
              "\n",
              "    .dataframe tbody tr th {\n",
              "        vertical-align: top;\n",
              "    }\n",
              "\n",
              "    .dataframe thead th {\n",
              "        text-align: right;\n",
              "    }\n",
              "</style>\n",
              "<table border=\"1\" class=\"dataframe\">\n",
              "  <thead>\n",
              "    <tr style=\"text-align: right;\">\n",
              "      <th></th>\n",
              "      <th></th>\n",
              "      <th>Total</th>\n",
              "    </tr>\n",
              "    <tr>\n",
              "      <th>AÑO</th>\n",
              "      <th>MOMENTO</th>\n",
              "      <th></th>\n",
              "    </tr>\n",
              "  </thead>\n",
              "  <tbody>\n",
              "    <tr>\n",
              "      <th rowspan=\"4\" valign=\"top\">2014</th>\n",
              "      <th>Madrugada</th>\n",
              "      <td>1343</td>\n",
              "    </tr>\n",
              "    <tr>\n",
              "      <th>Mañana</th>\n",
              "      <td>6296</td>\n",
              "    </tr>\n",
              "    <tr>\n",
              "      <th>Noche</th>\n",
              "      <td>5135</td>\n",
              "    </tr>\n",
              "    <tr>\n",
              "      <th>Tarde</th>\n",
              "      <td>7851</td>\n",
              "    </tr>\n",
              "    <tr>\n",
              "      <th rowspan=\"4\" valign=\"top\">2015</th>\n",
              "      <th>Madrugada</th>\n",
              "      <td>10673</td>\n",
              "    </tr>\n",
              "    <tr>\n",
              "      <th>Mañana</th>\n",
              "      <td>19175</td>\n",
              "    </tr>\n",
              "    <tr>\n",
              "      <th>Noche</th>\n",
              "      <td>3872</td>\n",
              "    </tr>\n",
              "    <tr>\n",
              "      <th>Tarde</th>\n",
              "      <td>8701</td>\n",
              "    </tr>\n",
              "    <tr>\n",
              "      <th rowspan=\"4\" valign=\"top\">2016</th>\n",
              "      <th>Madrugada</th>\n",
              "      <td>2708</td>\n",
              "    </tr>\n",
              "    <tr>\n",
              "      <th>Mañana</th>\n",
              "      <td>13444</td>\n",
              "    </tr>\n",
              "    <tr>\n",
              "      <th>Noche</th>\n",
              "      <td>10446</td>\n",
              "    </tr>\n",
              "    <tr>\n",
              "      <th>Tarde</th>\n",
              "      <td>16686</td>\n",
              "    </tr>\n",
              "    <tr>\n",
              "      <th rowspan=\"4\" valign=\"top\">2017</th>\n",
              "      <th>Madrugada</th>\n",
              "      <td>2625</td>\n",
              "    </tr>\n",
              "    <tr>\n",
              "      <th>Mañana</th>\n",
              "      <td>13039</td>\n",
              "    </tr>\n",
              "    <tr>\n",
              "      <th>Noche</th>\n",
              "      <td>10326</td>\n",
              "    </tr>\n",
              "    <tr>\n",
              "      <th>Tarde</th>\n",
              "      <td>16471</td>\n",
              "    </tr>\n",
              "    <tr>\n",
              "      <th rowspan=\"4\" valign=\"top\">2018</th>\n",
              "      <th>Madrugada</th>\n",
              "      <td>2485</td>\n",
              "    </tr>\n",
              "    <tr>\n",
              "      <th>Mañana</th>\n",
              "      <td>12137</td>\n",
              "    </tr>\n",
              "    <tr>\n",
              "      <th>Noche</th>\n",
              "      <td>9744</td>\n",
              "    </tr>\n",
              "    <tr>\n",
              "      <th>Tarde</th>\n",
              "      <td>15595</td>\n",
              "    </tr>\n",
              "    <tr>\n",
              "      <th rowspan=\"4\" valign=\"top\">2019</th>\n",
              "      <th>Madrugada</th>\n",
              "      <td>2805</td>\n",
              "    </tr>\n",
              "    <tr>\n",
              "      <th>Mañana</th>\n",
              "      <td>13123</td>\n",
              "    </tr>\n",
              "    <tr>\n",
              "      <th>Noche</th>\n",
              "      <td>9909</td>\n",
              "    </tr>\n",
              "    <tr>\n",
              "      <th>Tarde</th>\n",
              "      <td>16548</td>\n",
              "    </tr>\n",
              "    <tr>\n",
              "      <th rowspan=\"4\" valign=\"top\">2020</th>\n",
              "      <th>Madrugada</th>\n",
              "      <td>1293</td>\n",
              "    </tr>\n",
              "    <tr>\n",
              "      <th>Mañana</th>\n",
              "      <td>5364</td>\n",
              "    </tr>\n",
              "    <tr>\n",
              "      <th>Noche</th>\n",
              "      <td>4051</td>\n",
              "    </tr>\n",
              "    <tr>\n",
              "      <th>Tarde</th>\n",
              "      <td>7238</td>\n",
              "    </tr>\n",
              "  </tbody>\n",
              "</table>\n",
              "</div>"
            ],
            "text/plain": [
              "                Total\n",
              "AÑO  MOMENTO         \n",
              "2014 Madrugada   1343\n",
              "     Mañana      6296\n",
              "     Noche       5135\n",
              "     Tarde       7851\n",
              "2015 Madrugada  10673\n",
              "     Mañana     19175\n",
              "     Noche       3872\n",
              "     Tarde       8701\n",
              "2016 Madrugada   2708\n",
              "     Mañana     13444\n",
              "     Noche      10446\n",
              "     Tarde      16686\n",
              "2017 Madrugada   2625\n",
              "     Mañana     13039\n",
              "     Noche      10326\n",
              "     Tarde      16471\n",
              "2018 Madrugada   2485\n",
              "     Mañana     12137\n",
              "     Noche       9744\n",
              "     Tarde      15595\n",
              "2019 Madrugada   2805\n",
              "     Mañana     13123\n",
              "     Noche       9909\n",
              "     Tarde      16548\n",
              "2020 Madrugada   1293\n",
              "     Mañana      5364\n",
              "     Noche       4051\n",
              "     Tarde       7238"
            ]
          },
          "metadata": {},
          "execution_count": 47
        }
      ]
    }
  ]
}