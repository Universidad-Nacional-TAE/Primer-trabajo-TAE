{
 "cells": [
  {
   "cell_type": "code",
   "execution_count": 47,
   "id": "a424ae5f",
   "metadata": {},
   "outputs": [],
   "source": [
    "import pandas as pd\n",
    "from datetime import datetime"
   ]
  },
  {
   "cell_type": "code",
   "execution_count": 48,
   "id": "700fe77f",
   "metadata": {},
   "outputs": [],
   "source": [
    "from sklearn.preprocessing import LabelEncoder\n",
    "from sklearn.feature_selection import chi2"
   ]
  },
  {
   "cell_type": "code",
   "execution_count": 49,
   "id": "8a246093",
   "metadata": {},
   "outputs": [
    {
     "data": {
      "text/html": [
       "<div>\n",
       "<style scoped>\n",
       "    .dataframe tbody tr th:only-of-type {\n",
       "        vertical-align: middle;\n",
       "    }\n",
       "\n",
       "    .dataframe tbody tr th {\n",
       "        vertical-align: top;\n",
       "    }\n",
       "\n",
       "    .dataframe thead th {\n",
       "        text-align: right;\n",
       "    }\n",
       "</style>\n",
       "<table border=\"1\" class=\"dataframe\">\n",
       "  <thead>\n",
       "    <tr style=\"text-align: right;\">\n",
       "      <th></th>\n",
       "      <th>AÑO</th>\n",
       "      <th>CLASE_ACCIDENTE</th>\n",
       "      <th>DISEÑO</th>\n",
       "      <th>FECHA_ACCIDENTE</th>\n",
       "      <th>GRAVEDAD</th>\n",
       "      <th>MES</th>\n",
       "      <th>NUMCOMUNA</th>\n",
       "      <th>BARRIO</th>\n",
       "      <th>HORA</th>\n",
       "      <th>SEMANA</th>\n",
       "      <th>DIA_DEL_AÑO</th>\n",
       "      <th>DIA_DEL_MES</th>\n",
       "      <th>DIA_SEMANA</th>\n",
       "      <th>LONGITUD</th>\n",
       "      <th>ALTITUD</th>\n",
       "      <th>MOMENTO</th>\n",
       "    </tr>\n",
       "  </thead>\n",
       "  <tbody>\n",
       "    <tr>\n",
       "      <th>0</th>\n",
       "      <td>2014</td>\n",
       "      <td>Otro</td>\n",
       "      <td>Tramo de via</td>\n",
       "      <td>2014-08-05</td>\n",
       "      <td>Con heridos</td>\n",
       "      <td>8</td>\n",
       "      <td>11</td>\n",
       "      <td>Los Conquistadores</td>\n",
       "      <td>07:15:00</td>\n",
       "      <td>Semana 32</td>\n",
       "      <td>217</td>\n",
       "      <td>5</td>\n",
       "      <td>Tuesday</td>\n",
       "      <td>-75.589313</td>\n",
       "      <td>6.239787</td>\n",
       "      <td>Mañana</td>\n",
       "    </tr>\n",
       "    <tr>\n",
       "      <th>1</th>\n",
       "      <td>2014</td>\n",
       "      <td>Choque</td>\n",
       "      <td>Interseccion</td>\n",
       "      <td>2014-08-05</td>\n",
       "      <td>Con heridos</td>\n",
       "      <td>8</td>\n",
       "      <td>5</td>\n",
       "      <td>Girardot</td>\n",
       "      <td>14:30:00</td>\n",
       "      <td>Semana 32</td>\n",
       "      <td>217</td>\n",
       "      <td>5</td>\n",
       "      <td>Tuesday</td>\n",
       "      <td>-75.570818</td>\n",
       "      <td>6.300041</td>\n",
       "      <td>Tarde</td>\n",
       "    </tr>\n",
       "    <tr>\n",
       "      <th>2</th>\n",
       "      <td>2014</td>\n",
       "      <td>Choque</td>\n",
       "      <td>Tramo de via</td>\n",
       "      <td>2014-08-05</td>\n",
       "      <td>Con heridos</td>\n",
       "      <td>8</td>\n",
       "      <td>14</td>\n",
       "      <td>Patio Bonito</td>\n",
       "      <td>15:50:00</td>\n",
       "      <td>Semana 32</td>\n",
       "      <td>217</td>\n",
       "      <td>5</td>\n",
       "      <td>Tuesday</td>\n",
       "      <td>-75.576574</td>\n",
       "      <td>6.208748</td>\n",
       "      <td>Tarde</td>\n",
       "    </tr>\n",
       "    <tr>\n",
       "      <th>3</th>\n",
       "      <td>2014</td>\n",
       "      <td>Otro</td>\n",
       "      <td>Tramo de via</td>\n",
       "      <td>2014-08-05</td>\n",
       "      <td>Con heridos</td>\n",
       "      <td>8</td>\n",
       "      <td>8</td>\n",
       "      <td>Villa Hermosa</td>\n",
       "      <td>13:00:00</td>\n",
       "      <td>Semana 32</td>\n",
       "      <td>217</td>\n",
       "      <td>5</td>\n",
       "      <td>Tuesday</td>\n",
       "      <td>-75.551255</td>\n",
       "      <td>6.259058</td>\n",
       "      <td>Tarde</td>\n",
       "    </tr>\n",
       "    <tr>\n",
       "      <th>4</th>\n",
       "      <td>2014</td>\n",
       "      <td>Choque</td>\n",
       "      <td>Tramo de via</td>\n",
       "      <td>2014-08-05</td>\n",
       "      <td>Con heridos</td>\n",
       "      <td>8</td>\n",
       "      <td>10</td>\n",
       "      <td>Los Ángeles</td>\n",
       "      <td>19:30:00</td>\n",
       "      <td>Semana 32</td>\n",
       "      <td>217</td>\n",
       "      <td>5</td>\n",
       "      <td>Tuesday</td>\n",
       "      <td>-75.556150</td>\n",
       "      <td>6.249966</td>\n",
       "      <td>Noche</td>\n",
       "    </tr>\n",
       "  </tbody>\n",
       "</table>\n",
       "</div>"
      ],
      "text/plain": [
       "    AÑO CLASE_ACCIDENTE        DISEÑO FECHA_ACCIDENTE     GRAVEDAD  MES  \\\n",
       "0  2014            Otro  Tramo de via      2014-08-05  Con heridos    8   \n",
       "1  2014          Choque  Interseccion      2014-08-05  Con heridos    8   \n",
       "2  2014          Choque  Tramo de via      2014-08-05  Con heridos    8   \n",
       "3  2014            Otro  Tramo de via      2014-08-05  Con heridos    8   \n",
       "4  2014          Choque  Tramo de via      2014-08-05  Con heridos    8   \n",
       "\n",
       "   NUMCOMUNA              BARRIO      HORA     SEMANA  DIA_DEL_AÑO  \\\n",
       "0         11  Los Conquistadores  07:15:00  Semana 32          217   \n",
       "1          5            Girardot  14:30:00  Semana 32          217   \n",
       "2         14        Patio Bonito  15:50:00  Semana 32          217   \n",
       "3          8       Villa Hermosa  13:00:00  Semana 32          217   \n",
       "4         10         Los Ángeles  19:30:00  Semana 32          217   \n",
       "\n",
       "   DIA_DEL_MES DIA_SEMANA   LONGITUD   ALTITUD MOMENTO  \n",
       "0            5    Tuesday -75.589313  6.239787  Mañana  \n",
       "1            5    Tuesday -75.570818  6.300041   Tarde  \n",
       "2            5    Tuesday -75.576574  6.208748   Tarde  \n",
       "3            5    Tuesday -75.551255  6.259058   Tarde  \n",
       "4            5    Tuesday -75.556150  6.249966   Noche  "
      ]
     },
     "execution_count": 49,
     "metadata": {},
     "output_type": "execute_result"
    }
   ],
   "source": [
    "df_full = pd.read_csv('Datafull.csv', encoding = 'utf-8')\n",
    "df_festivos = pd.read_csv('festivosm.csv', encoding = 'utf-8', sep =';')\n",
    "df_full.head(5)"
   ]
  },
  {
   "cell_type": "code",
   "execution_count": 50,
   "id": "ed8c17fc",
   "metadata": {},
   "outputs": [],
   "source": [
    "df_festivos['Fecha'] = pd.to_datetime(df_festivos['Fecha'], format=\"%m/%d/%Y\")"
   ]
  },
  {
   "cell_type": "code",
   "execution_count": 51,
   "id": "8a2eb5c0",
   "metadata": {},
   "outputs": [
    {
     "data": {
      "text/html": [
       "<div>\n",
       "<style scoped>\n",
       "    .dataframe tbody tr th:only-of-type {\n",
       "        vertical-align: middle;\n",
       "    }\n",
       "\n",
       "    .dataframe tbody tr th {\n",
       "        vertical-align: top;\n",
       "    }\n",
       "\n",
       "    .dataframe thead th {\n",
       "        text-align: right;\n",
       "    }\n",
       "</style>\n",
       "<table border=\"1\" class=\"dataframe\">\n",
       "  <thead>\n",
       "    <tr style=\"text-align: right;\">\n",
       "      <th></th>\n",
       "      <th>Fecha</th>\n",
       "      <th>Festivo</th>\n",
       "    </tr>\n",
       "  </thead>\n",
       "  <tbody>\n",
       "    <tr>\n",
       "      <th>0</th>\n",
       "      <td>2014-01-01</td>\n",
       "      <td>1</td>\n",
       "    </tr>\n",
       "    <tr>\n",
       "      <th>1</th>\n",
       "      <td>2014-01-06</td>\n",
       "      <td>1</td>\n",
       "    </tr>\n",
       "    <tr>\n",
       "      <th>2</th>\n",
       "      <td>2014-03-24</td>\n",
       "      <td>1</td>\n",
       "    </tr>\n",
       "    <tr>\n",
       "      <th>3</th>\n",
       "      <td>2014-04-17</td>\n",
       "      <td>1</td>\n",
       "    </tr>\n",
       "    <tr>\n",
       "      <th>4</th>\n",
       "      <td>2014-04-18</td>\n",
       "      <td>1</td>\n",
       "    </tr>\n",
       "  </tbody>\n",
       "</table>\n",
       "</div>"
      ],
      "text/plain": [
       "       Fecha  Festivo\n",
       "0 2014-01-01        1\n",
       "1 2014-01-06        1\n",
       "2 2014-03-24        1\n",
       "3 2014-04-17        1\n",
       "4 2014-04-18        1"
      ]
     },
     "execution_count": 51,
     "metadata": {},
     "output_type": "execute_result"
    }
   ],
   "source": [
    "df_festivos.head()"
   ]
  },
  {
   "cell_type": "code",
   "execution_count": 52,
   "id": "90822ba0",
   "metadata": {},
   "outputs": [],
   "source": [
    "df_full = df_full[['AÑO','MES','FECHA_ACCIDENTE','DIA_DEL_MES','DIA_SEMANA','MOMENTO','NUMCOMUNA','CLASE_ACCIDENTE']]"
   ]
  },
  {
   "cell_type": "code",
   "execution_count": 53,
   "id": "29bb1843",
   "metadata": {},
   "outputs": [],
   "source": [
    "df_full['FECHA_ACCIDENTE'] = pd.to_datetime(df_full['FECHA_ACCIDENTE'], format=\"%Y/%m/%d\")"
   ]
  },
  {
   "cell_type": "code",
   "execution_count": 54,
   "id": "542bcdd4",
   "metadata": {},
   "outputs": [],
   "source": [
    "df_full['festivo'] = df_full['FECHA_ACCIDENTE'].apply(lambda x: 1 if x in df_festivos['Fecha'].unique() else 0)"
   ]
  },
  {
   "cell_type": "code",
   "execution_count": 55,
   "id": "c81bbfca",
   "metadata": {},
   "outputs": [
    {
     "data": {
      "text/html": [
       "<div>\n",
       "<style scoped>\n",
       "    .dataframe tbody tr th:only-of-type {\n",
       "        vertical-align: middle;\n",
       "    }\n",
       "\n",
       "    .dataframe tbody tr th {\n",
       "        vertical-align: top;\n",
       "    }\n",
       "\n",
       "    .dataframe thead th {\n",
       "        text-align: right;\n",
       "    }\n",
       "</style>\n",
       "<table border=\"1\" class=\"dataframe\">\n",
       "  <thead>\n",
       "    <tr style=\"text-align: right;\">\n",
       "      <th></th>\n",
       "      <th>AÑO</th>\n",
       "      <th>MES</th>\n",
       "      <th>FECHA_ACCIDENTE</th>\n",
       "      <th>DIA_DEL_MES</th>\n",
       "      <th>DIA_SEMANA</th>\n",
       "      <th>MOMENTO</th>\n",
       "      <th>NUMCOMUNA</th>\n",
       "      <th>CLASE_ACCIDENTE</th>\n",
       "      <th>festivo</th>\n",
       "    </tr>\n",
       "  </thead>\n",
       "  <tbody>\n",
       "    <tr>\n",
       "      <th>0</th>\n",
       "      <td>2014</td>\n",
       "      <td>8</td>\n",
       "      <td>2014-08-05</td>\n",
       "      <td>5</td>\n",
       "      <td>Tuesday</td>\n",
       "      <td>Mañana</td>\n",
       "      <td>11</td>\n",
       "      <td>Otro</td>\n",
       "      <td>0</td>\n",
       "    </tr>\n",
       "    <tr>\n",
       "      <th>1</th>\n",
       "      <td>2014</td>\n",
       "      <td>8</td>\n",
       "      <td>2014-08-05</td>\n",
       "      <td>5</td>\n",
       "      <td>Tuesday</td>\n",
       "      <td>Tarde</td>\n",
       "      <td>5</td>\n",
       "      <td>Choque</td>\n",
       "      <td>0</td>\n",
       "    </tr>\n",
       "    <tr>\n",
       "      <th>2</th>\n",
       "      <td>2014</td>\n",
       "      <td>8</td>\n",
       "      <td>2014-08-05</td>\n",
       "      <td>5</td>\n",
       "      <td>Tuesday</td>\n",
       "      <td>Tarde</td>\n",
       "      <td>14</td>\n",
       "      <td>Choque</td>\n",
       "      <td>0</td>\n",
       "    </tr>\n",
       "    <tr>\n",
       "      <th>3</th>\n",
       "      <td>2014</td>\n",
       "      <td>8</td>\n",
       "      <td>2014-08-05</td>\n",
       "      <td>5</td>\n",
       "      <td>Tuesday</td>\n",
       "      <td>Tarde</td>\n",
       "      <td>8</td>\n",
       "      <td>Otro</td>\n",
       "      <td>0</td>\n",
       "    </tr>\n",
       "    <tr>\n",
       "      <th>4</th>\n",
       "      <td>2014</td>\n",
       "      <td>8</td>\n",
       "      <td>2014-08-05</td>\n",
       "      <td>5</td>\n",
       "      <td>Tuesday</td>\n",
       "      <td>Noche</td>\n",
       "      <td>10</td>\n",
       "      <td>Choque</td>\n",
       "      <td>0</td>\n",
       "    </tr>\n",
       "  </tbody>\n",
       "</table>\n",
       "</div>"
      ],
      "text/plain": [
       "    AÑO  MES FECHA_ACCIDENTE  DIA_DEL_MES DIA_SEMANA MOMENTO  NUMCOMUNA  \\\n",
       "0  2014    8      2014-08-05            5    Tuesday  Mañana         11   \n",
       "1  2014    8      2014-08-05            5    Tuesday   Tarde          5   \n",
       "2  2014    8      2014-08-05            5    Tuesday   Tarde         14   \n",
       "3  2014    8      2014-08-05            5    Tuesday   Tarde          8   \n",
       "4  2014    8      2014-08-05            5    Tuesday   Noche         10   \n",
       "\n",
       "  CLASE_ACCIDENTE  festivo  \n",
       "0            Otro        0  \n",
       "1          Choque        0  \n",
       "2          Choque        0  \n",
       "3            Otro        0  \n",
       "4          Choque        0  "
      ]
     },
     "execution_count": 55,
     "metadata": {},
     "output_type": "execute_result"
    }
   ],
   "source": [
    "Merge1 = df_full\n",
    "Merge1.head()"
   ]
  },
  {
   "cell_type": "code",
   "execution_count": 56,
   "id": "4364de24",
   "metadata": {},
   "outputs": [
    {
     "data": {
      "text/plain": [
       "(249083, 9)"
      ]
     },
     "execution_count": 56,
     "metadata": {},
     "output_type": "execute_result"
    }
   ],
   "source": [
    "Merge1.shape"
   ]
  },
  {
   "cell_type": "code",
   "execution_count": 57,
   "id": "fd6cd8d7",
   "metadata": {},
   "outputs": [
    {
     "data": {
      "text/html": [
       "<div>\n",
       "<style scoped>\n",
       "    .dataframe tbody tr th:only-of-type {\n",
       "        vertical-align: middle;\n",
       "    }\n",
       "\n",
       "    .dataframe tbody tr th {\n",
       "        vertical-align: top;\n",
       "    }\n",
       "\n",
       "    .dataframe thead th {\n",
       "        text-align: right;\n",
       "    }\n",
       "</style>\n",
       "<table border=\"1\" class=\"dataframe\">\n",
       "  <thead>\n",
       "    <tr style=\"text-align: right;\">\n",
       "      <th></th>\n",
       "      <th>FECHA_ACCIDENTE</th>\n",
       "      <th>CLASE_ACCIDENTE</th>\n",
       "      <th>Total</th>\n",
       "    </tr>\n",
       "  </thead>\n",
       "  <tbody>\n",
       "    <tr>\n",
       "      <th>0</th>\n",
       "      <td>2014-07-04</td>\n",
       "      <td>Choque</td>\n",
       "      <td>22</td>\n",
       "    </tr>\n",
       "    <tr>\n",
       "      <th>1</th>\n",
       "      <td>2014-07-05</td>\n",
       "      <td>Atropello</td>\n",
       "      <td>25</td>\n",
       "    </tr>\n",
       "    <tr>\n",
       "      <th>2</th>\n",
       "      <td>2014-07-05</td>\n",
       "      <td>Caída de Ocupante</td>\n",
       "      <td>18</td>\n",
       "    </tr>\n",
       "    <tr>\n",
       "      <th>3</th>\n",
       "      <td>2014-07-05</td>\n",
       "      <td>Choque</td>\n",
       "      <td>63</td>\n",
       "    </tr>\n",
       "    <tr>\n",
       "      <th>4</th>\n",
       "      <td>2014-07-05</td>\n",
       "      <td>Otro</td>\n",
       "      <td>7</td>\n",
       "    </tr>\n",
       "  </tbody>\n",
       "</table>\n",
       "</div>"
      ],
      "text/plain": [
       "  FECHA_ACCIDENTE    CLASE_ACCIDENTE  Total\n",
       "0      2014-07-04             Choque     22\n",
       "1      2014-07-05          Atropello     25\n",
       "2      2014-07-05  Caída de Ocupante     18\n",
       "3      2014-07-05             Choque     63\n",
       "4      2014-07-05               Otro      7"
      ]
     },
     "execution_count": 57,
     "metadata": {},
     "output_type": "execute_result"
    }
   ],
   "source": [
    "proof = Merge1.groupby(['FECHA_ACCIDENTE','CLASE_ACCIDENTE'])[['CLASE_ACCIDENTE']].count()\n",
    "proof.rename({proof.columns[0]: 'Total'}, axis = 1, inplace = True)\n",
    "proof = proof.reset_index()\n",
    "proof.head(5)"
   ]
  },
  {
   "cell_type": "code",
   "execution_count": 58,
   "id": "a080a823",
   "metadata": {},
   "outputs": [
    {
     "data": {
      "text/plain": [
       "array(['Choque', 'Atropello', 'Caída de Ocupante', 'Otro', 'Volcamiento',\n",
       "       'Incendio'], dtype=object)"
      ]
     },
     "execution_count": 58,
     "metadata": {},
     "output_type": "execute_result"
    }
   ],
   "source": [
    "proof['CLASE_ACCIDENTE'].unique()"
   ]
  },
  {
   "cell_type": "code",
   "execution_count": 59,
   "id": "1ac11db6",
   "metadata": {},
   "outputs": [],
   "source": [
    "proof_choque = proof[proof['CLASE_ACCIDENTE'] == 'Choque']\n",
    "Atropello = proof[proof['CLASE_ACCIDENTE'] == 'Atropello']\n",
    "Caida = proof[proof['CLASE_ACCIDENTE'] == 'Caída de Ocupante']\n",
    "Volcamiento = proof[proof['CLASE_ACCIDENTE'] == 'Volcamiento']\n",
    "Incendio = proof[proof['CLASE_ACCIDENTE'] == 'Incendio']\n",
    "Otro = proof[proof['CLASE_ACCIDENTE'] == 'Otro']"
   ]
  },
  {
   "cell_type": "code",
   "execution_count": 60,
   "id": "babddf2b",
   "metadata": {},
   "outputs": [
    {
     "data": {
      "text/plain": [
       "(2251, 3)"
      ]
     },
     "execution_count": 60,
     "metadata": {},
     "output_type": "execute_result"
    }
   ],
   "source": [
    "proof_choque.shape"
   ]
  },
  {
   "cell_type": "code",
   "execution_count": 61,
   "id": "f4411f39",
   "metadata": {},
   "outputs": [
    {
     "data": {
      "text/html": [
       "<div>\n",
       "<style scoped>\n",
       "    .dataframe tbody tr th:only-of-type {\n",
       "        vertical-align: middle;\n",
       "    }\n",
       "\n",
       "    .dataframe tbody tr th {\n",
       "        vertical-align: top;\n",
       "    }\n",
       "\n",
       "    .dataframe thead th {\n",
       "        text-align: right;\n",
       "    }\n",
       "</style>\n",
       "<table border=\"1\" class=\"dataframe\">\n",
       "  <thead>\n",
       "    <tr style=\"text-align: right;\">\n",
       "      <th></th>\n",
       "      <th>FECHA_ACCIDENTE</th>\n",
       "      <th>CLASE_ACCIDENTE</th>\n",
       "      <th>Total</th>\n",
       "    </tr>\n",
       "  </thead>\n",
       "  <tbody>\n",
       "    <tr>\n",
       "      <th>0</th>\n",
       "      <td>2014-07-04</td>\n",
       "      <td>Choque</td>\n",
       "      <td>22</td>\n",
       "    </tr>\n",
       "    <tr>\n",
       "      <th>3</th>\n",
       "      <td>2014-07-05</td>\n",
       "      <td>Choque</td>\n",
       "      <td>63</td>\n",
       "    </tr>\n",
       "    <tr>\n",
       "      <th>8</th>\n",
       "      <td>2014-07-06</td>\n",
       "      <td>Choque</td>\n",
       "      <td>40</td>\n",
       "    </tr>\n",
       "    <tr>\n",
       "      <th>12</th>\n",
       "      <td>2014-07-07</td>\n",
       "      <td>Choque</td>\n",
       "      <td>110</td>\n",
       "    </tr>\n",
       "    <tr>\n",
       "      <th>17</th>\n",
       "      <td>2014-07-08</td>\n",
       "      <td>Choque</td>\n",
       "      <td>83</td>\n",
       "    </tr>\n",
       "  </tbody>\n",
       "</table>\n",
       "</div>"
      ],
      "text/plain": [
       "   FECHA_ACCIDENTE CLASE_ACCIDENTE  Total\n",
       "0       2014-07-04          Choque     22\n",
       "3       2014-07-05          Choque     63\n",
       "8       2014-07-06          Choque     40\n",
       "12      2014-07-07          Choque    110\n",
       "17      2014-07-08          Choque     83"
      ]
     },
     "execution_count": 61,
     "metadata": {},
     "output_type": "execute_result"
    }
   ],
   "source": [
    "proof_choque.head()"
   ]
  },
  {
   "cell_type": "code",
   "execution_count": 62,
   "id": "9151a66c",
   "metadata": {},
   "outputs": [],
   "source": [
    "Choque = proof_choque[['FECHA_ACCIDENTE','Total']]\n",
    "Choque_train = Choque[Choque['FECHA_ACCIDENTE'] < datetime(2018, 1, 1)]\n",
    "Choque_test = Choque[(Choque['FECHA_ACCIDENTE'] >= datetime(2018, 1, 1)) & (Choque['FECHA_ACCIDENTE'] < datetime(2020,1,1))]\n",
    "Choque_evalua = Choque[Choque['FECHA_ACCIDENTE'] >= datetime(2020,1,1)]"
   ]
  },
  {
   "cell_type": "code",
   "execution_count": 63,
   "id": "2a56b746",
   "metadata": {},
   "outputs": [],
   "source": [
    "Atropello =  Atropello[['FECHA_ACCIDENTE','Total']]\n",
    "Atropello_train = Atropello[Atropello['FECHA_ACCIDENTE'] < datetime(2018, 1, 1)]\n",
    "Atropello_test = Atropello[(Atropello['FECHA_ACCIDENTE'] >= datetime(2018, 1, 1)) & (Atropello['FECHA_ACCIDENTE'] < datetime(2020,1,1))]\n",
    "Atropello_evalua = Atropello[Atropello['FECHA_ACCIDENTE'] >= datetime(2020,1,1)]"
   ]
  },
  {
   "cell_type": "code",
   "execution_count": 64,
   "id": "1ba6370d",
   "metadata": {},
   "outputs": [],
   "source": [
    "Caida =  Caida[['FECHA_ACCIDENTE','Total']]\n",
    "Caida_train = Caida[Caida['FECHA_ACCIDENTE'] < datetime(2018, 1, 1)]\n",
    "Caida_test = Caida[(Caida['FECHA_ACCIDENTE'] >= datetime(2018, 1, 1)) & (Caida['FECHA_ACCIDENTE'] < datetime(2020,1,1))]\n",
    "Caida_evalua = Caida[Caida['FECHA_ACCIDENTE'] >= datetime(2020,1,1)]"
   ]
  },
  {
   "cell_type": "code",
   "execution_count": 65,
   "id": "ae843b75",
   "metadata": {},
   "outputs": [],
   "source": [
    "Volcamiento =  Volcamiento[['FECHA_ACCIDENTE','Total']]\n",
    "Volcamiento_train = Volcamiento[Volcamiento['FECHA_ACCIDENTE'] < datetime(2018, 1, 1)]\n",
    "Volcamiento_test = Volcamiento[(Volcamiento['FECHA_ACCIDENTE'] >= datetime(2018, 1, 1)) & (Volcamiento['FECHA_ACCIDENTE'] < datetime(2020,1,1))]\n",
    "Volcamiento_evalua = Volcamiento[Volcamiento['FECHA_ACCIDENTE'] >= datetime(2020,1,1)]"
   ]
  },
  {
   "cell_type": "code",
   "execution_count": 66,
   "id": "bed378b7",
   "metadata": {},
   "outputs": [],
   "source": [
    "Otro =  Otro[['FECHA_ACCIDENTE','Total']]\n",
    "Otro_train = Otro[Otro['FECHA_ACCIDENTE'] < datetime(2018, 1, 1)]\n",
    "Otro_test = Otro[(Otro['FECHA_ACCIDENTE'] >= datetime(2018, 1, 1)) & (Otro['FECHA_ACCIDENTE'] < datetime(2020,1,1))]\n",
    "Otro_evalua = Otro[Otro['FECHA_ACCIDENTE'] >= datetime(2020,1,1)]"
   ]
  },
  {
   "cell_type": "code",
   "execution_count": 67,
   "id": "fe220537",
   "metadata": {},
   "outputs": [],
   "source": [
    "Incendio =  Incendio[['FECHA_ACCIDENTE','Total']]\n",
    "Incendio_train = Incendio[Incendio['FECHA_ACCIDENTE'] < datetime(2018, 1, 1)]\n",
    "Incendio_test = Incendio[(Incendio['FECHA_ACCIDENTE'] >= datetime(2018, 1, 1)) & (Incendio['FECHA_ACCIDENTE'] < datetime(2020,1,1))]\n",
    "Incendio_evalua = Incendio[Incendio['FECHA_ACCIDENTE'] >= datetime(2020,1,1)]"
   ]
  },
  {
   "cell_type": "code",
   "execution_count": 70,
   "id": "2128f0ab",
   "metadata": {},
   "outputs": [],
   "source": [
    "Choque_train.to_csv('Choque_train.csv', encoding = 'utf-8', index = False)\n",
    "Choque_test.to_csv('Choque_test.csv', encoding = 'utf-8', index = False)\n",
    "Choque_evalua.to_csv('Choque_evalua.csv', encoding = 'utf-8', index = False)"
   ]
  },
  {
   "cell_type": "code",
   "execution_count": 71,
   "id": "9308d96d",
   "metadata": {},
   "outputs": [],
   "source": [
    "Atropello_train.to_csv('Atropello_train.csv', encoding = 'utf-8', index = False)\n",
    "Atropello_test.to_csv('Atropello_test.csv', encoding = 'utf-8', index = False)\n",
    "Atropello_evalua.to_csv('Atropello_evalua.csv', encoding = 'utf-8', index = False)"
   ]
  },
  {
   "cell_type": "code",
   "execution_count": 72,
   "id": "5185d375",
   "metadata": {},
   "outputs": [],
   "source": [
    "Caida_train.to_csv('Caida_train.csv', encoding = 'utf-8', index = False)\n",
    "Caida_test.to_csv('Caida_test.csv', encoding = 'utf-8', index = False)\n",
    "Caida_evalua.to_csv('Caida_evalua.csv', encoding = 'utf-8', index = False)"
   ]
  },
  {
   "cell_type": "code",
   "execution_count": 73,
   "id": "8da48979",
   "metadata": {},
   "outputs": [],
   "source": [
    "Volcamiento_train.to_csv('Volcamiento_train.csv', encoding = 'utf-8', index = False)\n",
    "Volcamiento_test.to_csv('Volcamiento_test.csv', encoding = 'utf-8', index = False)\n",
    "Volcamiento_evalua.to_csv('Volcamiento_evalua.csv', encoding = 'utf-8', index = False)"
   ]
  },
  {
   "cell_type": "code",
   "execution_count": 74,
   "id": "9bc47db0",
   "metadata": {},
   "outputs": [],
   "source": [
    "Otro_train.to_csv('Otro_train.csv', encoding = 'utf-8', index = False)\n",
    "Otro_test.to_csv('Otro_test.csv', encoding = 'utf-8', index = False)\n",
    "Otro_evalua.to_csv('Otro_evalua.csv', encoding = 'utf-8', index = False)"
   ]
  },
  {
   "cell_type": "code",
   "execution_count": 75,
   "id": "0ee9d7a9",
   "metadata": {},
   "outputs": [],
   "source": [
    "Incendio_train.to_csv('Incendio_train.csv', encoding = 'utf-8', index = False)\n",
    "Incendio_test.to_csv('Incendio_test.csv', encoding = 'utf-8', index = False)\n",
    "Incendio_evalua.to_csv('Incendio_evalua.csv', encoding = 'utf-8', index = False)"
   ]
  },
  {
   "cell_type": "code",
   "execution_count": 77,
   "id": "5c8163b8",
   "metadata": {},
   "outputs": [
    {
     "data": {
      "text/html": [
       "<div>\n",
       "<style scoped>\n",
       "    .dataframe tbody tr th:only-of-type {\n",
       "        vertical-align: middle;\n",
       "    }\n",
       "\n",
       "    .dataframe tbody tr th {\n",
       "        vertical-align: top;\n",
       "    }\n",
       "\n",
       "    .dataframe thead th {\n",
       "        text-align: right;\n",
       "    }\n",
       "</style>\n",
       "<table border=\"1\" class=\"dataframe\">\n",
       "  <thead>\n",
       "    <tr style=\"text-align: right;\">\n",
       "      <th></th>\n",
       "      <th>FECHA_ACCIDENTE</th>\n",
       "      <th>Total</th>\n",
       "    </tr>\n",
       "  </thead>\n",
       "  <tbody>\n",
       "    <tr>\n",
       "      <th>1</th>\n",
       "      <td>2014-07-05</td>\n",
       "      <td>25</td>\n",
       "    </tr>\n",
       "    <tr>\n",
       "      <th>6</th>\n",
       "      <td>2014-07-06</td>\n",
       "      <td>14</td>\n",
       "    </tr>\n",
       "    <tr>\n",
       "      <th>10</th>\n",
       "      <td>2014-07-07</td>\n",
       "      <td>10</td>\n",
       "    </tr>\n",
       "    <tr>\n",
       "      <th>15</th>\n",
       "      <td>2014-07-08</td>\n",
       "      <td>7</td>\n",
       "    </tr>\n",
       "    <tr>\n",
       "      <th>20</th>\n",
       "      <td>2014-07-09</td>\n",
       "      <td>14</td>\n",
       "    </tr>\n",
       "  </tbody>\n",
       "</table>\n",
       "</div>"
      ],
      "text/plain": [
       "   FECHA_ACCIDENTE  Total\n",
       "1       2014-07-05     25\n",
       "6       2014-07-06     14\n",
       "10      2014-07-07     10\n",
       "15      2014-07-08      7\n",
       "20      2014-07-09     14"
      ]
     },
     "execution_count": 77,
     "metadata": {},
     "output_type": "execute_result"
    }
   ],
   "source": [
    "Atropello.head()"
   ]
  }
 ],
 "metadata": {
  "kernelspec": {
   "display_name": "Python 3 (ipykernel)",
   "language": "python",
   "name": "python3"
  },
  "language_info": {
   "codemirror_mode": {
    "name": "ipython",
    "version": 3
   },
   "file_extension": ".py",
   "mimetype": "text/x-python",
   "name": "python",
   "nbconvert_exporter": "python",
   "pygments_lexer": "ipython3",
   "version": "3.8.12"
  }
 },
 "nbformat": 4,
 "nbformat_minor": 5
}
