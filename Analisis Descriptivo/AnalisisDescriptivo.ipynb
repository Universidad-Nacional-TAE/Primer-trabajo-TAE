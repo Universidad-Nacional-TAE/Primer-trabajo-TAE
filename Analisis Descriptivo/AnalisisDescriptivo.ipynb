{
  "nbformat": 4,
  "nbformat_minor": 0,
  "metadata": {
    "colab": {
      "name": "AnalisisDescriptivo.ipynb",
      "provenance": [],
      "collapsed_sections": []
    },
    "kernelspec": {
      "display_name": "Python 3 (ipykernel)",
      "language": "python",
      "name": "python3"
    },
    "language_info": {
      "codemirror_mode": {
        "name": "ipython",
        "version": 3
      },
      "file_extension": ".py",
      "mimetype": "text/x-python",
      "name": "python",
      "nbconvert_exporter": "python",
      "pygments_lexer": "ipython3",
      "version": "3.8.12"
    }
  },
  "cells": [
    {
      "cell_type": "code",
      "metadata": {
        "id": "KjDF0ht5DWOt"
      },
      "source": [
        "import pandas as pd\n",
        "from datetime import datetime"
      ],
      "execution_count": null,
      "outputs": []
    },
    {
      "cell_type": "code",
      "metadata": {
        "colab": {
          "base_uri": "https://localhost:8080/"
        },
        "id": "2moqkCSXdCMR",
        "outputId": "69a8d689-8208-4872-e082-758128902202"
      },
      "source": [
        "from google.colab import drive\n",
        "drive.mount('/content/drive')"
      ],
      "execution_count": null,
      "outputs": [
        {
          "output_type": "stream",
          "name": "stdout",
          "text": [
            "Mounted at /content/drive\n"
          ]
        }
      ]
    },
    {
      "cell_type": "code",
      "metadata": {
        "id": "KWLSTVd_DWO1"
      },
      "source": [
        "df = pd.read_csv(\"/content/drive/MyDrive/incidentes_viales .csv\", sep = \";\",  low_memory = False , encoding = 'utf_8',error_bad_lines=False)\n"
      ],
      "execution_count": null,
      "outputs": []
    },
    {
      "cell_type": "code",
      "metadata": {
        "colab": {
          "base_uri": "https://localhost:8080/",
          "height": 365
        },
        "id": "N5ejsq0VDWO3",
        "outputId": "21c3d35a-b865-4804-b4d2-6f1965b0ddfa"
      },
      "source": [
        "df.head()"
      ],
      "execution_count": null,
      "outputs": [
        {
          "output_type": "execute_result",
          "data": {
            "text/html": [
              "<div>\n",
              "<style scoped>\n",
              "    .dataframe tbody tr th:only-of-type {\n",
              "        vertical-align: middle;\n",
              "    }\n",
              "\n",
              "    .dataframe tbody tr th {\n",
              "        vertical-align: top;\n",
              "    }\n",
              "\n",
              "    .dataframe thead th {\n",
              "        text-align: right;\n",
              "    }\n",
              "</style>\n",
              "<table border=\"1\" class=\"dataframe\">\n",
              "  <thead>\n",
              "    <tr style=\"text-align: right;\">\n",
              "      <th></th>\n",
              "      <th>AÑO</th>\n",
              "      <th>CBML</th>\n",
              "      <th>CLASE_ACCIDENTE</th>\n",
              "      <th>DIRECCION</th>\n",
              "      <th>DIRECCION ENCASILLADA</th>\n",
              "      <th>DISEÑO</th>\n",
              "      <th>EXPEDIENTE</th>\n",
              "      <th>FECHA_ACCIDENTE</th>\n",
              "      <th>FECHA_ACCIDENTES</th>\n",
              "      <th>MES</th>\n",
              "      <th>NRO_RADICADO</th>\n",
              "      <th>NUMCOMUNA</th>\n",
              "      <th>BARRIO</th>\n",
              "      <th>COMUNA</th>\n",
              "      <th>LOCATION</th>\n",
              "      <th>X</th>\n",
              "      <th>Y</th>\n",
              "    </tr>\n",
              "  </thead>\n",
              "  <tbody>\n",
              "    <tr>\n",
              "      <th>0</th>\n",
              "      <td>2014</td>\n",
              "      <td>1105</td>\n",
              "      <td>Otro</td>\n",
              "      <td>CR 66 B CL 34</td>\n",
              "      <td>CR  066 B   034  000 00000</td>\n",
              "      <td>Tramo de via</td>\n",
              "      <td>A000095088</td>\n",
              "      <td>05/08/2014 07:15:00</td>\n",
              "      <td>2014-08-05T12:15:00.000Z</td>\n",
              "      <td>Con heridos</td>\n",
              "      <td>8</td>\n",
              "      <td>1451888</td>\n",
              "      <td>11</td>\n",
              "      <td>Los Conquistadores</td>\n",
              "      <td>Laureles Estadio</td>\n",
              "      <td>[-75.589313202, 6.2397866157]</td>\n",
              "      <td>832677.92</td>\n",
              "    </tr>\n",
              "    <tr>\n",
              "      <th>1</th>\n",
              "      <td>2014</td>\n",
              "      <td>0509</td>\n",
              "      <td>Choque</td>\n",
              "      <td>CR 71 CL 103 D</td>\n",
              "      <td>CR  071   103 D  000 00000</td>\n",
              "      <td>Interseccion</td>\n",
              "      <td>A000095143</td>\n",
              "      <td>05/08/2014 14:30:00</td>\n",
              "      <td>2014-08-05T19:30:00.000Z</td>\n",
              "      <td>Con heridos</td>\n",
              "      <td>8</td>\n",
              "      <td>1451891</td>\n",
              "      <td>05</td>\n",
              "      <td>Girardot</td>\n",
              "      <td>Castilla</td>\n",
              "      <td>[-75.5708179064, 6.3000411778]</td>\n",
              "      <td>834744.36</td>\n",
              "    </tr>\n",
              "    <tr>\n",
              "      <th>2</th>\n",
              "      <td>2014</td>\n",
              "      <td>1421</td>\n",
              "      <td>Choque</td>\n",
              "      <td>CR 49 CL 7</td>\n",
              "      <td>CR  049   007  000 00000</td>\n",
              "      <td>Tramo de via</td>\n",
              "      <td>A000095226</td>\n",
              "      <td>05/08/2014 15:50:00</td>\n",
              "      <td>2014-08-05T20:50:00.000Z</td>\n",
              "      <td>Con heridos</td>\n",
              "      <td>8</td>\n",
              "      <td>1451935</td>\n",
              "      <td>14</td>\n",
              "      <td>Patio Bonito</td>\n",
              "      <td>El Poblado</td>\n",
              "      <td>[-75.5765743781, 6.20874755798]</td>\n",
              "      <td>834078.39</td>\n",
              "    </tr>\n",
              "    <tr>\n",
              "      <th>3</th>\n",
              "      <td>2014</td>\n",
              "      <td>0801</td>\n",
              "      <td>Otro</td>\n",
              "      <td>CR 39 A CL 66 C</td>\n",
              "      <td>CR  039 A   066 C  000 00000</td>\n",
              "      <td>Tramo de via</td>\n",
              "      <td>A000095227</td>\n",
              "      <td>05/08/2014 13:00:00</td>\n",
              "      <td>2014-08-05T18:00:00.000Z</td>\n",
              "      <td>Con heridos</td>\n",
              "      <td>8</td>\n",
              "      <td>1451956</td>\n",
              "      <td>08</td>\n",
              "      <td>Villa Hermosa</td>\n",
              "      <td>Villa Hermosa</td>\n",
              "      <td>[-75.5512546684, 6.25905761463]</td>\n",
              "      <td>836897.02</td>\n",
              "    </tr>\n",
              "    <tr>\n",
              "      <th>4</th>\n",
              "      <td>2014</td>\n",
              "      <td>1017</td>\n",
              "      <td>Choque</td>\n",
              "      <td>CL 58 CR 37</td>\n",
              "      <td>CL  058   037  000 00000</td>\n",
              "      <td>Tramo de via</td>\n",
              "      <td>A000094940</td>\n",
              "      <td>05/08/2014 19:30:00</td>\n",
              "      <td>2014-08-06T00:30:00.000Z</td>\n",
              "      <td>Con heridos</td>\n",
              "      <td>8</td>\n",
              "      <td>1452022</td>\n",
              "      <td>10</td>\n",
              "      <td>Los Ángeles</td>\n",
              "      <td>La Candelaria</td>\n",
              "      <td>[-75.5561495119, 6.24996631944]</td>\n",
              "      <td>836352.35</td>\n",
              "    </tr>\n",
              "  </tbody>\n",
              "</table>\n",
              "</div>"
            ],
            "text/plain": [
              "    AÑO  CBML  ...                                X          Y\n",
              "0  2014  1105  ...    [-75.589313202, 6.2397866157]  832677.92\n",
              "1  2014  0509  ...   [-75.5708179064, 6.3000411778]  834744.36\n",
              "2  2014  1421  ...  [-75.5765743781, 6.20874755798]  834078.39\n",
              "3  2014  0801  ...  [-75.5512546684, 6.25905761463]  836897.02\n",
              "4  2014  1017  ...  [-75.5561495119, 6.24996631944]  836352.35\n",
              "\n",
              "[5 rows x 17 columns]"
            ]
          },
          "metadata": {},
          "execution_count": 7
        }
      ]
    },
    {
      "cell_type": "code",
      "metadata": {
        "colab": {
          "base_uri": "https://localhost:8080/"
        },
        "id": "arAqSCywPM4X",
        "outputId": "48984101-0244-4ba6-81a5-90f50ba29934"
      },
      "source": [
        "df.columns"
      ],
      "execution_count": null,
      "outputs": [
        {
          "output_type": "execute_result",
          "data": {
            "text/plain": [
              "Index(['AÑO', 'CBML', 'CLASE_ACCIDENTE', 'DIRECCION', 'DIRECCION ENCASILLADA',\n",
              "       'DISEÑO', 'EXPEDIENTE', 'FECHA_ACCIDENTE', 'FECHA_ACCIDENTES', 'MES',\n",
              "       'NRO_RADICADO', 'NUMCOMUNA', 'BARRIO', 'COMUNA', 'LOCATION', 'X', 'Y'],\n",
              "      dtype='object')"
            ]
          },
          "metadata": {},
          "execution_count": 8
        }
      ]
    },
    {
      "cell_type": "code",
      "metadata": {
        "colab": {
          "base_uri": "https://localhost:8080/",
          "height": 365
        },
        "id": "e8vPq7I5AHQK",
        "outputId": "87292d92-e401-4002-a722-f749b5ca06fb"
      },
      "source": [
        "df['GRAVEDAD']=df['MES']\n",
        "df=df.drop(['MES'], axis=1)\n",
        "df.head()"
      ],
      "execution_count": null,
      "outputs": [
        {
          "output_type": "execute_result",
          "data": {
            "text/html": [
              "<div>\n",
              "<style scoped>\n",
              "    .dataframe tbody tr th:only-of-type {\n",
              "        vertical-align: middle;\n",
              "    }\n",
              "\n",
              "    .dataframe tbody tr th {\n",
              "        vertical-align: top;\n",
              "    }\n",
              "\n",
              "    .dataframe thead th {\n",
              "        text-align: right;\n",
              "    }\n",
              "</style>\n",
              "<table border=\"1\" class=\"dataframe\">\n",
              "  <thead>\n",
              "    <tr style=\"text-align: right;\">\n",
              "      <th></th>\n",
              "      <th>AÑO</th>\n",
              "      <th>CBML</th>\n",
              "      <th>CLASE_ACCIDENTE</th>\n",
              "      <th>DIRECCION</th>\n",
              "      <th>DIRECCION ENCASILLADA</th>\n",
              "      <th>DISEÑO</th>\n",
              "      <th>EXPEDIENTE</th>\n",
              "      <th>FECHA_ACCIDENTE</th>\n",
              "      <th>FECHA_ACCIDENTES</th>\n",
              "      <th>NRO_RADICADO</th>\n",
              "      <th>NUMCOMUNA</th>\n",
              "      <th>BARRIO</th>\n",
              "      <th>COMUNA</th>\n",
              "      <th>LOCATION</th>\n",
              "      <th>X</th>\n",
              "      <th>Y</th>\n",
              "      <th>GRAVEDAD</th>\n",
              "    </tr>\n",
              "  </thead>\n",
              "  <tbody>\n",
              "    <tr>\n",
              "      <th>0</th>\n",
              "      <td>2014</td>\n",
              "      <td>1105</td>\n",
              "      <td>Otro</td>\n",
              "      <td>CR 66 B CL 34</td>\n",
              "      <td>CR  066 B   034  000 00000</td>\n",
              "      <td>Tramo de via</td>\n",
              "      <td>A000095088</td>\n",
              "      <td>05/08/2014 07:15:00</td>\n",
              "      <td>2014-08-05T12:15:00.000Z</td>\n",
              "      <td>8</td>\n",
              "      <td>1451888</td>\n",
              "      <td>11</td>\n",
              "      <td>Los Conquistadores</td>\n",
              "      <td>Laureles Estadio</td>\n",
              "      <td>[-75.589313202, 6.2397866157]</td>\n",
              "      <td>832677.92</td>\n",
              "      <td>Con heridos</td>\n",
              "    </tr>\n",
              "    <tr>\n",
              "      <th>1</th>\n",
              "      <td>2014</td>\n",
              "      <td>0509</td>\n",
              "      <td>Choque</td>\n",
              "      <td>CR 71 CL 103 D</td>\n",
              "      <td>CR  071   103 D  000 00000</td>\n",
              "      <td>Interseccion</td>\n",
              "      <td>A000095143</td>\n",
              "      <td>05/08/2014 14:30:00</td>\n",
              "      <td>2014-08-05T19:30:00.000Z</td>\n",
              "      <td>8</td>\n",
              "      <td>1451891</td>\n",
              "      <td>05</td>\n",
              "      <td>Girardot</td>\n",
              "      <td>Castilla</td>\n",
              "      <td>[-75.5708179064, 6.3000411778]</td>\n",
              "      <td>834744.36</td>\n",
              "      <td>Con heridos</td>\n",
              "    </tr>\n",
              "    <tr>\n",
              "      <th>2</th>\n",
              "      <td>2014</td>\n",
              "      <td>1421</td>\n",
              "      <td>Choque</td>\n",
              "      <td>CR 49 CL 7</td>\n",
              "      <td>CR  049   007  000 00000</td>\n",
              "      <td>Tramo de via</td>\n",
              "      <td>A000095226</td>\n",
              "      <td>05/08/2014 15:50:00</td>\n",
              "      <td>2014-08-05T20:50:00.000Z</td>\n",
              "      <td>8</td>\n",
              "      <td>1451935</td>\n",
              "      <td>14</td>\n",
              "      <td>Patio Bonito</td>\n",
              "      <td>El Poblado</td>\n",
              "      <td>[-75.5765743781, 6.20874755798]</td>\n",
              "      <td>834078.39</td>\n",
              "      <td>Con heridos</td>\n",
              "    </tr>\n",
              "    <tr>\n",
              "      <th>3</th>\n",
              "      <td>2014</td>\n",
              "      <td>0801</td>\n",
              "      <td>Otro</td>\n",
              "      <td>CR 39 A CL 66 C</td>\n",
              "      <td>CR  039 A   066 C  000 00000</td>\n",
              "      <td>Tramo de via</td>\n",
              "      <td>A000095227</td>\n",
              "      <td>05/08/2014 13:00:00</td>\n",
              "      <td>2014-08-05T18:00:00.000Z</td>\n",
              "      <td>8</td>\n",
              "      <td>1451956</td>\n",
              "      <td>08</td>\n",
              "      <td>Villa Hermosa</td>\n",
              "      <td>Villa Hermosa</td>\n",
              "      <td>[-75.5512546684, 6.25905761463]</td>\n",
              "      <td>836897.02</td>\n",
              "      <td>Con heridos</td>\n",
              "    </tr>\n",
              "    <tr>\n",
              "      <th>4</th>\n",
              "      <td>2014</td>\n",
              "      <td>1017</td>\n",
              "      <td>Choque</td>\n",
              "      <td>CL 58 CR 37</td>\n",
              "      <td>CL  058   037  000 00000</td>\n",
              "      <td>Tramo de via</td>\n",
              "      <td>A000094940</td>\n",
              "      <td>05/08/2014 19:30:00</td>\n",
              "      <td>2014-08-06T00:30:00.000Z</td>\n",
              "      <td>8</td>\n",
              "      <td>1452022</td>\n",
              "      <td>10</td>\n",
              "      <td>Los Ángeles</td>\n",
              "      <td>La Candelaria</td>\n",
              "      <td>[-75.5561495119, 6.24996631944]</td>\n",
              "      <td>836352.35</td>\n",
              "      <td>Con heridos</td>\n",
              "    </tr>\n",
              "  </tbody>\n",
              "</table>\n",
              "</div>"
            ],
            "text/plain": [
              "    AÑO  CBML  ...          Y     GRAVEDAD\n",
              "0  2014  1105  ...  832677.92  Con heridos\n",
              "1  2014  0509  ...  834744.36  Con heridos\n",
              "2  2014  1421  ...  834078.39  Con heridos\n",
              "3  2014  0801  ...  836897.02  Con heridos\n",
              "4  2014  1017  ...  836352.35  Con heridos\n",
              "\n",
              "[5 rows x 17 columns]"
            ]
          },
          "metadata": {},
          "execution_count": 9
        }
      ]
    },
    {
      "cell_type": "code",
      "metadata": {
        "colab": {
          "base_uri": "https://localhost:8080/",
          "height": 669
        },
        "id": "4iuucVmbDWO7",
        "outputId": "98a1a3f0-846f-4ade-95fa-0dd9a0226262"
      },
      "source": [
        "df"
      ],
      "execution_count": null,
      "outputs": [
        {
          "output_type": "execute_result",
          "data": {
            "text/html": [
              "<div>\n",
              "<style scoped>\n",
              "    .dataframe tbody tr th:only-of-type {\n",
              "        vertical-align: middle;\n",
              "    }\n",
              "\n",
              "    .dataframe tbody tr th {\n",
              "        vertical-align: top;\n",
              "    }\n",
              "\n",
              "    .dataframe thead th {\n",
              "        text-align: right;\n",
              "    }\n",
              "</style>\n",
              "<table border=\"1\" class=\"dataframe\">\n",
              "  <thead>\n",
              "    <tr style=\"text-align: right;\">\n",
              "      <th></th>\n",
              "      <th>AÑO</th>\n",
              "      <th>CBML</th>\n",
              "      <th>CLASE_ACCIDENTE</th>\n",
              "      <th>DIRECCION</th>\n",
              "      <th>DIRECCION ENCASILLADA</th>\n",
              "      <th>DISEÑO</th>\n",
              "      <th>EXPEDIENTE</th>\n",
              "      <th>FECHA_ACCIDENTE</th>\n",
              "      <th>FECHA_ACCIDENTES</th>\n",
              "      <th>NRO_RADICADO</th>\n",
              "      <th>NUMCOMUNA</th>\n",
              "      <th>BARRIO</th>\n",
              "      <th>COMUNA</th>\n",
              "      <th>LOCATION</th>\n",
              "      <th>X</th>\n",
              "      <th>Y</th>\n",
              "      <th>GRAVEDAD</th>\n",
              "    </tr>\n",
              "  </thead>\n",
              "  <tbody>\n",
              "    <tr>\n",
              "      <th>0</th>\n",
              "      <td>2014</td>\n",
              "      <td>1105</td>\n",
              "      <td>Otro</td>\n",
              "      <td>CR 66 B CL 34</td>\n",
              "      <td>CR  066 B   034  000 00000</td>\n",
              "      <td>Tramo de via</td>\n",
              "      <td>A000095088</td>\n",
              "      <td>05/08/2014 07:15:00</td>\n",
              "      <td>2014-08-05T12:15:00.000Z</td>\n",
              "      <td>8</td>\n",
              "      <td>1451888</td>\n",
              "      <td>11</td>\n",
              "      <td>Los Conquistadores</td>\n",
              "      <td>Laureles Estadio</td>\n",
              "      <td>[-75.589313202, 6.2397866157]</td>\n",
              "      <td>832677.92</td>\n",
              "      <td>Con heridos</td>\n",
              "    </tr>\n",
              "    <tr>\n",
              "      <th>1</th>\n",
              "      <td>2014</td>\n",
              "      <td>0509</td>\n",
              "      <td>Choque</td>\n",
              "      <td>CR 71 CL 103 D</td>\n",
              "      <td>CR  071   103 D  000 00000</td>\n",
              "      <td>Interseccion</td>\n",
              "      <td>A000095143</td>\n",
              "      <td>05/08/2014 14:30:00</td>\n",
              "      <td>2014-08-05T19:30:00.000Z</td>\n",
              "      <td>8</td>\n",
              "      <td>1451891</td>\n",
              "      <td>05</td>\n",
              "      <td>Girardot</td>\n",
              "      <td>Castilla</td>\n",
              "      <td>[-75.5708179064, 6.3000411778]</td>\n",
              "      <td>834744.36</td>\n",
              "      <td>Con heridos</td>\n",
              "    </tr>\n",
              "    <tr>\n",
              "      <th>2</th>\n",
              "      <td>2014</td>\n",
              "      <td>1421</td>\n",
              "      <td>Choque</td>\n",
              "      <td>CR 49 CL 7</td>\n",
              "      <td>CR  049   007  000 00000</td>\n",
              "      <td>Tramo de via</td>\n",
              "      <td>A000095226</td>\n",
              "      <td>05/08/2014 15:50:00</td>\n",
              "      <td>2014-08-05T20:50:00.000Z</td>\n",
              "      <td>8</td>\n",
              "      <td>1451935</td>\n",
              "      <td>14</td>\n",
              "      <td>Patio Bonito</td>\n",
              "      <td>El Poblado</td>\n",
              "      <td>[-75.5765743781, 6.20874755798]</td>\n",
              "      <td>834078.39</td>\n",
              "      <td>Con heridos</td>\n",
              "    </tr>\n",
              "    <tr>\n",
              "      <th>3</th>\n",
              "      <td>2014</td>\n",
              "      <td>0801</td>\n",
              "      <td>Otro</td>\n",
              "      <td>CR 39 A CL 66 C</td>\n",
              "      <td>CR  039 A   066 C  000 00000</td>\n",
              "      <td>Tramo de via</td>\n",
              "      <td>A000095227</td>\n",
              "      <td>05/08/2014 13:00:00</td>\n",
              "      <td>2014-08-05T18:00:00.000Z</td>\n",
              "      <td>8</td>\n",
              "      <td>1451956</td>\n",
              "      <td>08</td>\n",
              "      <td>Villa Hermosa</td>\n",
              "      <td>Villa Hermosa</td>\n",
              "      <td>[-75.5512546684, 6.25905761463]</td>\n",
              "      <td>836897.02</td>\n",
              "      <td>Con heridos</td>\n",
              "    </tr>\n",
              "    <tr>\n",
              "      <th>4</th>\n",
              "      <td>2014</td>\n",
              "      <td>1017</td>\n",
              "      <td>Choque</td>\n",
              "      <td>CL 58 CR 37</td>\n",
              "      <td>CL  058   037  000 00000</td>\n",
              "      <td>Tramo de via</td>\n",
              "      <td>A000094940</td>\n",
              "      <td>05/08/2014 19:30:00</td>\n",
              "      <td>2014-08-06T00:30:00.000Z</td>\n",
              "      <td>8</td>\n",
              "      <td>1452022</td>\n",
              "      <td>10</td>\n",
              "      <td>Los Ángeles</td>\n",
              "      <td>La Candelaria</td>\n",
              "      <td>[-75.5561495119, 6.24996631944]</td>\n",
              "      <td>836352.35</td>\n",
              "      <td>Con heridos</td>\n",
              "    </tr>\n",
              "    <tr>\n",
              "      <th>...</th>\n",
              "      <td>...</td>\n",
              "      <td>...</td>\n",
              "      <td>...</td>\n",
              "      <td>...</td>\n",
              "      <td>...</td>\n",
              "      <td>...</td>\n",
              "      <td>...</td>\n",
              "      <td>...</td>\n",
              "      <td>...</td>\n",
              "      <td>...</td>\n",
              "      <td>...</td>\n",
              "      <td>...</td>\n",
              "      <td>...</td>\n",
              "      <td>...</td>\n",
              "      <td>...</td>\n",
              "      <td>...</td>\n",
              "      <td>...</td>\n",
              "    </tr>\n",
              "    <tr>\n",
              "      <th>270760</th>\n",
              "      <td>2020</td>\n",
              "      <td>1004</td>\n",
              "      <td>Caida Ocupante</td>\n",
              "      <td>CR 62 CL 59</td>\n",
              "      <td>CR  062   059  000 00000</td>\n",
              "      <td>Tramo de via</td>\n",
              "      <td>A001164101</td>\n",
              "      <td>31/08/2020 18:50:00</td>\n",
              "      <td>2020-08-31T23:50:00.000Z</td>\n",
              "      <td>8</td>\n",
              "      <td>1722059</td>\n",
              "      <td>10</td>\n",
              "      <td>El Chagualo</td>\n",
              "      <td>La Candelaria</td>\n",
              "      <td>[-75.5731343044, 6.26063534822]</td>\n",
              "      <td>834475.51</td>\n",
              "      <td>Con heridos</td>\n",
              "    </tr>\n",
              "    <tr>\n",
              "      <th>270761</th>\n",
              "      <td>2020</td>\n",
              "      <td>1115</td>\n",
              "      <td>Otro</td>\n",
              "      <td>CL 50 CR 74</td>\n",
              "      <td>CL  050   074  000 00000</td>\n",
              "      <td>Tramo de via</td>\n",
              "      <td>A001164214</td>\n",
              "      <td>31/08/2020 18:50:00</td>\n",
              "      <td>2020-08-31T23:50:00.000Z</td>\n",
              "      <td>8</td>\n",
              "      <td>1722080</td>\n",
              "      <td>11</td>\n",
              "      <td>Cuarta Brigada</td>\n",
              "      <td>Laureles Estadio</td>\n",
              "      <td>[-75.5902062951, 6.26040455473]</td>\n",
              "      <td>832585.61</td>\n",
              "      <td>Con heridos</td>\n",
              "    </tr>\n",
              "    <tr>\n",
              "      <th>270762</th>\n",
              "      <td>2020</td>\n",
              "      <td>515</td>\n",
              "      <td>Choque</td>\n",
              "      <td>CL 80 CR 65</td>\n",
              "      <td>CL  080   065  000 00000</td>\n",
              "      <td>Tramo de via</td>\n",
              "      <td>A001164472</td>\n",
              "      <td>31/08/2020 19:05:00</td>\n",
              "      <td>2020-09-01T00:05:00.000Z</td>\n",
              "      <td>8</td>\n",
              "      <td>1722288</td>\n",
              "      <td>5</td>\n",
              "      <td>Cementerio Universal</td>\n",
              "      <td>Castilla</td>\n",
              "      <td>[-75.5735398111, 6.27625838886]</td>\n",
              "      <td>834435.55</td>\n",
              "      <td>Solo daños</td>\n",
              "    </tr>\n",
              "    <tr>\n",
              "      <th>270763</th>\n",
              "      <td>2020</td>\n",
              "      <td>207</td>\n",
              "      <td>Atropello</td>\n",
              "      <td>CL 104 CR 45</td>\n",
              "      <td>CL  104   045  000 00000</td>\n",
              "      <td>Tramo de via</td>\n",
              "      <td>A001164109</td>\n",
              "      <td>31/08/2020 19:30:00</td>\n",
              "      <td>2020-09-01T00:30:00.000Z</td>\n",
              "      <td>8</td>\n",
              "      <td>1722062</td>\n",
              "      <td>2</td>\n",
              "      <td>Villa del Socorro</td>\n",
              "      <td>Santa Cruz</td>\n",
              "      <td>[-75.5515085985, 6.29359892373]</td>\n",
              "      <td>836879.66</td>\n",
              "      <td>Con heridos</td>\n",
              "    </tr>\n",
              "    <tr>\n",
              "      <th>270764</th>\n",
              "      <td>2020</td>\n",
              "      <td>303</td>\n",
              "      <td>Atropello</td>\n",
              "      <td>CR 44 CL 79</td>\n",
              "      <td>CR  044   079  000 00000</td>\n",
              "      <td>Lote o Predio</td>\n",
              "      <td>A001164113</td>\n",
              "      <td>31/08/2020 21:45:00</td>\n",
              "      <td>2020-09-01T02:45:00.000Z</td>\n",
              "      <td>8</td>\n",
              "      <td>1722063</td>\n",
              "      <td>3</td>\n",
              "      <td>Campo Valdés No. 2</td>\n",
              "      <td>Manrique</td>\n",
              "      <td>[-75.5533856947, 6.2717784831]</td>\n",
              "      <td>836665.08</td>\n",
              "      <td>Con heridos</td>\n",
              "    </tr>\n",
              "  </tbody>\n",
              "</table>\n",
              "<p>270765 rows × 17 columns</p>\n",
              "</div>"
            ],
            "text/plain": [
              "         AÑO  CBML  ...          Y     GRAVEDAD\n",
              "0       2014  1105  ...  832677.92  Con heridos\n",
              "1       2014  0509  ...  834744.36  Con heridos\n",
              "2       2014  1421  ...  834078.39  Con heridos\n",
              "3       2014  0801  ...  836897.02  Con heridos\n",
              "4       2014  1017  ...  836352.35  Con heridos\n",
              "...      ...   ...  ...        ...          ...\n",
              "270760  2020  1004  ...  834475.51  Con heridos\n",
              "270761  2020  1115  ...  832585.61  Con heridos\n",
              "270762  2020   515  ...  834435.55   Solo daños\n",
              "270763  2020   207  ...  836879.66  Con heridos\n",
              "270764  2020   303  ...  836665.08  Con heridos\n",
              "\n",
              "[270765 rows x 17 columns]"
            ]
          },
          "metadata": {},
          "execution_count": 10
        }
      ]
    },
    {
      "cell_type": "code",
      "metadata": {
        "id": "YXjZ6ZzL7oyq"
      },
      "source": [
        "Lattitudes = pd.DataFrame(index=range(len(df)))\n",
        "Lattitudes[\"latitudes\"] = \"\"\n",
        "Latitud_ind = pd.DataFrame(index=range(len(df)))\n",
        "Latitud_ind[\"lon\"] = \"\"\n",
        "Latitud_ind[\"lat\"] = \"\"\n",
        "for i in range(0,len(df)):\n",
        "    a=df['X'][i].find('[')\n",
        "    b=df['X'][i].find(',')\n",
        "    c=df['X'][i].find(']')\n",
        "\n",
        "    e=float(df['X'][i][a+1:b])\n",
        "    d=float(df['X'][i][b+1:c])\n",
        "    Lattitudes.iloc[i]=[[e,d]]\n",
        "\n",
        "    Latitud_ind.iloc[i]=[e,d]"
      ],
      "execution_count": null,
      "outputs": []
    },
    {
      "cell_type": "code",
      "metadata": {
        "id": "02pczEme_Vdc"
      },
      "source": [
        "df['X']=Lattitudes['latitudes']"
      ],
      "execution_count": null,
      "outputs": []
    },
    {
      "cell_type": "code",
      "metadata": {
        "id": "LPHESIL6MVNt",
        "colab": {
          "base_uri": "https://localhost:8080/",
          "height": 414
        },
        "outputId": "4ce78060-5e1d-4dec-e72c-57cc05bd4a54"
      },
      "source": [
        "df=df[['AÑO','CLASE_ACCIDENTE','LOCATION','GRAVEDAD','DISEÑO']]\n",
        "df['lon']=Latitud_ind[\"lon\"]\n",
        "df['lat']=Latitud_ind[\"lat\"] \n",
        "df_2014=df[df['AÑO']=='2014']\n",
        "df_2014.head()"
      ],
      "execution_count": null,
      "outputs": [
        {
          "output_type": "stream",
          "name": "stderr",
          "text": [
            "/usr/local/lib/python3.7/dist-packages/ipykernel_launcher.py:2: SettingWithCopyWarning: \n",
            "A value is trying to be set on a copy of a slice from a DataFrame.\n",
            "Try using .loc[row_indexer,col_indexer] = value instead\n",
            "\n",
            "See the caveats in the documentation: https://pandas.pydata.org/pandas-docs/stable/user_guide/indexing.html#returning-a-view-versus-a-copy\n",
            "  \n",
            "/usr/local/lib/python3.7/dist-packages/ipykernel_launcher.py:3: SettingWithCopyWarning: \n",
            "A value is trying to be set on a copy of a slice from a DataFrame.\n",
            "Try using .loc[row_indexer,col_indexer] = value instead\n",
            "\n",
            "See the caveats in the documentation: https://pandas.pydata.org/pandas-docs/stable/user_guide/indexing.html#returning-a-view-versus-a-copy\n",
            "  This is separate from the ipykernel package so we can avoid doing imports until\n"
          ]
        },
        {
          "output_type": "execute_result",
          "data": {
            "text/html": [
              "<div>\n",
              "<style scoped>\n",
              "    .dataframe tbody tr th:only-of-type {\n",
              "        vertical-align: middle;\n",
              "    }\n",
              "\n",
              "    .dataframe tbody tr th {\n",
              "        vertical-align: top;\n",
              "    }\n",
              "\n",
              "    .dataframe thead th {\n",
              "        text-align: right;\n",
              "    }\n",
              "</style>\n",
              "<table border=\"1\" class=\"dataframe\">\n",
              "  <thead>\n",
              "    <tr style=\"text-align: right;\">\n",
              "      <th></th>\n",
              "      <th>AÑO</th>\n",
              "      <th>CLASE_ACCIDENTE</th>\n",
              "      <th>LOCATION</th>\n",
              "      <th>GRAVEDAD</th>\n",
              "      <th>DISEÑO</th>\n",
              "      <th>lon</th>\n",
              "      <th>lat</th>\n",
              "    </tr>\n",
              "  </thead>\n",
              "  <tbody>\n",
              "    <tr>\n",
              "      <th>0</th>\n",
              "      <td>2014</td>\n",
              "      <td>Otro</td>\n",
              "      <td>Laureles Estadio</td>\n",
              "      <td>Con heridos</td>\n",
              "      <td>Tramo de via</td>\n",
              "      <td>-75.5893</td>\n",
              "      <td>6.23979</td>\n",
              "    </tr>\n",
              "    <tr>\n",
              "      <th>1</th>\n",
              "      <td>2014</td>\n",
              "      <td>Choque</td>\n",
              "      <td>Castilla</td>\n",
              "      <td>Con heridos</td>\n",
              "      <td>Interseccion</td>\n",
              "      <td>-75.5708</td>\n",
              "      <td>6.30004</td>\n",
              "    </tr>\n",
              "    <tr>\n",
              "      <th>2</th>\n",
              "      <td>2014</td>\n",
              "      <td>Choque</td>\n",
              "      <td>El Poblado</td>\n",
              "      <td>Con heridos</td>\n",
              "      <td>Tramo de via</td>\n",
              "      <td>-75.5766</td>\n",
              "      <td>6.20875</td>\n",
              "    </tr>\n",
              "    <tr>\n",
              "      <th>3</th>\n",
              "      <td>2014</td>\n",
              "      <td>Otro</td>\n",
              "      <td>Villa Hermosa</td>\n",
              "      <td>Con heridos</td>\n",
              "      <td>Tramo de via</td>\n",
              "      <td>-75.5513</td>\n",
              "      <td>6.25906</td>\n",
              "    </tr>\n",
              "    <tr>\n",
              "      <th>4</th>\n",
              "      <td>2014</td>\n",
              "      <td>Choque</td>\n",
              "      <td>La Candelaria</td>\n",
              "      <td>Con heridos</td>\n",
              "      <td>Tramo de via</td>\n",
              "      <td>-75.5561</td>\n",
              "      <td>6.24997</td>\n",
              "    </tr>\n",
              "  </tbody>\n",
              "</table>\n",
              "</div>"
            ],
            "text/plain": [
              "    AÑO CLASE_ACCIDENTE          LOCATION  ...        DISEÑO      lon      lat\n",
              "0  2014            Otro  Laureles Estadio  ...  Tramo de via -75.5893  6.23979\n",
              "1  2014          Choque          Castilla  ...  Interseccion -75.5708  6.30004\n",
              "2  2014          Choque        El Poblado  ...  Tramo de via -75.5766  6.20875\n",
              "3  2014            Otro     Villa Hermosa  ...  Tramo de via -75.5513  6.25906\n",
              "4  2014          Choque     La Candelaria  ...  Tramo de via -75.5561  6.24997\n",
              "\n",
              "[5 rows x 7 columns]"
            ]
          },
          "metadata": {},
          "execution_count": 13
        }
      ]
    },
    {
      "cell_type": "code",
      "metadata": {
        "id": "sMDAVRYJEh7U",
        "colab": {
          "base_uri": "https://localhost:8080/"
        },
        "outputId": "279623e0-b2c7-4185-9c45-37a978311960"
      },
      "source": [
        "df['LOCATION'].unique()\n",
        "df['LOCATION']= df['LOCATION'].apply(lambda x : 'No Georef' if x == '0' else x)\n",
        "df['LOCATION']= df['LOCATION'].apply(lambda x : 'No Georef' if x == 'Sin Inf' else x)\n",
        "df['LOCATION']= df['LOCATION'].apply(lambda x : 'No Georef' if x == 'nan' else x)\n",
        "df['LOCATION']= df['LOCATION'].apply(lambda x : 'Aranjuez' if x == 'AU' else x)\n",
        "df['LOCATION']= df['LOCATION'].apply(lambda x : 'No Georef' if x == 'In' else x)\n",
        "df['LOCATION']= df['LOCATION'].apply(lambda x : 'No Georef' if x == 'SN' else x)\n",
        "df['LOCATION']= df['LOCATION'].apply(lambda x : 'Corregimiento de San Sebastián de Palmitas' if x == 'Corregimiento de San Sebasti\\\\xE1n de Palmitas' else x)\n",
        "df['LOCATION']= df['LOCATION'].apply(lambda x : 'Corregimiento de San Cristóbal' if x == 'Corregimiento de San Crist\\\\xF3bal' else x)\n",
        "df['LOCATION']= df['LOCATION'].apply(lambda x : 'Belén' if x == 'Bel\\\\xE9n' else x)\n",
        "df['LOCATION']= df['LOCATION'].apply(lambda x : 'La América' if x == 'La Am\\\\xE9rica' else x)\n",
        "df['LOCATION'].unique()"
      ],
      "execution_count": null,
      "outputs": [
        {
          "output_type": "stream",
          "name": "stderr",
          "text": [
            "/usr/local/lib/python3.7/dist-packages/ipykernel_launcher.py:2: SettingWithCopyWarning: \n",
            "A value is trying to be set on a copy of a slice from a DataFrame.\n",
            "Try using .loc[row_indexer,col_indexer] = value instead\n",
            "\n",
            "See the caveats in the documentation: https://pandas.pydata.org/pandas-docs/stable/user_guide/indexing.html#returning-a-view-versus-a-copy\n",
            "  \n",
            "/usr/local/lib/python3.7/dist-packages/ipykernel_launcher.py:3: SettingWithCopyWarning: \n",
            "A value is trying to be set on a copy of a slice from a DataFrame.\n",
            "Try using .loc[row_indexer,col_indexer] = value instead\n",
            "\n",
            "See the caveats in the documentation: https://pandas.pydata.org/pandas-docs/stable/user_guide/indexing.html#returning-a-view-versus-a-copy\n",
            "  This is separate from the ipykernel package so we can avoid doing imports until\n",
            "/usr/local/lib/python3.7/dist-packages/ipykernel_launcher.py:4: SettingWithCopyWarning: \n",
            "A value is trying to be set on a copy of a slice from a DataFrame.\n",
            "Try using .loc[row_indexer,col_indexer] = value instead\n",
            "\n",
            "See the caveats in the documentation: https://pandas.pydata.org/pandas-docs/stable/user_guide/indexing.html#returning-a-view-versus-a-copy\n",
            "  after removing the cwd from sys.path.\n",
            "/usr/local/lib/python3.7/dist-packages/ipykernel_launcher.py:5: SettingWithCopyWarning: \n",
            "A value is trying to be set on a copy of a slice from a DataFrame.\n",
            "Try using .loc[row_indexer,col_indexer] = value instead\n",
            "\n",
            "See the caveats in the documentation: https://pandas.pydata.org/pandas-docs/stable/user_guide/indexing.html#returning-a-view-versus-a-copy\n",
            "  \"\"\"\n",
            "/usr/local/lib/python3.7/dist-packages/ipykernel_launcher.py:6: SettingWithCopyWarning: \n",
            "A value is trying to be set on a copy of a slice from a DataFrame.\n",
            "Try using .loc[row_indexer,col_indexer] = value instead\n",
            "\n",
            "See the caveats in the documentation: https://pandas.pydata.org/pandas-docs/stable/user_guide/indexing.html#returning-a-view-versus-a-copy\n",
            "  \n",
            "/usr/local/lib/python3.7/dist-packages/ipykernel_launcher.py:7: SettingWithCopyWarning: \n",
            "A value is trying to be set on a copy of a slice from a DataFrame.\n",
            "Try using .loc[row_indexer,col_indexer] = value instead\n",
            "\n",
            "See the caveats in the documentation: https://pandas.pydata.org/pandas-docs/stable/user_guide/indexing.html#returning-a-view-versus-a-copy\n",
            "  import sys\n",
            "/usr/local/lib/python3.7/dist-packages/ipykernel_launcher.py:8: SettingWithCopyWarning: \n",
            "A value is trying to be set on a copy of a slice from a DataFrame.\n",
            "Try using .loc[row_indexer,col_indexer] = value instead\n",
            "\n",
            "See the caveats in the documentation: https://pandas.pydata.org/pandas-docs/stable/user_guide/indexing.html#returning-a-view-versus-a-copy\n",
            "  \n",
            "/usr/local/lib/python3.7/dist-packages/ipykernel_launcher.py:9: SettingWithCopyWarning: \n",
            "A value is trying to be set on a copy of a slice from a DataFrame.\n",
            "Try using .loc[row_indexer,col_indexer] = value instead\n",
            "\n",
            "See the caveats in the documentation: https://pandas.pydata.org/pandas-docs/stable/user_guide/indexing.html#returning-a-view-versus-a-copy\n",
            "  if __name__ == '__main__':\n",
            "/usr/local/lib/python3.7/dist-packages/ipykernel_launcher.py:10: SettingWithCopyWarning: \n",
            "A value is trying to be set on a copy of a slice from a DataFrame.\n",
            "Try using .loc[row_indexer,col_indexer] = value instead\n",
            "\n",
            "See the caveats in the documentation: https://pandas.pydata.org/pandas-docs/stable/user_guide/indexing.html#returning-a-view-versus-a-copy\n",
            "  # Remove the CWD from sys.path while we load stuff.\n",
            "/usr/local/lib/python3.7/dist-packages/ipykernel_launcher.py:11: SettingWithCopyWarning: \n",
            "A value is trying to be set on a copy of a slice from a DataFrame.\n",
            "Try using .loc[row_indexer,col_indexer] = value instead\n",
            "\n",
            "See the caveats in the documentation: https://pandas.pydata.org/pandas-docs/stable/user_guide/indexing.html#returning-a-view-versus-a-copy\n",
            "  # This is added back by InteractiveShellApp.init_path()\n"
          ]
        },
        {
          "output_type": "execute_result",
          "data": {
            "text/plain": [
              "array(['Laureles Estadio', 'Castilla', 'El Poblado', 'Villa Hermosa',\n",
              "       'La Candelaria', 'Aranjuez', 'Manrique', 'San Javier', 'Belén',\n",
              "       'Buenos Aires', 'Guayabal', 'Doce de Octubre', 'Robledo', nan,\n",
              "       'Corregimiento de San Antonio de Prado', 'Popular', 'La América',\n",
              "       'Corregimiento de Santa Elena', 'No Georef',\n",
              "       'Corregimiento de San Cristóbal', 'Santa Cruz',\n",
              "       'Corregimiento de Altavista',\n",
              "       'Corregimiento de San Sebastián de Palmitas'], dtype=object)"
            ]
          },
          "metadata": {},
          "execution_count": 14
        }
      ]
    },
    {
      "cell_type": "code",
      "metadata": {
        "id": "-S6PQtqzeiOd",
        "colab": {
          "base_uri": "https://localhost:8080/"
        },
        "outputId": "20c8f930-ce03-40ad-cb7b-f98065cd99c9"
      },
      "source": [
        "df['AÑO'].unique()\n",
        "df['AÑO']= df['AÑO'].apply(lambda x : '2019' if x == '2019\\\\r' else x)\n",
        "df['AÑO'].unique()"
      ],
      "execution_count": null,
      "outputs": [
        {
          "output_type": "stream",
          "name": "stderr",
          "text": [
            "/usr/local/lib/python3.7/dist-packages/ipykernel_launcher.py:2: SettingWithCopyWarning: \n",
            "A value is trying to be set on a copy of a slice from a DataFrame.\n",
            "Try using .loc[row_indexer,col_indexer] = value instead\n",
            "\n",
            "See the caveats in the documentation: https://pandas.pydata.org/pandas-docs/stable/user_guide/indexing.html#returning-a-view-versus-a-copy\n",
            "  \n"
          ]
        },
        {
          "output_type": "execute_result",
          "data": {
            "text/plain": [
              "array(['2014', '2015', '2016', '2017', '2018', '2019', '2020'],\n",
              "      dtype=object)"
            ]
          },
          "metadata": {},
          "execution_count": 15
        }
      ]
    },
    {
      "cell_type": "code",
      "metadata": {
        "id": "aFIw9_4YE2Mb",
        "colab": {
          "base_uri": "https://localhost:8080/"
        },
        "outputId": "ad901222-af2f-46cb-b919-950631f18718"
      },
      "source": [
        "df_2014=df_2014.dropna()\n",
        "df_2014.isna().sum()"
      ],
      "execution_count": null,
      "outputs": [
        {
          "output_type": "execute_result",
          "data": {
            "text/plain": [
              "AÑO                0\n",
              "CLASE_ACCIDENTE    0\n",
              "LOCATION           0\n",
              "GRAVEDAD           0\n",
              "DISEÑO             0\n",
              "lon                0\n",
              "lat                0\n",
              "dtype: int64"
            ]
          },
          "metadata": {},
          "execution_count": 16
        }
      ]
    },
    {
      "cell_type": "code",
      "metadata": {
        "id": "Q7PTw81WJM61",
        "colab": {
          "base_uri": "https://localhost:8080/"
        },
        "outputId": "8101b126-6ebb-427a-d581-7d69d1ea510b"
      },
      "source": [
        "!pip install --upgrade geopandas"
      ],
      "execution_count": null,
      "outputs": [
        {
          "output_type": "stream",
          "name": "stdout",
          "text": [
            "Collecting geopandas\n",
            "  Downloading geopandas-0.10.2-py2.py3-none-any.whl (1.0 MB)\n",
            "\u001b[?25l\r\u001b[K     |▎                               | 10 kB 24.8 MB/s eta 0:00:01\r\u001b[K     |▋                               | 20 kB 28.1 MB/s eta 0:00:01\r\u001b[K     |█                               | 30 kB 20.0 MB/s eta 0:00:01\r\u001b[K     |█▎                              | 40 kB 16.5 MB/s eta 0:00:01\r\u001b[K     |█▋                              | 51 kB 7.3 MB/s eta 0:00:01\r\u001b[K     |██                              | 61 kB 8.4 MB/s eta 0:00:01\r\u001b[K     |██▎                             | 71 kB 8.1 MB/s eta 0:00:01\r\u001b[K     |██▌                             | 81 kB 9.1 MB/s eta 0:00:01\r\u001b[K     |██▉                             | 92 kB 9.3 MB/s eta 0:00:01\r\u001b[K     |███▏                            | 102 kB 7.0 MB/s eta 0:00:01\r\u001b[K     |███▌                            | 112 kB 7.0 MB/s eta 0:00:01\r\u001b[K     |███▉                            | 122 kB 7.0 MB/s eta 0:00:01\r\u001b[K     |████▏                           | 133 kB 7.0 MB/s eta 0:00:01\r\u001b[K     |████▌                           | 143 kB 7.0 MB/s eta 0:00:01\r\u001b[K     |████▊                           | 153 kB 7.0 MB/s eta 0:00:01\r\u001b[K     |█████                           | 163 kB 7.0 MB/s eta 0:00:01\r\u001b[K     |█████▍                          | 174 kB 7.0 MB/s eta 0:00:01\r\u001b[K     |█████▊                          | 184 kB 7.0 MB/s eta 0:00:01\r\u001b[K     |██████                          | 194 kB 7.0 MB/s eta 0:00:01\r\u001b[K     |██████▍                         | 204 kB 7.0 MB/s eta 0:00:01\r\u001b[K     |██████▊                         | 215 kB 7.0 MB/s eta 0:00:01\r\u001b[K     |███████                         | 225 kB 7.0 MB/s eta 0:00:01\r\u001b[K     |███████▎                        | 235 kB 7.0 MB/s eta 0:00:01\r\u001b[K     |███████▋                        | 245 kB 7.0 MB/s eta 0:00:01\r\u001b[K     |████████                        | 256 kB 7.0 MB/s eta 0:00:01\r\u001b[K     |████████▎                       | 266 kB 7.0 MB/s eta 0:00:01\r\u001b[K     |████████▋                       | 276 kB 7.0 MB/s eta 0:00:01\r\u001b[K     |█████████                       | 286 kB 7.0 MB/s eta 0:00:01\r\u001b[K     |█████████▏                      | 296 kB 7.0 MB/s eta 0:00:01\r\u001b[K     |█████████▌                      | 307 kB 7.0 MB/s eta 0:00:01\r\u001b[K     |█████████▉                      | 317 kB 7.0 MB/s eta 0:00:01\r\u001b[K     |██████████▏                     | 327 kB 7.0 MB/s eta 0:00:01\r\u001b[K     |██████████▌                     | 337 kB 7.0 MB/s eta 0:00:01\r\u001b[K     |██████████▉                     | 348 kB 7.0 MB/s eta 0:00:01\r\u001b[K     |███████████▏                    | 358 kB 7.0 MB/s eta 0:00:01\r\u001b[K     |███████████▍                    | 368 kB 7.0 MB/s eta 0:00:01\r\u001b[K     |███████████▊                    | 378 kB 7.0 MB/s eta 0:00:01\r\u001b[K     |████████████                    | 389 kB 7.0 MB/s eta 0:00:01\r\u001b[K     |████████████▍                   | 399 kB 7.0 MB/s eta 0:00:01\r\u001b[K     |████████████▊                   | 409 kB 7.0 MB/s eta 0:00:01\r\u001b[K     |█████████████                   | 419 kB 7.0 MB/s eta 0:00:01\r\u001b[K     |█████████████▍                  | 430 kB 7.0 MB/s eta 0:00:01\r\u001b[K     |█████████████▋                  | 440 kB 7.0 MB/s eta 0:00:01\r\u001b[K     |██████████████                  | 450 kB 7.0 MB/s eta 0:00:01\r\u001b[K     |██████████████▎                 | 460 kB 7.0 MB/s eta 0:00:01\r\u001b[K     |██████████████▋                 | 471 kB 7.0 MB/s eta 0:00:01\r\u001b[K     |███████████████                 | 481 kB 7.0 MB/s eta 0:00:01\r\u001b[K     |███████████████▎                | 491 kB 7.0 MB/s eta 0:00:01\r\u001b[K     |███████████████▋                | 501 kB 7.0 MB/s eta 0:00:01\r\u001b[K     |███████████████▉                | 512 kB 7.0 MB/s eta 0:00:01\r\u001b[K     |████████████████▏               | 522 kB 7.0 MB/s eta 0:00:01\r\u001b[K     |████████████████▌               | 532 kB 7.0 MB/s eta 0:00:01\r\u001b[K     |████████████████▉               | 542 kB 7.0 MB/s eta 0:00:01\r\u001b[K     |█████████████████▏              | 552 kB 7.0 MB/s eta 0:00:01\r\u001b[K     |█████████████████▌              | 563 kB 7.0 MB/s eta 0:00:01\r\u001b[K     |█████████████████▉              | 573 kB 7.0 MB/s eta 0:00:01\r\u001b[K     |██████████████████              | 583 kB 7.0 MB/s eta 0:00:01\r\u001b[K     |██████████████████▍             | 593 kB 7.0 MB/s eta 0:00:01\r\u001b[K     |██████████████████▊             | 604 kB 7.0 MB/s eta 0:00:01\r\u001b[K     |███████████████████             | 614 kB 7.0 MB/s eta 0:00:01\r\u001b[K     |███████████████████▍            | 624 kB 7.0 MB/s eta 0:00:01\r\u001b[K     |███████████████████▊            | 634 kB 7.0 MB/s eta 0:00:01\r\u001b[K     |████████████████████            | 645 kB 7.0 MB/s eta 0:00:01\r\u001b[K     |████████████████████▎           | 655 kB 7.0 MB/s eta 0:00:01\r\u001b[K     |████████████████████▋           | 665 kB 7.0 MB/s eta 0:00:01\r\u001b[K     |█████████████████████           | 675 kB 7.0 MB/s eta 0:00:01\r\u001b[K     |█████████████████████▎          | 686 kB 7.0 MB/s eta 0:00:01\r\u001b[K     |█████████████████████▋          | 696 kB 7.0 MB/s eta 0:00:01\r\u001b[K     |██████████████████████          | 706 kB 7.0 MB/s eta 0:00:01\r\u001b[K     |██████████████████████▎         | 716 kB 7.0 MB/s eta 0:00:01\r\u001b[K     |██████████████████████▋         | 727 kB 7.0 MB/s eta 0:00:01\r\u001b[K     |██████████████████████▉         | 737 kB 7.0 MB/s eta 0:00:01\r\u001b[K     |███████████████████████▏        | 747 kB 7.0 MB/s eta 0:00:01\r\u001b[K     |███████████████████████▌        | 757 kB 7.0 MB/s eta 0:00:01\r\u001b[K     |███████████████████████▉        | 768 kB 7.0 MB/s eta 0:00:01\r\u001b[K     |████████████████████████▏       | 778 kB 7.0 MB/s eta 0:00:01\r\u001b[K     |████████████████████████▌       | 788 kB 7.0 MB/s eta 0:00:01\r\u001b[K     |████████████████████████▉       | 798 kB 7.0 MB/s eta 0:00:01\r\u001b[K     |█████████████████████████       | 808 kB 7.0 MB/s eta 0:00:01\r\u001b[K     |█████████████████████████▍      | 819 kB 7.0 MB/s eta 0:00:01\r\u001b[K     |█████████████████████████▊      | 829 kB 7.0 MB/s eta 0:00:01\r\u001b[K     |██████████████████████████      | 839 kB 7.0 MB/s eta 0:00:01\r\u001b[K     |██████████████████████████▍     | 849 kB 7.0 MB/s eta 0:00:01\r\u001b[K     |██████████████████████████▊     | 860 kB 7.0 MB/s eta 0:00:01\r\u001b[K     |███████████████████████████     | 870 kB 7.0 MB/s eta 0:00:01\r\u001b[K     |███████████████████████████▎    | 880 kB 7.0 MB/s eta 0:00:01\r\u001b[K     |███████████████████████████▋    | 890 kB 7.0 MB/s eta 0:00:01\r\u001b[K     |████████████████████████████    | 901 kB 7.0 MB/s eta 0:00:01\r\u001b[K     |████████████████████████████▎   | 911 kB 7.0 MB/s eta 0:00:01\r\u001b[K     |████████████████████████████▋   | 921 kB 7.0 MB/s eta 0:00:01\r\u001b[K     |█████████████████████████████   | 931 kB 7.0 MB/s eta 0:00:01\r\u001b[K     |█████████████████████████████▎  | 942 kB 7.0 MB/s eta 0:00:01\r\u001b[K     |█████████████████████████████▌  | 952 kB 7.0 MB/s eta 0:00:01\r\u001b[K     |█████████████████████████████▉  | 962 kB 7.0 MB/s eta 0:00:01\r\u001b[K     |██████████████████████████████▏ | 972 kB 7.0 MB/s eta 0:00:01\r\u001b[K     |██████████████████████████████▌ | 983 kB 7.0 MB/s eta 0:00:01\r\u001b[K     |██████████████████████████████▉ | 993 kB 7.0 MB/s eta 0:00:01\r\u001b[K     |███████████████████████████████▏| 1.0 MB 7.0 MB/s eta 0:00:01\r\u001b[K     |███████████████████████████████▌| 1.0 MB 7.0 MB/s eta 0:00:01\r\u001b[K     |███████████████████████████████▊| 1.0 MB 7.0 MB/s eta 0:00:01\r\u001b[K     |████████████████████████████████| 1.0 MB 7.0 MB/s \n",
            "\u001b[?25hRequirement already satisfied: pandas>=0.25.0 in /usr/local/lib/python3.7/dist-packages (from geopandas) (1.1.5)\n",
            "Collecting fiona>=1.8\n",
            "  Downloading Fiona-1.8.20-cp37-cp37m-manylinux1_x86_64.whl (15.4 MB)\n",
            "\u001b[K     |████████████████████████████████| 15.4 MB 40.5 MB/s \n",
            "\u001b[?25hCollecting pyproj>=2.2.0\n",
            "  Downloading pyproj-3.2.1-cp37-cp37m-manylinux2010_x86_64.whl (6.3 MB)\n",
            "\u001b[K     |████████████████████████████████| 6.3 MB 58.7 MB/s \n",
            "\u001b[?25hRequirement already satisfied: shapely>=1.6 in /usr/local/lib/python3.7/dist-packages (from geopandas) (1.8.0)\n",
            "Requirement already satisfied: certifi in /usr/local/lib/python3.7/dist-packages (from fiona>=1.8->geopandas) (2021.10.8)\n",
            "Collecting munch\n",
            "  Downloading munch-2.5.0-py2.py3-none-any.whl (10 kB)\n",
            "Requirement already satisfied: setuptools in /usr/local/lib/python3.7/dist-packages (from fiona>=1.8->geopandas) (57.4.0)\n",
            "Requirement already satisfied: click>=4.0 in /usr/local/lib/python3.7/dist-packages (from fiona>=1.8->geopandas) (7.1.2)\n",
            "Requirement already satisfied: attrs>=17 in /usr/local/lib/python3.7/dist-packages (from fiona>=1.8->geopandas) (21.2.0)\n",
            "Collecting click-plugins>=1.0\n",
            "  Downloading click_plugins-1.1.1-py2.py3-none-any.whl (7.5 kB)\n",
            "Collecting cligj>=0.5\n",
            "  Downloading cligj-0.7.2-py3-none-any.whl (7.1 kB)\n",
            "Requirement already satisfied: six>=1.7 in /usr/local/lib/python3.7/dist-packages (from fiona>=1.8->geopandas) (1.15.0)\n",
            "Requirement already satisfied: numpy>=1.15.4 in /usr/local/lib/python3.7/dist-packages (from pandas>=0.25.0->geopandas) (1.19.5)\n",
            "Requirement already satisfied: python-dateutil>=2.7.3 in /usr/local/lib/python3.7/dist-packages (from pandas>=0.25.0->geopandas) (2.8.2)\n",
            "Requirement already satisfied: pytz>=2017.2 in /usr/local/lib/python3.7/dist-packages (from pandas>=0.25.0->geopandas) (2018.9)\n",
            "Installing collected packages: munch, cligj, click-plugins, pyproj, fiona, geopandas\n",
            "Successfully installed click-plugins-1.1.1 cligj-0.7.2 fiona-1.8.20 geopandas-0.10.2 munch-2.5.0 pyproj-3.2.1\n"
          ]
        }
      ]
    },
    {
      "cell_type": "code",
      "metadata": {
        "colab": {
          "base_uri": "https://localhost:8080/"
        },
        "id": "S1sdQHvqWX0M",
        "outputId": "fa3ed561-044b-49d6-d0a2-673b0dee7d54"
      },
      "source": [
        "df['GRAVEDAD'].unique()\n",
        "df['GRAVEDAD']= df['GRAVEDAD'].apply(lambda x : 'Solo daños' if x == 'Solo da\\\\xF1os' else x)\n",
        "df['GRAVEDAD'].unique()"
      ],
      "execution_count": null,
      "outputs": [
        {
          "output_type": "stream",
          "name": "stderr",
          "text": [
            "/usr/local/lib/python3.7/dist-packages/ipykernel_launcher.py:2: SettingWithCopyWarning: \n",
            "A value is trying to be set on a copy of a slice from a DataFrame.\n",
            "Try using .loc[row_indexer,col_indexer] = value instead\n",
            "\n",
            "See the caveats in the documentation: https://pandas.pydata.org/pandas-docs/stable/user_guide/indexing.html#returning-a-view-versus-a-copy\n",
            "  \n"
          ]
        },
        {
          "output_type": "execute_result",
          "data": {
            "text/plain": [
              "array(['Con heridos', 'Solo daños', 'Con muertos'], dtype=object)"
            ]
          },
          "metadata": {},
          "execution_count": 18
        }
      ]
    },
    {
      "cell_type": "code",
      "metadata": {
        "colab": {
          "base_uri": "https://localhost:8080/"
        },
        "id": "06WH4HGycgDY",
        "outputId": "5cba04ca-d3b0-406d-cf36-d951c9310c7b"
      },
      "source": [
        "df['CLASE_ACCIDENTE'].unique()\n",
        "df['CLASE_ACCIDENTE']= df['CLASE_ACCIDENTE'].apply(lambda x : 'Caida Ocupante' if x == 'Caída de Ocupante' else x)\n",
        "df['CLASE_ACCIDENTE']= df['CLASE_ACCIDENTE'].apply(lambda x : 'Caida Ocupante' if x == 'Caída Ocupante' else x)\n",
        "df['CLASE_ACCIDENTE']= df['CLASE_ACCIDENTE'].apply(lambda x : 'Caida Ocupante' if x == 'Caida de Ocupante' else x)\n",
        "df['CLASE_ACCIDENTE']= df['CLASE_ACCIDENTE'].apply(lambda x : 'No registra' if x == float(\"nan\") else x)\n",
        "df['CLASE_ACCIDENTE'].unique()"
      ],
      "execution_count": null,
      "outputs": [
        {
          "output_type": "stream",
          "name": "stderr",
          "text": [
            "/usr/local/lib/python3.7/dist-packages/ipykernel_launcher.py:2: SettingWithCopyWarning: \n",
            "A value is trying to be set on a copy of a slice from a DataFrame.\n",
            "Try using .loc[row_indexer,col_indexer] = value instead\n",
            "\n",
            "See the caveats in the documentation: https://pandas.pydata.org/pandas-docs/stable/user_guide/indexing.html#returning-a-view-versus-a-copy\n",
            "  \n",
            "/usr/local/lib/python3.7/dist-packages/ipykernel_launcher.py:3: SettingWithCopyWarning: \n",
            "A value is trying to be set on a copy of a slice from a DataFrame.\n",
            "Try using .loc[row_indexer,col_indexer] = value instead\n",
            "\n",
            "See the caveats in the documentation: https://pandas.pydata.org/pandas-docs/stable/user_guide/indexing.html#returning-a-view-versus-a-copy\n",
            "  This is separate from the ipykernel package so we can avoid doing imports until\n",
            "/usr/local/lib/python3.7/dist-packages/ipykernel_launcher.py:4: SettingWithCopyWarning: \n",
            "A value is trying to be set on a copy of a slice from a DataFrame.\n",
            "Try using .loc[row_indexer,col_indexer] = value instead\n",
            "\n",
            "See the caveats in the documentation: https://pandas.pydata.org/pandas-docs/stable/user_guide/indexing.html#returning-a-view-versus-a-copy\n",
            "  after removing the cwd from sys.path.\n",
            "/usr/local/lib/python3.7/dist-packages/ipykernel_launcher.py:5: SettingWithCopyWarning: \n",
            "A value is trying to be set on a copy of a slice from a DataFrame.\n",
            "Try using .loc[row_indexer,col_indexer] = value instead\n",
            "\n",
            "See the caveats in the documentation: https://pandas.pydata.org/pandas-docs/stable/user_guide/indexing.html#returning-a-view-versus-a-copy\n",
            "  \"\"\"\n"
          ]
        },
        {
          "output_type": "execute_result",
          "data": {
            "text/plain": [
              "array(['Otro', 'Choque', 'Atropello', 'Caida Ocupante', 'Volcamiento',\n",
              "       'Incendio', nan], dtype=object)"
            ]
          },
          "metadata": {},
          "execution_count": 19
        }
      ]
    },
    {
      "cell_type": "code",
      "metadata": {
        "id": "WjWRxx02jOvH",
        "colab": {
          "base_uri": "https://localhost:8080/",
          "height": 175
        },
        "outputId": "a2005f5f-4d76-44c1-ac01-9211c36afbd3"
      },
      "source": [
        "df.describe()"
      ],
      "execution_count": null,
      "outputs": [
        {
          "output_type": "execute_result",
          "data": {
            "text/html": [
              "<div>\n",
              "<style scoped>\n",
              "    .dataframe tbody tr th:only-of-type {\n",
              "        vertical-align: middle;\n",
              "    }\n",
              "\n",
              "    .dataframe tbody tr th {\n",
              "        vertical-align: top;\n",
              "    }\n",
              "\n",
              "    .dataframe thead th {\n",
              "        text-align: right;\n",
              "    }\n",
              "</style>\n",
              "<table border=\"1\" class=\"dataframe\">\n",
              "  <thead>\n",
              "    <tr style=\"text-align: right;\">\n",
              "      <th></th>\n",
              "      <th>AÑO</th>\n",
              "      <th>CLASE_ACCIDENTE</th>\n",
              "      <th>LOCATION</th>\n",
              "      <th>GRAVEDAD</th>\n",
              "      <th>DISEÑO</th>\n",
              "      <th>lon</th>\n",
              "      <th>lat</th>\n",
              "    </tr>\n",
              "  </thead>\n",
              "  <tbody>\n",
              "    <tr>\n",
              "      <th>count</th>\n",
              "      <td>270765</td>\n",
              "      <td>270759</td>\n",
              "      <td>257967</td>\n",
              "      <td>270765</td>\n",
              "      <td>269617</td>\n",
              "      <td>270765.000000</td>\n",
              "      <td>270765.000000</td>\n",
              "    </tr>\n",
              "    <tr>\n",
              "      <th>unique</th>\n",
              "      <td>7</td>\n",
              "      <td>6</td>\n",
              "      <td>22</td>\n",
              "      <td>3</td>\n",
              "      <td>13</td>\n",
              "      <td>26868.000000</td>\n",
              "      <td>26868.000000</td>\n",
              "    </tr>\n",
              "    <tr>\n",
              "      <th>top</th>\n",
              "      <td>2016</td>\n",
              "      <td>Choque</td>\n",
              "      <td>La Candelaria</td>\n",
              "      <td>Con heridos</td>\n",
              "      <td>Tramo de via</td>\n",
              "      <td>-75.703776</td>\n",
              "      <td>6.221415</td>\n",
              "    </tr>\n",
              "    <tr>\n",
              "      <th>freq</th>\n",
              "      <td>47103</td>\n",
              "      <td>180575</td>\n",
              "      <td>52190</td>\n",
              "      <td>150071</td>\n",
              "      <td>187319</td>\n",
              "      <td>19613.000000</td>\n",
              "      <td>19613.000000</td>\n",
              "    </tr>\n",
              "  </tbody>\n",
              "</table>\n",
              "</div>"
            ],
            "text/plain": [
              "           AÑO CLASE_ACCIDENTE  ...            lon            lat\n",
              "count   270765          270759  ...  270765.000000  270765.000000\n",
              "unique       7               6  ...   26868.000000   26868.000000\n",
              "top       2016          Choque  ...     -75.703776       6.221415\n",
              "freq     47103          180575  ...   19613.000000   19613.000000\n",
              "\n",
              "[4 rows x 7 columns]"
            ]
          },
          "metadata": {},
          "execution_count": 20
        }
      ]
    },
    {
      "cell_type": "code",
      "metadata": {
        "id": "O-Z_U1ysG5hc"
      },
      "source": [
        "import geopandas as gpd\n",
        "from geopandas import GeoDataFrame\n",
        "from shapely.geometry import Point\n",
        "geometry = [Point(xy) for xy in zip(Latitud_ind.lon, Latitud_ind.lat)]\n",
        "df_mapa = Latitud_ind.drop(['lon', 'lat'], axis=1)\n",
        "df_mapa['LOCATION']=df['LOCATION']\n",
        "gdf = GeoDataFrame(df_mapa, crs=\"EPSG:4326\", geometry=geometry)"
      ],
      "execution_count": null,
      "outputs": []
    },
    {
      "cell_type": "code",
      "metadata": {
        "colab": {
          "base_uri": "https://localhost:8080/",
          "height": 424
        },
        "id": "0VGWYOOtQzF9",
        "outputId": "d6144a28-67cc-4aab-e8cd-155a6965f2ad"
      },
      "source": [
        "gdf"
      ],
      "execution_count": null,
      "outputs": [
        {
          "output_type": "execute_result",
          "data": {
            "text/html": [
              "<div>\n",
              "<style scoped>\n",
              "    .dataframe tbody tr th:only-of-type {\n",
              "        vertical-align: middle;\n",
              "    }\n",
              "\n",
              "    .dataframe tbody tr th {\n",
              "        vertical-align: top;\n",
              "    }\n",
              "\n",
              "    .dataframe thead th {\n",
              "        text-align: right;\n",
              "    }\n",
              "</style>\n",
              "<table border=\"1\" class=\"dataframe\">\n",
              "  <thead>\n",
              "    <tr style=\"text-align: right;\">\n",
              "      <th></th>\n",
              "      <th>LOCATION</th>\n",
              "      <th>geometry</th>\n",
              "    </tr>\n",
              "  </thead>\n",
              "  <tbody>\n",
              "    <tr>\n",
              "      <th>0</th>\n",
              "      <td>Laureles Estadio</td>\n",
              "      <td>POINT (-75.58931 6.23979)</td>\n",
              "    </tr>\n",
              "    <tr>\n",
              "      <th>1</th>\n",
              "      <td>Castilla</td>\n",
              "      <td>POINT (-75.57082 6.30004)</td>\n",
              "    </tr>\n",
              "    <tr>\n",
              "      <th>2</th>\n",
              "      <td>El Poblado</td>\n",
              "      <td>POINT (-75.57657 6.20875)</td>\n",
              "    </tr>\n",
              "    <tr>\n",
              "      <th>3</th>\n",
              "      <td>Villa Hermosa</td>\n",
              "      <td>POINT (-75.55125 6.25906)</td>\n",
              "    </tr>\n",
              "    <tr>\n",
              "      <th>4</th>\n",
              "      <td>La Candelaria</td>\n",
              "      <td>POINT (-75.55615 6.24997)</td>\n",
              "    </tr>\n",
              "    <tr>\n",
              "      <th>...</th>\n",
              "      <td>...</td>\n",
              "      <td>...</td>\n",
              "    </tr>\n",
              "    <tr>\n",
              "      <th>270760</th>\n",
              "      <td>La Candelaria</td>\n",
              "      <td>POINT (-75.57313 6.26064)</td>\n",
              "    </tr>\n",
              "    <tr>\n",
              "      <th>270761</th>\n",
              "      <td>Laureles Estadio</td>\n",
              "      <td>POINT (-75.59021 6.26040)</td>\n",
              "    </tr>\n",
              "    <tr>\n",
              "      <th>270762</th>\n",
              "      <td>Castilla</td>\n",
              "      <td>POINT (-75.57354 6.27626)</td>\n",
              "    </tr>\n",
              "    <tr>\n",
              "      <th>270763</th>\n",
              "      <td>Santa Cruz</td>\n",
              "      <td>POINT (-75.55151 6.29360)</td>\n",
              "    </tr>\n",
              "    <tr>\n",
              "      <th>270764</th>\n",
              "      <td>Manrique</td>\n",
              "      <td>POINT (-75.55339 6.27178)</td>\n",
              "    </tr>\n",
              "  </tbody>\n",
              "</table>\n",
              "<p>270765 rows × 2 columns</p>\n",
              "</div>"
            ],
            "text/plain": [
              "                LOCATION                   geometry\n",
              "0       Laureles Estadio  POINT (-75.58931 6.23979)\n",
              "1               Castilla  POINT (-75.57082 6.30004)\n",
              "2             El Poblado  POINT (-75.57657 6.20875)\n",
              "3          Villa Hermosa  POINT (-75.55125 6.25906)\n",
              "4          La Candelaria  POINT (-75.55615 6.24997)\n",
              "...                  ...                        ...\n",
              "270760     La Candelaria  POINT (-75.57313 6.26064)\n",
              "270761  Laureles Estadio  POINT (-75.59021 6.26040)\n",
              "270762          Castilla  POINT (-75.57354 6.27626)\n",
              "270763        Santa Cruz  POINT (-75.55151 6.29360)\n",
              "270764          Manrique  POINT (-75.55339 6.27178)\n",
              "\n",
              "[270765 rows x 2 columns]"
            ]
          },
          "metadata": {},
          "execution_count": 22
        }
      ]
    },
    {
      "cell_type": "code",
      "metadata": {
        "colab": {
          "base_uri": "https://localhost:8080/"
        },
        "id": "8I18BpjoGp1m",
        "outputId": "b659727a-7462-4d30-da3a-d0da677dcf4c"
      },
      "source": [
        "len(df['LOCATION'].unique())\n",
        "colors=[\"k\",\"b\",\"c\",\"r\",\"g\",\"m\",\"yelow\",\"pink\",\"violet\",\"brown\",\"beige\",\"gold\",\"darkgreen\",\"skyblue\",\"darkblue\",\"dimgray\",\"lightgray\",\"yelowgreen\",\"navy\",\"coral\",\"dodgerblue\",\"salmon\",\"y\",\"plum\",\"purple\"]\n",
        "len(colors)"
      ],
      "execution_count": null,
      "outputs": [
        {
          "output_type": "execute_result",
          "data": {
            "text/plain": [
              "25"
            ]
          },
          "metadata": {},
          "execution_count": 23
        }
      ]
    },
    {
      "cell_type": "code",
      "metadata": {
        "colab": {
          "base_uri": "https://localhost:8080/",
          "height": 623
        },
        "id": "PXEnEF8OC_be",
        "outputId": "84670edc-482a-47dd-fdb0-be458021f388"
      },
      "source": [
        "import matplotlib.pyplot as plt\n",
        "from matplotlib import cm\n",
        "from matplotlib import pyplot, transforms\n",
        "df_mapaMedellin=gpd.read_file('/content/drive/MyDrive/TAE Trabajo 1/Limite_Comuna_Corregimiento.geojson')\n",
        "conteo= df['LOCATION'].value_counts(normalize=True)\n",
        "\n",
        "viridis = cm.get_cmap('viridis', 25)\n",
        "fig, ax = plt.subplots(figsize=(15, 15))\n",
        "ax.set_title('Mapa de accidentalidad Medellin Temporadas de 2014-2019: La Candelaria con {:.0%} , Laureles Estadio {:.0%}, Castilla {:.0%}'.format(conteo['La Candelaria'],conteo['Laureles Estadio'],conteo['Castilla']))\n",
        "base = pyplot.gca().transData\n",
        "df_mapaMedellin.boundary.plot(ax=ax)\n",
        "rot = transforms.Affine2D().rotate_deg(0)\n",
        "gdf.plot(column='LOCATION',ax=ax,legend = True,cmap='nipy_spectral',transform= rot + base)"
      ],
      "execution_count": null,
      "outputs": [
        {
          "output_type": "error",
          "ename": "DriverError",
          "evalue": "ignored",
          "traceback": [
            "\u001b[0;31m---------------------------------------------------------------------------\u001b[0m",
            "\u001b[0;31mCPLE_OpenFailedError\u001b[0m                      Traceback (most recent call last)",
            "\u001b[0;32mfiona/_shim.pyx\u001b[0m in \u001b[0;36mfiona._shim.gdal_open_vector\u001b[0;34m()\u001b[0m\n",
            "\u001b[0;32mfiona/_err.pyx\u001b[0m in \u001b[0;36mfiona._err.exc_wrap_pointer\u001b[0;34m()\u001b[0m\n",
            "\u001b[0;31mCPLE_OpenFailedError\u001b[0m: /content/drive/MyDrive/TAE Trabajo 1/Limite_Comuna_Corregimiento.geojson: No such file or directory",
            "\nDuring handling of the above exception, another exception occurred:\n",
            "\u001b[0;31mDriverError\u001b[0m                               Traceback (most recent call last)",
            "\u001b[0;32m<ipython-input-24-eaf85096052c>\u001b[0m in \u001b[0;36m<module>\u001b[0;34m()\u001b[0m\n\u001b[1;32m      2\u001b[0m \u001b[0;32mfrom\u001b[0m \u001b[0mmatplotlib\u001b[0m \u001b[0;32mimport\u001b[0m \u001b[0mcm\u001b[0m\u001b[0;34m\u001b[0m\u001b[0;34m\u001b[0m\u001b[0m\n\u001b[1;32m      3\u001b[0m \u001b[0;32mfrom\u001b[0m \u001b[0mmatplotlib\u001b[0m \u001b[0;32mimport\u001b[0m \u001b[0mpyplot\u001b[0m\u001b[0;34m,\u001b[0m \u001b[0mtransforms\u001b[0m\u001b[0;34m\u001b[0m\u001b[0;34m\u001b[0m\u001b[0m\n\u001b[0;32m----> 4\u001b[0;31m \u001b[0mdf_mapaMedellin\u001b[0m\u001b[0;34m=\u001b[0m\u001b[0mgpd\u001b[0m\u001b[0;34m.\u001b[0m\u001b[0mread_file\u001b[0m\u001b[0;34m(\u001b[0m\u001b[0;34m'/content/drive/MyDrive/TAE Trabajo 1/Limite_Comuna_Corregimiento.geojson'\u001b[0m\u001b[0;34m)\u001b[0m\u001b[0;34m\u001b[0m\u001b[0;34m\u001b[0m\u001b[0m\n\u001b[0m\u001b[1;32m      5\u001b[0m \u001b[0mconteo\u001b[0m\u001b[0;34m=\u001b[0m \u001b[0mdf\u001b[0m\u001b[0;34m[\u001b[0m\u001b[0;34m'LOCATION'\u001b[0m\u001b[0;34m]\u001b[0m\u001b[0;34m.\u001b[0m\u001b[0mvalue_counts\u001b[0m\u001b[0;34m(\u001b[0m\u001b[0mnormalize\u001b[0m\u001b[0;34m=\u001b[0m\u001b[0;32mTrue\u001b[0m\u001b[0;34m)\u001b[0m\u001b[0;34m\u001b[0m\u001b[0;34m\u001b[0m\u001b[0m\n\u001b[1;32m      6\u001b[0m \u001b[0;34m\u001b[0m\u001b[0m\n",
            "\u001b[0;32m/usr/local/lib/python3.7/dist-packages/geopandas/io/file.py\u001b[0m in \u001b[0;36m_read_file\u001b[0;34m(filename, bbox, mask, rows, **kwargs)\u001b[0m\n\u001b[1;32m    199\u001b[0m \u001b[0;34m\u001b[0m\u001b[0m\n\u001b[1;32m    200\u001b[0m     \u001b[0;32mwith\u001b[0m \u001b[0mfiona_env\u001b[0m\u001b[0;34m(\u001b[0m\u001b[0;34m)\u001b[0m\u001b[0;34m:\u001b[0m\u001b[0;34m\u001b[0m\u001b[0;34m\u001b[0m\u001b[0m\n\u001b[0;32m--> 201\u001b[0;31m         \u001b[0;32mwith\u001b[0m \u001b[0mreader\u001b[0m\u001b[0;34m(\u001b[0m\u001b[0mpath_or_bytes\u001b[0m\u001b[0;34m,\u001b[0m \u001b[0;34m**\u001b[0m\u001b[0mkwargs\u001b[0m\u001b[0;34m)\u001b[0m \u001b[0;32mas\u001b[0m \u001b[0mfeatures\u001b[0m\u001b[0;34m:\u001b[0m\u001b[0;34m\u001b[0m\u001b[0;34m\u001b[0m\u001b[0m\n\u001b[0m\u001b[1;32m    202\u001b[0m \u001b[0;34m\u001b[0m\u001b[0m\n\u001b[1;32m    203\u001b[0m             \u001b[0;31m# In a future Fiona release the crs attribute of features will\u001b[0m\u001b[0;34m\u001b[0m\u001b[0;34m\u001b[0m\u001b[0;34m\u001b[0m\u001b[0m\n",
            "\u001b[0;32m/usr/local/lib/python3.7/dist-packages/fiona/env.py\u001b[0m in \u001b[0;36mwrapper\u001b[0;34m(*args, **kwargs)\u001b[0m\n\u001b[1;32m    406\u001b[0m     \u001b[0;32mdef\u001b[0m \u001b[0mwrapper\u001b[0m\u001b[0;34m(\u001b[0m\u001b[0;34m*\u001b[0m\u001b[0margs\u001b[0m\u001b[0;34m,\u001b[0m \u001b[0;34m**\u001b[0m\u001b[0mkwargs\u001b[0m\u001b[0;34m)\u001b[0m\u001b[0;34m:\u001b[0m\u001b[0;34m\u001b[0m\u001b[0;34m\u001b[0m\u001b[0m\n\u001b[1;32m    407\u001b[0m         \u001b[0;32mif\u001b[0m \u001b[0mlocal\u001b[0m\u001b[0;34m.\u001b[0m\u001b[0m_env\u001b[0m\u001b[0;34m:\u001b[0m\u001b[0;34m\u001b[0m\u001b[0;34m\u001b[0m\u001b[0m\n\u001b[0;32m--> 408\u001b[0;31m             \u001b[0;32mreturn\u001b[0m \u001b[0mf\u001b[0m\u001b[0;34m(\u001b[0m\u001b[0;34m*\u001b[0m\u001b[0margs\u001b[0m\u001b[0;34m,\u001b[0m \u001b[0;34m**\u001b[0m\u001b[0mkwargs\u001b[0m\u001b[0;34m)\u001b[0m\u001b[0;34m\u001b[0m\u001b[0;34m\u001b[0m\u001b[0m\n\u001b[0m\u001b[1;32m    409\u001b[0m         \u001b[0;32melse\u001b[0m\u001b[0;34m:\u001b[0m\u001b[0;34m\u001b[0m\u001b[0;34m\u001b[0m\u001b[0m\n\u001b[1;32m    410\u001b[0m             \u001b[0;32mif\u001b[0m \u001b[0misinstance\u001b[0m\u001b[0;34m(\u001b[0m\u001b[0margs\u001b[0m\u001b[0;34m[\u001b[0m\u001b[0;36m0\u001b[0m\u001b[0;34m]\u001b[0m\u001b[0;34m,\u001b[0m \u001b[0mstr\u001b[0m\u001b[0;34m)\u001b[0m\u001b[0;34m:\u001b[0m\u001b[0;34m\u001b[0m\u001b[0;34m\u001b[0m\u001b[0m\n",
            "\u001b[0;32m/usr/local/lib/python3.7/dist-packages/fiona/__init__.py\u001b[0m in \u001b[0;36mopen\u001b[0;34m(fp, mode, driver, schema, crs, encoding, layer, vfs, enabled_drivers, crs_wkt, **kwargs)\u001b[0m\n\u001b[1;32m    255\u001b[0m         \u001b[0;32mif\u001b[0m \u001b[0mmode\u001b[0m \u001b[0;32min\u001b[0m \u001b[0;34m(\u001b[0m\u001b[0;34m'a'\u001b[0m\u001b[0;34m,\u001b[0m \u001b[0;34m'r'\u001b[0m\u001b[0;34m)\u001b[0m\u001b[0;34m:\u001b[0m\u001b[0;34m\u001b[0m\u001b[0;34m\u001b[0m\u001b[0m\n\u001b[1;32m    256\u001b[0m             c = Collection(path, mode, driver=driver, encoding=encoding,\n\u001b[0;32m--> 257\u001b[0;31m                            layer=layer, enabled_drivers=enabled_drivers, **kwargs)\n\u001b[0m\u001b[1;32m    258\u001b[0m         \u001b[0;32melif\u001b[0m \u001b[0mmode\u001b[0m \u001b[0;34m==\u001b[0m \u001b[0;34m'w'\u001b[0m\u001b[0;34m:\u001b[0m\u001b[0;34m\u001b[0m\u001b[0;34m\u001b[0m\u001b[0m\n\u001b[1;32m    259\u001b[0m             \u001b[0;32mif\u001b[0m \u001b[0mschema\u001b[0m\u001b[0;34m:\u001b[0m\u001b[0;34m\u001b[0m\u001b[0;34m\u001b[0m\u001b[0m\n",
            "\u001b[0;32m/usr/local/lib/python3.7/dist-packages/fiona/collection.py\u001b[0m in \u001b[0;36m__init__\u001b[0;34m(self, path, mode, driver, schema, crs, encoding, layer, vsi, archive, enabled_drivers, crs_wkt, ignore_fields, ignore_geometry, **kwargs)\u001b[0m\n\u001b[1;32m    160\u001b[0m             \u001b[0;32mif\u001b[0m \u001b[0mself\u001b[0m\u001b[0;34m.\u001b[0m\u001b[0mmode\u001b[0m \u001b[0;34m==\u001b[0m \u001b[0;34m'r'\u001b[0m\u001b[0;34m:\u001b[0m\u001b[0;34m\u001b[0m\u001b[0;34m\u001b[0m\u001b[0m\n\u001b[1;32m    161\u001b[0m                 \u001b[0mself\u001b[0m\u001b[0;34m.\u001b[0m\u001b[0msession\u001b[0m \u001b[0;34m=\u001b[0m \u001b[0mSession\u001b[0m\u001b[0;34m(\u001b[0m\u001b[0;34m)\u001b[0m\u001b[0;34m\u001b[0m\u001b[0;34m\u001b[0m\u001b[0m\n\u001b[0;32m--> 162\u001b[0;31m                 \u001b[0mself\u001b[0m\u001b[0;34m.\u001b[0m\u001b[0msession\u001b[0m\u001b[0;34m.\u001b[0m\u001b[0mstart\u001b[0m\u001b[0;34m(\u001b[0m\u001b[0mself\u001b[0m\u001b[0;34m,\u001b[0m \u001b[0;34m**\u001b[0m\u001b[0mkwargs\u001b[0m\u001b[0;34m)\u001b[0m\u001b[0;34m\u001b[0m\u001b[0;34m\u001b[0m\u001b[0m\n\u001b[0m\u001b[1;32m    163\u001b[0m             \u001b[0;32melif\u001b[0m \u001b[0mself\u001b[0m\u001b[0;34m.\u001b[0m\u001b[0mmode\u001b[0m \u001b[0;32min\u001b[0m \u001b[0;34m(\u001b[0m\u001b[0;34m'a'\u001b[0m\u001b[0;34m,\u001b[0m \u001b[0;34m'w'\u001b[0m\u001b[0;34m)\u001b[0m\u001b[0;34m:\u001b[0m\u001b[0;34m\u001b[0m\u001b[0;34m\u001b[0m\u001b[0m\n\u001b[1;32m    164\u001b[0m                 \u001b[0mself\u001b[0m\u001b[0;34m.\u001b[0m\u001b[0msession\u001b[0m \u001b[0;34m=\u001b[0m \u001b[0mWritingSession\u001b[0m\u001b[0;34m(\u001b[0m\u001b[0;34m)\u001b[0m\u001b[0;34m\u001b[0m\u001b[0;34m\u001b[0m\u001b[0m\n",
            "\u001b[0;32mfiona/ogrext.pyx\u001b[0m in \u001b[0;36mfiona.ogrext.Session.start\u001b[0;34m()\u001b[0m\n",
            "\u001b[0;32mfiona/_shim.pyx\u001b[0m in \u001b[0;36mfiona._shim.gdal_open_vector\u001b[0;34m()\u001b[0m\n",
            "\u001b[0;31mDriverError\u001b[0m: /content/drive/MyDrive/TAE Trabajo 1/Limite_Comuna_Corregimiento.geojson: No such file or directory"
          ]
        }
      ]
    },
    {
      "cell_type": "code",
      "metadata": {
        "id": "BBu5psbPg0Kf"
      },
      "source": [
        "geometry = [Point(xy) for xy in zip(df_2014.lon, df_2014.lat)]\n",
        "df_mapa = df_2014.drop(['lon', 'lat'], axis=1)\n",
        "df_mapa['CLASE_ACCIDENTE']=df_2014['CLASE_ACCIDENTE']\n",
        "gdf = GeoDataFrame(df_mapa, crs=\"EPSG:4326\", geometry=geometry)"
      ],
      "execution_count": null,
      "outputs": []
    },
    {
      "cell_type": "code",
      "metadata": {
        "id": "ckyTH_vYhKR5"
      },
      "source": [
        "import matplotlib.patches as mpatches\n",
        "\n",
        "conteo = df_2014['CLASE_ACCIDENTE'].value_counts(normalize=True)\n",
        "viridis = cm.get_cmap('viridis', 7)\n",
        "fig, ax = plt.subplots(figsize=(15, 15))\n",
        "ax.set_title('Mapa de clases accidentalidad Medellin Temporada de 2014')\n",
        "base = pyplot.gca().transData\n",
        "rot = transforms.Affine2D().rotate_deg(0)\n",
        "\n",
        "x1 = mpatches.Patch(color='blue',label='Atropello: '+str(conteo['Atropello']*100)+'%')\n",
        "x2 = mpatches.Patch(color='green',label='Caida de ocuapante:'+str(conteo['Caída de Ocupante']*100)+'%')\n",
        "x3 = mpatches.Patch(color='purple',label='Choque: '+str(conteo['Choque']*100)+'%')\n",
        "x4 = mpatches.Patch(color='pink',label='Incendio: '+str(conteo['Incendio']*100)+'%')\n",
        "x5 = mpatches.Patch(color='yellowgreen',label='Otro: '+str(conteo['Otro']*100)+'%')\n",
        "x6 = mpatches.Patch(color='skyblue',label='Volcamiento: '+str(conteo['Volcamiento']*100)+'%')\n",
        "\n",
        "ax.legend(handles=[x1,x2,x3,x4,x5,x6])\n",
        "df_mapaMedellin.boundary.plot(ax=ax)\n",
        "gdf.plot(column='CLASE_ACCIDENTE',ax=ax,transform= rot + base)"
      ],
      "execution_count": null,
      "outputs": []
    },
    {
      "cell_type": "code",
      "metadata": {
        "id": "ClWo9dMihxt6"
      },
      "source": [
        "conteo = df_2014['CLASE_ACCIDENTE'].value_counts(normalize=True)\n",
        "print(conteo)"
      ],
      "execution_count": null,
      "outputs": []
    },
    {
      "cell_type": "markdown",
      "metadata": {
        "id": "kCTH0tS9QFc8"
      },
      "source": [
        "2015"
      ]
    },
    {
      "cell_type": "code",
      "metadata": {
        "id": "C9Z4WJ4CMsQ9"
      },
      "source": [
        "df_2015=df[df['AÑO']=='2015']\n",
        "df_2015.head()\n"
      ],
      "execution_count": null,
      "outputs": []
    },
    {
      "cell_type": "code",
      "metadata": {
        "id": "iBae6-aXXEYT"
      },
      "source": [
        "df_2015=df_2015.dropna()\n",
        "df_2015.isna().sum()"
      ],
      "execution_count": null,
      "outputs": []
    },
    {
      "cell_type": "code",
      "metadata": {
        "id": "q8-4z084QRTp"
      },
      "source": [
        "conteo= df_2015['CLASE_ACCIDENTE'].value_counts(normalize=True)\n",
        "print(conteo)"
      ],
      "execution_count": null,
      "outputs": []
    },
    {
      "cell_type": "code",
      "metadata": {
        "id": "sCnJOt-BN1aF"
      },
      "source": [
        "geometry = [Point(xy) for xy in zip(df_2015.lon, df_2015.lat)]\n",
        "df_mapa = df_2015.drop(['lon', 'lat'], axis=1)\n",
        "df_mapa['CLASE_ACCIDENTE']=df_2015['CLASE_ACCIDENTE']\n",
        "gdf = GeoDataFrame(df_mapa, crs=\"EPSG:4326\", geometry=geometry)"
      ],
      "execution_count": null,
      "outputs": []
    },
    {
      "cell_type": "code",
      "metadata": {
        "id": "ysWzKcD_XZCC"
      },
      "source": [
        "df_2015['CLASE_ACCIDENTE'].unique()"
      ],
      "execution_count": null,
      "outputs": []
    },
    {
      "cell_type": "code",
      "metadata": {
        "id": "dZzSEdKFOUDI"
      },
      "source": [
        "import matplotlib.patches as mpatches\n",
        "conteo= df_2015['CLASE_ACCIDENTE'].value_counts(normalize=True)\n",
        "viridis = cm.get_cmap('viridis', 7)\n",
        "fig, ax = plt.subplots(figsize=(15, 15))\n",
        "ax.set_title('Mapa de clases accidentalidad Medellin Temporada de 2015')\n",
        "base = pyplot.gca().transData\n",
        "rot = transforms.Affine2D().rotate_deg(0)\n",
        "\n",
        "x1 = mpatches.Patch(color='blue',label='Atropello:'+str(conteo['Atropello']*100)+'%')\n",
        "x2 = mpatches.Patch(color='green',label='Caida de ocuapante:'+str(conteo['Caida Ocupante']*100)+'%')\n",
        "x3 = mpatches.Patch(color='purple',label='Choque: '+str(conteo['Choque']*100)+'%')\n",
        "x4 = mpatches.Patch(color='pink',label='Incendio: '+str(conteo['Incendio']*100)+'%')\n",
        "x5 = mpatches.Patch(color='yellowgreen',label='Otro: '+str(conteo['Otro']*100)+'%')\n",
        "x6 = mpatches.Patch(color='skyblue',label='Volcamiento: '+str(conteo['Volcamiento']*100)+'%')\n",
        "\n",
        "ax.legend(handles=[x1,x2,x3,x4,x5,x6])\n",
        "df_mapaMedellin.boundary.plot(ax=ax)\n",
        "gdf.plot(column='CLASE_ACCIDENTE',ax=ax,transform= rot + base)"
      ],
      "execution_count": null,
      "outputs": []
    },
    {
      "cell_type": "markdown",
      "metadata": {
        "id": "Ca-qy_x3QBOe"
      },
      "source": [
        "2016"
      ]
    },
    {
      "cell_type": "code",
      "metadata": {
        "id": "8TRZZjeuYTmq"
      },
      "source": [
        "df_2016=df[df['AÑO']=='2016']\n",
        "df_2016.head()"
      ],
      "execution_count": null,
      "outputs": []
    },
    {
      "cell_type": "code",
      "metadata": {
        "id": "L491fYIMYTbL"
      },
      "source": [
        "df_2016=df_2016.dropna()\n",
        "df_2016.isna().sum()"
      ],
      "execution_count": null,
      "outputs": []
    },
    {
      "cell_type": "code",
      "metadata": {
        "id": "os8C84i-YS5e"
      },
      "source": [
        "conteo= df_2016['CLASE_ACCIDENTE'].value_counts(normalize=True)\n",
        "print(conteo)"
      ],
      "execution_count": null,
      "outputs": []
    },
    {
      "cell_type": "code",
      "metadata": {
        "id": "jQjl4XqDYS1-"
      },
      "source": [
        "geometry = [Point(xy) for xy in zip(df_2016.lon, df_2016.lat)]\n",
        "df_mapa = df_2016.drop(['lon', 'lat'], axis=1)\n",
        "df_mapa['CLASE_ACCIDENTE']=df_2016['CLASE_ACCIDENTE']\n",
        "gdf = GeoDataFrame(df_mapa, crs=\"EPSG:4326\", geometry=geometry)"
      ],
      "execution_count": null,
      "outputs": []
    },
    {
      "cell_type": "code",
      "metadata": {
        "id": "Zxr_s67EYr7v"
      },
      "source": [
        "df_2016['CLASE_ACCIDENTE'].unique()"
      ],
      "execution_count": null,
      "outputs": []
    },
    {
      "cell_type": "code",
      "metadata": {
        "id": "z_tLItNIYruv"
      },
      "source": [
        "conteo= df_2016['CLASE_ACCIDENTE'].value_counts(normalize=True)\n",
        "viridis = cm.get_cmap('viridis', 7)\n",
        "fig, ax = plt.subplots(figsize=(15, 15))\n",
        "ax.set_title('Mapa de clases accidentalidad Medellin Temporada de 2016')\n",
        "base = pyplot.gca().transData\n",
        "rot = transforms.Affine2D().rotate_deg(0)\n",
        "\n",
        "x1 = mpatches.Patch(color='blue',label='Atropello: '+str(conteo['Atropello']*100)+'%')\n",
        "x2 = mpatches.Patch(color='green',label='Caida de ocuapante:'+str(conteo['Caida Ocupante']*100)+'%')\n",
        "x3 = mpatches.Patch(color='purple',label='Choque: '+str(conteo['Choque']*100)+'%')\n",
        "x4 = mpatches.Patch(color='pink',label='Incendio: '+str(conteo['Incendio']*100)+'%')\n",
        "x5 = mpatches.Patch(color='yellowgreen',label='Otro: '+str(conteo['Otro']*100)+'%')\n",
        "x6 = mpatches.Patch(color='skyblue',label='Volcamiento: '+str(conteo['Volcamiento']*100)+'%')\n",
        "\n",
        "ax.legend(handles=[x1,x2,x3,x4,x5,x6])\n",
        "df_mapaMedellin.boundary.plot(ax=ax)\n",
        "gdf.plot(column='CLASE_ACCIDENTE',ax=ax,transform= rot + base)"
      ],
      "execution_count": null,
      "outputs": []
    },
    {
      "cell_type": "markdown",
      "metadata": {
        "id": "UueJWtaIQLtP"
      },
      "source": [
        "2017"
      ]
    },
    {
      "cell_type": "code",
      "metadata": {
        "id": "4Gk5sKDBYrhe"
      },
      "source": [
        "df_2017=df[df['AÑO']=='2017']\n",
        "df_2017.head()"
      ],
      "execution_count": null,
      "outputs": []
    },
    {
      "cell_type": "code",
      "metadata": {
        "id": "yMNsdYSUP-6x"
      },
      "source": [
        "df_2017=df_2017.dropna()\n",
        "df_2017.isna().sum()"
      ],
      "execution_count": null,
      "outputs": []
    },
    {
      "cell_type": "code",
      "metadata": {
        "id": "VebHP1sTP-zt"
      },
      "source": [
        "conteo= df_2017['CLASE_ACCIDENTE'].value_counts(normalize=True)\n",
        "print(conteo)"
      ],
      "execution_count": null,
      "outputs": []
    },
    {
      "cell_type": "code",
      "metadata": {
        "id": "q0CpNPEXP-sp"
      },
      "source": [
        "geometry = [Point(xy) for xy in zip(df_2017.lon, df_2017.lat)]\n",
        "df_mapa = df_2017.drop(['lon', 'lat'], axis=1)\n",
        "df_mapa['CLASE_ACCIDENTE']=df_2017['CLASE_ACCIDENTE']\n",
        "gdf = GeoDataFrame(df_mapa, crs=\"EPSG:4326\", geometry=geometry)"
      ],
      "execution_count": null,
      "outputs": []
    },
    {
      "cell_type": "code",
      "metadata": {
        "id": "OCmU9x4XP-js"
      },
      "source": [
        "df_2017['CLASE_ACCIDENTE'].unique()"
      ],
      "execution_count": null,
      "outputs": []
    },
    {
      "cell_type": "code",
      "metadata": {
        "id": "BhEVlzdsP-aS"
      },
      "source": [
        "conteo= df_2017['CLASE_ACCIDENTE'].value_counts(normalize=True)\n",
        "viridis = cm.get_cmap('viridis', 7)\n",
        "fig, ax = plt.subplots(figsize=(15, 15))\n",
        "ax.set_title('Mapa de clases accidentalidad Medellin Temporada de 2017')\n",
        "base = pyplot.gca().transData\n",
        "rot = transforms.Affine2D().rotate_deg(0)\n",
        "\n",
        "x1 = mpatches.Patch(color='blue',label='Atropello: '+str(conteo['Atropello']*100)+'%')\n",
        "x2 = mpatches.Patch(color='green',label='Caida de ocuapante:'+str(conteo['Caida Ocupante']*100)+'%')\n",
        "x3 = mpatches.Patch(color='purple',label='Choque: '+str(conteo['Choque']*100)+'%')\n",
        "x4 = mpatches.Patch(color='pink',label='Incendio: '+str(conteo['Incendio']*100)+'%')\n",
        "x5 = mpatches.Patch(color='yellowgreen',label='Otro: '+str(conteo['Otro']*100)+'%')\n",
        "x6 = mpatches.Patch(color='skyblue',label='Volcamiento: '+str(conteo['Volcamiento']*100)+'%')\n",
        "\n",
        "ax.legend(handles=[x1,x2,x3,x4,x5,x6])\n",
        "df_mapaMedellin.boundary.plot(ax=ax)\n",
        "gdf.plot(column='CLASE_ACCIDENTE',ax=ax,transform= rot + base)"
      ],
      "execution_count": null,
      "outputs": []
    },
    {
      "cell_type": "markdown",
      "metadata": {
        "id": "uuYnhqwnQh5j"
      },
      "source": [
        "2018"
      ]
    },
    {
      "cell_type": "code",
      "metadata": {
        "id": "LBT7bTWKQkdp"
      },
      "source": [
        "df_2018=df[df['AÑO']=='2018']\n",
        "df_2018.head()"
      ],
      "execution_count": null,
      "outputs": []
    },
    {
      "cell_type": "code",
      "metadata": {
        "id": "WZ2NpdaOQlfT"
      },
      "source": [
        "df_2018=df_2018.dropna()\n",
        "df_2018.isna().sum()"
      ],
      "execution_count": null,
      "outputs": []
    },
    {
      "cell_type": "code",
      "metadata": {
        "id": "lidIJc3nQlHF"
      },
      "source": [
        "conteo= df_2018['CLASE_ACCIDENTE'].value_counts(normalize=True)\n",
        "print(conteo)"
      ],
      "execution_count": null,
      "outputs": []
    },
    {
      "cell_type": "code",
      "metadata": {
        "id": "-4Ph0U1VQnpd"
      },
      "source": [
        "geometry = [Point(xy) for xy in zip(df_2018.lon, df_2018.lat)]\n",
        "df_mapa = df_2018.drop(['lon', 'lat'], axis=1)\n",
        "df_mapa['CLASE_ACCIDENTE']=df_2018['CLASE_ACCIDENTE']\n",
        "gdf = GeoDataFrame(df_mapa, crs=\"EPSG:4326\", geometry=geometry)"
      ],
      "execution_count": null,
      "outputs": []
    },
    {
      "cell_type": "code",
      "metadata": {
        "id": "RaPIoOM_QneF"
      },
      "source": [
        "df_2018['CLASE_ACCIDENTE'].unique()"
      ],
      "execution_count": null,
      "outputs": []
    },
    {
      "cell_type": "code",
      "metadata": {
        "id": "kmLiIV6xQnS8"
      },
      "source": [
        "conteo= df_2018['CLASE_ACCIDENTE'].value_counts(normalize=True)\n",
        "viridis = cm.get_cmap('viridis', 7)\n",
        "fig, ax = plt.subplots(figsize=(15, 15))\n",
        "ax.set_title('Mapa de clases accidentalidad Medellin Temporada de 2018')\n",
        "base = pyplot.gca().transData\n",
        "rot = transforms.Affine2D().rotate_deg(0)\n",
        "\n",
        "x1 = mpatches.Patch(color='blue',label='Atropello: '+str(conteo['Atropello']*100)+'%')\n",
        "x2 = mpatches.Patch(color='green',label='Caida de ocuapante:'+str(conteo['Caida Ocupante']*100)+'%')\n",
        "x3 = mpatches.Patch(color='purple',label='Choque: '+str(conteo['Choque']*100)+'%')\n",
        "x4 = mpatches.Patch(color='pink',label='Incendio: '+str(conteo['Incendio']*100)+'%')\n",
        "x5 = mpatches.Patch(color='yellowgreen',label='Otro: '+str(conteo['Otro']*100)+'%')\n",
        "x6 = mpatches.Patch(color='skyblue',label='Volcamiento: '+str(conteo['Volcamiento']*100)+'%')\n",
        "\n",
        "ax.legend(handles=[x1,x2,x3,x4,x5,x6])\n",
        "df_mapaMedellin.boundary.plot(ax=ax)\n",
        "gdf.plot(column='CLASE_ACCIDENTE',ax=ax,transform= rot + base)"
      ],
      "execution_count": null,
      "outputs": []
    },
    {
      "cell_type": "markdown",
      "metadata": {
        "id": "5xj7Gn7EQoh-"
      },
      "source": [
        "2019"
      ]
    },
    {
      "cell_type": "code",
      "metadata": {
        "id": "Qfw3D3IHQpyY"
      },
      "source": [
        "df_2019=df[df['AÑO']=='2019']\n",
        "df_2019.head()"
      ],
      "execution_count": null,
      "outputs": []
    },
    {
      "cell_type": "code",
      "metadata": {
        "id": "c86W8Y-xQqwb"
      },
      "source": [
        "df_2019=df_2019.dropna()\n",
        "df_2019.isna().sum()"
      ],
      "execution_count": null,
      "outputs": []
    },
    {
      "cell_type": "code",
      "metadata": {
        "id": "Bn0rP2s2QqoU"
      },
      "source": [
        "conteo= df_2019['CLASE_ACCIDENTE'].value_counts(normalize=True)\n",
        "print(conteo)"
      ],
      "execution_count": null,
      "outputs": []
    },
    {
      "cell_type": "code",
      "metadata": {
        "id": "8CdTEAnjQqgD"
      },
      "source": [
        "geometry = [Point(xy) for xy in zip(df_2019.lon, df_2019.lat)]\n",
        "df_mapa = df_2019.drop(['lon', 'lat'], axis=1)\n",
        "df_mapa['CLASE_ACCIDENTE']=df_2019['CLASE_ACCIDENTE']\n",
        "gdf = GeoDataFrame(df_mapa, crs=\"EPSG:4326\", geometry=geometry)"
      ],
      "execution_count": null,
      "outputs": []
    },
    {
      "cell_type": "code",
      "metadata": {
        "id": "KLtq5kMMQqQv"
      },
      "source": [
        "df_2019['CLASE_ACCIDENTE'].unique()"
      ],
      "execution_count": null,
      "outputs": []
    },
    {
      "cell_type": "code",
      "metadata": {
        "id": "bSnho88jQqEk"
      },
      "source": [
        "conteo= df_2019['CLASE_ACCIDENTE'].value_counts(normalize=True)\n",
        "viridis = cm.get_cmap('viridis', 7)\n",
        "fig, ax = plt.subplots(figsize=(15, 15))\n",
        "ax.set_title('Mapa de clases accidentalidad Medellin Temporada de 2019')\n",
        "base = pyplot.gca().transData\n",
        "rot = transforms.Affine2D().rotate_deg(0)\n",
        "\n",
        "x1 = mpatches.Patch(color='blue',label='Atropello: '+str(conteo['Atropello']*100)+'%')\n",
        "x2 = mpatches.Patch(color='green',label='Caida de ocuapante:'+str(conteo['Caida Ocupante']*100)+'%')\n",
        "x3 = mpatches.Patch(color='purple',label='Choque: '+str(conteo['Choque']*100)+'%')\n",
        "x4 = mpatches.Patch(color='pink',label='Incendio: '+str(conteo['Incendio']*100)+'%')\n",
        "x5 = mpatches.Patch(color='yellowgreen',label='Otro: '+str(conteo['Otro']*100)+'%')\n",
        "x6 = mpatches.Patch(color='skyblue',label='Volcamiento: '+str(conteo['Volcamiento']*100)+'%')\n",
        "\n",
        "ax.legend(handles=[x1,x2,x3,x4,x5,x6])\n",
        "df_mapaMedellin.boundary.plot(ax=ax)\n",
        "gdf.plot(column='CLASE_ACCIDENTE',ax=ax,transform= rot + base)"
      ],
      "execution_count": null,
      "outputs": []
    },
    {
      "cell_type": "code",
      "metadata": {
        "id": "CL9wnugTBAvH"
      },
      "source": [
        "conteo= df['LOCATION'].value_counts(normalize=True)\n",
        "conteo"
      ],
      "execution_count": null,
      "outputs": []
    },
    {
      "cell_type": "code",
      "metadata": {
        "id": "CMCshGrIXOye"
      },
      "source": [
        "geometry = [Point(xy) for xy in zip(df.lon, df.lat)]\n",
        "df_mapa = df.drop(['lon', 'lat'], axis=1)\n",
        "df_mapa['GRAVEDAD']=df['GRAVEDAD']\n",
        "gdf = GeoDataFrame(df_mapa, crs=\"EPSG:4326\", geometry=geometry)\n",
        "\n",
        "fig, ax = plt.subplots(figsize=(15, 15))\n",
        "ax.set_title('Mapa de clases accidentalidad Medellin Temporada de 2014 a 2019')\n",
        "base = pyplot.gca().transData\n",
        "rot = transforms.Affine2D().rotate_deg(0)\n",
        "\n",
        "conteo= df['GRAVEDAD'].value_counts(normalize=True)\n",
        "x1 = mpatches.Patch(color='black',label='Con heridos: '+str(round(conteo['Con heridos']*100,2))+'%')\n",
        "x2 = mpatches.Patch(color='green',label='Solo daños:'+str(round(conteo['Solo daños']*100,2))+'%')\n",
        "x3 = mpatches.Patch(color='gray',label='Con muertos: '+str(round(conteo['Con muertos']*100,2))+'%')\n",
        "\n",
        "ax.legend(handles=[x1,x2,x3])\n",
        "df_mapaMedellin.boundary.plot(ax=ax)\n",
        "gdf.plot(column='GRAVEDAD',ax=ax,cmap='nipy_spectral',transform= rot + base)"
      ],
      "execution_count": null,
      "outputs": []
    },
    {
      "cell_type": "code",
      "metadata": {
        "id": "vCW0QPsvcuMB",
        "colab": {
          "base_uri": "https://localhost:8080/"
        },
        "outputId": "6045aa04-ed6f-4e20-bacf-99d22d94da22"
      },
      "source": [
        "df['AÑO'].unique()\n",
        "df['AÑO']= df['AÑO'].apply(lambda x : '2019' if x == 'S2019\\r ' else x)\n",
        "df['AÑO'].unique()"
      ],
      "execution_count": null,
      "outputs": [
        {
          "output_type": "stream",
          "name": "stderr",
          "text": [
            "/usr/local/lib/python3.7/dist-packages/ipykernel_launcher.py:2: SettingWithCopyWarning: \n",
            "A value is trying to be set on a copy of a slice from a DataFrame.\n",
            "Try using .loc[row_indexer,col_indexer] = value instead\n",
            "\n",
            "See the caveats in the documentation: https://pandas.pydata.org/pandas-docs/stable/user_guide/indexing.html#returning-a-view-versus-a-copy\n",
            "  \n"
          ]
        },
        {
          "output_type": "execute_result",
          "data": {
            "text/plain": [
              "array(['2014', '2015', '2016', '2017', '2018', '2019', '2020'],\n",
              "      dtype=object)"
            ]
          },
          "metadata": {},
          "execution_count": 26
        }
      ]
    },
    {
      "cell_type": "code",
      "metadata": {
        "id": "dgt_j01Ufx1g",
        "colab": {
          "base_uri": "https://localhost:8080/",
          "height": 582
        },
        "outputId": "7c986962-5f7e-4fd4-dae6-e87fc827ac74"
      },
      "source": [
        "fig, ax = plt.subplots(figsize=(50, 15))\n",
        "gravedad_año=df.groupby([\"LOCATION\"])[\"GRAVEDAD\"].count().plot(ax=ax,kind = \"bar\")"
      ],
      "execution_count": null,
      "outputs": [
        {
          "output_type": "display_data",
          "data": {
            "image/png": "[encoded data removed]",
            "text/plain": [
              "<Figure size 3600x1080 with 1 Axes>"
            ]
          },
          "metadata": {
            "needs_background": "light"
          }
        }
      ]
    },
    {
      "cell_type": "code",
      "metadata": {
        "id": "UixGKbbGhzQU",
        "colab": {
          "base_uri": "https://localhost:8080/",
          "height": 295
        },
        "outputId": "153fe359-b797-4bbe-e384-790d7de80e48"
      },
      "source": [
        "\n",
        "gravedad_año=df.groupby([\"AÑO\"])[\"GRAVEDAD\"].count().plot(kind = \"bar\",stacked=True)"
      ],
      "execution_count": null,
      "outputs": [
        {
          "output_type": "display_data",
          "data": {
            "image/png": "[encoded data removed]",
            "text/plain": [
              "<Figure size 432x288 with 1 Axes>"
            ]
          },
          "metadata": {
            "needs_background": "light"
          }
        }
      ]
    },
    {
      "cell_type": "code",
      "metadata": {
        "colab": {
          "base_uri": "https://localhost:8080/"
        },
        "id": "ix_xCoXODO_r",
        "outputId": "e80ef964-1529-4dcb-8409-c2e887170075"
      },
      "source": [
        "df['GRAVEDAD'].unique()\n"
      ],
      "execution_count": null,
      "outputs": [
        {
          "output_type": "execute_result",
          "data": {
            "text/plain": [
              "array(['Con heridos', 'Solo daños', 'Con muertos'], dtype=object)"
            ]
          },
          "metadata": {},
          "execution_count": 29
        }
      ]
    },
    {
      "cell_type": "code",
      "metadata": {
        "colab": {
          "base_uri": "https://localhost:8080/"
        },
        "id": "LySB3ofbDOxT",
        "outputId": "4d22e3ef-a358-4f44-ba1a-15004faad6e6"
      },
      "source": [
        "df['CLASE_ACCIDENTE'\n",
        "].unique()"
      ],
      "execution_count": null,
      "outputs": [
        {
          "output_type": "execute_result",
          "data": {
            "text/plain": [
              "array(['Otro', 'Choque', 'Atropello', 'Caida Ocupante', 'Volcamiento',\n",
              "       'Incendio', nan], dtype=object)"
            ]
          },
          "metadata": {},
          "execution_count": 30
        }
      ]
    },
    {
      "cell_type": "code",
      "metadata": {
        "colab": {
          "base_uri": "https://localhost:8080/",
          "height": 573
        },
        "id": "XFAHJ5DbeaJj",
        "outputId": "ee6e9576-1b3b-44a6-99e6-82f6b9bd9f88"
      },
      "source": [
        "df_2014_gravedad=df_2014[df_2014['GRAVEDAD']=='Con heridos']\n",
        "df_2014_gravedad1=df_2014[df_2014['GRAVEDAD']=='Solo daños']\n",
        "df_2014_gravedad2=df_2014[df_2014['GRAVEDAD']=='Con muertos']\n",
        "\n",
        "df_2014.groupby([\"LOCATION\",\"GRAVEDAD\"])[\"GRAVEDAD\"].count().plot(kind = \"bar\",title='Gravedad de accidentes por comunas 2014')\n",
        "#df_2014.groupby([\"GRAVEDAD\"])[\"LOCATION\"].count().plot(kind = \"bar\",title='Gravedad de accidentes por comunas 2014')"
      ],
      "execution_count": null,
      "outputs": [
        {
          "output_type": "execute_result",
          "data": {
            "text/plain": [
              "<matplotlib.axes._subplots.AxesSubplot at 0x7fefb52fd690>"
            ]
          },
          "metadata": {},
          "execution_count": 31
        },
        {
          "output_type": "display_data",
          "data": {
            "image/png": "[encoded data removed]",
            "text/plain": [
              "<Figure size 432x288 with 1 Axes>"
            ]
          },
          "metadata": {
            "needs_background": "light"
          }
        }
      ]
    },
    {
      "cell_type": "code",
      "metadata": {
        "colab": {
          "base_uri": "https://localhost:8080/",
          "height": 350
        },
        "id": "uqb3sYuRejxa",
        "outputId": "9276559d-43c2-4712-e47e-1e6f8e9b312d"
      },
      "source": [
        "df.groupby([\"GRAVEDAD\"]).count().plot(kind = \"bar\")"
      ],
      "execution_count": null,
      "outputs": [
        {
          "output_type": "execute_result",
          "data": {
            "text/plain": [
              "<matplotlib.axes._subplots.AxesSubplot at 0x7fefb5289990>"
            ]
          },
          "metadata": {},
          "execution_count": 32
        },
        {
          "output_type": "display_data",
          "data": {
            "image/png": "[encoded data removed]",
            "text/plain": [
              "<Figure size 432x288 with 1 Axes>"
            ]
          },
          "metadata": {
            "needs_background": "light"
          }
        }
      ]
    },
    {
      "cell_type": "code",
      "metadata": {
        "id": "vjjULB6SiFai",
        "colab": {
          "base_uri": "https://localhost:8080/",
          "height": 352
        },
        "outputId": "bb3ef270-d6af-4344-f354-74fb6df3d47f"
      },
      "source": [
        "df.groupby([\"DISEÑO\"])[\"LOCATION\"].count().plot(kind = \"bar\")"
      ],
      "execution_count": null,
      "outputs": [
        {
          "output_type": "execute_result",
          "data": {
            "text/plain": [
              "<matplotlib.axes._subplots.AxesSubplot at 0x7fefb50b8050>"
            ]
          },
          "metadata": {},
          "execution_count": 33
        },
        {
          "output_type": "display_data",
          "data": {
            "image/png": "[encoded data removed]",
            "text/plain": [
              "<Figure size 432x288 with 1 Axes>"
            ]
          },
          "metadata": {
            "needs_background": "light"
          }
        }
      ]
    },
    {
      "cell_type": "code",
      "metadata": {
        "id": "Y75VrdCFi_Lu",
        "colab": {
          "base_uri": "https://localhost:8080/",
          "height": 183
        },
        "outputId": "61d91d00-3567-4140-dd14-31a3a71c7158"
      },
      "source": [
        ""
      ],
      "execution_count": null,
      "outputs": [
        {
          "output_type": "error",
          "ename": "AttributeError",
          "evalue": "ignored",
          "traceback": [
            "\u001b[0;31m---------------------------------------------------------------------------\u001b[0m",
            "\u001b[0;31mAttributeError\u001b[0m                            Traceback (most recent call last)",
            "\u001b[0;32m<ipython-input-49-99a13bad7b9b>\u001b[0m in \u001b[0;36m<module>\u001b[0;34m()\u001b[0m\n\u001b[1;32m      1\u001b[0m \u001b[0;34m\u001b[0m\u001b[0m\n\u001b[0;32m----> 2\u001b[0;31m \u001b[0mdf\u001b[0m\u001b[0;34m.\u001b[0m\u001b[0mgroupby\u001b[0m\u001b[0;34m(\u001b[0m\u001b[0;34m\"AÑO\"\u001b[0m\u001b[0;34m)\u001b[0m\u001b[0;34m(\u001b[0m\u001b[0;34m\"Choque\"\u001b[0m\u001b[0;34m.\u001b[0m\u001b[0mCLASE_ACCIDENTE\u001b[0m\u001b[0;34m)\u001b[0m\u001b[0;34m.\u001b[0m\u001b[0mcount\u001b[0m\u001b[0;34m(\u001b[0m\u001b[0;34m)\u001b[0m\u001b[0;34m\u001b[0m\u001b[0;34m\u001b[0m\u001b[0m\n\u001b[0m",
            "\u001b[0;31mAttributeError\u001b[0m: 'str' object has no attribute 'CLASE_ACCIDENTE'"
          ]
        }
      ]
    }
  ]
}