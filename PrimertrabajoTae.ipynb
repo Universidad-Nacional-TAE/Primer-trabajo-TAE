{
 "cells": [
  {
   "cell_type": "code",
   "execution_count": 30,
   "metadata": {},
   "outputs": [],
   "source": [
    "import pandas as pd"
   ]
  },
  {
   "cell_type": "code",
   "execution_count": 31,
   "metadata": {},
   "outputs": [],
   "source": [
    "df = pd.read_csv(\"incidentes_viales.csv\", sep = \";\", error_bad_lines = False, low_memory = False)\n"
   ]
  },
  {
   "cell_type": "code",
   "execution_count": 32,
   "metadata": {},
   "outputs": [
    {
     "data": {
      "text/html": [
       "<div>\n",
       "<style scoped>\n",
       "    .dataframe tbody tr th:only-of-type {\n",
       "        vertical-align: middle;\n",
       "    }\n",
       "\n",
       "    .dataframe tbody tr th {\n",
       "        vertical-align: top;\n",
       "    }\n",
       "\n",
       "    .dataframe thead th {\n",
       "        text-align: right;\n",
       "    }\n",
       "</style>\n",
       "<table border=\"1\" class=\"dataframe\">\n",
       "  <thead>\n",
       "    <tr style=\"text-align: right;\">\n",
       "      <th></th>\n",
       "      <th>AÑO</th>\n",
       "      <th>CBML</th>\n",
       "      <th>CLASE_ACCIDENTE</th>\n",
       "      <th>DIRECCION</th>\n",
       "      <th>DIRECCION ENCASILLADA</th>\n",
       "      <th>DISEÑO</th>\n",
       "      <th>EXPEDIENTE</th>\n",
       "      <th>FECHA_ACCIDENTE</th>\n",
       "      <th>FECHA_ACCIDENTES</th>\n",
       "      <th>MES</th>\n",
       "      <th>NRO_RADICADO</th>\n",
       "      <th>NUMCOMUNA</th>\n",
       "      <th>BARRIO</th>\n",
       "      <th>COMUNA</th>\n",
       "      <th>LOCATION</th>\n",
       "      <th>X</th>\n",
       "      <th>Y</th>\n",
       "    </tr>\n",
       "  </thead>\n",
       "  <tbody>\n",
       "    <tr>\n",
       "      <th>0</th>\n",
       "      <td>2014</td>\n",
       "      <td>1105</td>\n",
       "      <td>Otro</td>\n",
       "      <td>CR 66 B CL 34</td>\n",
       "      <td>CR  066 B   034  000 00000</td>\n",
       "      <td>Tramo de via</td>\n",
       "      <td>A000095088</td>\n",
       "      <td>05/08/2014 07:15:00</td>\n",
       "      <td>2014-08-05T12:15:00.000Z</td>\n",
       "      <td>Con heridos</td>\n",
       "      <td>8</td>\n",
       "      <td>1451888</td>\n",
       "      <td>11</td>\n",
       "      <td>Los Conquistadores</td>\n",
       "      <td>Laureles Estadio</td>\n",
       "      <td>[-75.589313202, 6.2397866157]</td>\n",
       "      <td>832677.92</td>\n",
       "    </tr>\n",
       "    <tr>\n",
       "      <th>1</th>\n",
       "      <td>2014</td>\n",
       "      <td>0509</td>\n",
       "      <td>Choque</td>\n",
       "      <td>CR 71 CL 103 D</td>\n",
       "      <td>CR  071   103 D  000 00000</td>\n",
       "      <td>Interseccion</td>\n",
       "      <td>A000095143</td>\n",
       "      <td>05/08/2014 14:30:00</td>\n",
       "      <td>2014-08-05T19:30:00.000Z</td>\n",
       "      <td>Con heridos</td>\n",
       "      <td>8</td>\n",
       "      <td>1451891</td>\n",
       "      <td>05</td>\n",
       "      <td>Girardot</td>\n",
       "      <td>Castilla</td>\n",
       "      <td>[-75.5708179064, 6.3000411778]</td>\n",
       "      <td>834744.36</td>\n",
       "    </tr>\n",
       "    <tr>\n",
       "      <th>2</th>\n",
       "      <td>2014</td>\n",
       "      <td>1421</td>\n",
       "      <td>Choque</td>\n",
       "      <td>CR 49 CL 7</td>\n",
       "      <td>CR  049   007  000 00000</td>\n",
       "      <td>Tramo de via</td>\n",
       "      <td>A000095226</td>\n",
       "      <td>05/08/2014 15:50:00</td>\n",
       "      <td>2014-08-05T20:50:00.000Z</td>\n",
       "      <td>Con heridos</td>\n",
       "      <td>8</td>\n",
       "      <td>1451935</td>\n",
       "      <td>14</td>\n",
       "      <td>Patio Bonito</td>\n",
       "      <td>El Poblado</td>\n",
       "      <td>[-75.5765743781, 6.20874755798]</td>\n",
       "      <td>834078.39</td>\n",
       "    </tr>\n",
       "    <tr>\n",
       "      <th>3</th>\n",
       "      <td>2014</td>\n",
       "      <td>0801</td>\n",
       "      <td>Otro</td>\n",
       "      <td>CR 39 A CL 66 C</td>\n",
       "      <td>CR  039 A   066 C  000 00000</td>\n",
       "      <td>Tramo de via</td>\n",
       "      <td>A000095227</td>\n",
       "      <td>05/08/2014 13:00:00</td>\n",
       "      <td>2014-08-05T18:00:00.000Z</td>\n",
       "      <td>Con heridos</td>\n",
       "      <td>8</td>\n",
       "      <td>1451956</td>\n",
       "      <td>08</td>\n",
       "      <td>Villa Hermosa</td>\n",
       "      <td>Villa Hermosa</td>\n",
       "      <td>[-75.5512546684, 6.25905761463]</td>\n",
       "      <td>836897.02</td>\n",
       "    </tr>\n",
       "    <tr>\n",
       "      <th>4</th>\n",
       "      <td>2014</td>\n",
       "      <td>1017</td>\n",
       "      <td>Choque</td>\n",
       "      <td>CL 58 CR 37</td>\n",
       "      <td>CL  058   037  000 00000</td>\n",
       "      <td>Tramo de via</td>\n",
       "      <td>A000094940</td>\n",
       "      <td>05/08/2014 19:30:00</td>\n",
       "      <td>2014-08-06T00:30:00.000Z</td>\n",
       "      <td>Con heridos</td>\n",
       "      <td>8</td>\n",
       "      <td>1452022</td>\n",
       "      <td>10</td>\n",
       "      <td>Los Ángeles</td>\n",
       "      <td>La Candelaria</td>\n",
       "      <td>[-75.5561495119, 6.24996631944]</td>\n",
       "      <td>836352.35</td>\n",
       "    </tr>\n",
       "  </tbody>\n",
       "</table>\n",
       "</div>"
      ],
      "text/plain": [
       "    AÑO  CBML CLASE_ACCIDENTE        DIRECCION         DIRECCION ENCASILLADA  \\\n",
       "0  2014  1105            Otro    CR 66 B CL 34    CR  066 B   034  000 00000   \n",
       "1  2014  0509          Choque   CR 71 CL 103 D    CR  071   103 D  000 00000   \n",
       "2  2014  1421          Choque       CR 49 CL 7      CR  049   007  000 00000   \n",
       "3  2014  0801            Otro  CR 39 A CL 66 C  CR  039 A   066 C  000 00000   \n",
       "4  2014  1017          Choque      CL 58 CR 37      CL  058   037  000 00000   \n",
       "\n",
       "         DISEÑO  EXPEDIENTE      FECHA_ACCIDENTE          FECHA_ACCIDENTES  \\\n",
       "0  Tramo de via  A000095088  05/08/2014 07:15:00  2014-08-05T12:15:00.000Z   \n",
       "1  Interseccion  A000095143  05/08/2014 14:30:00  2014-08-05T19:30:00.000Z   \n",
       "2  Tramo de via  A000095226  05/08/2014 15:50:00  2014-08-05T20:50:00.000Z   \n",
       "3  Tramo de via  A000095227  05/08/2014 13:00:00  2014-08-05T18:00:00.000Z   \n",
       "4  Tramo de via  A000094940  05/08/2014 19:30:00  2014-08-06T00:30:00.000Z   \n",
       "\n",
       "           MES  NRO_RADICADO NUMCOMUNA BARRIO              COMUNA  \\\n",
       "0  Con heridos             8   1451888     11  Los Conquistadores   \n",
       "1  Con heridos             8   1451891     05            Girardot   \n",
       "2  Con heridos             8   1451935     14        Patio Bonito   \n",
       "3  Con heridos             8   1451956     08       Villa Hermosa   \n",
       "4  Con heridos             8   1452022     10         Los Ángeles   \n",
       "\n",
       "           LOCATION                                X          Y  \n",
       "0  Laureles Estadio    [-75.589313202, 6.2397866157]  832677.92  \n",
       "1          Castilla   [-75.5708179064, 6.3000411778]  834744.36  \n",
       "2        El Poblado  [-75.5765743781, 6.20874755798]  834078.39  \n",
       "3     Villa Hermosa  [-75.5512546684, 6.25905761463]  836897.02  \n",
       "4     La Candelaria  [-75.5561495119, 6.24996631944]  836352.35  "
      ]
     },
     "execution_count": 32,
     "metadata": {},
     "output_type": "execute_result"
    }
   ],
   "source": [
    "df.head()"
   ]
  },
  {
   "cell_type": "code",
   "execution_count": 33,
   "metadata": {},
   "outputs": [],
   "source": [
    "df.rename({'MES': 'GRAVEDAD','NRO_RADICADO':'MES','NUMCOMUNA':'NRO_RADICADO','BARRIO':'NUMCOMUNA','COMUNA':'BARRIO','LOCATION':'COMUNA','X': 'LOCATION','Y':'X'}, axis = 1, inplace = True)# Se reorganizan los nombres de la columna pues hay un\n",
    "# problema en la descarga de los datos.\n",
    "# OJO SOLO CORRER UNA VEZ"
   ]
  },
  {
   "cell_type": "code",
   "execution_count": 34,
   "metadata": {},
   "outputs": [
    {
     "data": {
      "text/html": [
       "<div>\n",
       "<style scoped>\n",
       "    .dataframe tbody tr th:only-of-type {\n",
       "        vertical-align: middle;\n",
       "    }\n",
       "\n",
       "    .dataframe tbody tr th {\n",
       "        vertical-align: top;\n",
       "    }\n",
       "\n",
       "    .dataframe thead th {\n",
       "        text-align: right;\n",
       "    }\n",
       "</style>\n",
       "<table border=\"1\" class=\"dataframe\">\n",
       "  <thead>\n",
       "    <tr style=\"text-align: right;\">\n",
       "      <th></th>\n",
       "      <th>AÑO</th>\n",
       "      <th>CBML</th>\n",
       "      <th>CLASE_ACCIDENTE</th>\n",
       "      <th>DIRECCION</th>\n",
       "      <th>DIRECCION ENCASILLADA</th>\n",
       "      <th>DISEÑO</th>\n",
       "      <th>EXPEDIENTE</th>\n",
       "      <th>FECHA_ACCIDENTE</th>\n",
       "      <th>FECHA_ACCIDENTES</th>\n",
       "      <th>GRAVEDAD</th>\n",
       "      <th>MES</th>\n",
       "      <th>NRO_RADICADO</th>\n",
       "      <th>NUMCOMUNA</th>\n",
       "      <th>BARRIO</th>\n",
       "      <th>COMUNA</th>\n",
       "      <th>LOCATION</th>\n",
       "      <th>X</th>\n",
       "    </tr>\n",
       "  </thead>\n",
       "  <tbody>\n",
       "    <tr>\n",
       "      <th>0</th>\n",
       "      <td>2014</td>\n",
       "      <td>1105</td>\n",
       "      <td>Otro</td>\n",
       "      <td>CR 66 B CL 34</td>\n",
       "      <td>CR  066 B   034  000 00000</td>\n",
       "      <td>Tramo de via</td>\n",
       "      <td>A000095088</td>\n",
       "      <td>05/08/2014 07:15:00</td>\n",
       "      <td>2014-08-05T12:15:00.000Z</td>\n",
       "      <td>Con heridos</td>\n",
       "      <td>8</td>\n",
       "      <td>1451888</td>\n",
       "      <td>11</td>\n",
       "      <td>Los Conquistadores</td>\n",
       "      <td>Laureles Estadio</td>\n",
       "      <td>[-75.589313202, 6.2397866157]</td>\n",
       "      <td>832677.92</td>\n",
       "    </tr>\n",
       "    <tr>\n",
       "      <th>1</th>\n",
       "      <td>2014</td>\n",
       "      <td>0509</td>\n",
       "      <td>Choque</td>\n",
       "      <td>CR 71 CL 103 D</td>\n",
       "      <td>CR  071   103 D  000 00000</td>\n",
       "      <td>Interseccion</td>\n",
       "      <td>A000095143</td>\n",
       "      <td>05/08/2014 14:30:00</td>\n",
       "      <td>2014-08-05T19:30:00.000Z</td>\n",
       "      <td>Con heridos</td>\n",
       "      <td>8</td>\n",
       "      <td>1451891</td>\n",
       "      <td>05</td>\n",
       "      <td>Girardot</td>\n",
       "      <td>Castilla</td>\n",
       "      <td>[-75.5708179064, 6.3000411778]</td>\n",
       "      <td>834744.36</td>\n",
       "    </tr>\n",
       "    <tr>\n",
       "      <th>2</th>\n",
       "      <td>2014</td>\n",
       "      <td>1421</td>\n",
       "      <td>Choque</td>\n",
       "      <td>CR 49 CL 7</td>\n",
       "      <td>CR  049   007  000 00000</td>\n",
       "      <td>Tramo de via</td>\n",
       "      <td>A000095226</td>\n",
       "      <td>05/08/2014 15:50:00</td>\n",
       "      <td>2014-08-05T20:50:00.000Z</td>\n",
       "      <td>Con heridos</td>\n",
       "      <td>8</td>\n",
       "      <td>1451935</td>\n",
       "      <td>14</td>\n",
       "      <td>Patio Bonito</td>\n",
       "      <td>El Poblado</td>\n",
       "      <td>[-75.5765743781, 6.20874755798]</td>\n",
       "      <td>834078.39</td>\n",
       "    </tr>\n",
       "    <tr>\n",
       "      <th>3</th>\n",
       "      <td>2014</td>\n",
       "      <td>0801</td>\n",
       "      <td>Otro</td>\n",
       "      <td>CR 39 A CL 66 C</td>\n",
       "      <td>CR  039 A   066 C  000 00000</td>\n",
       "      <td>Tramo de via</td>\n",
       "      <td>A000095227</td>\n",
       "      <td>05/08/2014 13:00:00</td>\n",
       "      <td>2014-08-05T18:00:00.000Z</td>\n",
       "      <td>Con heridos</td>\n",
       "      <td>8</td>\n",
       "      <td>1451956</td>\n",
       "      <td>08</td>\n",
       "      <td>Villa Hermosa</td>\n",
       "      <td>Villa Hermosa</td>\n",
       "      <td>[-75.5512546684, 6.25905761463]</td>\n",
       "      <td>836897.02</td>\n",
       "    </tr>\n",
       "    <tr>\n",
       "      <th>4</th>\n",
       "      <td>2014</td>\n",
       "      <td>1017</td>\n",
       "      <td>Choque</td>\n",
       "      <td>CL 58 CR 37</td>\n",
       "      <td>CL  058   037  000 00000</td>\n",
       "      <td>Tramo de via</td>\n",
       "      <td>A000094940</td>\n",
       "      <td>05/08/2014 19:30:00</td>\n",
       "      <td>2014-08-06T00:30:00.000Z</td>\n",
       "      <td>Con heridos</td>\n",
       "      <td>8</td>\n",
       "      <td>1452022</td>\n",
       "      <td>10</td>\n",
       "      <td>Los Ángeles</td>\n",
       "      <td>La Candelaria</td>\n",
       "      <td>[-75.5561495119, 6.24996631944]</td>\n",
       "      <td>836352.35</td>\n",
       "    </tr>\n",
       "  </tbody>\n",
       "</table>\n",
       "</div>"
      ],
      "text/plain": [
       "    AÑO  CBML CLASE_ACCIDENTE        DIRECCION         DIRECCION ENCASILLADA  \\\n",
       "0  2014  1105            Otro    CR 66 B CL 34    CR  066 B   034  000 00000   \n",
       "1  2014  0509          Choque   CR 71 CL 103 D    CR  071   103 D  000 00000   \n",
       "2  2014  1421          Choque       CR 49 CL 7      CR  049   007  000 00000   \n",
       "3  2014  0801            Otro  CR 39 A CL 66 C  CR  039 A   066 C  000 00000   \n",
       "4  2014  1017          Choque      CL 58 CR 37      CL  058   037  000 00000   \n",
       "\n",
       "         DISEÑO  EXPEDIENTE      FECHA_ACCIDENTE          FECHA_ACCIDENTES  \\\n",
       "0  Tramo de via  A000095088  05/08/2014 07:15:00  2014-08-05T12:15:00.000Z   \n",
       "1  Interseccion  A000095143  05/08/2014 14:30:00  2014-08-05T19:30:00.000Z   \n",
       "2  Tramo de via  A000095226  05/08/2014 15:50:00  2014-08-05T20:50:00.000Z   \n",
       "3  Tramo de via  A000095227  05/08/2014 13:00:00  2014-08-05T18:00:00.000Z   \n",
       "4  Tramo de via  A000094940  05/08/2014 19:30:00  2014-08-06T00:30:00.000Z   \n",
       "\n",
       "      GRAVEDAD  MES NRO_RADICADO NUMCOMUNA              BARRIO  \\\n",
       "0  Con heridos    8      1451888        11  Los Conquistadores   \n",
       "1  Con heridos    8      1451891        05            Girardot   \n",
       "2  Con heridos    8      1451935        14        Patio Bonito   \n",
       "3  Con heridos    8      1451956        08       Villa Hermosa   \n",
       "4  Con heridos    8      1452022        10         Los Ángeles   \n",
       "\n",
       "             COMUNA                         LOCATION          X  \n",
       "0  Laureles Estadio    [-75.589313202, 6.2397866157]  832677.92  \n",
       "1          Castilla   [-75.5708179064, 6.3000411778]  834744.36  \n",
       "2        El Poblado  [-75.5765743781, 6.20874755798]  834078.39  \n",
       "3     Villa Hermosa  [-75.5512546684, 6.25905761463]  836897.02  \n",
       "4     La Candelaria  [-75.5561495119, 6.24996631944]  836352.35  "
      ]
     },
     "execution_count": 34,
     "metadata": {},
     "output_type": "execute_result"
    }
   ],
   "source": [
    "df.head()"
   ]
  },
  {
   "cell_type": "code",
   "execution_count": 35,
   "metadata": {},
   "outputs": [
    {
     "data": {
      "text/plain": [
       "AÑO                          0\n",
       "CBML                     18156\n",
       "CLASE_ACCIDENTE              6\n",
       "DIRECCION                    0\n",
       "DIRECCION ENCASILLADA      391\n",
       "DISEÑO                    1148\n",
       "EXPEDIENTE                 110\n",
       "FECHA_ACCIDENTE              0\n",
       "FECHA_ACCIDENTES             0\n",
       "GRAVEDAD                     0\n",
       "MES                          0\n",
       "NRO_RADICADO                 5\n",
       "NUMCOMUNA                    0\n",
       "BARRIO                   19006\n",
       "COMUNA                   12798\n",
       "LOCATION                     0\n",
       "X                            0\n",
       "dtype: int64"
      ]
     },
     "execution_count": 35,
     "metadata": {},
     "output_type": "execute_result"
    }
   ],
   "source": [
    "df.isna().sum()"
   ]
  },
  {
   "cell_type": "code",
   "execution_count": 36,
   "metadata": {},
   "outputs": [],
   "source": [
    "# Se eliminan las siguientes variables. Expediente = Es un registro aleatorio sin análiss, NRo _ Radicao = Numero aleatorio, Direccion Encasillada =\n",
    "# Se repite, FECHA_ACCIDENTES = Se repite, COMUNA = se tumba comuna pues tiene mucho nan y existe otra columna con la misma información\n",
    "df.drop(['EXPEDIENTE','NRO_RADICADO','DIRECCION ENCASILLADA', 'FECHA_ACCIDENTES','LOCATION','COMUNA'],axis = 1 , inplace = True)"
   ]
  },
  {
   "cell_type": "code",
   "execution_count": 37,
   "metadata": {},
   "outputs": [
    {
     "data": {
      "text/plain": [
       "AÑO                    0\n",
       "CBML               18156\n",
       "CLASE_ACCIDENTE        6\n",
       "DIRECCION              0\n",
       "DISEÑO              1148\n",
       "FECHA_ACCIDENTE        0\n",
       "GRAVEDAD               0\n",
       "MES                    0\n",
       "NUMCOMUNA              0\n",
       "BARRIO             19006\n",
       "X                      0\n",
       "dtype: int64"
      ]
     },
     "execution_count": 37,
     "metadata": {},
     "output_type": "execute_result"
    }
   ],
   "source": [
    "df.isna().sum()"
   ]
  },
  {
   "cell_type": "markdown",
   "metadata": {},
   "source": [
    "Debido a que existe un problema en la descarga de la base de datos no existe datos de la variable 'y' entonces es necesario eliminar la componente 'x' pues en ausencia de 'y', 'x' pierde sentido"
   ]
  },
  {
   "cell_type": "code",
   "execution_count": 38,
   "metadata": {},
   "outputs": [],
   "source": [
    "df.drop('X', axis = 1, inplace =  True)"
   ]
  },
  {
   "cell_type": "code",
   "execution_count": 39,
   "metadata": {},
   "outputs": [
    {
     "data": {
      "text/plain": [
       "(270765, 10)"
      ]
     },
     "execution_count": 39,
     "metadata": {},
     "output_type": "execute_result"
    }
   ],
   "source": [
    "df.shape"
   ]
  },
  {
   "cell_type": "code",
   "execution_count": 40,
   "metadata": {},
   "outputs": [
    {
     "data": {
      "text/plain": [
       "AÑO                    0\n",
       "CBML               18156\n",
       "CLASE_ACCIDENTE        6\n",
       "DIRECCION              0\n",
       "DISEÑO              1148\n",
       "FECHA_ACCIDENTE        0\n",
       "GRAVEDAD               0\n",
       "MES                    0\n",
       "NUMCOMUNA              0\n",
       "BARRIO             19006\n",
       "dtype: int64"
      ]
     },
     "execution_count": 40,
     "metadata": {},
     "output_type": "execute_result"
    }
   ],
   "source": [
    "df.isna().sum()"
   ]
  },
  {
   "cell_type": "markdown",
   "metadata": {},
   "source": [
    "Con las siguientes agrupaciones se puede inferir si es que tanta información se pierde. Podemos hacer como una distribución de los nan y los que no son nan"
   ]
  },
  {
   "cell_type": "code",
   "execution_count": 55,
   "metadata": {},
   "outputs": [
    {
     "data": {
      "text/plain": [
       "AÑO   MES\n",
       "2014  7      230\n",
       "      8      307\n",
       "      9      290\n",
       "      10     266\n",
       "      11     275\n",
       "            ... \n",
       "2020  4        1\n",
       "      5        3\n",
       "      6       89\n",
       "      7        0\n",
       "      8        0\n",
       "Name: BARRIO, Length: 86, dtype: int64"
      ]
     },
     "execution_count": 55,
     "metadata": {},
     "output_type": "execute_result"
    }
   ],
   "source": [
    "df.groupby(['AÑO','MES'])['BARRIO'].agg(lambda x : x.isnull().sum())"
   ]
  },
  {
   "cell_type": "code",
   "execution_count": 57,
   "metadata": {},
   "outputs": [
    {
     "data": {
      "text/plain": [
       "AÑO   MES\n",
       "2014  7      3190\n",
       "      8      3633\n",
       "      9      3587\n",
       "      10     3470\n",
       "      11     3337\n",
       "             ... \n",
       "2020  4       897\n",
       "      5      1738\n",
       "      6      2102\n",
       "      7      2152\n",
       "      8      2270\n",
       "Name: BARRIO, Length: 86, dtype: int64"
      ]
     },
     "execution_count": 57,
     "metadata": {},
     "output_type": "execute_result"
    }
   ],
   "source": [
    "df.groupby(['AÑO','MES'])['BARRIO'].agg(lambda x : x.notnull().sum())"
   ]
  }
 ],
 "metadata": {
  "kernelspec": {
   "display_name": "Python 3",
   "language": "python",
   "name": "python3"
  },
  "language_info": {
   "codemirror_mode": {
    "name": "ipython",
    "version": 3
   },
   "file_extension": ".py",
   "mimetype": "text/x-python",
   "name": "python",
   "nbconvert_exporter": "python",
   "pygments_lexer": "ipython3",
   "version": "3.8.5"
  }
 },
 "nbformat": 4,
 "nbformat_minor": 4
}
