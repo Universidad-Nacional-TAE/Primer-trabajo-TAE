{
 "cells": [
  {
   "cell_type": "code",
   "execution_count": 1,
   "metadata": {},
   "outputs": [],
   "source": [
    "import pandas as pd"
   ]
  },
  {
   "cell_type": "code",
   "execution_count": 65,
   "metadata": {},
   "outputs": [],
   "source": [
    "df = pd.read_csv(\"incidentes_viales.csv\", sep = \";\",error_bad_lines=False, low_memory=False)\n"
   ]
  },
  {
   "cell_type": "code",
   "execution_count": 66,
   "metadata": {},
   "outputs": [
    {
     "data": {
      "text/plain": [
       "Index(['AÑO', 'CBML', 'CLASE_ACCIDENTE', 'DIRECCION', 'DISEÑO',\n",
       "       'FECHA_ACCIDENTE', 'MES', 'NUMCOMUNA', 'BARRIO', 'COMUNA', 'X', 'Y'],\n",
       "      dtype='object')"
      ]
     },
     "execution_count": 66,
     "metadata": {},
     "output_type": "execute_result"
    }
   ],
   "source": [
    "# Se eliminan las siguientes variables. Expediente = Es un registro aleatorio, NRo _ Radicao = Numero aleatorio, Direccion Encasillada =\n",
    "# Se repite, FECHA_ACCIDENTES = Se repite\n",
    "df.drop(['EXPEDIENTE','NRO_RADICADO','DIRECCION ENCASILLADA', 'FECHA_ACCIDENTES','LOCATION'],axis = 1 , inplace = True)\n",
    "df.columns"
   ]
  },
  {
   "cell_type": "code",
   "execution_count": 67,
   "metadata": {},
   "outputs": [
    {
     "data": {
      "text/plain": [
       "(270765, 12)"
      ]
     },
     "execution_count": 67,
     "metadata": {},
     "output_type": "execute_result"
    }
   ],
   "source": [
    "df.shape"
   ]
  },
  {
   "cell_type": "code",
   "execution_count": 70,
   "metadata": {},
   "outputs": [
    {
     "data": {
      "text/plain": [
       "(250690, 12)"
      ]
     },
     "execution_count": 70,
     "metadata": {},
     "output_type": "execute_result"
    }
   ],
   "source": [
    "df.dropna(inplace = True)\n",
    "df.shape"
   ]
  },
  {
   "cell_type": "code",
   "execution_count": 71,
   "metadata": {},
   "outputs": [
    {
     "data": {
      "text/plain": [
       "0         Con heridos\n",
       "1         Con heridos\n",
       "2         Con heridos\n",
       "3         Con heridos\n",
       "4         Con heridos\n",
       "             ...     \n",
       "270760    Con heridos\n",
       "270761    Con heridos\n",
       "270762     Solo daños\n",
       "270763    Con heridos\n",
       "270764    Con heridos\n",
       "Name: MES, Length: 250690, dtype: object"
      ]
     },
     "execution_count": 71,
     "metadata": {},
     "output_type": "execute_result"
    }
   ],
   "source": [
    "df['Gravedad'] = df['MES']\n",
    "df.pop('MES')\n"
   ]
  },
  {
   "cell_type": "code",
   "execution_count": 72,
   "metadata": {},
   "outputs": [
    {
     "data": {
      "text/html": [
       "<div>\n",
       "<style scoped>\n",
       "    .dataframe tbody tr th:only-of-type {\n",
       "        vertical-align: middle;\n",
       "    }\n",
       "\n",
       "    .dataframe tbody tr th {\n",
       "        vertical-align: top;\n",
       "    }\n",
       "\n",
       "    .dataframe thead th {\n",
       "        text-align: right;\n",
       "    }\n",
       "</style>\n",
       "<table border=\"1\" class=\"dataframe\">\n",
       "  <thead>\n",
       "    <tr style=\"text-align: right;\">\n",
       "      <th></th>\n",
       "      <th>AÑO</th>\n",
       "      <th>CBML</th>\n",
       "      <th>CLASE_ACCIDENTE</th>\n",
       "      <th>DIRECCION</th>\n",
       "      <th>DISEÑO</th>\n",
       "      <th>FECHA_ACCIDENTE</th>\n",
       "      <th>NUMCOMUNA</th>\n",
       "      <th>BARRIO</th>\n",
       "      <th>COMUNA</th>\n",
       "      <th>X</th>\n",
       "      <th>Y</th>\n",
       "      <th>Gravedad</th>\n",
       "    </tr>\n",
       "  </thead>\n",
       "  <tbody>\n",
       "    <tr>\n",
       "      <th>0</th>\n",
       "      <td>2014</td>\n",
       "      <td>1105</td>\n",
       "      <td>Otro</td>\n",
       "      <td>CR 66 B CL 34</td>\n",
       "      <td>Tramo de via</td>\n",
       "      <td>05/08/2014 07:15:00</td>\n",
       "      <td>1451888</td>\n",
       "      <td>11</td>\n",
       "      <td>Los Conquistadores</td>\n",
       "      <td>[-75.589313202, 6.2397866157]</td>\n",
       "      <td>832677.92</td>\n",
       "      <td>Con heridos</td>\n",
       "    </tr>\n",
       "    <tr>\n",
       "      <th>1</th>\n",
       "      <td>2014</td>\n",
       "      <td>0509</td>\n",
       "      <td>Choque</td>\n",
       "      <td>CR 71 CL 103 D</td>\n",
       "      <td>Interseccion</td>\n",
       "      <td>05/08/2014 14:30:00</td>\n",
       "      <td>1451891</td>\n",
       "      <td>05</td>\n",
       "      <td>Girardot</td>\n",
       "      <td>[-75.5708179064, 6.3000411778]</td>\n",
       "      <td>834744.36</td>\n",
       "      <td>Con heridos</td>\n",
       "    </tr>\n",
       "    <tr>\n",
       "      <th>2</th>\n",
       "      <td>2014</td>\n",
       "      <td>1421</td>\n",
       "      <td>Choque</td>\n",
       "      <td>CR 49 CL 7</td>\n",
       "      <td>Tramo de via</td>\n",
       "      <td>05/08/2014 15:50:00</td>\n",
       "      <td>1451935</td>\n",
       "      <td>14</td>\n",
       "      <td>Patio Bonito</td>\n",
       "      <td>[-75.5765743781, 6.20874755798]</td>\n",
       "      <td>834078.39</td>\n",
       "      <td>Con heridos</td>\n",
       "    </tr>\n",
       "    <tr>\n",
       "      <th>3</th>\n",
       "      <td>2014</td>\n",
       "      <td>0801</td>\n",
       "      <td>Otro</td>\n",
       "      <td>CR 39 A CL 66 C</td>\n",
       "      <td>Tramo de via</td>\n",
       "      <td>05/08/2014 13:00:00</td>\n",
       "      <td>1451956</td>\n",
       "      <td>08</td>\n",
       "      <td>Villa Hermosa</td>\n",
       "      <td>[-75.5512546684, 6.25905761463]</td>\n",
       "      <td>836897.02</td>\n",
       "      <td>Con heridos</td>\n",
       "    </tr>\n",
       "    <tr>\n",
       "      <th>4</th>\n",
       "      <td>2014</td>\n",
       "      <td>1017</td>\n",
       "      <td>Choque</td>\n",
       "      <td>CL 58 CR 37</td>\n",
       "      <td>Tramo de via</td>\n",
       "      <td>05/08/2014 19:30:00</td>\n",
       "      <td>1452022</td>\n",
       "      <td>10</td>\n",
       "      <td>Los Ángeles</td>\n",
       "      <td>[-75.5561495119, 6.24996631944]</td>\n",
       "      <td>836352.35</td>\n",
       "      <td>Con heridos</td>\n",
       "    </tr>\n",
       "  </tbody>\n",
       "</table>\n",
       "</div>"
      ],
      "text/plain": [
       "    AÑO  CBML CLASE_ACCIDENTE        DIRECCION        DISEÑO  \\\n",
       "0  2014  1105            Otro    CR 66 B CL 34  Tramo de via   \n",
       "1  2014  0509          Choque   CR 71 CL 103 D  Interseccion   \n",
       "2  2014  1421          Choque       CR 49 CL 7  Tramo de via   \n",
       "3  2014  0801            Otro  CR 39 A CL 66 C  Tramo de via   \n",
       "4  2014  1017          Choque      CL 58 CR 37  Tramo de via   \n",
       "\n",
       "       FECHA_ACCIDENTE NUMCOMUNA BARRIO              COMUNA  \\\n",
       "0  05/08/2014 07:15:00   1451888     11  Los Conquistadores   \n",
       "1  05/08/2014 14:30:00   1451891     05            Girardot   \n",
       "2  05/08/2014 15:50:00   1451935     14        Patio Bonito   \n",
       "3  05/08/2014 13:00:00   1451956     08       Villa Hermosa   \n",
       "4  05/08/2014 19:30:00   1452022     10         Los Ángeles   \n",
       "\n",
       "                                 X          Y     Gravedad  \n",
       "0    [-75.589313202, 6.2397866157]  832677.92  Con heridos  \n",
       "1   [-75.5708179064, 6.3000411778]  834744.36  Con heridos  \n",
       "2  [-75.5765743781, 6.20874755798]  834078.39  Con heridos  \n",
       "3  [-75.5512546684, 6.25905761463]  836897.02  Con heridos  \n",
       "4  [-75.5561495119, 6.24996631944]  836352.35  Con heridos  "
      ]
     },
     "execution_count": 72,
     "metadata": {},
     "output_type": "execute_result"
    }
   ],
   "source": [
    "df.head()"
   ]
  },
  {
   "cell_type": "code",
   "execution_count": 77,
   "metadata": {},
   "outputs": [
    {
     "data": {
      "text/plain": [
       "DISEÑO\n",
       "Ciclo Ruta          966\n",
       "Glorieta           6373\n",
       "Interseccion      42400\n",
       "Lote o Predio     24310\n",
       "Paso Elevado       1314\n",
       "Paso Inferior       649\n",
       "Paso a Nivel        114\n",
       "Pont\\xF3n             6\n",
       "Pontón               23\n",
       "Puente              951\n",
       "Tramo de via     173473\n",
       "Tunel                58\n",
       "Via peatonal         53\n",
       "Name: DISEÑO, dtype: int64"
      ]
     },
     "execution_count": 77,
     "metadata": {},
     "output_type": "execute_result"
    }
   ],
   "source": [
    "df.groupby('DISEÑO')['DISEÑO'].count()"
   ]
  },
  {
   "cell_type": "code",
   "execution_count": 85,
   "metadata": {},
   "outputs": [
    {
     "data": {
      "text/plain": [
       "BARRIO\n",
       "0             11\n",
       "01          3301\n",
       "02          3115\n",
       "03          7007\n",
       "04         13207\n",
       "05         23104\n",
       "06          6367\n",
       "07         15328\n",
       "08          6015\n",
       "09          8990\n",
       "1            399\n",
       "10         51910\n",
       "11         26930\n",
       "12          8020\n",
       "13          4293\n",
       "14         21662\n",
       "15         18419\n",
       "16         16733\n",
       "2            308\n",
       "3            727\n",
       "4           1083\n",
       "5           1692\n",
       "50            16\n",
       "6            496\n",
       "60          2602\n",
       "7           1130\n",
       "70           565\n",
       "8            675\n",
       "80          4001\n",
       "9            863\n",
       "90           598\n",
       "AU             9\n",
       "In            95\n",
       "SN             3\n",
       "Sin Inf     1016\n",
       "Name: BARRIO, dtype: int64"
      ]
     },
     "execution_count": 85,
     "metadata": {},
     "output_type": "execute_result"
    }
   ],
   "source": [
    "df.groupby('BARRIO')['BARRIO'].count()"
   ]
  }
 ],
 "metadata": {
  "kernelspec": {
   "display_name": "Python 3",
   "language": "python",
   "name": "python3"
  },
  "language_info": {
   "codemirror_mode": {
    "name": "ipython",
    "version": 3
   },
   "file_extension": ".py",
   "mimetype": "text/x-python",
   "name": "python",
   "nbconvert_exporter": "python",
   "pygments_lexer": "ipython3",
   "version": "3.8.5"
  }
 },
 "nbformat": 4,
 "nbformat_minor": 4
}
