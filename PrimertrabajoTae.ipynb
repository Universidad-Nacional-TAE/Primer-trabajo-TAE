{
 "cells": [
  {
   "cell_type": "code",
   "execution_count": 122,
   "metadata": {},
   "outputs": [],
   "source": [
    "import pandas as pd"
   ]
  },
  {
   "cell_type": "code",
   "execution_count": 124,
   "metadata": {},
   "outputs": [],
   "source": [
    "df = pd.read_csv(\"incidentes_viales (2).csv\", sep = \";\",  low_memory = False , encoding = 'utf_8',encoding_errors = 'ignore')\n"
   ]
  },
  {
   "cell_type": "code",
   "execution_count": 125,
   "metadata": {},
   "outputs": [
    {
     "data": {
      "text/html": [
       "<div>\n",
       "<style scoped>\n",
       "    .dataframe tbody tr th:only-of-type {\n",
       "        vertical-align: middle;\n",
       "    }\n",
       "\n",
       "    .dataframe tbody tr th {\n",
       "        vertical-align: top;\n",
       "    }\n",
       "\n",
       "    .dataframe thead th {\n",
       "        text-align: right;\n",
       "    }\n",
       "</style>\n",
       "<table border=\"1\" class=\"dataframe\">\n",
       "  <thead>\n",
       "    <tr style=\"text-align: right;\">\n",
       "      <th></th>\n",
       "      <th>AÑO</th>\n",
       "      <th>CBML</th>\n",
       "      <th>CLASE_ACCIDENTE</th>\n",
       "      <th>DIRECCION</th>\n",
       "      <th>DIRECCION ENCASILLADA</th>\n",
       "      <th>DISEÑO</th>\n",
       "      <th>EXPEDIENTE</th>\n",
       "      <th>FECHA_ACCIDENTE</th>\n",
       "      <th>FECHA_ACCIDENTES</th>\n",
       "      <th>MES</th>\n",
       "      <th>NRO_RADICADO</th>\n",
       "      <th>NUMCOMUNA</th>\n",
       "      <th>BARRIO</th>\n",
       "      <th>COMUNA</th>\n",
       "      <th>LOCATION</th>\n",
       "      <th>X</th>\n",
       "      <th>Y</th>\n",
       "    </tr>\n",
       "  </thead>\n",
       "  <tbody>\n",
       "    <tr>\n",
       "      <th>0</th>\n",
       "      <td>2014</td>\n",
       "      <td>1105</td>\n",
       "      <td>Otro</td>\n",
       "      <td>CR 66 B CL 34</td>\n",
       "      <td>CR  066 B   034  000 00000</td>\n",
       "      <td>Tramo de via</td>\n",
       "      <td>A000095088</td>\n",
       "      <td>05/08/2014 07:15:00</td>\n",
       "      <td>2014-08-05T12:15:00.000Z</td>\n",
       "      <td>Con heridos</td>\n",
       "      <td>8</td>\n",
       "      <td>1451888</td>\n",
       "      <td>11</td>\n",
       "      <td>Los Conquistadores</td>\n",
       "      <td>Laureles Estadio</td>\n",
       "      <td>[-75.589313202, 6.2397866157]</td>\n",
       "      <td>832677.92</td>\n",
       "    </tr>\n",
       "    <tr>\n",
       "      <th>1</th>\n",
       "      <td>2014</td>\n",
       "      <td>0509</td>\n",
       "      <td>Choque</td>\n",
       "      <td>CR 71 CL 103 D</td>\n",
       "      <td>CR  071   103 D  000 00000</td>\n",
       "      <td>Interseccion</td>\n",
       "      <td>A000095143</td>\n",
       "      <td>05/08/2014 14:30:00</td>\n",
       "      <td>2014-08-05T19:30:00.000Z</td>\n",
       "      <td>Con heridos</td>\n",
       "      <td>8</td>\n",
       "      <td>1451891</td>\n",
       "      <td>05</td>\n",
       "      <td>Girardot</td>\n",
       "      <td>Castilla</td>\n",
       "      <td>[-75.5708179064, 6.3000411778]</td>\n",
       "      <td>834744.36</td>\n",
       "    </tr>\n",
       "    <tr>\n",
       "      <th>2</th>\n",
       "      <td>2014</td>\n",
       "      <td>1421</td>\n",
       "      <td>Choque</td>\n",
       "      <td>CR 49 CL 7</td>\n",
       "      <td>CR  049   007  000 00000</td>\n",
       "      <td>Tramo de via</td>\n",
       "      <td>A000095226</td>\n",
       "      <td>05/08/2014 15:50:00</td>\n",
       "      <td>2014-08-05T20:50:00.000Z</td>\n",
       "      <td>Con heridos</td>\n",
       "      <td>8</td>\n",
       "      <td>1451935</td>\n",
       "      <td>14</td>\n",
       "      <td>Patio Bonito</td>\n",
       "      <td>El Poblado</td>\n",
       "      <td>[-75.5765743781, 6.20874755798]</td>\n",
       "      <td>834078.39</td>\n",
       "    </tr>\n",
       "    <tr>\n",
       "      <th>3</th>\n",
       "      <td>2014</td>\n",
       "      <td>0801</td>\n",
       "      <td>Otro</td>\n",
       "      <td>CR 39 A CL 66 C</td>\n",
       "      <td>CR  039 A   066 C  000 00000</td>\n",
       "      <td>Tramo de via</td>\n",
       "      <td>A000095227</td>\n",
       "      <td>05/08/2014 13:00:00</td>\n",
       "      <td>2014-08-05T18:00:00.000Z</td>\n",
       "      <td>Con heridos</td>\n",
       "      <td>8</td>\n",
       "      <td>1451956</td>\n",
       "      <td>08</td>\n",
       "      <td>Villa Hermosa</td>\n",
       "      <td>Villa Hermosa</td>\n",
       "      <td>[-75.5512546684, 6.25905761463]</td>\n",
       "      <td>836897.02</td>\n",
       "    </tr>\n",
       "    <tr>\n",
       "      <th>4</th>\n",
       "      <td>2014</td>\n",
       "      <td>1017</td>\n",
       "      <td>Choque</td>\n",
       "      <td>CL 58 CR 37</td>\n",
       "      <td>CL  058   037  000 00000</td>\n",
       "      <td>Tramo de via</td>\n",
       "      <td>A000094940</td>\n",
       "      <td>05/08/2014 19:30:00</td>\n",
       "      <td>2014-08-06T00:30:00.000Z</td>\n",
       "      <td>Con heridos</td>\n",
       "      <td>8</td>\n",
       "      <td>1452022</td>\n",
       "      <td>10</td>\n",
       "      <td>Los Ángeles</td>\n",
       "      <td>La Candelaria</td>\n",
       "      <td>[-75.5561495119, 6.24996631944]</td>\n",
       "      <td>836352.35</td>\n",
       "    </tr>\n",
       "  </tbody>\n",
       "</table>\n",
       "</div>"
      ],
      "text/plain": [
       "    AÑO  CBML CLASE_ACCIDENTE        DIRECCION         DIRECCION ENCASILLADA  \\\n",
       "0  2014  1105            Otro    CR 66 B CL 34    CR  066 B   034  000 00000   \n",
       "1  2014  0509          Choque   CR 71 CL 103 D    CR  071   103 D  000 00000   \n",
       "2  2014  1421          Choque       CR 49 CL 7      CR  049   007  000 00000   \n",
       "3  2014  0801            Otro  CR 39 A CL 66 C  CR  039 A   066 C  000 00000   \n",
       "4  2014  1017          Choque      CL 58 CR 37      CL  058   037  000 00000   \n",
       "\n",
       "         DISEÑO  EXPEDIENTE      FECHA_ACCIDENTE          FECHA_ACCIDENTES  \\\n",
       "0  Tramo de via  A000095088  05/08/2014 07:15:00  2014-08-05T12:15:00.000Z   \n",
       "1  Interseccion  A000095143  05/08/2014 14:30:00  2014-08-05T19:30:00.000Z   \n",
       "2  Tramo de via  A000095226  05/08/2014 15:50:00  2014-08-05T20:50:00.000Z   \n",
       "3  Tramo de via  A000095227  05/08/2014 13:00:00  2014-08-05T18:00:00.000Z   \n",
       "4  Tramo de via  A000094940  05/08/2014 19:30:00  2014-08-06T00:30:00.000Z   \n",
       "\n",
       "           MES  NRO_RADICADO NUMCOMUNA BARRIO              COMUNA  \\\n",
       "0  Con heridos             8   1451888     11  Los Conquistadores   \n",
       "1  Con heridos             8   1451891     05            Girardot   \n",
       "2  Con heridos             8   1451935     14        Patio Bonito   \n",
       "3  Con heridos             8   1451956     08       Villa Hermosa   \n",
       "4  Con heridos             8   1452022     10         Los Ángeles   \n",
       "\n",
       "           LOCATION                                X          Y  \n",
       "0  Laureles Estadio    [-75.589313202, 6.2397866157]  832677.92  \n",
       "1          Castilla   [-75.5708179064, 6.3000411778]  834744.36  \n",
       "2        El Poblado  [-75.5765743781, 6.20874755798]  834078.39  \n",
       "3     Villa Hermosa  [-75.5512546684, 6.25905761463]  836897.02  \n",
       "4     La Candelaria  [-75.5561495119, 6.24996631944]  836352.35  "
      ]
     },
     "execution_count": 125,
     "metadata": {},
     "output_type": "execute_result"
    }
   ],
   "source": [
    "df.head()"
   ]
  },
  {
   "cell_type": "code",
   "execution_count": 126,
   "metadata": {},
   "outputs": [],
   "source": [
    "df.rename({'MES': 'GRAVEDAD','NRO_RADICADO':'MES','NUMCOMUNA':'NRO_RADICADO','BARRIO':'NUMCOMUNA','COMUNA':'BARRIO','LOCATION':'COMUNA','X': 'LOCATION','Y':'X'}, axis = 1, inplace = True)# Se reorganizan los nombres de la columna pues hay un\n",
    "# problema en la descarga de los datos.\n",
    "# OJO SOLO CORRER UNA VEZ"
   ]
  },
  {
   "cell_type": "code",
   "execution_count": 127,
   "metadata": {},
   "outputs": [
    {
     "data": {
      "text/plain": [
       "AÑO                          0\n",
       "CBML                     18156\n",
       "CLASE_ACCIDENTE              6\n",
       "DIRECCION                    0\n",
       "DIRECCION ENCASILLADA      391\n",
       "DISEÑO                    1148\n",
       "EXPEDIENTE                 110\n",
       "FECHA_ACCIDENTE              0\n",
       "FECHA_ACCIDENTES             0\n",
       "GRAVEDAD                     0\n",
       "MES                          0\n",
       "NRO_RADICADO                 5\n",
       "NUMCOMUNA                    0\n",
       "BARRIO                   19006\n",
       "COMUNA                   12798\n",
       "LOCATION                     0\n",
       "X                            0\n",
       "dtype: int64"
      ]
     },
     "execution_count": 127,
     "metadata": {},
     "output_type": "execute_result"
    }
   ],
   "source": [
    "df.isna().sum()"
   ]
  },
  {
   "cell_type": "markdown",
   "metadata": {},
   "source": [
    "## Eliminación de Variables"
   ]
  },
  {
   "cell_type": "markdown",
   "metadata": {},
   "source": [
    "Se eliminan las siguientes variables. Expediente = Es un registro aleatorio sin análiss, NRo _ Radicao = Numero aleatorio, Direccion Encasillada = Se repite, FECHA_ACCIDENTES = Se repite, COMUNA = se tumba comuna pues tiene mucho nan y existe otra columna con la misma información , CBML = Mucha inconsistencia en caso de requerir el codigo catastral se puede buscar una página externa que reciba el código  catastraly entregue la localización , X = Debido a que existe un problema en la descarga de la base de datos no existe datos de la variable 'y' entonces es necesario eliminar la componente 'x' pues en ausencia de 'y', 'x' pierde sentido"
   ]
  },
  {
   "cell_type": "code",
   "execution_count": 128,
   "metadata": {},
   "outputs": [],
   "source": [
    "\n",
    "df.drop(['EXPEDIENTE','NRO_RADICADO','DIRECCION ENCASILLADA', 'FECHA_ACCIDENTES','COMUNA','CBML','X'],axis = 1 , inplace = True)"
   ]
  },
  {
   "cell_type": "code",
   "execution_count": 129,
   "metadata": {},
   "outputs": [
    {
     "data": {
      "text/plain": [
       "AÑO                    0\n",
       "CLASE_ACCIDENTE        6\n",
       "DIRECCION              0\n",
       "DISEÑO              1148\n",
       "FECHA_ACCIDENTE        0\n",
       "GRAVEDAD               0\n",
       "MES                    0\n",
       "NUMCOMUNA              0\n",
       "BARRIO             19006\n",
       "LOCATION               0\n",
       "dtype: int64"
      ]
     },
     "execution_count": 129,
     "metadata": {},
     "output_type": "execute_result"
    }
   ],
   "source": [
    "df.isna().sum()"
   ]
  },
  {
   "cell_type": "markdown",
   "metadata": {},
   "source": [
    "Debido a que existe un problema en la descarga de la base de datos no existe datos de la variable 'y' entonces es necesario eliminar la componente 'x' pues en ausencia de 'y', 'x' pierde sentido"
   ]
  },
  {
   "cell_type": "code",
   "execution_count": 130,
   "metadata": {},
   "outputs": [
    {
     "data": {
      "text/plain": [
       "(270765, 10)"
      ]
     },
     "execution_count": 130,
     "metadata": {},
     "output_type": "execute_result"
    }
   ],
   "source": [
    "df.shape"
   ]
  },
  {
   "cell_type": "code",
   "execution_count": 131,
   "metadata": {},
   "outputs": [
    {
     "data": {
      "text/plain": [
       "AÑO                    0\n",
       "CLASE_ACCIDENTE        6\n",
       "DIRECCION              0\n",
       "DISEÑO              1148\n",
       "FECHA_ACCIDENTE        0\n",
       "GRAVEDAD               0\n",
       "MES                    0\n",
       "NUMCOMUNA              0\n",
       "BARRIO             19006\n",
       "LOCATION               0\n",
       "dtype: int64"
      ]
     },
     "execution_count": 131,
     "metadata": {},
     "output_type": "execute_result"
    }
   ],
   "source": [
    "df.isna().sum()"
   ]
  },
  {
   "cell_type": "code",
   "execution_count": 132,
   "metadata": {},
   "outputs": [
    {
     "data": {
      "text/plain": [
       "Index(['AÑO', 'CLASE_ACCIDENTE', 'DIRECCION', 'DISEÑO', 'FECHA_ACCIDENTE',\n",
       "       'GRAVEDAD', 'MES', 'NUMCOMUNA', 'BARRIO', 'LOCATION'],\n",
       "      dtype='object')"
      ]
     },
     "execution_count": 132,
     "metadata": {},
     "output_type": "execute_result"
    }
   ],
   "source": [
    "df.columns"
   ]
  },
  {
   "cell_type": "code",
   "execution_count": 133,
   "metadata": {},
   "outputs": [
    {
     "data": {
      "text/plain": [
       "array(['Con heridos', 'Solo daños', 'Con muertos', 'Solo da\\\\xF1os'],\n",
       "      dtype=object)"
      ]
     },
     "execution_count": 133,
     "metadata": {},
     "output_type": "execute_result"
    }
   ],
   "source": [
    "df['GRAVEDAD'].unique()"
   ]
  },
  {
   "cell_type": "code",
   "execution_count": 134,
   "metadata": {},
   "outputs": [],
   "source": [
    "df['AÑO']= df['AÑO'].apply(lambda x : '2019' if x == '2019\\\\r' else x)\n",
    "df['DISEÑO'] = df['DISEÑO'].apply(lambda x : 'Pontón' if x == 'Pont\\\\xF3n' else x)\n",
    "df['HORA'] = df['FECHA_ACCIDENTE'].apply(lambda x: x.split(' ')[1])\n",
    "df['FECHA_ACCIDENTE'] = df['FECHA_ACCIDENTE'].apply(lambda x: x.split(' ')[0])\n",
    "df['GRAVEDAD'] = df['GRAVEDAD'].apply(lambda x: 'Solo daños' if x == 'Solo da\\\\xF1os' else x)"
   ]
  },
  {
   "cell_type": "markdown",
   "metadata": {},
   "source": [
    "Para el número de comuna hay muchos datos que no son consistentes ('0','Sin Inf','In','SN','AU'). Se plantea la posibilidad de colocar 99 que corresponde a toda la ciudad es decir en cualquier parte o que no hay información. Se espera que con la localización se puede precisar"
   ]
  },
  {
   "cell_type": "code",
   "execution_count": 135,
   "metadata": {},
   "outputs": [
    {
     "data": {
      "text/plain": [
       "20127"
      ]
     },
     "execution_count": 135,
     "metadata": {},
     "output_type": "execute_result"
    }
   ],
   "source": [
    "len(df[df['NUMCOMUNA'].isin(['0','Sin Inf','In','SN','AU'])])"
   ]
  },
  {
   "cell_type": "code",
   "execution_count": 136,
   "metadata": {},
   "outputs": [],
   "source": [
    "df['NUMCOMUNA'] = df['NUMCOMUNA'].apply(lambda x: '99' if x in(['0','Sin Inf','In','SN','AU']) else x)"
   ]
  },
  {
   "cell_type": "code",
   "execution_count": 137,
   "metadata": {},
   "outputs": [],
   "source": [
    "def encondebarrio(x):\n",
    "    \n",
    "    z = {'Bel\\\\xE9n' : 'Belén', 'Belalc\\\\xE1zar' : 'Belalcázar','H\\\\xE9ctor Abad G\\\\xF3mez': 'Héctor Abad Gómez',\n",
    "        'San Joaqu\\\\xEDn' : 'San Joaquín', 'Santa F\\\\xE9' : 'Santa Fé', 'Coraz\\\\xF3n de Jes\\\\xFAs' : 'Corazón de Jesús',\n",
    "        'Alfonso L\\\\xF3pez': 'Alfonso López', 'Santa Mar\\\\xEDa de Los \\\\xC1ngeles' : 'Santa María de Los Ángeles',\n",
    "        'El Rinc\\\\xF3n' : 'El Rincón', 'Alejandr\\\\xEDa': 'Alejandría', 'Campo Vald\\\\xE9s No. 1' : 'Campo Valdés No. 1',\n",
    "        'Barrio Col\\\\xF3n' : 'Barrio Colón','Jard\\\\xEDn Bot\\\\xE1nico' : 'Jardín Botánico', 'Estaci\\\\xF3n Villa' : 'Estación Villa',\n",
    "       'Barrio de Jes\\\\xFAs' : 'Barrio de Jesús', 'Barrio Crist\\\\xF3bal': 'Barrio Cristóbal', 'Boyac\\\\xE1' : 'Boyacá',\n",
    "       'Mosc\\\\xFA No. 1':'Moscú No. 1', 'Sim\\\\xF3n Bol\\\\xEDvar' : 'Simón Bolívar', 'Nueva Villa de la Iguan\\\\xE1' : 'Nueva Villa de la Iguaná',\n",
    "        'Bombon\\\\xE1 No. 2': 'Bomboná No. 2', 'La Pi\\\\xF1uela' : 'La Piñuela' , 'Play\\\\xF3n de Los Comuneros': 'Playón de Los Comuneros',\n",
    "       'Jes\\\\xFAs Nazareno' : 'Jesús Nazareno', '\\\\xC1rea de Expansi\\\\xF3n Pajarito': 'Área de Expansión Pajarito', 'F\\\\xE1tima':'Fátima',\n",
    "        'San Germ\\\\xE1n' : 'San Germán', 'Diego Echavarr\\\\xEDa':'Diego Echavarría', 'Mosc\\\\xFA No. 2':'Moscú No. 2', 'La Am\\\\xE9rica': 'La América',\n",
    "        'Alejandro Echavarr\\\\xEDa':'Alejandro Echavarría','L\\\\xF3pez de Mesa':'López de Mesa', 'Los \\\\xC1ngeles' : 'Los Ángeles',\n",
    "       '\\\\xC1rea de Expansi\\\\xF3n Altos de Calasanz':'Área de Expansión Altos de Calasanz' ,'Santa Mar\\\\xEDa de los \\\\xC1ngeles' : 'Santa María de los Ángeles', \n",
    "        'Santa M\\\\xF3nica': 'Santa Mónica', 'La Mansi\\\\xF3n': 'La Mansión', 'San Mart\\\\xEDn de Porres':'San Martín de Porres', 'C\\\\xF3rdoba': 'Córdoba',\n",
    "       'Santa Luc\\\\xEDa': 'Santa Lucía', 'Batall\\\\xF3n Girardot': 'Batallón Girardot', 'El Vel\\\\xF3dromo':'El Velódromo', 'Andaluc\\\\xEDa': 'Andalucía', \n",
    "        'Bombon\\\\xE1 No.1' :'Bomboná No.1' , 'Mar\\\\xEDa Cano Carambolas': 'María Cano Carambolas', 'Nueva Villa de Aburr\\\\xE1' : 'Nueva Villa de Aburrá',\n",
    "       '\\\\xC1rea de Expansi\\\\xF3n San Antonio de Prado': 'Área de Expansión San Antonio de Prado','Los Alc\\\\xE1zares' : 'Los Alcázares', 'El Coraz\\\\xF3n': 'El Corazón',\n",
    "        'Catalu\\\\xF1a' : 'Cataluña', 'Berl\\\\xEDn': 'Berlín', 'Antonio Nari\\\\xF1o' : 'Antonio Nariño', 'Hospital San Vicente de Pa\\\\xFAl': 'Hospital San Vicente de Paúl',\n",
    "       'San Jos\\\\xE9 de la Monta\\\\xF1a' : 'San José de la Montaña', 'Campo Vald\\\\xE9s No.2' : 'Campo Valdés No.2', 'San Jos\\\\xE9 la Cima No.2': 'San José la Cima No.2',\n",
    "        'Mosc\\\\xFA No.2' : 'Moscú No. 2', 'San Jos\\\\xE9 la Cima No. 1': 'San José la Cima No. 1', 'Bombon\\\\xE1 No. 1' : 'Bomboná No. 1', 'Santa In\\\\xE9s': 'Santa Inés',\n",
    "        'Campo Vald\\\\xE9s No. 2' : 'Campo Valdés No. 2'}\n",
    "    \n",
    "    \n",
    "    if x in z:\n",
    "        x = z[x]\n",
    "    elif type(x) == float :\n",
    "        x = None\n",
    "    elif x[0] in ['0','1','2','3','4','5','6','7','8','9']:\n",
    "        x = None\n",
    "    else:\n",
    "        x = x\n",
    "    return x"
   ]
  },
  {
   "cell_type": "code",
   "execution_count": 138,
   "metadata": {},
   "outputs": [
    {
     "data": {
      "text/plain": [
       "AÑO                    0\n",
       "CLASE_ACCIDENTE        6\n",
       "DIRECCION              0\n",
       "DISEÑO              1148\n",
       "FECHA_ACCIDENTE        0\n",
       "GRAVEDAD               0\n",
       "MES                    0\n",
       "NUMCOMUNA              0\n",
       "BARRIO             19006\n",
       "LOCATION               0\n",
       "HORA                   0\n",
       "dtype: int64"
      ]
     },
     "execution_count": 138,
     "metadata": {},
     "output_type": "execute_result"
    }
   ],
   "source": [
    "df.isna().sum()"
   ]
  },
  {
   "cell_type": "code",
   "execution_count": 139,
   "metadata": {},
   "outputs": [],
   "source": [
    "df['BARRIO'] = df['BARRIO'].apply(encondebarrio)"
   ]
  },
  {
   "cell_type": "code",
   "execution_count": 141,
   "metadata": {},
   "outputs": [
    {
     "data": {
      "text/plain": [
       "AÑO                    0\n",
       "CLASE_ACCIDENTE        6\n",
       "DIRECCION              0\n",
       "DISEÑO              1148\n",
       "FECHA_ACCIDENTE        0\n",
       "GRAVEDAD               0\n",
       "MES                    0\n",
       "NUMCOMUNA              0\n",
       "BARRIO             20613\n",
       "LOCATION               0\n",
       "HORA                   0\n",
       "dtype: int64"
      ]
     },
     "execution_count": 141,
     "metadata": {},
     "output_type": "execute_result"
    }
   ],
   "source": [
    "df.isna().sum()"
   ]
  },
  {
   "cell_type": "markdown",
   "metadata": {},
   "source": [
    "Con las siguientes agrupaciones se puede inferir si es que tanta información se pierde. Podemos hacer como una distribución de los nan y los que no son nan"
   ]
  },
  {
   "cell_type": "code",
   "execution_count": 142,
   "metadata": {},
   "outputs": [
    {
     "data": {
      "text/html": [
       "<div>\n",
       "<style scoped>\n",
       "    .dataframe tbody tr th:only-of-type {\n",
       "        vertical-align: middle;\n",
       "    }\n",
       "\n",
       "    .dataframe tbody tr th {\n",
       "        vertical-align: top;\n",
       "    }\n",
       "\n",
       "    .dataframe thead tr th {\n",
       "        text-align: left;\n",
       "    }\n",
       "\n",
       "    .dataframe thead tr:last-of-type th {\n",
       "        text-align: right;\n",
       "    }\n",
       "</style>\n",
       "<table border=\"1\" class=\"dataframe\">\n",
       "  <thead>\n",
       "    <tr>\n",
       "      <th></th>\n",
       "      <th></th>\n",
       "      <th colspan=\"2\" halign=\"left\">BARRIO</th>\n",
       "    </tr>\n",
       "    <tr>\n",
       "      <th></th>\n",
       "      <th></th>\n",
       "      <th>Data perdida</th>\n",
       "      <th>Datos completos</th>\n",
       "    </tr>\n",
       "    <tr>\n",
       "      <th>AÑO</th>\n",
       "      <th>MES</th>\n",
       "      <th></th>\n",
       "      <th></th>\n",
       "    </tr>\n",
       "  </thead>\n",
       "  <tbody>\n",
       "    <tr>\n",
       "      <th rowspan=\"6\" valign=\"top\">2014</th>\n",
       "      <th>7</th>\n",
       "      <td>231</td>\n",
       "      <td>3189</td>\n",
       "    </tr>\n",
       "    <tr>\n",
       "      <th>8</th>\n",
       "      <td>307</td>\n",
       "      <td>3633</td>\n",
       "    </tr>\n",
       "    <tr>\n",
       "      <th>9</th>\n",
       "      <td>290</td>\n",
       "      <td>3587</td>\n",
       "    </tr>\n",
       "    <tr>\n",
       "      <th>10</th>\n",
       "      <td>266</td>\n",
       "      <td>3470</td>\n",
       "    </tr>\n",
       "    <tr>\n",
       "      <th>11</th>\n",
       "      <td>275</td>\n",
       "      <td>3337</td>\n",
       "    </tr>\n",
       "    <tr>\n",
       "      <th>12</th>\n",
       "      <td>292</td>\n",
       "      <td>3538</td>\n",
       "    </tr>\n",
       "    <tr>\n",
       "      <th rowspan=\"12\" valign=\"top\">2015</th>\n",
       "      <th>1</th>\n",
       "      <td>283</td>\n",
       "      <td>2980</td>\n",
       "    </tr>\n",
       "    <tr>\n",
       "      <th>2</th>\n",
       "      <td>226</td>\n",
       "      <td>3355</td>\n",
       "    </tr>\n",
       "    <tr>\n",
       "      <th>3</th>\n",
       "      <td>329</td>\n",
       "      <td>3667</td>\n",
       "    </tr>\n",
       "    <tr>\n",
       "      <th>4</th>\n",
       "      <td>274</td>\n",
       "      <td>3472</td>\n",
       "    </tr>\n",
       "    <tr>\n",
       "      <th>5</th>\n",
       "      <td>348</td>\n",
       "      <td>3706</td>\n",
       "    </tr>\n",
       "    <tr>\n",
       "      <th>6</th>\n",
       "      <td>287</td>\n",
       "      <td>3312</td>\n",
       "    </tr>\n",
       "    <tr>\n",
       "      <th>7</th>\n",
       "      <td>290</td>\n",
       "      <td>3771</td>\n",
       "    </tr>\n",
       "    <tr>\n",
       "      <th>8</th>\n",
       "      <td>329</td>\n",
       "      <td>3775</td>\n",
       "    </tr>\n",
       "    <tr>\n",
       "      <th>9</th>\n",
       "      <td>294</td>\n",
       "      <td>3841</td>\n",
       "    </tr>\n",
       "    <tr>\n",
       "      <th>10</th>\n",
       "      <td>268</td>\n",
       "      <td>3708</td>\n",
       "    </tr>\n",
       "    <tr>\n",
       "      <th>11</th>\n",
       "      <td>290</td>\n",
       "      <td>3434</td>\n",
       "    </tr>\n",
       "    <tr>\n",
       "      <th>12</th>\n",
       "      <td>279</td>\n",
       "      <td>3654</td>\n",
       "    </tr>\n",
       "    <tr>\n",
       "      <th rowspan=\"2\" valign=\"top\">2016</th>\n",
       "      <th>1</th>\n",
       "      <td>241</td>\n",
       "      <td>3081</td>\n",
       "    </tr>\n",
       "    <tr>\n",
       "      <th>2</th>\n",
       "      <td>289</td>\n",
       "      <td>3569</td>\n",
       "    </tr>\n",
       "  </tbody>\n",
       "</table>\n",
       "</div>"
      ],
      "text/plain": [
       "               BARRIO                \n",
       "         Data perdida Datos completos\n",
       "AÑO  MES                             \n",
       "2014 7            231            3189\n",
       "     8            307            3633\n",
       "     9            290            3587\n",
       "     10           266            3470\n",
       "     11           275            3337\n",
       "     12           292            3538\n",
       "2015 1            283            2980\n",
       "     2            226            3355\n",
       "     3            329            3667\n",
       "     4            274            3472\n",
       "     5            348            3706\n",
       "     6            287            3312\n",
       "     7            290            3771\n",
       "     8            329            3775\n",
       "     9            294            3841\n",
       "     10           268            3708\n",
       "     11           290            3434\n",
       "     12           279            3654\n",
       "2016 1            241            3081\n",
       "     2            289            3569"
      ]
     },
     "execution_count": 142,
     "metadata": {},
     "output_type": "execute_result"
    }
   ],
   "source": [
    "df_datos = df.groupby(['AÑO','MES'])[['BARRIO']].agg([ lambda x : x.isnull().sum(), lambda x : x.notnull().sum()])\n",
    "df_datos.rename({df_datos.columns[0][1]:'Data perdida',df_datos.columns[1][1] : 'Datos completos'}, axis = 1, inplace = True)\n",
    "df_datos.head(20)"
   ]
  },
  {
   "cell_type": "code",
   "execution_count": 147,
   "metadata": {},
   "outputs": [
    {
     "data": {
      "text/html": [
       "<div>\n",
       "<style scoped>\n",
       "    .dataframe tbody tr th:only-of-type {\n",
       "        vertical-align: middle;\n",
       "    }\n",
       "\n",
       "    .dataframe tbody tr th {\n",
       "        vertical-align: top;\n",
       "    }\n",
       "\n",
       "    .dataframe thead th {\n",
       "        text-align: right;\n",
       "    }\n",
       "</style>\n",
       "<table border=\"1\" class=\"dataframe\">\n",
       "  <thead>\n",
       "    <tr style=\"text-align: right;\">\n",
       "      <th></th>\n",
       "      <th>AÑO</th>\n",
       "      <th>CLASE_ACCIDENTE</th>\n",
       "      <th>DIRECCION</th>\n",
       "      <th>DISEÑO</th>\n",
       "      <th>FECHA_ACCIDENTE</th>\n",
       "      <th>GRAVEDAD</th>\n",
       "      <th>MES</th>\n",
       "      <th>NUMCOMUNA</th>\n",
       "      <th>BARRIO</th>\n",
       "      <th>LOCATION</th>\n",
       "      <th>HORA</th>\n",
       "    </tr>\n",
       "  </thead>\n",
       "  <tbody>\n",
       "    <tr>\n",
       "      <th>0</th>\n",
       "      <td>2014</td>\n",
       "      <td>Otro</td>\n",
       "      <td>CR 66 B CL 34</td>\n",
       "      <td>Tramo de via</td>\n",
       "      <td>05/08/2014</td>\n",
       "      <td>Con heridos</td>\n",
       "      <td>8</td>\n",
       "      <td>11</td>\n",
       "      <td>Los Conquistadores</td>\n",
       "      <td>[-75.589313202, 6.2397866157]</td>\n",
       "      <td>07:15:00</td>\n",
       "    </tr>\n",
       "    <tr>\n",
       "      <th>1</th>\n",
       "      <td>2014</td>\n",
       "      <td>Choque</td>\n",
       "      <td>CR 71 CL 103 D</td>\n",
       "      <td>Interseccion</td>\n",
       "      <td>05/08/2014</td>\n",
       "      <td>Con heridos</td>\n",
       "      <td>8</td>\n",
       "      <td>05</td>\n",
       "      <td>Girardot</td>\n",
       "      <td>[-75.5708179064, 6.3000411778]</td>\n",
       "      <td>14:30:00</td>\n",
       "    </tr>\n",
       "    <tr>\n",
       "      <th>2</th>\n",
       "      <td>2014</td>\n",
       "      <td>Choque</td>\n",
       "      <td>CR 49 CL 7</td>\n",
       "      <td>Tramo de via</td>\n",
       "      <td>05/08/2014</td>\n",
       "      <td>Con heridos</td>\n",
       "      <td>8</td>\n",
       "      <td>14</td>\n",
       "      <td>Patio Bonito</td>\n",
       "      <td>[-75.5765743781, 6.20874755798]</td>\n",
       "      <td>15:50:00</td>\n",
       "    </tr>\n",
       "    <tr>\n",
       "      <th>3</th>\n",
       "      <td>2014</td>\n",
       "      <td>Otro</td>\n",
       "      <td>CR 39 A CL 66 C</td>\n",
       "      <td>Tramo de via</td>\n",
       "      <td>05/08/2014</td>\n",
       "      <td>Con heridos</td>\n",
       "      <td>8</td>\n",
       "      <td>08</td>\n",
       "      <td>Villa Hermosa</td>\n",
       "      <td>[-75.5512546684, 6.25905761463]</td>\n",
       "      <td>13:00:00</td>\n",
       "    </tr>\n",
       "    <tr>\n",
       "      <th>4</th>\n",
       "      <td>2014</td>\n",
       "      <td>Choque</td>\n",
       "      <td>CL 58 CR 37</td>\n",
       "      <td>Tramo de via</td>\n",
       "      <td>05/08/2014</td>\n",
       "      <td>Con heridos</td>\n",
       "      <td>8</td>\n",
       "      <td>10</td>\n",
       "      <td>Los Ángeles</td>\n",
       "      <td>[-75.5561495119, 6.24996631944]</td>\n",
       "      <td>19:30:00</td>\n",
       "    </tr>\n",
       "  </tbody>\n",
       "</table>\n",
       "</div>"
      ],
      "text/plain": [
       "    AÑO CLASE_ACCIDENTE        DIRECCION        DISEÑO FECHA_ACCIDENTE  \\\n",
       "0  2014            Otro    CR 66 B CL 34  Tramo de via      05/08/2014   \n",
       "1  2014          Choque   CR 71 CL 103 D  Interseccion      05/08/2014   \n",
       "2  2014          Choque       CR 49 CL 7  Tramo de via      05/08/2014   \n",
       "3  2014            Otro  CR 39 A CL 66 C  Tramo de via      05/08/2014   \n",
       "4  2014          Choque      CL 58 CR 37  Tramo de via      05/08/2014   \n",
       "\n",
       "      GRAVEDAD  MES NUMCOMUNA              BARRIO  \\\n",
       "0  Con heridos    8        11  Los Conquistadores   \n",
       "1  Con heridos    8        05            Girardot   \n",
       "2  Con heridos    8        14        Patio Bonito   \n",
       "3  Con heridos    8        08       Villa Hermosa   \n",
       "4  Con heridos    8        10         Los Ángeles   \n",
       "\n",
       "                          LOCATION      HORA  \n",
       "0    [-75.589313202, 6.2397866157]  07:15:00  \n",
       "1   [-75.5708179064, 6.3000411778]  14:30:00  \n",
       "2  [-75.5765743781, 6.20874755798]  15:50:00  \n",
       "3  [-75.5512546684, 6.25905761463]  13:00:00  \n",
       "4  [-75.5561495119, 6.24996631944]  19:30:00  "
      ]
     },
     "execution_count": 147,
     "metadata": {},
     "output_type": "execute_result"
    }
   ],
   "source": [
    "df.head()"
   ]
  }
 ],
 "metadata": {
  "kernelspec": {
   "display_name": "Python 3 (ipykernel)",
   "language": "python",
   "name": "python3"
  },
  "language_info": {
   "codemirror_mode": {
    "name": "ipython",
    "version": 3
   },
   "file_extension": ".py",
   "mimetype": "text/x-python",
   "name": "python",
   "nbconvert_exporter": "python",
   "pygments_lexer": "ipython3",
   "version": "3.8.12"
  }
 },
 "nbformat": 4,
 "nbformat_minor": 4
}
